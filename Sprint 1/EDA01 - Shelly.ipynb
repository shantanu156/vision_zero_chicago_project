{
 "cells": [
  {
   "cell_type": "code",
   "execution_count": 53,
   "metadata": {},
   "outputs": [],
   "source": [
    "import pandas as pd\n",
    "import numpy as np\n",
    "import seaborn as sns\n",
    "import matplotlib.pyplot as plt\n",
    "%matplotlib inline\n",
    "import itertools\n",
    "import scipy.stats as ss"
   ]
  },
  {
   "cell_type": "code",
   "execution_count": 40,
   "metadata": {},
   "outputs": [
    {
     "name": "stderr",
     "output_type": "stream",
     "text": [
      "/Users/shellylin/anaconda3/lib/python3.7/site-packages/IPython/core/interactiveshell.py:3063: DtypeWarning: Columns (21,40,41,42,44,48,49,50,58,59,61) have mixed types.Specify dtype option on import or set low_memory=False.\n",
      "  interactivity=interactivity, compiler=compiler, result=result)\n"
     ]
    }
   ],
   "source": [
    "crashes_sample = pd.read_csv(\"crashes.sample2020.csv\")\n",
    "vehicles_sample = pd.read_csv(\"vehicles.sample.csv\")\n",
    "people_sample = pd.read_csv(\"people.sample.csv\")"
   ]
  },
  {
   "cell_type": "code",
   "execution_count": 69,
   "metadata": {},
   "outputs": [
    {
     "data": {
      "text/html": [
       "<div>\n",
       "<style scoped>\n",
       "    .dataframe tbody tr th:only-of-type {\n",
       "        vertical-align: middle;\n",
       "    }\n",
       "\n",
       "    .dataframe tbody tr th {\n",
       "        vertical-align: top;\n",
       "    }\n",
       "\n",
       "    .dataframe thead th {\n",
       "        text-align: right;\n",
       "    }\n",
       "</style>\n",
       "<table border=\"1\" class=\"dataframe\">\n",
       "  <thead>\n",
       "    <tr style=\"text-align: right;\">\n",
       "      <th></th>\n",
       "      <th>CRASH_RECORD_ID</th>\n",
       "      <th>RD_NO</th>\n",
       "      <th>CRASH_DATE_EST_I</th>\n",
       "      <th>CRASH_DATE</th>\n",
       "      <th>POSTED_SPEED_LIMIT</th>\n",
       "      <th>TRAFFIC_CONTROL_DEVICE</th>\n",
       "      <th>DEVICE_CONDITION</th>\n",
       "      <th>WEATHER_CONDITION</th>\n",
       "      <th>LIGHTING_CONDITION</th>\n",
       "      <th>FIRST_CRASH_TYPE</th>\n",
       "      <th>...</th>\n",
       "      <th>INJURIES_NON_INCAPACITATING</th>\n",
       "      <th>INJURIES_REPORTED_NOT_EVIDENT</th>\n",
       "      <th>INJURIES_NO_INDICATION</th>\n",
       "      <th>INJURIES_UNKNOWN</th>\n",
       "      <th>CRASH_HOUR</th>\n",
       "      <th>CRASH_DAY_OF_WEEK</th>\n",
       "      <th>CRASH_MONTH</th>\n",
       "      <th>LATITUDE</th>\n",
       "      <th>LONGITUDE</th>\n",
       "      <th>LOCATION</th>\n",
       "    </tr>\n",
       "  </thead>\n",
       "  <tbody>\n",
       "    <tr>\n",
       "      <th>0</th>\n",
       "      <td>0211e1f766f3940dfa87375661d25b716655e908c320cc...</td>\n",
       "      <td>JC301403</td>\n",
       "      <td>NaN</td>\n",
       "      <td>06/11/2019 08:40:00 AM</td>\n",
       "      <td>30</td>\n",
       "      <td>TRAFFIC SIGNAL</td>\n",
       "      <td>FUNCTIONING PROPERLY</td>\n",
       "      <td>CLEAR</td>\n",
       "      <td>DAYLIGHT</td>\n",
       "      <td>REAR END</td>\n",
       "      <td>...</td>\n",
       "      <td>0.0</td>\n",
       "      <td>0.0</td>\n",
       "      <td>3.0</td>\n",
       "      <td>0.0</td>\n",
       "      <td>8</td>\n",
       "      <td>3</td>\n",
       "      <td>6</td>\n",
       "      <td>41.794779</td>\n",
       "      <td>-87.623828</td>\n",
       "      <td>POINT (-87.623828038036 41.794778764028)</td>\n",
       "    </tr>\n",
       "    <tr>\n",
       "      <th>1</th>\n",
       "      <td>02e2ed3606a50dda185f5e97c57a45552087d6fbea1c4b...</td>\n",
       "      <td>JB256393</td>\n",
       "      <td>NaN</td>\n",
       "      <td>05/09/2018 11:30:00 AM</td>\n",
       "      <td>25</td>\n",
       "      <td>NO CONTROLS</td>\n",
       "      <td>NO CONTROLS</td>\n",
       "      <td>RAIN</td>\n",
       "      <td>DAYLIGHT</td>\n",
       "      <td>ANGLE</td>\n",
       "      <td>...</td>\n",
       "      <td>0.0</td>\n",
       "      <td>0.0</td>\n",
       "      <td>2.0</td>\n",
       "      <td>0.0</td>\n",
       "      <td>11</td>\n",
       "      <td>4</td>\n",
       "      <td>5</td>\n",
       "      <td>41.721290</td>\n",
       "      <td>-87.628510</td>\n",
       "      <td>POINT (-87.628509593966 41.72128957001)</td>\n",
       "    </tr>\n",
       "    <tr>\n",
       "      <th>2</th>\n",
       "      <td>03def753c76d0105940f82e9eaac6f1d87683b7a574c20...</td>\n",
       "      <td>JB246843</td>\n",
       "      <td>NaN</td>\n",
       "      <td>05/02/2018 12:50:00 PM</td>\n",
       "      <td>30</td>\n",
       "      <td>NO CONTROLS</td>\n",
       "      <td>NO CONTROLS</td>\n",
       "      <td>CLEAR</td>\n",
       "      <td>DAYLIGHT</td>\n",
       "      <td>OTHER OBJECT</td>\n",
       "      <td>...</td>\n",
       "      <td>1.0</td>\n",
       "      <td>0.0</td>\n",
       "      <td>0.0</td>\n",
       "      <td>0.0</td>\n",
       "      <td>12</td>\n",
       "      <td>4</td>\n",
       "      <td>5</td>\n",
       "      <td>41.809781</td>\n",
       "      <td>-87.594213</td>\n",
       "      <td>POINT (-87.594212812011 41.809781151018)</td>\n",
       "    </tr>\n",
       "    <tr>\n",
       "      <th>3</th>\n",
       "      <td>14fc616db83000e28d672601062a56d76583c0889a764b...</td>\n",
       "      <td>JB372787</td>\n",
       "      <td>NaN</td>\n",
       "      <td>07/31/2018 11:25:00 AM</td>\n",
       "      <td>35</td>\n",
       "      <td>TRAFFIC SIGNAL</td>\n",
       "      <td>FUNCTIONING PROPERLY</td>\n",
       "      <td>CLEAR</td>\n",
       "      <td>DAYLIGHT</td>\n",
       "      <td>TURNING</td>\n",
       "      <td>...</td>\n",
       "      <td>0.0</td>\n",
       "      <td>0.0</td>\n",
       "      <td>2.0</td>\n",
       "      <td>0.0</td>\n",
       "      <td>11</td>\n",
       "      <td>3</td>\n",
       "      <td>7</td>\n",
       "      <td>41.741804</td>\n",
       "      <td>-87.740954</td>\n",
       "      <td>POINT (-87.740953581987 41.741803598989)</td>\n",
       "    </tr>\n",
       "    <tr>\n",
       "      <th>4</th>\n",
       "      <td>1a9af7862e8471daf453354e6aae4561d0ff4f2f1bfb30...</td>\n",
       "      <td>JB490362</td>\n",
       "      <td>NaN</td>\n",
       "      <td>10/25/2018 10:50:00 PM</td>\n",
       "      <td>30</td>\n",
       "      <td>NO CONTROLS</td>\n",
       "      <td>NO CONTROLS</td>\n",
       "      <td>CLEAR</td>\n",
       "      <td>DARKNESS, LIGHTED ROAD</td>\n",
       "      <td>FIXED OBJECT</td>\n",
       "      <td>...</td>\n",
       "      <td>0.0</td>\n",
       "      <td>0.0</td>\n",
       "      <td>1.0</td>\n",
       "      <td>0.0</td>\n",
       "      <td>22</td>\n",
       "      <td>5</td>\n",
       "      <td>10</td>\n",
       "      <td>41.946644</td>\n",
       "      <td>-87.686894</td>\n",
       "      <td>POINT (-87.686894106014 41.946643528978)</td>\n",
       "    </tr>\n",
       "  </tbody>\n",
       "</table>\n",
       "<p>5 rows × 49 columns</p>\n",
       "</div>"
      ],
      "text/plain": [
       "                                     CRASH_RECORD_ID     RD_NO  \\\n",
       "0  0211e1f766f3940dfa87375661d25b716655e908c320cc...  JC301403   \n",
       "1  02e2ed3606a50dda185f5e97c57a45552087d6fbea1c4b...  JB256393   \n",
       "2  03def753c76d0105940f82e9eaac6f1d87683b7a574c20...  JB246843   \n",
       "3  14fc616db83000e28d672601062a56d76583c0889a764b...  JB372787   \n",
       "4  1a9af7862e8471daf453354e6aae4561d0ff4f2f1bfb30...  JB490362   \n",
       "\n",
       "  CRASH_DATE_EST_I              CRASH_DATE  POSTED_SPEED_LIMIT  \\\n",
       "0              NaN  06/11/2019 08:40:00 AM                  30   \n",
       "1              NaN  05/09/2018 11:30:00 AM                  25   \n",
       "2              NaN  05/02/2018 12:50:00 PM                  30   \n",
       "3              NaN  07/31/2018 11:25:00 AM                  35   \n",
       "4              NaN  10/25/2018 10:50:00 PM                  30   \n",
       "\n",
       "  TRAFFIC_CONTROL_DEVICE      DEVICE_CONDITION WEATHER_CONDITION  \\\n",
       "0         TRAFFIC SIGNAL  FUNCTIONING PROPERLY             CLEAR   \n",
       "1            NO CONTROLS           NO CONTROLS              RAIN   \n",
       "2            NO CONTROLS           NO CONTROLS             CLEAR   \n",
       "3         TRAFFIC SIGNAL  FUNCTIONING PROPERLY             CLEAR   \n",
       "4            NO CONTROLS           NO CONTROLS             CLEAR   \n",
       "\n",
       "       LIGHTING_CONDITION FIRST_CRASH_TYPE  ... INJURIES_NON_INCAPACITATING  \\\n",
       "0                DAYLIGHT         REAR END  ...                         0.0   \n",
       "1                DAYLIGHT            ANGLE  ...                         0.0   \n",
       "2                DAYLIGHT     OTHER OBJECT  ...                         1.0   \n",
       "3                DAYLIGHT          TURNING  ...                         0.0   \n",
       "4  DARKNESS, LIGHTED ROAD     FIXED OBJECT  ...                         0.0   \n",
       "\n",
       "   INJURIES_REPORTED_NOT_EVIDENT INJURIES_NO_INDICATION INJURIES_UNKNOWN  \\\n",
       "0                            0.0                    3.0              0.0   \n",
       "1                            0.0                    2.0              0.0   \n",
       "2                            0.0                    0.0              0.0   \n",
       "3                            0.0                    2.0              0.0   \n",
       "4                            0.0                    1.0              0.0   \n",
       "\n",
       "  CRASH_HOUR CRASH_DAY_OF_WEEK CRASH_MONTH   LATITUDE  LONGITUDE  \\\n",
       "0          8                 3           6  41.794779 -87.623828   \n",
       "1         11                 4           5  41.721290 -87.628510   \n",
       "2         12                 4           5  41.809781 -87.594213   \n",
       "3         11                 3           7  41.741804 -87.740954   \n",
       "4         22                 5          10  41.946644 -87.686894   \n",
       "\n",
       "                                   LOCATION  \n",
       "0  POINT (-87.623828038036 41.794778764028)  \n",
       "1   POINT (-87.628509593966 41.72128957001)  \n",
       "2  POINT (-87.594212812011 41.809781151018)  \n",
       "3  POINT (-87.740953581987 41.741803598989)  \n",
       "4  POINT (-87.686894106014 41.946643528978)  \n",
       "\n",
       "[5 rows x 49 columns]"
      ]
     },
     "execution_count": 69,
     "metadata": {},
     "output_type": "execute_result"
    }
   ],
   "source": [
    "crashes_sample.head()"
   ]
  },
  {
   "cell_type": "code",
   "execution_count": 70,
   "metadata": {},
   "outputs": [
    {
     "data": {
      "text/html": [
       "<div>\n",
       "<style scoped>\n",
       "    .dataframe tbody tr th:only-of-type {\n",
       "        vertical-align: middle;\n",
       "    }\n",
       "\n",
       "    .dataframe tbody tr th {\n",
       "        vertical-align: top;\n",
       "    }\n",
       "\n",
       "    .dataframe thead th {\n",
       "        text-align: right;\n",
       "    }\n",
       "</style>\n",
       "<table border=\"1\" class=\"dataframe\">\n",
       "  <thead>\n",
       "    <tr style=\"text-align: right;\">\n",
       "      <th></th>\n",
       "      <th>CRASH_UNIT_ID</th>\n",
       "      <th>CRASH_RECORD_ID</th>\n",
       "      <th>RD_NO</th>\n",
       "      <th>CRASH_DATE</th>\n",
       "      <th>UNIT_NO</th>\n",
       "      <th>UNIT_TYPE</th>\n",
       "      <th>NUM_PASSENGERS</th>\n",
       "      <th>VEHICLE_ID</th>\n",
       "      <th>CMRC_VEH_I</th>\n",
       "      <th>MAKE</th>\n",
       "      <th>...</th>\n",
       "      <th>TRAILER1_LENGTH</th>\n",
       "      <th>TRAILER2_LENGTH</th>\n",
       "      <th>TOTAL_VEHICLE_LENGTH</th>\n",
       "      <th>AXLE_CNT</th>\n",
       "      <th>VEHICLE_CONFIG</th>\n",
       "      <th>CARGO_BODY_TYPE</th>\n",
       "      <th>LOAD_TYPE</th>\n",
       "      <th>HAZMAT_OUT_OF_SERVICE_I</th>\n",
       "      <th>MCS_OUT_OF_SERVICE_I</th>\n",
       "      <th>HAZMAT_CLASS</th>\n",
       "    </tr>\n",
       "  </thead>\n",
       "  <tbody>\n",
       "    <tr>\n",
       "      <th>0</th>\n",
       "      <td>228894</td>\n",
       "      <td>2524b06fc6634bd349fc1d7f132c8362529473768f6ac2...</td>\n",
       "      <td>JA453603</td>\n",
       "      <td>10/01/2017 02:20:00 AM</td>\n",
       "      <td>1</td>\n",
       "      <td>DRIVER</td>\n",
       "      <td>NaN</td>\n",
       "      <td>224185.0</td>\n",
       "      <td>NaN</td>\n",
       "      <td>DODGE</td>\n",
       "      <td>...</td>\n",
       "      <td>NaN</td>\n",
       "      <td>NaN</td>\n",
       "      <td>NaN</td>\n",
       "      <td>NaN</td>\n",
       "      <td>NaN</td>\n",
       "      <td>NaN</td>\n",
       "      <td>NaN</td>\n",
       "      <td>NaN</td>\n",
       "      <td>NaN</td>\n",
       "      <td>NaN</td>\n",
       "    </tr>\n",
       "    <tr>\n",
       "      <th>1</th>\n",
       "      <td>228895</td>\n",
       "      <td>2524b06fc6634bd349fc1d7f132c8362529473768f6ac2...</td>\n",
       "      <td>JA453603</td>\n",
       "      <td>10/01/2017 02:20:00 AM</td>\n",
       "      <td>2</td>\n",
       "      <td>PARKED</td>\n",
       "      <td>NaN</td>\n",
       "      <td>224187.0</td>\n",
       "      <td>NaN</td>\n",
       "      <td>GENERAL MOTORS CORP.</td>\n",
       "      <td>...</td>\n",
       "      <td>NaN</td>\n",
       "      <td>NaN</td>\n",
       "      <td>NaN</td>\n",
       "      <td>NaN</td>\n",
       "      <td>NaN</td>\n",
       "      <td>NaN</td>\n",
       "      <td>NaN</td>\n",
       "      <td>NaN</td>\n",
       "      <td>NaN</td>\n",
       "      <td>NaN</td>\n",
       "    </tr>\n",
       "    <tr>\n",
       "      <th>2</th>\n",
       "      <td>228896</td>\n",
       "      <td>2524b06fc6634bd349fc1d7f132c8362529473768f6ac2...</td>\n",
       "      <td>JA453603</td>\n",
       "      <td>10/01/2017 02:20:00 AM</td>\n",
       "      <td>3</td>\n",
       "      <td>PARKED</td>\n",
       "      <td>NaN</td>\n",
       "      <td>224191.0</td>\n",
       "      <td>NaN</td>\n",
       "      <td>SATURN</td>\n",
       "      <td>...</td>\n",
       "      <td>NaN</td>\n",
       "      <td>NaN</td>\n",
       "      <td>NaN</td>\n",
       "      <td>NaN</td>\n",
       "      <td>NaN</td>\n",
       "      <td>NaN</td>\n",
       "      <td>NaN</td>\n",
       "      <td>NaN</td>\n",
       "      <td>NaN</td>\n",
       "      <td>NaN</td>\n",
       "    </tr>\n",
       "    <tr>\n",
       "      <th>3</th>\n",
       "      <td>228905</td>\n",
       "      <td>f7210aec9ac43a7b36c30b49033adebcb3060b96580341...</td>\n",
       "      <td>JA453640</td>\n",
       "      <td>10/01/2017 02:41:00 AM</td>\n",
       "      <td>1</td>\n",
       "      <td>DRIVER</td>\n",
       "      <td>NaN</td>\n",
       "      <td>224199.0</td>\n",
       "      <td>NaN</td>\n",
       "      <td>FORD</td>\n",
       "      <td>...</td>\n",
       "      <td>NaN</td>\n",
       "      <td>NaN</td>\n",
       "      <td>NaN</td>\n",
       "      <td>NaN</td>\n",
       "      <td>NaN</td>\n",
       "      <td>NaN</td>\n",
       "      <td>NaN</td>\n",
       "      <td>NaN</td>\n",
       "      <td>NaN</td>\n",
       "      <td>NaN</td>\n",
       "    </tr>\n",
       "    <tr>\n",
       "      <th>4</th>\n",
       "      <td>228906</td>\n",
       "      <td>f7210aec9ac43a7b36c30b49033adebcb3060b96580341...</td>\n",
       "      <td>JA453640</td>\n",
       "      <td>10/01/2017 02:41:00 AM</td>\n",
       "      <td>2</td>\n",
       "      <td>DRIVERLESS</td>\n",
       "      <td>NaN</td>\n",
       "      <td>224203.0</td>\n",
       "      <td>NaN</td>\n",
       "      <td>CHEVROLET</td>\n",
       "      <td>...</td>\n",
       "      <td>NaN</td>\n",
       "      <td>NaN</td>\n",
       "      <td>NaN</td>\n",
       "      <td>NaN</td>\n",
       "      <td>NaN</td>\n",
       "      <td>NaN</td>\n",
       "      <td>NaN</td>\n",
       "      <td>NaN</td>\n",
       "      <td>NaN</td>\n",
       "      <td>NaN</td>\n",
       "    </tr>\n",
       "  </tbody>\n",
       "</table>\n",
       "<p>5 rows × 72 columns</p>\n",
       "</div>"
      ],
      "text/plain": [
       "   CRASH_UNIT_ID                                    CRASH_RECORD_ID     RD_NO  \\\n",
       "0         228894  2524b06fc6634bd349fc1d7f132c8362529473768f6ac2...  JA453603   \n",
       "1         228895  2524b06fc6634bd349fc1d7f132c8362529473768f6ac2...  JA453603   \n",
       "2         228896  2524b06fc6634bd349fc1d7f132c8362529473768f6ac2...  JA453603   \n",
       "3         228905  f7210aec9ac43a7b36c30b49033adebcb3060b96580341...  JA453640   \n",
       "4         228906  f7210aec9ac43a7b36c30b49033adebcb3060b96580341...  JA453640   \n",
       "\n",
       "               CRASH_DATE  UNIT_NO   UNIT_TYPE  NUM_PASSENGERS  VEHICLE_ID  \\\n",
       "0  10/01/2017 02:20:00 AM        1      DRIVER             NaN    224185.0   \n",
       "1  10/01/2017 02:20:00 AM        2      PARKED             NaN    224187.0   \n",
       "2  10/01/2017 02:20:00 AM        3      PARKED             NaN    224191.0   \n",
       "3  10/01/2017 02:41:00 AM        1      DRIVER             NaN    224199.0   \n",
       "4  10/01/2017 02:41:00 AM        2  DRIVERLESS             NaN    224203.0   \n",
       "\n",
       "  CMRC_VEH_I                  MAKE  ... TRAILER1_LENGTH TRAILER2_LENGTH  \\\n",
       "0        NaN                 DODGE  ...             NaN             NaN   \n",
       "1        NaN  GENERAL MOTORS CORP.  ...             NaN             NaN   \n",
       "2        NaN                SATURN  ...             NaN             NaN   \n",
       "3        NaN                  FORD  ...             NaN             NaN   \n",
       "4        NaN             CHEVROLET  ...             NaN             NaN   \n",
       "\n",
       "   TOTAL_VEHICLE_LENGTH AXLE_CNT VEHICLE_CONFIG CARGO_BODY_TYPE LOAD_TYPE  \\\n",
       "0                   NaN      NaN            NaN             NaN       NaN   \n",
       "1                   NaN      NaN            NaN             NaN       NaN   \n",
       "2                   NaN      NaN            NaN             NaN       NaN   \n",
       "3                   NaN      NaN            NaN             NaN       NaN   \n",
       "4                   NaN      NaN            NaN             NaN       NaN   \n",
       "\n",
       "  HAZMAT_OUT_OF_SERVICE_I MCS_OUT_OF_SERVICE_I HAZMAT_CLASS  \n",
       "0                     NaN                  NaN          NaN  \n",
       "1                     NaN                  NaN          NaN  \n",
       "2                     NaN                  NaN          NaN  \n",
       "3                     NaN                  NaN          NaN  \n",
       "4                     NaN                  NaN          NaN  \n",
       "\n",
       "[5 rows x 72 columns]"
      ]
     },
     "execution_count": 70,
     "metadata": {},
     "output_type": "execute_result"
    }
   ],
   "source": [
    "vehicles_sample.head()"
   ]
  },
  {
   "cell_type": "code",
   "execution_count": 71,
   "metadata": {},
   "outputs": [
    {
     "data": {
      "text/html": [
       "<div>\n",
       "<style scoped>\n",
       "    .dataframe tbody tr th:only-of-type {\n",
       "        vertical-align: middle;\n",
       "    }\n",
       "\n",
       "    .dataframe tbody tr th {\n",
       "        vertical-align: top;\n",
       "    }\n",
       "\n",
       "    .dataframe thead th {\n",
       "        text-align: right;\n",
       "    }\n",
       "</style>\n",
       "<table border=\"1\" class=\"dataframe\">\n",
       "  <thead>\n",
       "    <tr style=\"text-align: right;\">\n",
       "      <th></th>\n",
       "      <th>PERSON_ID</th>\n",
       "      <th>PERSON_TYPE</th>\n",
       "      <th>CRASH_RECORD_ID</th>\n",
       "      <th>RD_NO</th>\n",
       "      <th>VEHICLE_ID</th>\n",
       "      <th>CRASH_DATE</th>\n",
       "      <th>SEAT_NO</th>\n",
       "      <th>CITY</th>\n",
       "      <th>STATE</th>\n",
       "      <th>ZIPCODE</th>\n",
       "      <th>...</th>\n",
       "      <th>EMS_RUN_NO</th>\n",
       "      <th>DRIVER_ACTION</th>\n",
       "      <th>DRIVER_VISION</th>\n",
       "      <th>PHYSICAL_CONDITION</th>\n",
       "      <th>PEDPEDAL_ACTION</th>\n",
       "      <th>PEDPEDAL_VISIBILITY</th>\n",
       "      <th>PEDPEDAL_LOCATION</th>\n",
       "      <th>BAC_RESULT</th>\n",
       "      <th>BAC_RESULT VALUE</th>\n",
       "      <th>CELL_PHONE_USE</th>\n",
       "    </tr>\n",
       "  </thead>\n",
       "  <tbody>\n",
       "    <tr>\n",
       "      <th>0</th>\n",
       "      <td>O925562</td>\n",
       "      <td>DRIVER</td>\n",
       "      <td>70a18f80d33a3e2bdde9f21c7c0cafaa8d133285c2a395...</td>\n",
       "      <td>JD310165</td>\n",
       "      <td>877509.0</td>\n",
       "      <td>07/26/2020 01:50:00 AM</td>\n",
       "      <td>NaN</td>\n",
       "      <td>NaN</td>\n",
       "      <td>NaN</td>\n",
       "      <td>NaN</td>\n",
       "      <td>...</td>\n",
       "      <td>NaN</td>\n",
       "      <td>UNKNOWN</td>\n",
       "      <td>UNKNOWN</td>\n",
       "      <td>UNKNOWN</td>\n",
       "      <td>NaN</td>\n",
       "      <td>NaN</td>\n",
       "      <td>NaN</td>\n",
       "      <td>TEST NOT OFFERED</td>\n",
       "      <td>NaN</td>\n",
       "      <td>NaN</td>\n",
       "    </tr>\n",
       "    <tr>\n",
       "      <th>1</th>\n",
       "      <td>O925563</td>\n",
       "      <td>DRIVER</td>\n",
       "      <td>70a18f80d33a3e2bdde9f21c7c0cafaa8d133285c2a395...</td>\n",
       "      <td>JD310165</td>\n",
       "      <td>877518.0</td>\n",
       "      <td>07/26/2020 01:50:00 AM</td>\n",
       "      <td>NaN</td>\n",
       "      <td>CHICAGO</td>\n",
       "      <td>IL</td>\n",
       "      <td>60653</td>\n",
       "      <td>...</td>\n",
       "      <td>NaN</td>\n",
       "      <td>OTHER</td>\n",
       "      <td>UNKNOWN</td>\n",
       "      <td>NORMAL</td>\n",
       "      <td>NaN</td>\n",
       "      <td>NaN</td>\n",
       "      <td>NaN</td>\n",
       "      <td>TEST NOT OFFERED</td>\n",
       "      <td>NaN</td>\n",
       "      <td>NaN</td>\n",
       "    </tr>\n",
       "    <tr>\n",
       "      <th>2</th>\n",
       "      <td>O925608</td>\n",
       "      <td>DRIVER</td>\n",
       "      <td>35b6535a691e99e723bb7322a02fcf5e478f356bad52e1...</td>\n",
       "      <td>JD310239</td>\n",
       "      <td>877558.0</td>\n",
       "      <td>07/26/2020 03:44:00 AM</td>\n",
       "      <td>NaN</td>\n",
       "      <td>NaN</td>\n",
       "      <td>NaN</td>\n",
       "      <td>NaN</td>\n",
       "      <td>...</td>\n",
       "      <td>NaN</td>\n",
       "      <td>UNKNOWN</td>\n",
       "      <td>UNKNOWN</td>\n",
       "      <td>UNKNOWN</td>\n",
       "      <td>NaN</td>\n",
       "      <td>NaN</td>\n",
       "      <td>NaN</td>\n",
       "      <td>TEST REFUSED</td>\n",
       "      <td>NaN</td>\n",
       "      <td>NaN</td>\n",
       "    </tr>\n",
       "    <tr>\n",
       "      <th>3</th>\n",
       "      <td>O925609</td>\n",
       "      <td>DRIVER</td>\n",
       "      <td>35b6535a691e99e723bb7322a02fcf5e478f356bad52e1...</td>\n",
       "      <td>JD310239</td>\n",
       "      <td>877560.0</td>\n",
       "      <td>07/26/2020 03:44:00 AM</td>\n",
       "      <td>NaN</td>\n",
       "      <td>EVANSTON</td>\n",
       "      <td>IL</td>\n",
       "      <td>60201</td>\n",
       "      <td>...</td>\n",
       "      <td>NaN</td>\n",
       "      <td>UNKNOWN</td>\n",
       "      <td>UNKNOWN</td>\n",
       "      <td>NORMAL</td>\n",
       "      <td>NaN</td>\n",
       "      <td>NaN</td>\n",
       "      <td>NaN</td>\n",
       "      <td>TEST NOT OFFERED</td>\n",
       "      <td>NaN</td>\n",
       "      <td>NaN</td>\n",
       "    </tr>\n",
       "    <tr>\n",
       "      <th>4</th>\n",
       "      <td>O925693</td>\n",
       "      <td>DRIVER</td>\n",
       "      <td>b19286bd551b80e04f20663d46a3fae8238a8f40ddee4c...</td>\n",
       "      <td>JD310543</td>\n",
       "      <td>877642.0</td>\n",
       "      <td>07/26/2020 11:50:00 AM</td>\n",
       "      <td>NaN</td>\n",
       "      <td>CHICAGO</td>\n",
       "      <td>IL</td>\n",
       "      <td>60638</td>\n",
       "      <td>...</td>\n",
       "      <td>NaN</td>\n",
       "      <td>UNKNOWN</td>\n",
       "      <td>UNKNOWN</td>\n",
       "      <td>NORMAL</td>\n",
       "      <td>NaN</td>\n",
       "      <td>NaN</td>\n",
       "      <td>NaN</td>\n",
       "      <td>TEST NOT OFFERED</td>\n",
       "      <td>NaN</td>\n",
       "      <td>NaN</td>\n",
       "    </tr>\n",
       "  </tbody>\n",
       "</table>\n",
       "<p>5 rows × 30 columns</p>\n",
       "</div>"
      ],
      "text/plain": [
       "  PERSON_ID PERSON_TYPE                                    CRASH_RECORD_ID  \\\n",
       "0   O925562      DRIVER  70a18f80d33a3e2bdde9f21c7c0cafaa8d133285c2a395...   \n",
       "1   O925563      DRIVER  70a18f80d33a3e2bdde9f21c7c0cafaa8d133285c2a395...   \n",
       "2   O925608      DRIVER  35b6535a691e99e723bb7322a02fcf5e478f356bad52e1...   \n",
       "3   O925609      DRIVER  35b6535a691e99e723bb7322a02fcf5e478f356bad52e1...   \n",
       "4   O925693      DRIVER  b19286bd551b80e04f20663d46a3fae8238a8f40ddee4c...   \n",
       "\n",
       "      RD_NO  VEHICLE_ID              CRASH_DATE  SEAT_NO      CITY STATE  \\\n",
       "0  JD310165    877509.0  07/26/2020 01:50:00 AM      NaN       NaN   NaN   \n",
       "1  JD310165    877518.0  07/26/2020 01:50:00 AM      NaN   CHICAGO    IL   \n",
       "2  JD310239    877558.0  07/26/2020 03:44:00 AM      NaN       NaN   NaN   \n",
       "3  JD310239    877560.0  07/26/2020 03:44:00 AM      NaN  EVANSTON    IL   \n",
       "4  JD310543    877642.0  07/26/2020 11:50:00 AM      NaN   CHICAGO    IL   \n",
       "\n",
       "  ZIPCODE  ... EMS_RUN_NO  DRIVER_ACTION DRIVER_VISION PHYSICAL_CONDITION  \\\n",
       "0     NaN  ...        NaN        UNKNOWN       UNKNOWN            UNKNOWN   \n",
       "1   60653  ...        NaN          OTHER       UNKNOWN             NORMAL   \n",
       "2     NaN  ...        NaN        UNKNOWN       UNKNOWN            UNKNOWN   \n",
       "3   60201  ...        NaN        UNKNOWN       UNKNOWN             NORMAL   \n",
       "4   60638  ...        NaN        UNKNOWN       UNKNOWN             NORMAL   \n",
       "\n",
       "  PEDPEDAL_ACTION PEDPEDAL_VISIBILITY PEDPEDAL_LOCATION        BAC_RESULT  \\\n",
       "0             NaN                 NaN               NaN  TEST NOT OFFERED   \n",
       "1             NaN                 NaN               NaN  TEST NOT OFFERED   \n",
       "2             NaN                 NaN               NaN      TEST REFUSED   \n",
       "3             NaN                 NaN               NaN  TEST NOT OFFERED   \n",
       "4             NaN                 NaN               NaN  TEST NOT OFFERED   \n",
       "\n",
       "  BAC_RESULT VALUE CELL_PHONE_USE  \n",
       "0              NaN            NaN  \n",
       "1              NaN            NaN  \n",
       "2              NaN            NaN  \n",
       "3              NaN            NaN  \n",
       "4              NaN            NaN  \n",
       "\n",
       "[5 rows x 30 columns]"
      ]
     },
     "execution_count": 71,
     "metadata": {},
     "output_type": "execute_result"
    }
   ],
   "source": [
    "people_sample.head()"
   ]
  },
  {
   "cell_type": "code",
   "execution_count": 72,
   "metadata": {},
   "outputs": [
    {
     "name": "stdout",
     "output_type": "stream",
     "text": [
      "<class 'pandas.core.frame.DataFrame'>\n",
      "RangeIndex: 33408 entries, 0 to 33407\n",
      "Data columns (total 49 columns):\n",
      " #   Column                         Non-Null Count  Dtype  \n",
      "---  ------                         --------------  -----  \n",
      " 0   CRASH_RECORD_ID                33408 non-null  object \n",
      " 1   RD_NO                          33021 non-null  object \n",
      " 2   CRASH_DATE_EST_I               2337 non-null   object \n",
      " 3   CRASH_DATE                     33408 non-null  object \n",
      " 4   POSTED_SPEED_LIMIT             33408 non-null  int64  \n",
      " 5   TRAFFIC_CONTROL_DEVICE         33408 non-null  object \n",
      " 6   DEVICE_CONDITION               33408 non-null  object \n",
      " 7   WEATHER_CONDITION              33408 non-null  object \n",
      " 8   LIGHTING_CONDITION             33408 non-null  object \n",
      " 9   FIRST_CRASH_TYPE               33408 non-null  object \n",
      " 10  TRAFFICWAY_TYPE                33408 non-null  object \n",
      " 11  LANE_CNT                       10996 non-null  float64\n",
      " 12  ALIGNMENT                      33408 non-null  object \n",
      " 13  ROADWAY_SURFACE_COND           33408 non-null  object \n",
      " 14  ROAD_DEFECT                    33408 non-null  object \n",
      " 15  REPORT_TYPE                    32473 non-null  object \n",
      " 16  CRASH_TYPE                     33408 non-null  object \n",
      " 17  INTERSECTION_RELATED_I         7893 non-null   object \n",
      " 18  NOT_RIGHT_OF_WAY_I             1583 non-null   object \n",
      " 19  HIT_AND_RUN_I                  9694 non-null   object \n",
      " 20  DAMAGE                         33408 non-null  object \n",
      " 21  DATE_POLICE_NOTIFIED           33408 non-null  object \n",
      " 22  PRIM_CONTRIBUTORY_CAUSE        33408 non-null  object \n",
      " 23  SEC_CONTRIBUTORY_CAUSE         33408 non-null  object \n",
      " 24  STREET_NO                      33408 non-null  int64  \n",
      " 25  STREET_DIRECTION               33408 non-null  object \n",
      " 26  STREET_NAME                    33408 non-null  object \n",
      " 27  BEAT_OF_OCCURRENCE             33408 non-null  int64  \n",
      " 28  PHOTOS_TAKEN_I                 407 non-null    object \n",
      " 29  STATEMENTS_TAKEN_I             729 non-null    object \n",
      " 30  DOORING_I                      109 non-null    object \n",
      " 31  WORK_ZONE_I                    201 non-null    object \n",
      " 32  WORK_ZONE_TYPE                 158 non-null    object \n",
      " 33  WORKERS_PRESENT_I              44 non-null     object \n",
      " 34  NUM_UNITS                      33408 non-null  int64  \n",
      " 35  MOST_SEVERE_INJURY             33323 non-null  object \n",
      " 36  INJURIES_TOTAL                 33324 non-null  float64\n",
      " 37  INJURIES_FATAL                 33324 non-null  float64\n",
      " 38  INJURIES_INCAPACITATING        33324 non-null  float64\n",
      " 39  INJURIES_NON_INCAPACITATING    33324 non-null  float64\n",
      " 40  INJURIES_REPORTED_NOT_EVIDENT  33324 non-null  float64\n",
      " 41  INJURIES_NO_INDICATION         33324 non-null  float64\n",
      " 42  INJURIES_UNKNOWN               33324 non-null  float64\n",
      " 43  CRASH_HOUR                     33408 non-null  int64  \n",
      " 44  CRASH_DAY_OF_WEEK              33408 non-null  int64  \n",
      " 45  CRASH_MONTH                    33408 non-null  int64  \n",
      " 46  LATITUDE                       33215 non-null  float64\n",
      " 47  LONGITUDE                      33215 non-null  float64\n",
      " 48  LOCATION                       33215 non-null  object \n",
      "dtypes: float64(10), int64(7), object(32)\n",
      "memory usage: 12.5+ MB\n"
     ]
    }
   ],
   "source": [
    "crashes_sample.info()"
   ]
  },
  {
   "cell_type": "code",
   "execution_count": 73,
   "metadata": {},
   "outputs": [
    {
     "name": "stdout",
     "output_type": "stream",
     "text": [
      "<class 'pandas.core.frame.DataFrame'>\n",
      "RangeIndex: 75673 entries, 0 to 75672\n",
      "Data columns (total 72 columns):\n",
      " #   Column                    Non-Null Count  Dtype  \n",
      "---  ------                    --------------  -----  \n",
      " 0   CRASH_UNIT_ID             75673 non-null  int64  \n",
      " 1   CRASH_RECORD_ID           75673 non-null  object \n",
      " 2   RD_NO                     67544 non-null  object \n",
      " 3   CRASH_DATE                75673 non-null  object \n",
      " 4   UNIT_NO                   75673 non-null  int64  \n",
      " 5   UNIT_TYPE                 75561 non-null  object \n",
      " 6   NUM_PASSENGERS            11633 non-null  float64\n",
      " 7   VEHICLE_ID                73804 non-null  float64\n",
      " 8   CMRC_VEH_I                1514 non-null   object \n",
      " 9   MAKE                      73804 non-null  object \n",
      " 10  MODEL                     73787 non-null  object \n",
      " 11  LIC_PLATE_STATE           67639 non-null  object \n",
      " 12  VEHICLE_YEAR              61945 non-null  float64\n",
      " 13  VEHICLE_DEFECT            73804 non-null  object \n",
      " 14  VEHICLE_TYPE              73804 non-null  object \n",
      " 15  VEHICLE_USE               73804 non-null  object \n",
      " 16  TRAVEL_DIRECTION          73804 non-null  object \n",
      " 17  MANEUVER                  73804 non-null  object \n",
      " 18  TOWED_I                   10016 non-null  object \n",
      " 19  FIRE_I                    58 non-null     object \n",
      " 20  OCCUPANT_CNT              73804 non-null  float64\n",
      " 21  EXCEED_SPEED_LIMIT_I      192 non-null    object \n",
      " 22  TOWED_BY                  7364 non-null   object \n",
      " 23  TOWED_TO                  4621 non-null   object \n",
      " 24  AREA_00_I                 2549 non-null   object \n",
      " 25  AREA_01_I                 20125 non-null  object \n",
      " 26  AREA_02_I                 12859 non-null  object \n",
      " 27  AREA_03_I                 7117 non-null   object \n",
      " 28  AREA_04_I                 7443 non-null   object \n",
      " 29  AREA_05_I                 11163 non-null  object \n",
      " 30  AREA_06_I                 11970 non-null  object \n",
      " 31  AREA_07_I                 10345 non-null  object \n",
      " 32  AREA_08_I                 12167 non-null  object \n",
      " 33  AREA_09_I                 3856 non-null   object \n",
      " 34  AREA_10_I                 5613 non-null   object \n",
      " 35  AREA_11_I                 11032 non-null  object \n",
      " 36  AREA_12_I                 10926 non-null  object \n",
      " 37  AREA_99_I                 7757 non-null   object \n",
      " 38  FIRST_CONTACT_POINT       73180 non-null  object \n",
      " 39  CMV_ID                    886 non-null    float64\n",
      " 40  USDOT_NO                  515 non-null    object \n",
      " 41  CCMC_NO                   126 non-null    object \n",
      " 42  ILCC_NO                   93 non-null     object \n",
      " 43  COMMERCIAL_SRC            628 non-null    object \n",
      " 44  GVWR                      511 non-null    object \n",
      " 45  CARRIER_NAME              851 non-null    object \n",
      " 46  CARRIER_STATE             804 non-null    object \n",
      " 47  CARRIER_CITY              788 non-null    object \n",
      " 48  HAZMAT_PLACARDS_I         15 non-null     object \n",
      " 49  HAZMAT_NAME               4 non-null      object \n",
      " 50  UN_NO                     23 non-null     object \n",
      " 51  HAZMAT_PRESENT_I          659 non-null    object \n",
      " 52  HAZMAT_REPORT_I           643 non-null    object \n",
      " 53  HAZMAT_REPORT_NO          0 non-null      float64\n",
      " 54  MCS_REPORT_I              644 non-null    object \n",
      " 55  MCS_REPORT_NO             0 non-null      float64\n",
      " 56  HAZMAT_VIO_CAUSE_CRASH_I  652 non-null    object \n",
      " 57  MCS_VIO_CAUSE_CRASH_I     644 non-null    object \n",
      " 58  IDOT_PERMIT_NO            49 non-null     object \n",
      " 59  WIDE_LOAD_I               7 non-null      object \n",
      " 60  TRAILER1_WIDTH            163 non-null    object \n",
      " 61  TRAILER2_WIDTH            17 non-null     object \n",
      " 62  TRAILER1_LENGTH           132 non-null    float64\n",
      " 63  TRAILER2_LENGTH           3 non-null      float64\n",
      " 64  TOTAL_VEHICLE_LENGTH      148 non-null    float64\n",
      " 65  AXLE_CNT                  239 non-null    float64\n",
      " 66  VEHICLE_CONFIG            704 non-null    object \n",
      " 67  CARGO_BODY_TYPE           675 non-null    object \n",
      " 68  LOAD_TYPE                 637 non-null    object \n",
      " 69  HAZMAT_OUT_OF_SERVICE_I   620 non-null    object \n",
      " 70  MCS_OUT_OF_SERVICE_I      638 non-null    object \n",
      " 71  HAZMAT_CLASS              58 non-null     object \n",
      "dtypes: float64(11), int64(2), object(59)\n",
      "memory usage: 41.6+ MB\n"
     ]
    }
   ],
   "source": [
    "vehicles_sample.info()"
   ]
  },
  {
   "cell_type": "code",
   "execution_count": 74,
   "metadata": {},
   "outputs": [
    {
     "name": "stdout",
     "output_type": "stream",
     "text": [
      "<class 'pandas.core.frame.DataFrame'>\n",
      "RangeIndex: 82049 entries, 0 to 82048\n",
      "Data columns (total 30 columns):\n",
      " #   Column                 Non-Null Count  Dtype  \n",
      "---  ------                 --------------  -----  \n",
      " 0   PERSON_ID              82049 non-null  object \n",
      " 1   PERSON_TYPE            82049 non-null  object \n",
      " 2   CRASH_RECORD_ID        82049 non-null  object \n",
      " 3   RD_NO                  73689 non-null  object \n",
      " 4   VEHICLE_ID             80306 non-null  float64\n",
      " 5   CRASH_DATE             82049 non-null  object \n",
      " 6   SEAT_NO                17214 non-null  float64\n",
      " 7   CITY                   60863 non-null  object \n",
      " 8   STATE                  61749 non-null  object \n",
      " 9   ZIPCODE                55588 non-null  object \n",
      " 10  SEX                    80776 non-null  object \n",
      " 11  AGE                    59254 non-null  float64\n",
      " 12  DRIVERS_LICENSE_STATE  48594 non-null  object \n",
      " 13  DRIVERS_LICENSE_CLASS  41798 non-null  object \n",
      " 14  SAFETY_EQUIPMENT       81792 non-null  object \n",
      " 15  AIRBAG_DEPLOYED        80374 non-null  object \n",
      " 16  EJECTION               80955 non-null  object \n",
      " 17  INJURY_CLASSIFICATION  81999 non-null  object \n",
      " 18  HOSPITAL               16448 non-null  object \n",
      " 19  EMS_AGENCY             10286 non-null  object \n",
      " 20  EMS_RUN_NO             1687 non-null   object \n",
      " 21  DRIVER_ACTION          64669 non-null  object \n",
      " 22  DRIVER_VISION          64663 non-null  object \n",
      " 23  PHYSICAL_CONDITION     64728 non-null  object \n",
      " 24  PEDPEDAL_ACTION        1647 non-null   object \n",
      " 25  PEDPEDAL_VISIBILITY    1645 non-null   object \n",
      " 26  PEDPEDAL_LOCATION      1646 non-null   object \n",
      " 27  BAC_RESULT             64751 non-null  object \n",
      " 28  BAC_RESULT VALUE       134 non-null    float64\n",
      " 29  CELL_PHONE_USE         65 non-null     object \n",
      "dtypes: float64(4), object(26)\n",
      "memory usage: 18.8+ MB\n"
     ]
    }
   ],
   "source": [
    "people_sample.info()"
   ]
  },
  {
   "cell_type": "code",
   "execution_count": 75,
   "metadata": {},
   "outputs": [
    {
     "data": {
      "text/plain": [
       "CRASH_RECORD_ID                  0.000000\n",
       "RD_NO                            0.011584\n",
       "CRASH_DATE_EST_I                 0.930047\n",
       "CRASH_DATE                       0.000000\n",
       "POSTED_SPEED_LIMIT               0.000000\n",
       "TRAFFIC_CONTROL_DEVICE           0.000000\n",
       "DEVICE_CONDITION                 0.000000\n",
       "WEATHER_CONDITION                0.000000\n",
       "LIGHTING_CONDITION               0.000000\n",
       "FIRST_CRASH_TYPE                 0.000000\n",
       "TRAFFICWAY_TYPE                  0.000000\n",
       "LANE_CNT                         0.670857\n",
       "ALIGNMENT                        0.000000\n",
       "ROADWAY_SURFACE_COND             0.000000\n",
       "ROAD_DEFECT                      0.000000\n",
       "REPORT_TYPE                      0.027987\n",
       "CRASH_TYPE                       0.000000\n",
       "INTERSECTION_RELATED_I           0.763739\n",
       "NOT_RIGHT_OF_WAY_I               0.952616\n",
       "HIT_AND_RUN_I                    0.709830\n",
       "DAMAGE                           0.000000\n",
       "DATE_POLICE_NOTIFIED             0.000000\n",
       "PRIM_CONTRIBUTORY_CAUSE          0.000000\n",
       "SEC_CONTRIBUTORY_CAUSE           0.000000\n",
       "STREET_NO                        0.000000\n",
       "STREET_DIRECTION                 0.000000\n",
       "STREET_NAME                      0.000000\n",
       "BEAT_OF_OCCURRENCE               0.000000\n",
       "PHOTOS_TAKEN_I                   0.987817\n",
       "STATEMENTS_TAKEN_I               0.978179\n",
       "DOORING_I                        0.996737\n",
       "WORK_ZONE_I                      0.993983\n",
       "WORK_ZONE_TYPE                   0.995271\n",
       "WORKERS_PRESENT_I                0.998683\n",
       "NUM_UNITS                        0.000000\n",
       "MOST_SEVERE_INJURY               0.002544\n",
       "INJURIES_TOTAL                   0.002514\n",
       "INJURIES_FATAL                   0.002514\n",
       "INJURIES_INCAPACITATING          0.002514\n",
       "INJURIES_NON_INCAPACITATING      0.002514\n",
       "INJURIES_REPORTED_NOT_EVIDENT    0.002514\n",
       "INJURIES_NO_INDICATION           0.002514\n",
       "INJURIES_UNKNOWN                 0.002514\n",
       "CRASH_HOUR                       0.000000\n",
       "CRASH_DAY_OF_WEEK                0.000000\n",
       "CRASH_MONTH                      0.000000\n",
       "LATITUDE                         0.005777\n",
       "LONGITUDE                        0.005777\n",
       "LOCATION                         0.005777\n",
       "dtype: float64"
      ]
     },
     "execution_count": 75,
     "metadata": {},
     "output_type": "execute_result"
    }
   ],
   "source": [
    "crashes_sample.isnull().mean().round(100)"
   ]
  },
  {
   "cell_type": "code",
   "execution_count": 5,
   "metadata": {},
   "outputs": [
    {
     "data": {
      "text/plain": [
       "11"
      ]
     },
     "execution_count": 5,
     "metadata": {},
     "output_type": "execute_result"
    }
   ],
   "source": [
    "sum(crashes_sample.isnull().mean().round(2) > 0.55) # crashes_sample - 11/49 columns have > 55% missing values"
   ]
  },
  {
   "cell_type": "code",
   "execution_count": 77,
   "metadata": {},
   "outputs": [
    {
     "data": {
      "text/plain": [
       "25"
      ]
     },
     "execution_count": 77,
     "metadata": {},
     "output_type": "execute_result"
    }
   ],
   "source": [
    "sum(crashes_sample.isnull().mean().round(50) == 0) # crashes_sample - 25/49 columns have 0 missing value"
   ]
  },
  {
   "cell_type": "code",
   "execution_count": 20,
   "metadata": {},
   "outputs": [
    {
     "data": {
      "text/html": [
       "<div>\n",
       "<style scoped>\n",
       "    .dataframe tbody tr th:only-of-type {\n",
       "        vertical-align: middle;\n",
       "    }\n",
       "\n",
       "    .dataframe tbody tr th {\n",
       "        vertical-align: top;\n",
       "    }\n",
       "\n",
       "    .dataframe thead th {\n",
       "        text-align: right;\n",
       "    }\n",
       "</style>\n",
       "<table border=\"1\" class=\"dataframe\">\n",
       "  <thead>\n",
       "    <tr style=\"text-align: right;\">\n",
       "      <th></th>\n",
       "      <th>PERSON_ID</th>\n",
       "      <th>PERSON_TYPE</th>\n",
       "      <th>CRASH_RECORD_ID</th>\n",
       "      <th>CRASH_DATE</th>\n",
       "    </tr>\n",
       "  </thead>\n",
       "  <tbody>\n",
       "    <tr>\n",
       "      <th>0</th>\n",
       "      <td>O925562</td>\n",
       "      <td>DRIVER</td>\n",
       "      <td>70a18f80d33a3e2bdde9f21c7c0cafaa8d133285c2a395...</td>\n",
       "      <td>07/26/2020 01:50:00 AM</td>\n",
       "    </tr>\n",
       "    <tr>\n",
       "      <th>1</th>\n",
       "      <td>O925563</td>\n",
       "      <td>DRIVER</td>\n",
       "      <td>70a18f80d33a3e2bdde9f21c7c0cafaa8d133285c2a395...</td>\n",
       "      <td>07/26/2020 01:50:00 AM</td>\n",
       "    </tr>\n",
       "    <tr>\n",
       "      <th>2</th>\n",
       "      <td>O925608</td>\n",
       "      <td>DRIVER</td>\n",
       "      <td>35b6535a691e99e723bb7322a02fcf5e478f356bad52e1...</td>\n",
       "      <td>07/26/2020 03:44:00 AM</td>\n",
       "    </tr>\n",
       "    <tr>\n",
       "      <th>3</th>\n",
       "      <td>O925609</td>\n",
       "      <td>DRIVER</td>\n",
       "      <td>35b6535a691e99e723bb7322a02fcf5e478f356bad52e1...</td>\n",
       "      <td>07/26/2020 03:44:00 AM</td>\n",
       "    </tr>\n",
       "    <tr>\n",
       "      <th>4</th>\n",
       "      <td>O925693</td>\n",
       "      <td>DRIVER</td>\n",
       "      <td>b19286bd551b80e04f20663d46a3fae8238a8f40ddee4c...</td>\n",
       "      <td>07/26/2020 11:50:00 AM</td>\n",
       "    </tr>\n",
       "    <tr>\n",
       "      <th>...</th>\n",
       "      <td>...</td>\n",
       "      <td>...</td>\n",
       "      <td>...</td>\n",
       "      <td>...</td>\n",
       "    </tr>\n",
       "    <tr>\n",
       "      <th>82044</th>\n",
       "      <td>P211331</td>\n",
       "      <td>PASSENGER</td>\n",
       "      <td>77c6896f7590443e32852c8ab7c1b60d1b05dec415263b...</td>\n",
       "      <td>07/25/2020 04:50:00 PM</td>\n",
       "    </tr>\n",
       "    <tr>\n",
       "      <th>82045</th>\n",
       "      <td>P211347</td>\n",
       "      <td>PASSENGER</td>\n",
       "      <td>d522d6647f22c5838842144002127a8b679ca60a029dbf...</td>\n",
       "      <td>07/25/2020 05:25:00 PM</td>\n",
       "    </tr>\n",
       "    <tr>\n",
       "      <th>82046</th>\n",
       "      <td>P211349</td>\n",
       "      <td>PASSENGER</td>\n",
       "      <td>d522d6647f22c5838842144002127a8b679ca60a029dbf...</td>\n",
       "      <td>07/25/2020 05:25:00 PM</td>\n",
       "    </tr>\n",
       "    <tr>\n",
       "      <th>82047</th>\n",
       "      <td>P211350</td>\n",
       "      <td>PASSENGER</td>\n",
       "      <td>d522d6647f22c5838842144002127a8b679ca60a029dbf...</td>\n",
       "      <td>07/25/2020 05:25:00 PM</td>\n",
       "    </tr>\n",
       "    <tr>\n",
       "      <th>82048</th>\n",
       "      <td>P211351</td>\n",
       "      <td>PASSENGER</td>\n",
       "      <td>6bf415609a1c665850a9d40697c6981fb88bbc639d873f...</td>\n",
       "      <td>07/25/2020 06:04:00 PM</td>\n",
       "    </tr>\n",
       "  </tbody>\n",
       "</table>\n",
       "<p>82049 rows × 4 columns</p>\n",
       "</div>"
      ],
      "text/plain": [
       "      PERSON_ID PERSON_TYPE  \\\n",
       "0       O925562      DRIVER   \n",
       "1       O925563      DRIVER   \n",
       "2       O925608      DRIVER   \n",
       "3       O925609      DRIVER   \n",
       "4       O925693      DRIVER   \n",
       "...         ...         ...   \n",
       "82044   P211331   PASSENGER   \n",
       "82045   P211347   PASSENGER   \n",
       "82046   P211349   PASSENGER   \n",
       "82047   P211350   PASSENGER   \n",
       "82048   P211351   PASSENGER   \n",
       "\n",
       "                                         CRASH_RECORD_ID  \\\n",
       "0      70a18f80d33a3e2bdde9f21c7c0cafaa8d133285c2a395...   \n",
       "1      70a18f80d33a3e2bdde9f21c7c0cafaa8d133285c2a395...   \n",
       "2      35b6535a691e99e723bb7322a02fcf5e478f356bad52e1...   \n",
       "3      35b6535a691e99e723bb7322a02fcf5e478f356bad52e1...   \n",
       "4      b19286bd551b80e04f20663d46a3fae8238a8f40ddee4c...   \n",
       "...                                                  ...   \n",
       "82044  77c6896f7590443e32852c8ab7c1b60d1b05dec415263b...   \n",
       "82045  d522d6647f22c5838842144002127a8b679ca60a029dbf...   \n",
       "82046  d522d6647f22c5838842144002127a8b679ca60a029dbf...   \n",
       "82047  d522d6647f22c5838842144002127a8b679ca60a029dbf...   \n",
       "82048  6bf415609a1c665850a9d40697c6981fb88bbc639d873f...   \n",
       "\n",
       "                   CRASH_DATE  \n",
       "0      07/26/2020 01:50:00 AM  \n",
       "1      07/26/2020 01:50:00 AM  \n",
       "2      07/26/2020 03:44:00 AM  \n",
       "3      07/26/2020 03:44:00 AM  \n",
       "4      07/26/2020 11:50:00 AM  \n",
       "...                       ...  \n",
       "82044  07/25/2020 04:50:00 PM  \n",
       "82045  07/25/2020 05:25:00 PM  \n",
       "82046  07/25/2020 05:25:00 PM  \n",
       "82047  07/25/2020 05:25:00 PM  \n",
       "82048  07/25/2020 06:04:00 PM  \n",
       "\n",
       "[82049 rows x 4 columns]"
      ]
     },
     "execution_count": 20,
     "metadata": {},
     "output_type": "execute_result"
    }
   ],
   "source": [
    "# 4 columns of People_sample have 0 missing values\n",
    "people_sample[[column for column in people_sample if people_sample[column].isnull().mean().round(50) == 0]]"
   ]
  },
  {
   "cell_type": "code",
   "execution_count": 78,
   "metadata": {},
   "outputs": [
    {
     "data": {
      "text/plain": [
       "CRASH_UNIT_ID              0.00\n",
       "CRASH_RECORD_ID            0.00\n",
       "RD_NO                      0.11\n",
       "CRASH_DATE                 0.00\n",
       "UNIT_NO                    0.00\n",
       "                           ... \n",
       "CARGO_BODY_TYPE            0.99\n",
       "LOAD_TYPE                  0.99\n",
       "HAZMAT_OUT_OF_SERVICE_I    0.99\n",
       "MCS_OUT_OF_SERVICE_I       0.99\n",
       "HAZMAT_CLASS               1.00\n",
       "Length: 72, dtype: float64"
      ]
     },
     "execution_count": 78,
     "metadata": {},
     "output_type": "execute_result"
    }
   ],
   "source": [
    "vehicles_sample.isnull().mean().round(2)"
   ]
  },
  {
   "cell_type": "code",
   "execution_count": 79,
   "metadata": {},
   "outputs": [
    {
     "data": {
      "text/plain": [
       "54"
      ]
     },
     "execution_count": 79,
     "metadata": {},
     "output_type": "execute_result"
    }
   ],
   "source": [
    "sum(vehicles_sample.isnull().mean().round(2) > 0.55) # vehicles_sample - 54/72 columns have > 50% missing values"
   ]
  },
  {
   "cell_type": "code",
   "execution_count": 80,
   "metadata": {},
   "outputs": [
    {
     "data": {
      "text/plain": [
       "PERSON_ID                0.000000\n",
       "PERSON_TYPE              0.000000\n",
       "CRASH_RECORD_ID          0.000000\n",
       "RD_NO                    0.101890\n",
       "VEHICLE_ID               0.021243\n",
       "CRASH_DATE               0.000000\n",
       "SEAT_NO                  0.790199\n",
       "CITY                     0.258212\n",
       "STATE                    0.247413\n",
       "ZIPCODE                  0.322502\n",
       "SEX                      0.015515\n",
       "AGE                      0.277822\n",
       "DRIVERS_LICENSE_STATE    0.407744\n",
       "DRIVERS_LICENSE_CLASS    0.490573\n",
       "SAFETY_EQUIPMENT         0.003132\n",
       "AIRBAG_DEPLOYED          0.020415\n",
       "EJECTION                 0.013333\n",
       "INJURY_CLASSIFICATION    0.000609\n",
       "HOSPITAL                 0.799534\n",
       "EMS_AGENCY               0.874636\n",
       "EMS_RUN_NO               0.979439\n",
       "DRIVER_ACTION            0.211825\n",
       "DRIVER_VISION            0.211898\n",
       "PHYSICAL_CONDITION       0.211106\n",
       "PEDPEDAL_ACTION          0.979927\n",
       "PEDPEDAL_VISIBILITY      0.979951\n",
       "PEDPEDAL_LOCATION        0.979939\n",
       "BAC_RESULT               0.210825\n",
       "BAC_RESULT VALUE         0.998367\n",
       "CELL_PHONE_USE           0.999208\n",
       "dtype: float64"
      ]
     },
     "execution_count": 80,
     "metadata": {},
     "output_type": "execute_result"
    }
   ],
   "source": [
    "people_sample.isnull().mean().round(10)"
   ]
  },
  {
   "cell_type": "code",
   "execution_count": 81,
   "metadata": {},
   "outputs": [
    {
     "data": {
      "text/plain": [
       "9"
      ]
     },
     "execution_count": 81,
     "metadata": {},
     "output_type": "execute_result"
    }
   ],
   "source": [
    "# vehicles_sample - 9/30 columns have > 50% missing values\n",
    "sum(people_sample.isnull().mean().round(50) > 0.55)"
   ]
  },
  {
   "cell_type": "code",
   "execution_count": 82,
   "metadata": {},
   "outputs": [
    {
     "data": {
      "text/plain": [
       "7"
      ]
     },
     "execution_count": 82,
     "metadata": {},
     "output_type": "execute_result"
    }
   ],
   "source": [
    "# vehicles_sample - 7/30 columns have > 80% missing values\n",
    "sum(people_sample.isnull().mean().round(50) > 0.80) "
   ]
  },
  {
   "cell_type": "code",
   "execution_count": 83,
   "metadata": {},
   "outputs": [
    {
     "data": {
      "text/plain": [
       "6"
      ]
     },
     "execution_count": 83,
     "metadata": {},
     "output_type": "execute_result"
    }
   ],
   "source": [
    "sum(people_sample.isnull().mean().round(50) > 0.90) # vehicles_sample - 6/30 columns have > 90% missing values"
   ]
  },
  {
   "cell_type": "code",
   "execution_count": 84,
   "metadata": {},
   "outputs": [
    {
     "data": {
      "text/plain": [
       "array([[<matplotlib.axes._subplots.AxesSubplot object at 0x7fcba40744c0>,\n",
       "        <matplotlib.axes._subplots.AxesSubplot object at 0x7fcba407fb50>,\n",
       "        <matplotlib.axes._subplots.AxesSubplot object at 0x7fcb9f052250>,\n",
       "        <matplotlib.axes._subplots.AxesSubplot object at 0x7fcbaf61fdf0>,\n",
       "        <matplotlib.axes._subplots.AxesSubplot object at 0x7fcc59c02250>,\n",
       "        <matplotlib.axes._subplots.AxesSubplot object at 0x7fcc59c14a90>],\n",
       "       [<matplotlib.axes._subplots.AxesSubplot object at 0x7fcc59c1a9a0>,\n",
       "        <matplotlib.axes._subplots.AxesSubplot object at 0x7fcc58c37280>,\n",
       "        <matplotlib.axes._subplots.AxesSubplot object at 0x7fcc5b3be4c0>,\n",
       "        <matplotlib.axes._subplots.AxesSubplot object at 0x7fcc57f99d00>,\n",
       "        <matplotlib.axes._subplots.AxesSubplot object at 0x7fcc56955580>,\n",
       "        <matplotlib.axes._subplots.AxesSubplot object at 0x7fcc5ae0cdc0>],\n",
       "       [<matplotlib.axes._subplots.AxesSubplot object at 0x7fcc5bdaa640>,\n",
       "        <matplotlib.axes._subplots.AxesSubplot object at 0x7fcc5bddfe80>,\n",
       "        <matplotlib.axes._subplots.AxesSubplot object at 0x7fcc5ba5f700>,\n",
       "        <matplotlib.axes._subplots.AxesSubplot object at 0x7fcc5ba7bf40>,\n",
       "        <matplotlib.axes._subplots.AxesSubplot object at 0x7fcc5868a7c0>,\n",
       "        <matplotlib.axes._subplots.AxesSubplot object at 0x7fcc5b906df0>],\n",
       "       [<matplotlib.axes._subplots.AxesSubplot object at 0x7fcc54586880>,\n",
       "        <matplotlib.axes._subplots.AxesSubplot object at 0x7fcc5ad4ceb0>,\n",
       "        <matplotlib.axes._subplots.AxesSubplot object at 0x7fcb9da35940>,\n",
       "        <matplotlib.axes._subplots.AxesSubplot object at 0x7fcb9da3cf70>,\n",
       "        <matplotlib.axes._subplots.AxesSubplot object at 0x7fcb9e60ba00>,\n",
       "        <matplotlib.axes._subplots.AxesSubplot object at 0x7fcc57ef4280>],\n",
       "       [<matplotlib.axes._subplots.AxesSubplot object at 0x7fcb9d724af0>,\n",
       "        <matplotlib.axes._subplots.AxesSubplot object at 0x7fcc5848b370>,\n",
       "        <matplotlib.axes._subplots.AxesSubplot object at 0x7fcc584b7bb0>,\n",
       "        <matplotlib.axes._subplots.AxesSubplot object at 0x7fcb9e9ce430>,\n",
       "        <matplotlib.axes._subplots.AxesSubplot object at 0x7fcb9efc1c70>,\n",
       "        <matplotlib.axes._subplots.AxesSubplot object at 0x7fcb9e54d5b0>],\n",
       "       [<matplotlib.axes._subplots.AxesSubplot object at 0x7fcb9e548df0>,\n",
       "        <matplotlib.axes._subplots.AxesSubplot object at 0x7fcb9eea1670>,\n",
       "        <matplotlib.axes._subplots.AxesSubplot object at 0x7fcc599b0eb0>,\n",
       "        <matplotlib.axes._subplots.AxesSubplot object at 0x7fcc5ace5730>,\n",
       "        <matplotlib.axes._subplots.AxesSubplot object at 0x7fcc5ad12f70>,\n",
       "        <matplotlib.axes._subplots.AxesSubplot object at 0x7fcc5b2fd7f0>]],\n",
       "      dtype=object)"
      ]
     },
     "execution_count": 84,
     "metadata": {},
     "output_type": "execute_result"
    },
    {
     "data": {
      "image/png": "[encoded data removed]",
      "text/plain": [
       "<Figure size 864x576 with 36 Axes>"
      ]
     },
     "metadata": {
      "needs_background": "light"
     },
     "output_type": "display_data"
    }
   ],
   "source": [
    "# correlation of crashes numerical columns\n",
    "from pandas.plotting import scatter_matrix\n",
    "attributes = [\"POSTED_SPEED_LIMIT\", \"LANE_CNT\", \"STREET_NO\", \"BEAT_OF_OCCURRENCE\", \"INJURIES_TOTAL\", \"INJURIES_FATAL\" ]\n",
    "scatter_matrix(crashes_sample[attributes], figsize=(12, 8))"
   ]
  },
  {
   "cell_type": "markdown",
   "metadata": {},
   "source": [
    "### Analysis of crashes_sample"
   ]
  },
  {
   "cell_type": "code",
   "execution_count": 85,
   "metadata": {},
   "outputs": [
    {
     "name": "stdout",
     "output_type": "stream",
     "text": [
      "<class 'pandas.core.frame.DataFrame'>\n",
      "RangeIndex: 33408 entries, 0 to 33407\n",
      "Data columns (total 49 columns):\n",
      " #   Column                         Non-Null Count  Dtype  \n",
      "---  ------                         --------------  -----  \n",
      " 0   CRASH_RECORD_ID                33408 non-null  object \n",
      " 1   RD_NO                          33021 non-null  object \n",
      " 2   CRASH_DATE_EST_I               2337 non-null   object \n",
      " 3   CRASH_DATE                     33408 non-null  object \n",
      " 4   POSTED_SPEED_LIMIT             33408 non-null  int64  \n",
      " 5   TRAFFIC_CONTROL_DEVICE         33408 non-null  object \n",
      " 6   DEVICE_CONDITION               33408 non-null  object \n",
      " 7   WEATHER_CONDITION              33408 non-null  object \n",
      " 8   LIGHTING_CONDITION             33408 non-null  object \n",
      " 9   FIRST_CRASH_TYPE               33408 non-null  object \n",
      " 10  TRAFFICWAY_TYPE                33408 non-null  object \n",
      " 11  LANE_CNT                       10996 non-null  float64\n",
      " 12  ALIGNMENT                      33408 non-null  object \n",
      " 13  ROADWAY_SURFACE_COND           33408 non-null  object \n",
      " 14  ROAD_DEFECT                    33408 non-null  object \n",
      " 15  REPORT_TYPE                    32473 non-null  object \n",
      " 16  CRASH_TYPE                     33408 non-null  object \n",
      " 17  INTERSECTION_RELATED_I         7893 non-null   object \n",
      " 18  NOT_RIGHT_OF_WAY_I             1583 non-null   object \n",
      " 19  HIT_AND_RUN_I                  9694 non-null   object \n",
      " 20  DAMAGE                         33408 non-null  object \n",
      " 21  DATE_POLICE_NOTIFIED           33408 non-null  object \n",
      " 22  PRIM_CONTRIBUTORY_CAUSE        33408 non-null  object \n",
      " 23  SEC_CONTRIBUTORY_CAUSE         33408 non-null  object \n",
      " 24  STREET_NO                      33408 non-null  int64  \n",
      " 25  STREET_DIRECTION               33408 non-null  object \n",
      " 26  STREET_NAME                    33408 non-null  object \n",
      " 27  BEAT_OF_OCCURRENCE             33408 non-null  int64  \n",
      " 28  PHOTOS_TAKEN_I                 407 non-null    object \n",
      " 29  STATEMENTS_TAKEN_I             729 non-null    object \n",
      " 30  DOORING_I                      109 non-null    object \n",
      " 31  WORK_ZONE_I                    201 non-null    object \n",
      " 32  WORK_ZONE_TYPE                 158 non-null    object \n",
      " 33  WORKERS_PRESENT_I              44 non-null     object \n",
      " 34  NUM_UNITS                      33408 non-null  int64  \n",
      " 35  MOST_SEVERE_INJURY             33323 non-null  object \n",
      " 36  INJURIES_TOTAL                 33324 non-null  float64\n",
      " 37  INJURIES_FATAL                 33324 non-null  float64\n",
      " 38  INJURIES_INCAPACITATING        33324 non-null  float64\n",
      " 39  INJURIES_NON_INCAPACITATING    33324 non-null  float64\n",
      " 40  INJURIES_REPORTED_NOT_EVIDENT  33324 non-null  float64\n",
      " 41  INJURIES_NO_INDICATION         33324 non-null  float64\n",
      " 42  INJURIES_UNKNOWN               33324 non-null  float64\n",
      " 43  CRASH_HOUR                     33408 non-null  int64  \n",
      " 44  CRASH_DAY_OF_WEEK              33408 non-null  int64  \n",
      " 45  CRASH_MONTH                    33408 non-null  int64  \n",
      " 46  LATITUDE                       33215 non-null  float64\n",
      " 47  LONGITUDE                      33215 non-null  float64\n",
      " 48  LOCATION                       33215 non-null  object \n",
      "dtypes: float64(10), int64(7), object(32)\n",
      "memory usage: 12.5+ MB\n"
     ]
    }
   ],
   "source": [
    "crashes_info = crashes_sample.info()"
   ]
  },
  {
   "cell_type": "code",
   "execution_count": 86,
   "metadata": {},
   "outputs": [
    {
     "data": {
      "text/plain": [
       "DEVICE_CONDITION\n",
       "FUNCTIONING IMPROPERLY        170\n",
       "FUNCTIONING PROPERLY        11775\n",
       "MISSING                         5\n",
       "NO CONTROLS                 19287\n",
       "NOT FUNCTIONING               113\n",
       "OTHER                         267\n",
       "UNKNOWN                      1780\n",
       "WORN REFLECTIVE MATERIAL       11\n",
       "dtype: int64"
      ]
     },
     "execution_count": 86,
     "metadata": {},
     "output_type": "execute_result"
    }
   ],
   "source": [
    "crashes_sample.groupby(['DEVICE_CONDITION']).size()"
   ]
  },
  {
   "cell_type": "code",
   "execution_count": 87,
   "metadata": {},
   "outputs": [
    {
     "data": {
      "image/png": "[encoded data removed]",
      "text/plain": [
       "<Figure size 720x360 with 1 Axes>"
      ]
     },
     "metadata": {
      "needs_background": "light"
     },
     "output_type": "display_data"
    }
   ],
   "source": [
    "# Plotting a Histogram of Device Condition\n",
    "crashes_sample.DEVICE_CONDITION.value_counts().nlargest(10).plot(kind='bar', figsize=(10,5))\n",
    "plt.title(\"Type of Device condition at time of crash\")\n",
    "plt.ylabel('Number of crashes')\n",
    "plt.xlabel('Device Condition');"
   ]
  },
  {
   "cell_type": "code",
   "execution_count": 88,
   "metadata": {},
   "outputs": [
    {
     "data": {
      "text/plain": [
       "POSTED_SPEED_LIMIT\n",
       "0       372\n",
       "1         3\n",
       "2         2\n",
       "3         7\n",
       "4         1\n",
       "5       243\n",
       "9         3\n",
       "10      672\n",
       "11        1\n",
       "15     1147\n",
       "20     1313\n",
       "24        1\n",
       "25     2112\n",
       "30    24561\n",
       "32        1\n",
       "33        2\n",
       "35     2398\n",
       "39        1\n",
       "40      345\n",
       "45      178\n",
       "50        9\n",
       "55       32\n",
       "60        2\n",
       "65        1\n",
       "70        1\n",
       "dtype: int64"
      ]
     },
     "execution_count": 88,
     "metadata": {},
     "output_type": "execute_result"
    }
   ],
   "source": [
    "crashes_sample.groupby(['POSTED_SPEED_LIMIT']).size() # speed limit 30 is the highest POSTED_SPEED_LIMIT"
   ]
  },
  {
   "cell_type": "code",
   "execution_count": 89,
   "metadata": {},
   "outputs": [
    {
     "data": {
      "image/png": "[encoded data removed]",
      "text/plain": [
       "<Figure size 720x360 with 1 Axes>"
      ]
     },
     "metadata": {
      "needs_background": "light"
     },
     "output_type": "display_data"
    }
   ],
   "source": [
    "# Plotting a Histogram of Posted Speed Limit\n",
    "crashes_sample.POSTED_SPEED_LIMIT.value_counts().nlargest(10).plot(kind='bar', figsize=(10,5))\n",
    "plt.title(\"Type of Posted Speed Limit at time of crash\")\n",
    "plt.ylabel('Number of crashes')\n",
    "plt.xlabel('Posted Speed Limit');"
   ]
  },
  {
   "cell_type": "code",
   "execution_count": 90,
   "metadata": {},
   "outputs": [
    {
     "data": {
      "image/png": "[encoded data removed]",
      "text/plain": [
       "<Figure size 720x360 with 1 Axes>"
      ]
     },
     "metadata": {
      "needs_background": "light"
     },
     "output_type": "display_data"
    }
   ],
   "source": [
    "# Plotting a Histogram of Lighting condition\n",
    "crashes_sample.LIGHTING_CONDITION.value_counts().nlargest(10).plot(kind='bar', figsize=(10,5))\n",
    "plt.title(\"Type of lighting condition at time of crash\")\n",
    "plt.ylabel('Number of crashes')\n",
    "plt.xlabel('Lighting condition');"
   ]
  },
  {
   "cell_type": "code",
   "execution_count": 91,
   "metadata": {},
   "outputs": [
    {
     "data": {
      "text/plain": [
       "LIGHTING_CONDITION\n",
       "DARKNESS                   1690\n",
       "DARKNESS, LIGHTED ROAD     7230\n",
       "DAWN                        622\n",
       "DAYLIGHT                  21747\n",
       "DUSK                       1007\n",
       "UNKNOWN                    1112\n",
       "dtype: int64"
      ]
     },
     "execution_count": 91,
     "metadata": {},
     "output_type": "execute_result"
    }
   ],
   "source": [
    "crashes_sample.groupby(['LIGHTING_CONDITION']).size()"
   ]
  },
  {
   "cell_type": "code",
   "execution_count": 92,
   "metadata": {},
   "outputs": [
    {
     "data": {
      "text/plain": [
       "FIRST_CRASH_TYPE\n",
       "ANGLE                           3618\n",
       "ANIMAL                            26\n",
       "FIXED OBJECT                    1685\n",
       "HEAD ON                          292\n",
       "OTHER NONCOLLISION               111\n",
       "OTHER OBJECT                     362\n",
       "OVERTURNED                        19\n",
       "PARKED MOTOR VEHICLE            7573\n",
       "PEDALCYCLIST                     506\n",
       "PEDESTRIAN                       847\n",
       "REAR END                        7737\n",
       "REAR TO FRONT                    220\n",
       "REAR TO REAR                      57\n",
       "REAR TO SIDE                     144\n",
       "SIDESWIPE OPPOSITE DIRECTION     479\n",
       "SIDESWIPE SAME DIRECTION        4957\n",
       "TRAIN                              3\n",
       "TURNING                         4772\n",
       "dtype: int64"
      ]
     },
     "execution_count": 92,
     "metadata": {},
     "output_type": "execute_result"
    }
   ],
   "source": [
    "crashes_sample.groupby(['FIRST_CRASH_TYPE']).size()"
   ]
  },
  {
   "cell_type": "code",
   "execution_count": 93,
   "metadata": {},
   "outputs": [
    {
     "data": {
      "image/png": "[encoded data removed]",
      "text/plain": [
       "<Figure size 720x360 with 1 Axes>"
      ]
     },
     "metadata": {
      "needs_background": "light"
     },
     "output_type": "display_data"
    }
   ],
   "source": [
    "# Plotting a Histogram of First crash type\n",
    "crashes_sample.FIRST_CRASH_TYPE.value_counts().nlargest(10).plot(kind='bar', figsize=(10,5))\n",
    "plt.title(\"Type of First crash type at time of crash\")\n",
    "plt.ylabel('Number of crashes')\n",
    "plt.xlabel('First crash type');"
   ]
  },
  {
   "cell_type": "code",
   "execution_count": 94,
   "metadata": {},
   "outputs": [
    {
     "data": {
      "text/plain": [
       "TRAFFIC_CONTROL_DEVICE\n",
       "BICYCLE CROSSING SIGN           1\n",
       "DELINEATORS                     8\n",
       "FLASHING CONTROL SIGNAL         9\n",
       "LANE USE MARKING               91\n",
       "NO CONTROLS                 19052\n",
       "NO PASSING                      2\n",
       "OTHER                         217\n",
       "OTHER RAILROAD CROSSING        11\n",
       "OTHER REG. SIGN                48\n",
       "OTHER WARNING SIGN             28\n",
       "PEDESTRIAN CROSSING SIGN       12\n",
       "POLICE/FLAGMAN                 20\n",
       "RAILROAD CROSSING GATE         17\n",
       "RR CROSSING SIGN                1\n",
       "SCHOOL ZONE                    12\n",
       "STOP SIGN/FLASHER            3480\n",
       "TRAFFIC SIGNAL               9318\n",
       "UNKNOWN                      1020\n",
       "YIELD                          61\n",
       "dtype: int64"
      ]
     },
     "execution_count": 94,
     "metadata": {},
     "output_type": "execute_result"
    }
   ],
   "source": [
    "crashes_sample.groupby(['TRAFFIC_CONTROL_DEVICE']).size() # NO CONTROLS has highest 19052 => valuable columns"
   ]
  },
  {
   "cell_type": "code",
   "execution_count": 95,
   "metadata": {},
   "outputs": [
    {
     "data": {
      "image/png": "[encoded data removed]",
      "text/plain": [
       "<Figure size 720x360 with 1 Axes>"
      ]
     },
     "metadata": {
      "needs_background": "light"
     },
     "output_type": "display_data"
    }
   ],
   "source": [
    "# Plotting a Histogram of Traffic control device\n",
    "crashes_sample.TRAFFIC_CONTROL_DEVICE.value_counts().nlargest(10).plot(kind='bar', figsize=(10,5))\n",
    "plt.title(\"Type of traffic control device at time of crash\")\n",
    "plt.ylabel('Number of crashes')\n",
    "plt.xlabel('Traffic control device');"
   ]
  },
  {
   "cell_type": "code",
   "execution_count": 96,
   "metadata": {},
   "outputs": [
    {
     "data": {
      "text/plain": [
       "DEVICE_CONDITION\n",
       "FUNCTIONING IMPROPERLY        170\n",
       "FUNCTIONING PROPERLY        11775\n",
       "MISSING                         5\n",
       "NO CONTROLS                 19287\n",
       "NOT FUNCTIONING               113\n",
       "OTHER                         267\n",
       "UNKNOWN                      1780\n",
       "WORN REFLECTIVE MATERIAL       11\n",
       "dtype: int64"
      ]
     },
     "execution_count": 96,
     "metadata": {},
     "output_type": "execute_result"
    }
   ],
   "source": [
    "crashes_sample.groupby(['DEVICE_CONDITION']).size()"
   ]
  },
  {
   "cell_type": "code",
   "execution_count": 97,
   "metadata": {},
   "outputs": [
    {
     "data": {
      "text/plain": [
       "WEATHER_CONDITION\n",
       "BLOWING SAND, SOIL, DIRT        1\n",
       "BLOWING SNOW                    5\n",
       "CLEAR                       26192\n",
       "CLOUDY/OVERCAST              1090\n",
       "FOG/SMOKE/HAZE                 59\n",
       "FREEZING RAIN/DRIZZLE          46\n",
       "OTHER                         118\n",
       "RAIN                         3145\n",
       "SEVERE CROSS WIND GATE          6\n",
       "SLEET/HAIL                     61\n",
       "SNOW                         1351\n",
       "UNKNOWN                      1334\n",
       "dtype: int64"
      ]
     },
     "execution_count": 97,
     "metadata": {},
     "output_type": "execute_result"
    }
   ],
   "source": [
    "crashes_sample.groupby(['WEATHER_CONDITION']).size()"
   ]
  },
  {
   "cell_type": "code",
   "execution_count": 1,
   "metadata": {},
   "outputs": [
    {
     "ename": "NameError",
     "evalue": "name 'crashes_sample' is not defined",
     "output_type": "error",
     "traceback": [
      "\u001b[0;31m---------------------------------------------------------------------------\u001b[0m",
      "\u001b[0;31mNameError\u001b[0m                                 Traceback (most recent call last)",
      "\u001b[0;32m<ipython-input-1-028ce16d059e>\u001b[0m in \u001b[0;36m<module>\u001b[0;34m\u001b[0m\n\u001b[1;32m      1\u001b[0m \u001b[0;31m# Plotting a Histogram of WEATHER_CONDITION\u001b[0m\u001b[0;34m\u001b[0m\u001b[0;34m\u001b[0m\u001b[0;34m\u001b[0m\u001b[0m\n\u001b[0;32m----> 2\u001b[0;31m \u001b[0mcrashes_sample\u001b[0m\u001b[0;34m.\u001b[0m\u001b[0mWEATHER_CONDITION\u001b[0m\u001b[0;34m.\u001b[0m\u001b[0mvalue_counts\u001b[0m\u001b[0;34m(\u001b[0m\u001b[0;34m)\u001b[0m\u001b[0;34m.\u001b[0m\u001b[0mnlargest\u001b[0m\u001b[0;34m(\u001b[0m\u001b[0;36m10\u001b[0m\u001b[0;34m)\u001b[0m\u001b[0;34m.\u001b[0m\u001b[0mplot\u001b[0m\u001b[0;34m(\u001b[0m\u001b[0mkind\u001b[0m\u001b[0;34m=\u001b[0m\u001b[0;34m'bar'\u001b[0m\u001b[0;34m,\u001b[0m \u001b[0mfigsize\u001b[0m\u001b[0;34m=\u001b[0m\u001b[0;34m(\u001b[0m\u001b[0;36m10\u001b[0m\u001b[0;34m,\u001b[0m\u001b[0;36m5\u001b[0m\u001b[0;34m)\u001b[0m\u001b[0;34m)\u001b[0m\u001b[0;34m\u001b[0m\u001b[0;34m\u001b[0m\u001b[0m\n\u001b[0m\u001b[1;32m      3\u001b[0m \u001b[0mplt\u001b[0m\u001b[0;34m.\u001b[0m\u001b[0mtitle\u001b[0m\u001b[0;34m(\u001b[0m\u001b[0;34m\"Type of weather at time of crash\"\u001b[0m\u001b[0;34m)\u001b[0m\u001b[0;34m\u001b[0m\u001b[0;34m\u001b[0m\u001b[0m\n\u001b[1;32m      4\u001b[0m \u001b[0mplt\u001b[0m\u001b[0;34m.\u001b[0m\u001b[0mylabel\u001b[0m\u001b[0;34m(\u001b[0m\u001b[0;34m'Number of crashes'\u001b[0m\u001b[0;34m)\u001b[0m\u001b[0;34m\u001b[0m\u001b[0;34m\u001b[0m\u001b[0m\n\u001b[1;32m      5\u001b[0m \u001b[0mplt\u001b[0m\u001b[0;34m.\u001b[0m\u001b[0mxlabel\u001b[0m\u001b[0;34m(\u001b[0m\u001b[0;34m'WEATHER_CONDITION'\u001b[0m\u001b[0;34m)\u001b[0m\u001b[0;34m;\u001b[0m\u001b[0;34m\u001b[0m\u001b[0;34m\u001b[0m\u001b[0m\n",
      "\u001b[0;31mNameError\u001b[0m: name 'crashes_sample' is not defined"
     ]
    }
   ],
   "source": [
    "# Plotting a Histogram of WEATHER_CONDITION\n",
    "crashes_sample.WEATHER_CONDITION.value_counts().nlargest(10).plot(kind='bar', figsize=(10,5))\n",
    "plt.title(\"Type of weather at time of crash\")\n",
    "plt.ylabel('Number of crashes')\n",
    "plt.xlabel('WEATHER_CONDITION');"
   ]
  },
  {
   "cell_type": "code",
   "execution_count": 99,
   "metadata": {},
   "outputs": [
    {
     "data": {
      "text/plain": [
       "DAMAGE\n",
       "$500 OR LESS      4297\n",
       "$501 - $1,500     9500\n",
       "OVER $1,500      19611\n",
       "dtype: int64"
      ]
     },
     "execution_count": 99,
     "metadata": {},
     "output_type": "execute_result"
    }
   ],
   "source": [
    "crashes_sample.groupby(['DAMAGE']).size()"
   ]
  },
  {
   "cell_type": "code",
   "execution_count": 100,
   "metadata": {},
   "outputs": [
    {
     "data": {
      "image/png": "[encoded data removed]",
      "text/plain": [
       "<Figure size 720x360 with 1 Axes>"
      ]
     },
     "metadata": {
      "needs_background": "light"
     },
     "output_type": "display_data"
    }
   ],
   "source": [
    "# Plotting a Histogram of DAMAGE amount\n",
    "crashes_sample.DAMAGE.value_counts().nlargest(10).plot(kind='bar', figsize=(10,5))\n",
    "plt.title(\"Damage Amount\")\n",
    "plt.ylabel('Number of crashes')\n",
    "plt.xlabel('Damage Amount in USD');"
   ]
  },
  {
   "cell_type": "code",
   "execution_count": 101,
   "metadata": {},
   "outputs": [
    {
     "data": {
      "text/plain": [
       "CRASH_TYPE\n",
       "INJURY AND / OR TOW DUE TO CRASH     9341\n",
       "NO INJURY / DRIVE AWAY              24067\n",
       "dtype: int64"
      ]
     },
     "execution_count": 101,
     "metadata": {},
     "output_type": "execute_result"
    }
   ],
   "source": [
    "crashes_sample.groupby(['CRASH_TYPE']).size()"
   ]
  },
  {
   "cell_type": "code",
   "execution_count": 102,
   "metadata": {},
   "outputs": [
    {
     "data": {
      "text/plain": [
       "TRAFFICWAY_TYPE\n",
       "ALLEY                                535\n",
       "CENTER TURN LANE                     323\n",
       "DIVIDED - W/MEDIAN (NOT RAISED)     5718\n",
       "DIVIDED - W/MEDIAN BARRIER          2029\n",
       "DRIVEWAY                             117\n",
       "FIVE POINT, OR MORE                   28\n",
       "FOUR WAY                            1174\n",
       "L-INTERSECTION                         8\n",
       "NOT DIVIDED                        15080\n",
       "NOT REPORTED                          15\n",
       "ONE-WAY                             4418\n",
       "OTHER                                919\n",
       "PARKING LOT                         2243\n",
       "RAMP                                 116\n",
       "ROUNDABOUT                             7\n",
       "T-INTERSECTION                       247\n",
       "TRAFFIC ROUTE                         14\n",
       "UNKNOWN                              313\n",
       "UNKNOWN INTERSECTION TYPE             71\n",
       "Y-INTERSECTION                        33\n",
       "dtype: int64"
      ]
     },
     "execution_count": 102,
     "metadata": {},
     "output_type": "execute_result"
    }
   ],
   "source": [
    "crashes_sample.groupby(['TRAFFICWAY_TYPE']).size()"
   ]
  },
  {
   "cell_type": "code",
   "execution_count": 103,
   "metadata": {},
   "outputs": [
    {
     "data": {
      "text/plain": [
       "ALIGNMENT\n",
       "CURVE ON GRADE              70\n",
       "CURVE ON HILLCREST          22\n",
       "CURVE, LEVEL               262\n",
       "STRAIGHT AND LEVEL       32502\n",
       "STRAIGHT ON GRADE          439\n",
       "STRAIGHT ON HILLCREST      113\n",
       "dtype: int64"
      ]
     },
     "execution_count": 103,
     "metadata": {},
     "output_type": "execute_result"
    }
   ],
   "source": [
    "crashes_sample.groupby(['ALIGNMENT']).size()"
   ]
  },
  {
   "cell_type": "code",
   "execution_count": 104,
   "metadata": {},
   "outputs": [
    {
     "data": {
      "text/plain": [
       "ROADWAY_SURFACE_COND\n",
       "DRY                24781\n",
       "ICE                  315\n",
       "OTHER                 82\n",
       "SAND, MUD, DIRT       16\n",
       "SNOW OR SLUSH       1293\n",
       "UNKNOWN             2095\n",
       "WET                 4826\n",
       "dtype: int64"
      ]
     },
     "execution_count": 104,
     "metadata": {},
     "output_type": "execute_result"
    }
   ],
   "source": [
    "crashes_sample.groupby(['ROADWAY_SURFACE_COND']).size()"
   ]
  },
  {
   "cell_type": "code",
   "execution_count": 105,
   "metadata": {},
   "outputs": [
    {
     "data": {
      "text/plain": [
       "ROAD_DEFECT\n",
       "DEBRIS ON ROADWAY       33\n",
       "NO DEFECTS           28012\n",
       "OTHER                  183\n",
       "RUT, HOLES             302\n",
       "SHOULDER DEFECT         81\n",
       "UNKNOWN               4665\n",
       "WORN SURFACE           132\n",
       "dtype: int64"
      ]
     },
     "execution_count": 105,
     "metadata": {},
     "output_type": "execute_result"
    }
   ],
   "source": [
    "crashes_sample.groupby(['ROAD_DEFECT']).size()"
   ]
  },
  {
   "cell_type": "code",
   "execution_count": 106,
   "metadata": {},
   "outputs": [
    {
     "data": {
      "text/plain": [
       "PRIM_CONTRIBUTORY_CAUSE\n",
       "ANIMAL                                                                                 32\n",
       "BICYCLE ADVANCING LEGALLY ON RED LIGHT                                                  5\n",
       "CELL PHONE USE OTHER THAN TEXTING                                                      53\n",
       "DISREGARDING OTHER TRAFFIC SIGNS                                                       73\n",
       "DISREGARDING ROAD MARKINGS                                                             40\n",
       "DISREGARDING STOP SIGN                                                                394\n",
       "DISREGARDING TRAFFIC SIGNALS                                                          668\n",
       "DISREGARDING YIELD SIGN                                                                11\n",
       "DISTRACTION - FROM INSIDE VEHICLE                                                     218\n",
       "DISTRACTION - FROM OUTSIDE VEHICLE                                                    168\n",
       "DISTRACTION - OTHER ELECTRONIC DEVICE (NAVIGATION DEVICE, DVD PLAYER, ETC.)            16\n",
       "DRIVING ON WRONG SIDE/WRONG WAY                                                       177\n",
       "DRIVING SKILLS/KNOWLEDGE/EXPERIENCE                                                  1069\n",
       "EQUIPMENT - VEHICLE CONDITION                                                         226\n",
       "EVASIVE ACTION DUE TO ANIMAL, OBJECT, NONMOTORIST                                      65\n",
       "EXCEEDING AUTHORIZED SPEED LIMIT                                                      124\n",
       "EXCEEDING SAFE SPEED FOR CONDITIONS                                                   129\n",
       "FAILING TO REDUCE SPEED TO AVOID CRASH                                               1549\n",
       "FAILING TO YIELD RIGHT-OF-WAY                                                        3790\n",
       "FOLLOWING TOO CLOSELY                                                                3514\n",
       "HAD BEEN DRINKING (USE WHEN ARREST IS NOT MADE)                                        31\n",
       "IMPROPER BACKING                                                                     1441\n",
       "IMPROPER LANE USAGE                                                                  1287\n",
       "IMPROPER OVERTAKING/PASSING                                                          1581\n",
       "IMPROPER TURNING/NO SIGNAL                                                           1116\n",
       "MOTORCYCLE ADVANCING LEGALLY ON RED LIGHT                                               3\n",
       "NOT APPLICABLE                                                                       1784\n",
       "OBSTRUCTED CROSSWALKS                                                                   1\n",
       "OPERATING VEHICLE IN ERRATIC, RECKLESS, CARELESS, NEGLIGENT OR AGGRESSIVE MANNER      450\n",
       "PASSING STOPPED SCHOOL BUS                                                              4\n",
       "PHYSICAL CONDITION OF DRIVER                                                          218\n",
       "RELATED TO BUS STOP                                                                    14\n",
       "ROAD CONSTRUCTION/MAINTENANCE                                                          77\n",
       "ROAD ENGINEERING/SURFACE/MARKING DEFECTS                                              120\n",
       "TEXTING                                                                                13\n",
       "TURNING RIGHT ON RED                                                                   21\n",
       "UNABLE TO DETERMINE                                                                 11931\n",
       "UNDER THE INFLUENCE OF ALCOHOL/DRUGS (USE WHEN ARREST IS EFFECTED)                    195\n",
       "VISION OBSCURED (SIGNS, TREE LIMBS, BUILDINGS, ETC.)                                  220\n",
       "WEATHER                                                                               580\n",
       "dtype: int64"
      ]
     },
     "execution_count": 106,
     "metadata": {},
     "output_type": "execute_result"
    }
   ],
   "source": [
    "crashes_sample.groupby(['PRIM_CONTRIBUTORY_CAUSE']).size()"
   ]
  },
  {
   "cell_type": "code",
   "execution_count": 107,
   "metadata": {},
   "outputs": [
    {
     "data": {
      "text/plain": [
       "SEC_CONTRIBUTORY_CAUSE\n",
       "ANIMAL                                                                                 14\n",
       "BICYCLE ADVANCING LEGALLY ON RED LIGHT                                                 16\n",
       "CELL PHONE USE OTHER THAN TEXTING                                                      29\n",
       "DISREGARDING OTHER TRAFFIC SIGNS                                                       30\n",
       "DISREGARDING ROAD MARKINGS                                                             46\n",
       "DISREGARDING STOP SIGN                                                                 88\n",
       "DISREGARDING TRAFFIC SIGNALS                                                          113\n",
       "DISREGARDING YIELD SIGN                                                                 7\n",
       "DISTRACTION - FROM INSIDE VEHICLE                                                     107\n",
       "DISTRACTION - FROM OUTSIDE VEHICLE                                                     71\n",
       "DISTRACTION - OTHER ELECTRONIC DEVICE (NAVIGATION DEVICE, DVD PLAYER, ETC.)            10\n",
       "DRIVING ON WRONG SIDE/WRONG WAY                                                        62\n",
       "DRIVING SKILLS/KNOWLEDGE/EXPERIENCE                                                  1040\n",
       "EQUIPMENT - VEHICLE CONDITION                                                          75\n",
       "EVASIVE ACTION DUE TO ANIMAL, OBJECT, NONMOTORIST                                      13\n",
       "EXCEEDING AUTHORIZED SPEED LIMIT                                                      111\n",
       "EXCEEDING SAFE SPEED FOR CONDITIONS                                                   107\n",
       "FAILING TO REDUCE SPEED TO AVOID CRASH                                               1468\n",
       "FAILING TO YIELD RIGHT-OF-WAY                                                        1003\n",
       "FOLLOWING TOO CLOSELY                                                                 893\n",
       "HAD BEEN DRINKING (USE WHEN ARREST IS NOT MADE)                                        44\n",
       "IMPROPER BACKING                                                                      262\n",
       "IMPROPER LANE USAGE                                                                   455\n",
       "IMPROPER OVERTAKING/PASSING                                                           473\n",
       "IMPROPER TURNING/NO SIGNAL                                                            334\n",
       "MOTORCYCLE ADVANCING LEGALLY ON RED LIGHT                                               3\n",
       "NOT APPLICABLE                                                                      13767\n",
       "OBSTRUCTED CROSSWALKS                                                                   4\n",
       "OPERATING VEHICLE IN ERRATIC, RECKLESS, CARELESS, NEGLIGENT OR AGGRESSIVE MANNER      248\n",
       "PASSING STOPPED SCHOOL BUS                                                              3\n",
       "PHYSICAL CONDITION OF DRIVER                                                          109\n",
       "RELATED TO BUS STOP                                                                    16\n",
       "ROAD CONSTRUCTION/MAINTENANCE                                                          46\n",
       "ROAD ENGINEERING/SURFACE/MARKING DEFECTS                                               42\n",
       "TEXTING                                                                                 6\n",
       "TURNING RIGHT ON RED                                                                   12\n",
       "UNABLE TO DETERMINE                                                                 11647\n",
       "UNDER THE INFLUENCE OF ALCOHOL/DRUGS (USE WHEN ARREST IS EFFECTED)                     63\n",
       "VISION OBSCURED (SIGNS, TREE LIMBS, BUILDINGS, ETC.)                                  108\n",
       "WEATHER                                                                               463\n",
       "dtype: int64"
      ]
     },
     "execution_count": 107,
     "metadata": {},
     "output_type": "execute_result"
    }
   ],
   "source": [
    "crashes_sample.groupby(['SEC_CONTRIBUTORY_CAUSE']).size()"
   ]
  },
  {
   "cell_type": "code",
   "execution_count": 108,
   "metadata": {},
   "outputs": [
    {
     "data": {
      "text/plain": [
       "104"
      ]
     },
     "execution_count": 108,
     "metadata": {},
     "output_type": "execute_result"
    }
   ],
   "source": [
    "crashes_sample.groupby(['STREET_NO']).size().nunique()"
   ]
  },
  {
   "cell_type": "code",
   "execution_count": 109,
   "metadata": {},
   "outputs": [
    {
     "data": {
      "text/plain": [
       "STREET_DIRECTION\n",
       "E     2332\n",
       "N     8093\n",
       "S    10885\n",
       "W    12098\n",
       "dtype: int64"
      ]
     },
     "execution_count": 109,
     "metadata": {},
     "output_type": "execute_result"
    }
   ],
   "source": [
    "crashes_sample.groupby(['STREET_DIRECTION']).size()"
   ]
  },
  {
   "cell_type": "code",
   "execution_count": 110,
   "metadata": {},
   "outputs": [
    {
     "data": {
      "text/plain": [
       "147"
      ]
     },
     "execution_count": 110,
     "metadata": {},
     "output_type": "execute_result"
    }
   ],
   "source": [
    "crashes_sample.groupby(['STREET_NAME']).size().nunique()"
   ]
  },
  {
   "cell_type": "code",
   "execution_count": 111,
   "metadata": {},
   "outputs": [
    {
     "data": {
      "text/plain": [
       "NUM_UNITS\n",
       "1      1981\n",
       "2     28922\n",
       "3      1975\n",
       "4       405\n",
       "5        79\n",
       "6        23\n",
       "7        15\n",
       "8         4\n",
       "9         1\n",
       "10        1\n",
       "11        1\n",
       "12        1\n",
       "dtype: int64"
      ]
     },
     "execution_count": 111,
     "metadata": {},
     "output_type": "execute_result"
    }
   ],
   "source": [
    "crashes_sample.groupby(['NUM_UNITS']).size()"
   ]
  },
  {
   "cell_type": "code",
   "execution_count": 112,
   "metadata": {},
   "outputs": [
    {
     "data": {
      "text/plain": [
       "149"
      ]
     },
     "execution_count": 112,
     "metadata": {},
     "output_type": "execute_result"
    }
   ],
   "source": [
    "crashes_sample.groupby(['BEAT_OF_OCCURRENCE']).size().nunique()"
   ]
  },
  {
   "cell_type": "code",
   "execution_count": 113,
   "metadata": {},
   "outputs": [
    {
     "data": {
      "text/plain": [
       "PHOTOS_TAKEN_I\n",
       "N    111\n",
       "Y    296\n",
       "dtype: int64"
      ]
     },
     "execution_count": 113,
     "metadata": {},
     "output_type": "execute_result"
    }
   ],
   "source": [
    "crashes_sample.groupby(['PHOTOS_TAKEN_I']).size()"
   ]
  },
  {
   "cell_type": "code",
   "execution_count": 114,
   "metadata": {},
   "outputs": [
    {
     "data": {
      "text/plain": [
       "WORK_ZONE_I\n",
       "N     43\n",
       "Y    158\n",
       "dtype: int64"
      ]
     },
     "execution_count": 114,
     "metadata": {},
     "output_type": "execute_result"
    }
   ],
   "source": [
    "crashes_sample.groupby(['WORK_ZONE_I']).size()"
   ]
  },
  {
   "cell_type": "code",
   "execution_count": 115,
   "metadata": {},
   "outputs": [
    {
     "data": {
      "text/plain": [
       "WORK_ZONE_TYPE\n",
       "CONSTRUCTION    106\n",
       "MAINTENANCE      21\n",
       "UNKNOWN          22\n",
       "UTILITY           9\n",
       "dtype: int64"
      ]
     },
     "execution_count": 115,
     "metadata": {},
     "output_type": "execute_result"
    }
   ],
   "source": [
    "crashes_sample.groupby(['WORK_ZONE_TYPE']).size()"
   ]
  },
  {
   "cell_type": "code",
   "execution_count": 116,
   "metadata": {
    "scrolled": true
   },
   "outputs": [
    {
     "data": {
      "text/plain": [
       "WORKERS_PRESENT_I\n",
       "N     5\n",
       "Y    39\n",
       "dtype: int64"
      ]
     },
     "execution_count": 116,
     "metadata": {},
     "output_type": "execute_result"
    }
   ],
   "source": [
    "crashes_sample.groupby(['WORKERS_PRESENT_I']).size()"
   ]
  },
  {
   "cell_type": "code",
   "execution_count": 117,
   "metadata": {},
   "outputs": [
    {
     "data": {
      "text/plain": [
       "DOORING_I\n",
       "N    37\n",
       "Y    72\n",
       "dtype: int64"
      ]
     },
     "execution_count": 117,
     "metadata": {},
     "output_type": "execute_result"
    }
   ],
   "source": [
    "crashes_sample.groupby(['DOORING_I']).size()"
   ]
  },
  {
   "cell_type": "code",
   "execution_count": 118,
   "metadata": {},
   "outputs": [
    {
     "data": {
      "text/plain": [
       "STATEMENTS_TAKEN_I\n",
       "N    128\n",
       "Y    601\n",
       "dtype: int64"
      ]
     },
     "execution_count": 118,
     "metadata": {},
     "output_type": "execute_result"
    }
   ],
   "source": [
    "crashes_sample.groupby(['STATEMENTS_TAKEN_I']).size()"
   ]
  },
  {
   "cell_type": "code",
   "execution_count": 119,
   "metadata": {},
   "outputs": [
    {
     "data": {
      "text/plain": [
       "CRASH_DATE_EST_I\n",
       "N     334\n",
       "Y    2003\n",
       "dtype: int64"
      ]
     },
     "execution_count": 119,
     "metadata": {},
     "output_type": "execute_result"
    }
   ],
   "source": [
    "crashes_sample.groupby(['CRASH_DATE_EST_I']).size()"
   ]
  },
  {
   "cell_type": "code",
   "execution_count": 120,
   "metadata": {},
   "outputs": [
    {
     "data": {
      "text/plain": [
       "INTERSECTION_RELATED_I\n",
       "N     370\n",
       "Y    7523\n",
       "dtype: int64"
      ]
     },
     "execution_count": 120,
     "metadata": {},
     "output_type": "execute_result"
    }
   ],
   "source": [
    "crashes_sample.groupby(['INTERSECTION_RELATED_I']).size()"
   ]
  },
  {
   "cell_type": "code",
   "execution_count": 121,
   "metadata": {},
   "outputs": [
    {
     "data": {
      "text/plain": [
       "NOT_RIGHT_OF_WAY_I\n",
       "N     136\n",
       "Y    1447\n",
       "dtype: int64"
      ]
     },
     "execution_count": 121,
     "metadata": {},
     "output_type": "execute_result"
    }
   ],
   "source": [
    "crashes_sample.groupby(['NOT_RIGHT_OF_WAY_I']).size()"
   ]
  },
  {
   "cell_type": "code",
   "execution_count": 122,
   "metadata": {},
   "outputs": [
    {
     "data": {
      "text/plain": [
       "HIT_AND_RUN_I\n",
       "N     422\n",
       "Y    9272\n",
       "dtype: int64"
      ]
     },
     "execution_count": 122,
     "metadata": {},
     "output_type": "execute_result"
    }
   ],
   "source": [
    "crashes_sample.groupby(['HIT_AND_RUN_I']).size()"
   ]
  },
  {
   "cell_type": "code",
   "execution_count": 123,
   "metadata": {},
   "outputs": [
    {
     "data": {
      "text/plain": [
       "Index(['CRASH_RECORD_ID', 'RD_NO', 'CRASH_DATE_EST_I', 'CRASH_DATE',\n",
       "       'POSTED_SPEED_LIMIT', 'TRAFFIC_CONTROL_DEVICE', 'DEVICE_CONDITION',\n",
       "       'WEATHER_CONDITION', 'LIGHTING_CONDITION', 'FIRST_CRASH_TYPE',\n",
       "       'TRAFFICWAY_TYPE', 'LANE_CNT', 'ALIGNMENT', 'ROADWAY_SURFACE_COND',\n",
       "       'ROAD_DEFECT', 'REPORT_TYPE', 'CRASH_TYPE', 'INTERSECTION_RELATED_I',\n",
       "       'NOT_RIGHT_OF_WAY_I', 'HIT_AND_RUN_I', 'DAMAGE', 'DATE_POLICE_NOTIFIED',\n",
       "       'PRIM_CONTRIBUTORY_CAUSE', 'SEC_CONTRIBUTORY_CAUSE', 'STREET_NO',\n",
       "       'STREET_DIRECTION', 'STREET_NAME', 'BEAT_OF_OCCURRENCE',\n",
       "       'PHOTOS_TAKEN_I', 'STATEMENTS_TAKEN_I', 'DOORING_I', 'WORK_ZONE_I',\n",
       "       'WORK_ZONE_TYPE', 'WORKERS_PRESENT_I', 'NUM_UNITS',\n",
       "       'MOST_SEVERE_INJURY', 'INJURIES_TOTAL', 'INJURIES_FATAL',\n",
       "       'INJURIES_INCAPACITATING', 'INJURIES_NON_INCAPACITATING',\n",
       "       'INJURIES_REPORTED_NOT_EVIDENT', 'INJURIES_NO_INDICATION',\n",
       "       'INJURIES_UNKNOWN', 'CRASH_HOUR', 'CRASH_DAY_OF_WEEK', 'CRASH_MONTH',\n",
       "       'LATITUDE', 'LONGITUDE', 'LOCATION'],\n",
       "      dtype='object')"
      ]
     },
     "execution_count": 123,
     "metadata": {},
     "output_type": "execute_result"
    }
   ],
   "source": [
    "crashes_columnnames = crashes_sample.columns\n",
    "crashes_columnnames"
   ]
  },
  {
   "cell_type": "code",
   "execution_count": 124,
   "metadata": {},
   "outputs": [
    {
     "data": {
      "text/html": [
       "<div>\n",
       "<style scoped>\n",
       "    .dataframe tbody tr th:only-of-type {\n",
       "        vertical-align: middle;\n",
       "    }\n",
       "\n",
       "    .dataframe tbody tr th {\n",
       "        vertical-align: top;\n",
       "    }\n",
       "\n",
       "    .dataframe thead th {\n",
       "        text-align: right;\n",
       "    }\n",
       "</style>\n",
       "<table border=\"1\" class=\"dataframe\">\n",
       "  <thead>\n",
       "    <tr style=\"text-align: right;\">\n",
       "      <th></th>\n",
       "      <th>CRASH_RECORD_ID</th>\n",
       "      <th>RD_NO</th>\n",
       "      <th>count</th>\n",
       "    </tr>\n",
       "  </thead>\n",
       "  <tbody>\n",
       "    <tr>\n",
       "      <th>0</th>\n",
       "      <td>000704692fa98ef82f8a4e2c7bec64f93e2d6cdeaa5565...</td>\n",
       "      <td>JD138256</td>\n",
       "      <td>1</td>\n",
       "    </tr>\n",
       "    <tr>\n",
       "      <th>1</th>\n",
       "      <td>0008041ffe09ddf4fcd6168d7889133f6fb64bb549996e...</td>\n",
       "      <td>JD148965</td>\n",
       "      <td>1</td>\n",
       "    </tr>\n",
       "    <tr>\n",
       "      <th>2</th>\n",
       "      <td>0008f970cc79c9ca782035390e8e4e76359b2e5438f313...</td>\n",
       "      <td>JD103972</td>\n",
       "      <td>1</td>\n",
       "    </tr>\n",
       "    <tr>\n",
       "      <th>3</th>\n",
       "      <td>000c1910dc5e9e2ce9a85bd9888d3b1e6b89cafb838625...</td>\n",
       "      <td>JD285831</td>\n",
       "      <td>1</td>\n",
       "    </tr>\n",
       "    <tr>\n",
       "      <th>4</th>\n",
       "      <td>000cf9cc04e934e53597818199b6ecc704f75e1835992f...</td>\n",
       "      <td>JC156225</td>\n",
       "      <td>1</td>\n",
       "    </tr>\n",
       "    <tr>\n",
       "      <th>...</th>\n",
       "      <td>...</td>\n",
       "      <td>...</td>\n",
       "      <td>...</td>\n",
       "    </tr>\n",
       "    <tr>\n",
       "      <th>33016</th>\n",
       "      <td>fff23151fcc7f3bbdcc41a4097df5deddc77ef2d83ede7...</td>\n",
       "      <td>JB328288</td>\n",
       "      <td>1</td>\n",
       "    </tr>\n",
       "    <tr>\n",
       "      <th>33017</th>\n",
       "      <td>fff5fecdfded6049c8014c9a1c4825844c36eb67f4863a...</td>\n",
       "      <td>JC428201</td>\n",
       "      <td>1</td>\n",
       "    </tr>\n",
       "    <tr>\n",
       "      <th>33018</th>\n",
       "      <td>fffdc264aa78cf9d4def4877aa30015df2b85c08aabd72...</td>\n",
       "      <td>JA540909</td>\n",
       "      <td>1</td>\n",
       "    </tr>\n",
       "    <tr>\n",
       "      <th>33019</th>\n",
       "      <td>fffebd86f6cb0f5e234dc69f56ac50363d5bb04a3071c5...</td>\n",
       "      <td>JC379556</td>\n",
       "      <td>1</td>\n",
       "    </tr>\n",
       "    <tr>\n",
       "      <th>33020</th>\n",
       "      <td>ffff4727e46044916e1596c56c6e76f4180ebade056b37...</td>\n",
       "      <td>JD106067</td>\n",
       "      <td>1</td>\n",
       "    </tr>\n",
       "  </tbody>\n",
       "</table>\n",
       "<p>33021 rows × 3 columns</p>\n",
       "</div>"
      ],
      "text/plain": [
       "                                         CRASH_RECORD_ID     RD_NO  count\n",
       "0      000704692fa98ef82f8a4e2c7bec64f93e2d6cdeaa5565...  JD138256      1\n",
       "1      0008041ffe09ddf4fcd6168d7889133f6fb64bb549996e...  JD148965      1\n",
       "2      0008f970cc79c9ca782035390e8e4e76359b2e5438f313...  JD103972      1\n",
       "3      000c1910dc5e9e2ce9a85bd9888d3b1e6b89cafb838625...  JD285831      1\n",
       "4      000cf9cc04e934e53597818199b6ecc704f75e1835992f...  JC156225      1\n",
       "...                                                  ...       ...    ...\n",
       "33016  fff23151fcc7f3bbdcc41a4097df5deddc77ef2d83ede7...  JB328288      1\n",
       "33017  fff5fecdfded6049c8014c9a1c4825844c36eb67f4863a...  JC428201      1\n",
       "33018  fffdc264aa78cf9d4def4877aa30015df2b85c08aabd72...  JA540909      1\n",
       "33019  fffebd86f6cb0f5e234dc69f56ac50363d5bb04a3071c5...  JC379556      1\n",
       "33020  ffff4727e46044916e1596c56c6e76f4180ebade056b37...  JD106067      1\n",
       "\n",
       "[33021 rows x 3 columns]"
      ]
     },
     "execution_count": 124,
     "metadata": {},
     "output_type": "execute_result"
    }
   ],
   "source": [
    "crashes_sample.groupby(['CRASH_RECORD_ID', 'RD_NO']).size().reset_index(name='count')"
   ]
  },
  {
   "cell_type": "code",
   "execution_count": 125,
   "metadata": {
    "scrolled": true
   },
   "outputs": [
    {
     "data": {
      "text/plain": [
       "33021"
      ]
     },
     "execution_count": 125,
     "metadata": {},
     "output_type": "execute_result"
    }
   ],
   "source": [
    "crashes_sample.groupby(['RD_NO']).size().count() #33021"
   ]
  },
  {
   "cell_type": "code",
   "execution_count": 126,
   "metadata": {
    "scrolled": false
   },
   "outputs": [
    {
     "data": {
      "text/plain": [
       "33408"
      ]
     },
     "execution_count": 126,
     "metadata": {},
     "output_type": "execute_result"
    }
   ],
   "source": [
    "crashes_sample['CRASH_RECORD_ID'].nunique() # 33408 unique ID"
   ]
  },
  {
   "cell_type": "code",
   "execution_count": 127,
   "metadata": {
    "scrolled": true
   },
   "outputs": [
    {
     "data": {
      "text/plain": [
       "36923"
      ]
     },
     "execution_count": 127,
     "metadata": {},
     "output_type": "execute_result"
    }
   ],
   "source": [
    "vehicles_sample['CRASH_RECORD_ID'].nunique() # 36923 unique ID"
   ]
  },
  {
   "cell_type": "code",
   "execution_count": 128,
   "metadata": {},
   "outputs": [
    {
     "data": {
      "text/plain": [
       "36826"
      ]
     },
     "execution_count": 128,
     "metadata": {},
     "output_type": "execute_result"
    }
   ],
   "source": [
    "people_sample['CRASH_RECORD_ID'].nunique() #36826 unique ID"
   ]
  },
  {
   "cell_type": "markdown",
   "metadata": {},
   "source": [
    "### check if any duplicated rows of columns"
   ]
  },
  {
   "cell_type": "code",
   "execution_count": 129,
   "metadata": {
    "scrolled": true
   },
   "outputs": [
    {
     "data": {
      "text/plain": [
       "0"
      ]
     },
     "execution_count": 129,
     "metadata": {},
     "output_type": "execute_result"
    }
   ],
   "source": [
    "sum(crashes_sample.duplicated()) #no duplicate rows based on all columns"
   ]
  },
  {
   "cell_type": "code",
   "execution_count": 130,
   "metadata": {
    "scrolled": true
   },
   "outputs": [
    {
     "data": {
      "text/plain": [
       "0"
      ]
     },
     "execution_count": 130,
     "metadata": {},
     "output_type": "execute_result"
    }
   ],
   "source": [
    "sum(vehicles_sample.duplicated()) #no duplicate rows based on all columns"
   ]
  },
  {
   "cell_type": "code",
   "execution_count": 131,
   "metadata": {
    "scrolled": true
   },
   "outputs": [
    {
     "data": {
      "text/plain": [
       "0"
      ]
     },
     "execution_count": 131,
     "metadata": {},
     "output_type": "execute_result"
    }
   ],
   "source": [
    "sum(people_sample.duplicated()) #no duplicate rows based on all columns"
   ]
  },
  {
   "cell_type": "code",
   "execution_count": 5,
   "metadata": {
    "scrolled": true
   },
   "outputs": [
    {
     "data": {
      "text/plain": [
       "array([False, False, False, False, False, False, False, False, False,\n",
       "       False, False, False, False, False, False, False, False, False,\n",
       "       False, False, False, False, False, False, False, False, False,\n",
       "       False, False, False, False, False, False, False, False, False,\n",
       "       False, False, False, False, False, False, False, False, False,\n",
       "       False, False, False, False])"
      ]
     },
     "execution_count": 5,
     "metadata": {},
     "output_type": "execute_result"
    }
   ],
   "source": [
    "crashes_sample.columns.duplicated() # no duplicate columns in crashes_samples"
   ]
  },
  {
   "cell_type": "code",
   "execution_count": 6,
   "metadata": {},
   "outputs": [
    {
     "data": {
      "text/plain": [
       "0"
      ]
     },
     "execution_count": 6,
     "metadata": {},
     "output_type": "execute_result"
    }
   ],
   "source": [
    "sum(crashes_sample.columns.duplicated()"
   ]
  },
  {
   "cell_type": "code",
   "execution_count": 133,
   "metadata": {
    "scrolled": true
   },
   "outputs": [
    {
     "data": {
      "text/plain": [
       "array([False, False, False, False, False, False, False, False, False,\n",
       "       False, False, False, False, False, False, False, False, False,\n",
       "       False, False, False, False, False, False, False, False, False,\n",
       "       False, False, False, False, False, False, False, False, False,\n",
       "       False, False, False, False, False, False, False, False, False,\n",
       "       False, False, False, False, False, False, False, False, False,\n",
       "       False, False, False, False, False, False, False, False, False,\n",
       "       False, False, False, False, False, False, False, False, False])"
      ]
     },
     "execution_count": 133,
     "metadata": {},
     "output_type": "execute_result"
    }
   ],
   "source": [
    "vehicles_sample.columns.duplicated() # no duplicate columns in vehicles_samples"
   ]
  },
  {
   "cell_type": "code",
   "execution_count": 134,
   "metadata": {
    "scrolled": true
   },
   "outputs": [
    {
     "data": {
      "text/plain": [
       "array([False, False, False, False, False, False, False, False, False,\n",
       "       False, False, False, False, False, False, False, False, False,\n",
       "       False, False, False, False, False, False, False, False, False,\n",
       "       False, False, False])"
      ]
     },
     "execution_count": 134,
     "metadata": {},
     "output_type": "execute_result"
    }
   ],
   "source": [
    "people_sample.columns.duplicated() # no duplicate columns in people_samples"
   ]
  },
  {
   "cell_type": "markdown",
   "metadata": {},
   "source": [
    "### People"
   ]
  },
  {
   "cell_type": "code",
   "execution_count": 135,
   "metadata": {
    "scrolled": true
   },
   "outputs": [
    {
     "data": {
      "text/plain": [
       "SEAT_NO\n",
       "1.0      732\n",
       "2.0      706\n",
       "3.0     8255\n",
       "4.0     2332\n",
       "5.0      853\n",
       "6.0     2937\n",
       "7.0      340\n",
       "8.0       21\n",
       "10.0     390\n",
       "11.0     168\n",
       "12.0     480\n",
       "dtype: int64"
      ]
     },
     "execution_count": 135,
     "metadata": {},
     "output_type": "execute_result"
    }
   ],
   "source": [
    "people_sample.groupby(['SEAT_NO']).size()"
   ]
  },
  {
   "cell_type": "code",
   "execution_count": 136,
   "metadata": {},
   "outputs": [
    {
     "data": {
      "image/png": "[encoded data removed]",
      "text/plain": [
       "<Figure size 720x360 with 1 Axes>"
      ]
     },
     "metadata": {
      "needs_background": "light"
     },
     "output_type": "display_data"
    }
   ],
   "source": [
    "# Plotting a Histogram of Seat Number\n",
    "people_sample.SEAT_NO.value_counts().nlargest(10).plot(kind='bar', figsize=(10,5))\n",
    "plt.title(\"Seat Number\")\n",
    "plt.ylabel('Number of crashes')\n",
    "plt.xlabel('Seat Number');\n",
    "\n",
    "#1= driver, 2= center front, 3 = front passenger, 4 = second row left, 5 = second row center, 6 = second row right, 7 = enclosed passengers, 8 = exposed passengers, 9= unknown position, 10 = third row left, 11 = third row center, 12 = third row right"
   ]
  },
  {
   "cell_type": "code",
   "execution_count": 137,
   "metadata": {},
   "outputs": [
    {
     "data": {
      "text/plain": [
       "SEX\n",
       "F    30946\n",
       "M    43002\n",
       "X     6828\n",
       "dtype: int64"
      ]
     },
     "execution_count": 137,
     "metadata": {},
     "output_type": "execute_result"
    }
   ],
   "source": [
    "people_sample.groupby(['SEX']).size()"
   ]
  },
  {
   "cell_type": "code",
   "execution_count": 138,
   "metadata": {},
   "outputs": [
    {
     "data": {
      "image/png": "[encoded data removed]",
      "text/plain": [
       "<Figure size 720x360 with 1 Axes>"
      ]
     },
     "metadata": {
      "needs_background": "light"
     },
     "output_type": "display_data"
    }
   ],
   "source": [
    "# Plotting a Histogram of Gender\n",
    "people_sample.SEX.value_counts().nlargest(10).plot(kind='bar', figsize=(10,5))\n",
    "plt.title(\"Gender\")\n",
    "plt.ylabel('Number of crashes')\n",
    "plt.xlabel('Gender');"
   ]
  },
  {
   "cell_type": "code",
   "execution_count": 139,
   "metadata": {},
   "outputs": [
    {
     "data": {
      "text/plain": [
       "AGE\n",
       "0.0      716\n",
       "1.0      217\n",
       "2.0      201\n",
       "3.0      165\n",
       "4.0      178\n",
       "        ... \n",
       "100.0      3\n",
       "101.0      1\n",
       "102.0      1\n",
       "103.0      1\n",
       "110.0      1\n",
       "Length: 105, dtype: int64"
      ]
     },
     "execution_count": 139,
     "metadata": {},
     "output_type": "execute_result"
    }
   ],
   "source": [
    "people_sample.groupby(['AGE']).size()"
   ]
  },
  {
   "cell_type": "code",
   "execution_count": 140,
   "metadata": {},
   "outputs": [
    {
     "data": {
      "image/png": "[encoded data removed]",
      "text/plain": [
       "<Figure size 432x288 with 1 Axes>"
      ]
     },
     "metadata": {
      "needs_background": "light"
     },
     "output_type": "display_data"
    }
   ],
   "source": [
    "x = people_sample.AGE\n",
    "plt.hist(x, bins=10)\n",
    "plt.title('Age Distribution')\n",
    "plt.xlabel('Age')\n",
    "plt.ylabel('Number of accidents')\n",
    "\n",
    "plt.show()"
   ]
  },
  {
   "cell_type": "code",
   "execution_count": 141,
   "metadata": {},
   "outputs": [
    {
     "data": {
      "text/plain": [
       "INJURY_CLASSIFICATION\n",
       "FATAL                          41\n",
       "INCAPACITATING INJURY         823\n",
       "NO INDICATION OF INJURY     74612\n",
       "NONINCAPACITATING INJURY     4189\n",
       "REPORTED, NOT EVIDENT        2334\n",
       "dtype: int64"
      ]
     },
     "execution_count": 141,
     "metadata": {},
     "output_type": "execute_result"
    }
   ],
   "source": [
    "people_sample.groupby(['INJURY_CLASSIFICATION']).size()"
   ]
  },
  {
   "cell_type": "code",
   "execution_count": 142,
   "metadata": {},
   "outputs": [
    {
     "data": {
      "image/png": "[encoded data removed]",
      "text/plain": [
       "<Figure size 720x360 with 1 Axes>"
      ]
     },
     "metadata": {
      "needs_background": "light"
     },
     "output_type": "display_data"
    }
   ],
   "source": [
    "# Plotting a Histogram of injury classification\n",
    "people_sample.INJURY_CLASSIFICATION.value_counts().nlargest(10).plot(kind='bar', figsize=(10,5))\n",
    "plt.title('Injury classification')\n",
    "plt.xlabel('different injuries')\n",
    "plt.ylabel('Number of accidents')\n",
    "\n",
    "plt.show()"
   ]
  },
  {
   "cell_type": "code",
   "execution_count": 143,
   "metadata": {},
   "outputs": [
    {
     "data": {
      "text/plain": [
       "DRIVER_ACTION\n",
       "CELL PHONE USE OTHER THAN TEXTING      100\n",
       "DISREGARDED CONTROL DEVICES           1143\n",
       "EMERGENCY VEHICLE ON CALL               71\n",
       "EVADING POLICE VEHICLE                 114\n",
       "FAILED TO YIELD                       5946\n",
       "FOLLOWED TOO CLOSELY                  4150\n",
       "IMPROPER BACKING                      1967\n",
       "IMPROPER LANE CHANGE                  1704\n",
       "IMPROPER PARKING                       232\n",
       "IMPROPER PASSING                      1415\n",
       "IMPROPER TURN                         1703\n",
       "LICENSE RESTRICTIONS                     4\n",
       "NONE                                 23377\n",
       "OTHER                                 5768\n",
       "OVERCORRECTED                           88\n",
       "STOPPED SCHOOL BUS                       7\n",
       "TEXTING                                 30\n",
       "TOO FAST FOR CONDITIONS               1120\n",
       "UNKNOWN                              15451\n",
       "WRONG WAY/SIDE                         279\n",
       "dtype: int64"
      ]
     },
     "execution_count": 143,
     "metadata": {},
     "output_type": "execute_result"
    }
   ],
   "source": [
    "people_sample.groupby(['DRIVER_ACTION']).size()"
   ]
  },
  {
   "cell_type": "code",
   "execution_count": 144,
   "metadata": {},
   "outputs": [
    {
     "data": {
      "text/plain": [
       "DRIVER_VISION\n",
       "BLINDED - HEADLIGHTS          3\n",
       "BLINDED - SUNLIGHT           71\n",
       "BLOWING MATERIALS             5\n",
       "BUILDINGS                    26\n",
       "EMBANKMENT                    2\n",
       "HILLCREST                     3\n",
       "MOVING VEHICLES             407\n",
       "NOT OBSCURED              35090\n",
       "OTHER                       690\n",
       "PARKED VEHICLES             235\n",
       "SIGNBOARD                     2\n",
       "TREES, PLANTS                39\n",
       "UNKNOWN                   27863\n",
       "WINDSHIELD (WATER/ICE)      227\n",
       "dtype: int64"
      ]
     },
     "execution_count": 144,
     "metadata": {},
     "output_type": "execute_result"
    }
   ],
   "source": [
    "people_sample.groupby(['DRIVER_VISION']).size()"
   ]
  },
  {
   "cell_type": "code",
   "execution_count": 145,
   "metadata": {},
   "outputs": [
    {
     "data": {
      "text/plain": [
       "PHYSICAL_CONDITION\n",
       "EMOTIONAL                         163\n",
       "FATIGUED/ASLEEP                   187\n",
       "HAD BEEN DRINKING                  51\n",
       "ILLNESS/FAINTED                    72\n",
       "IMPAIRED - ALCOHOL                337\n",
       "IMPAIRED - ALCOHOL AND DRUGS       13\n",
       "IMPAIRED - DRUGS                   35\n",
       "MEDICATED                          10\n",
       "NORMAL                          43841\n",
       "OTHER                             192\n",
       "REMOVED BY EMS                    294\n",
       "UNKNOWN                         19533\n",
       "dtype: int64"
      ]
     },
     "execution_count": 145,
     "metadata": {},
     "output_type": "execute_result"
    }
   ],
   "source": [
    "people_sample.groupby(['PHYSICAL_CONDITION']).size()"
   ]
  },
  {
   "cell_type": "code",
   "execution_count": 146,
   "metadata": {},
   "outputs": [
    {
     "data": {
      "image/png": "[encoded data removed]",
      "text/plain": [
       "<Figure size 720x360 with 1 Axes>"
      ]
     },
     "metadata": {
      "needs_background": "light"
     },
     "output_type": "display_data"
    }
   ],
   "source": [
    "# Plotting a Histogram of injury classification\n",
    "people_sample.PHYSICAL_CONDITION.value_counts().nlargest(10).plot(kind='bar', figsize=(10,5))\n",
    "plt.title('physical condition')\n",
    "plt.xlabel('physical condition')\n",
    "plt.ylabel('Number of accidents')\n",
    "\n",
    "plt.show()"
   ]
  },
  {
   "cell_type": "code",
   "execution_count": 147,
   "metadata": {},
   "outputs": [
    {
     "data": {
      "text/plain": [
       "BAC_RESULT\n",
       "TEST NOT OFFERED                   63710\n",
       "TEST PERFORMED, RESULTS UNKNOWN      156\n",
       "TEST REFUSED                         720\n",
       "TEST TAKEN                           165\n",
       "dtype: int64"
      ]
     },
     "execution_count": 147,
     "metadata": {},
     "output_type": "execute_result"
    }
   ],
   "source": [
    "people_sample.groupby(['BAC_RESULT']).size() # maybe deleted the column?\n",
    "# Driver’s blood alcohol concentration test result (fatal crashes may include pedestrian or cyclist results)"
   ]
  },
  {
   "cell_type": "code",
   "execution_count": 148,
   "metadata": {},
   "outputs": [
    {
     "data": {
      "image/png": "[encoded data removed]",
      "text/plain": [
       "<Figure size 720x360 with 1 Axes>"
      ]
     },
     "metadata": {
      "needs_background": "light"
     },
     "output_type": "display_data"
    }
   ],
   "source": [
    "# Plotting a Histogram of injury classification\n",
    "people_sample.BAC_RESULT.value_counts().nlargest(10).plot(kind='bar', figsize=(10,5))\n",
    "plt.title('Blood Alcohol concentration test result')\n",
    "plt.xlabel('BAC')\n",
    "plt.ylabel('Number of accidents')\n",
    "\n",
    "plt.show()"
   ]
  },
  {
   "cell_type": "code",
   "execution_count": 149,
   "metadata": {},
   "outputs": [
    {
     "data": {
      "text/plain": [
       "BAC_RESULT VALUE\n",
       "0.00    11\n",
       "0.01     1\n",
       "0.02     1\n",
       "0.03     1\n",
       "0.07     1\n",
       "0.08     1\n",
       "0.10     5\n",
       "0.11    10\n",
       "0.12     6\n",
       "0.13     5\n",
       "0.14    10\n",
       "0.15     7\n",
       "0.16     5\n",
       "0.17    10\n",
       "0.18     4\n",
       "0.19     6\n",
       "0.20     8\n",
       "0.21    10\n",
       "0.22     4\n",
       "0.23     3\n",
       "0.24     2\n",
       "0.25     4\n",
       "0.26     2\n",
       "0.27     3\n",
       "0.28     2\n",
       "0.29     1\n",
       "0.30     2\n",
       "0.31     2\n",
       "0.32     2\n",
       "0.33     1\n",
       "0.35     1\n",
       "0.38     1\n",
       "0.41     1\n",
       "0.44     1\n",
       "dtype: int64"
      ]
     },
     "execution_count": 149,
     "metadata": {},
     "output_type": "execute_result"
    }
   ],
   "source": [
    "people_sample.groupby(['BAC_RESULT VALUE']).size() # too little sample to analyze "
   ]
  },
  {
   "cell_type": "markdown",
   "metadata": {},
   "source": [
    "### Vehicle"
   ]
  },
  {
   "cell_type": "code",
   "execution_count": 153,
   "metadata": {},
   "outputs": [
    {
     "data": {
      "text/plain": [
       "RD_NO\n",
       "CJ162000    2\n",
       "JA103057    2\n",
       "JA103876    1\n",
       "JA114629    2\n",
       "JA114652    2\n",
       "           ..\n",
       "JM171292    2\n",
       "JP169262    2\n",
       "MB118844    2\n",
       "RD102796    2\n",
       "ZB167408    2\n",
       "Length: 33021, dtype: int64"
      ]
     },
     "execution_count": 153,
     "metadata": {},
     "output_type": "execute_result"
    }
   ],
   "source": [
    "vehicles_sample.groupby(['RD_NO']).size()"
   ]
  },
  {
   "cell_type": "code",
   "execution_count": 154,
   "metadata": {},
   "outputs": [
    {
     "data": {
      "text/plain": [
       "UNIT_NO\n",
       "0         2\n",
       "1     37182\n",
       "2     34869\n",
       "3      2784\n",
       "4       584\n",
       "5       152\n",
       "6        55\n",
       "7        26\n",
       "8         9\n",
       "9         4\n",
       "10        3\n",
       "11        2\n",
       "12        1\n",
       "dtype: int64"
      ]
     },
     "execution_count": 154,
     "metadata": {},
     "output_type": "execute_result"
    }
   ],
   "source": [
    "vehicles_sample.groupby(['UNIT_NO']).size()"
   ]
  },
  {
   "cell_type": "code",
   "execution_count": 10,
   "metadata": {},
   "outputs": [
    {
     "data": {
      "text/plain": [
       "CRASH_DAY_OF_WEEK\n",
       "1    4115\n",
       "2    4687\n",
       "3    4660\n",
       "4    4799\n",
       "5    4756\n",
       "6    5447\n",
       "7    4944\n",
       "dtype: int64"
      ]
     },
     "metadata": {},
     "output_type": "display_data"
    },
    {
     "data": {
      "image/png": "[encoded data removed]",
      "text/plain": [
       "<Figure size 720x360 with 1 Axes>"
      ]
     },
     "metadata": {
      "needs_background": "light"
     },
     "output_type": "display_data"
    }
   ],
   "source": [
    "display(crashes_sample.groupby([\"CRASH_DAY_OF_WEEK\"]).size())\n",
    "crashes_sample.CRASH_DAY_OF_WEEK.value_counts().nlargest(10).plot(kind='bar', figsize=(10,5))\n",
    "plt.title('DAY OF THE WEEK')\n",
    "plt.xlabel('day of the week')\n",
    "plt.ylabel('Number of accidents')\n",
    "\n",
    "plt.show()"
   ]
  },
  {
   "cell_type": "code",
   "execution_count": 11,
   "metadata": {},
   "outputs": [
    {
     "data": {
      "text/html": [
       "<div>\n",
       "<style scoped>\n",
       "    .dataframe tbody tr th:only-of-type {\n",
       "        vertical-align: middle;\n",
       "    }\n",
       "\n",
       "    .dataframe tbody tr th {\n",
       "        vertical-align: top;\n",
       "    }\n",
       "\n",
       "    .dataframe thead th {\n",
       "        text-align: right;\n",
       "    }\n",
       "</style>\n",
       "<table border=\"1\" class=\"dataframe\">\n",
       "  <thead>\n",
       "    <tr style=\"text-align: right;\">\n",
       "      <th></th>\n",
       "      <th>PERSON_ID</th>\n",
       "      <th>PERSON_TYPE</th>\n",
       "      <th>CRASH_RECORD_ID</th>\n",
       "      <th>RD_NO</th>\n",
       "      <th>VEHICLE_ID</th>\n",
       "      <th>CRASH_DATE</th>\n",
       "      <th>SEAT_NO</th>\n",
       "      <th>CITY</th>\n",
       "      <th>STATE</th>\n",
       "      <th>ZIPCODE</th>\n",
       "      <th>...</th>\n",
       "      <th>EMS_RUN_NO</th>\n",
       "      <th>DRIVER_ACTION</th>\n",
       "      <th>DRIVER_VISION</th>\n",
       "      <th>PHYSICAL_CONDITION</th>\n",
       "      <th>PEDPEDAL_ACTION</th>\n",
       "      <th>PEDPEDAL_VISIBILITY</th>\n",
       "      <th>PEDPEDAL_LOCATION</th>\n",
       "      <th>BAC_RESULT</th>\n",
       "      <th>BAC_RESULT VALUE</th>\n",
       "      <th>CELL_PHONE_USE</th>\n",
       "    </tr>\n",
       "  </thead>\n",
       "  <tbody>\n",
       "    <tr>\n",
       "      <th>17</th>\n",
       "      <td>O925931</td>\n",
       "      <td>PEDESTRIAN</td>\n",
       "      <td>e90b0b0bc531bc185df85ec9cb0507bbbaa6c3b5a19be3...</td>\n",
       "      <td>JD310873</td>\n",
       "      <td>NaN</td>\n",
       "      <td>07/26/2020 05:34:00 PM</td>\n",
       "      <td>NaN</td>\n",
       "      <td>CHICAGO</td>\n",
       "      <td>IL</td>\n",
       "      <td>60632</td>\n",
       "      <td>...</td>\n",
       "      <td>NaN</td>\n",
       "      <td>NONE</td>\n",
       "      <td>OTHER</td>\n",
       "      <td>NORMAL</td>\n",
       "      <td>PLAYING IN ROADWAY</td>\n",
       "      <td>NO CONTRASTING CLOTHING</td>\n",
       "      <td>IN ROADWAY</td>\n",
       "      <td>TEST NOT OFFERED</td>\n",
       "      <td>NaN</td>\n",
       "      <td>NaN</td>\n",
       "    </tr>\n",
       "    <tr>\n",
       "      <th>92</th>\n",
       "      <td>O229762</td>\n",
       "      <td>PEDESTRIAN</td>\n",
       "      <td>8c4b7dd1512482337a51ed2f980a09b49875857b6c8ce2...</td>\n",
       "      <td>JA455269</td>\n",
       "      <td>NaN</td>\n",
       "      <td>10/02/2017 01:38:00 PM</td>\n",
       "      <td>NaN</td>\n",
       "      <td>OAKLAWN</td>\n",
       "      <td>IL</td>\n",
       "      <td>60453</td>\n",
       "      <td>...</td>\n",
       "      <td>NaN</td>\n",
       "      <td>NONE</td>\n",
       "      <td>NOT OBSCURED</td>\n",
       "      <td>NORMAL</td>\n",
       "      <td>NOT AT INTERSECTION</td>\n",
       "      <td>NO CONTRASTING CLOTHING</td>\n",
       "      <td>IN ROADWAY</td>\n",
       "      <td>TEST NOT OFFERED</td>\n",
       "      <td>NaN</td>\n",
       "      <td>NaN</td>\n",
       "    </tr>\n",
       "    <tr>\n",
       "      <th>166</th>\n",
       "      <td>O230636</td>\n",
       "      <td>PEDESTRIAN</td>\n",
       "      <td>0e43941bfd2675323df74ea35f8d96c3973a1c031b2ed0...</td>\n",
       "      <td>JA457018</td>\n",
       "      <td>NaN</td>\n",
       "      <td>10/03/2017 04:52:00 PM</td>\n",
       "      <td>NaN</td>\n",
       "      <td>NaN</td>\n",
       "      <td>NaN</td>\n",
       "      <td>NaN</td>\n",
       "      <td>...</td>\n",
       "      <td>NaN</td>\n",
       "      <td>NONE</td>\n",
       "      <td>UNKNOWN</td>\n",
       "      <td>NORMAL</td>\n",
       "      <td>OTHER ACTION</td>\n",
       "      <td>NO CONTRASTING CLOTHING</td>\n",
       "      <td>IN CROSSWALK</td>\n",
       "      <td>TEST NOT OFFERED</td>\n",
       "      <td>NaN</td>\n",
       "      <td>NaN</td>\n",
       "    </tr>\n",
       "    <tr>\n",
       "      <th>168</th>\n",
       "      <td>O230730</td>\n",
       "      <td>PEDESTRIAN</td>\n",
       "      <td>b8f441ee9724ab2bd816ecf24b67fe485fde69c0509083...</td>\n",
       "      <td>JA456942</td>\n",
       "      <td>NaN</td>\n",
       "      <td>10/03/2017 04:10:00 PM</td>\n",
       "      <td>NaN</td>\n",
       "      <td>CHICAGO</td>\n",
       "      <td>NaN</td>\n",
       "      <td>60620</td>\n",
       "      <td>...</td>\n",
       "      <td>NaN</td>\n",
       "      <td>NONE</td>\n",
       "      <td>NOT OBSCURED</td>\n",
       "      <td>NORMAL</td>\n",
       "      <td>STANDING IN ROADWAY</td>\n",
       "      <td>CONTRASTING CLOTHING</td>\n",
       "      <td>IN CROSSWALK</td>\n",
       "      <td>TEST NOT OFFERED</td>\n",
       "      <td>NaN</td>\n",
       "      <td>NaN</td>\n",
       "    </tr>\n",
       "    <tr>\n",
       "      <th>177</th>\n",
       "      <td>O230903</td>\n",
       "      <td>PEDESTRIAN</td>\n",
       "      <td>4977ea6e6a9c016767f5becbabb9061f6c53c29010a5a1...</td>\n",
       "      <td>JA457642</td>\n",
       "      <td>NaN</td>\n",
       "      <td>10/04/2017 07:30:00 AM</td>\n",
       "      <td>NaN</td>\n",
       "      <td>CHICAGO</td>\n",
       "      <td>IL</td>\n",
       "      <td>60618</td>\n",
       "      <td>...</td>\n",
       "      <td>NaN</td>\n",
       "      <td>OTHER</td>\n",
       "      <td>OTHER</td>\n",
       "      <td>OTHER</td>\n",
       "      <td>STANDING IN ROADWAY</td>\n",
       "      <td>NO CONTRASTING CLOTHING</td>\n",
       "      <td>IN ROADWAY</td>\n",
       "      <td>TEST NOT OFFERED</td>\n",
       "      <td>NaN</td>\n",
       "      <td>NaN</td>\n",
       "    </tr>\n",
       "    <tr>\n",
       "      <th>...</th>\n",
       "      <td>...</td>\n",
       "      <td>...</td>\n",
       "      <td>...</td>\n",
       "      <td>...</td>\n",
       "      <td>...</td>\n",
       "      <td>...</td>\n",
       "      <td>...</td>\n",
       "      <td>...</td>\n",
       "      <td>...</td>\n",
       "      <td>...</td>\n",
       "      <td>...</td>\n",
       "      <td>...</td>\n",
       "      <td>...</td>\n",
       "      <td>...</td>\n",
       "      <td>...</td>\n",
       "      <td>...</td>\n",
       "      <td>...</td>\n",
       "      <td>...</td>\n",
       "      <td>...</td>\n",
       "      <td>...</td>\n",
       "      <td>...</td>\n",
       "    </tr>\n",
       "    <tr>\n",
       "      <th>81454</th>\n",
       "      <td>O919561</td>\n",
       "      <td>PEDESTRIAN</td>\n",
       "      <td>f305e2efab01dc82184a151473ed62a9fde1deb030f09f...</td>\n",
       "      <td>JD299506</td>\n",
       "      <td>NaN</td>\n",
       "      <td>07/16/2020 03:28:00 PM</td>\n",
       "      <td>NaN</td>\n",
       "      <td>CHICAGO</td>\n",
       "      <td>IL</td>\n",
       "      <td>60629</td>\n",
       "      <td>...</td>\n",
       "      <td>NaN</td>\n",
       "      <td>NONE</td>\n",
       "      <td>NOT OBSCURED</td>\n",
       "      <td>NORMAL</td>\n",
       "      <td>NO ACTION</td>\n",
       "      <td>NO CONTRASTING CLOTHING</td>\n",
       "      <td>NOT IN ROADWAY</td>\n",
       "      <td>TEST NOT OFFERED</td>\n",
       "      <td>NaN</td>\n",
       "      <td>NaN</td>\n",
       "    </tr>\n",
       "    <tr>\n",
       "      <th>81469</th>\n",
       "      <td>O919892</td>\n",
       "      <td>PEDESTRIAN</td>\n",
       "      <td>b035a4cc316d7f3d5e0b9b237d599aafc74bceda88689c...</td>\n",
       "      <td>JD299931</td>\n",
       "      <td>NaN</td>\n",
       "      <td>07/16/2020 10:00:00 PM</td>\n",
       "      <td>NaN</td>\n",
       "      <td>NaN</td>\n",
       "      <td>NaN</td>\n",
       "      <td>NaN</td>\n",
       "      <td>...</td>\n",
       "      <td>NaN</td>\n",
       "      <td>FAILED TO YIELD</td>\n",
       "      <td>NOT OBSCURED</td>\n",
       "      <td>NORMAL</td>\n",
       "      <td>CROSSING - AGAINST SIGNAL</td>\n",
       "      <td>NO CONTRASTING CLOTHING</td>\n",
       "      <td>IN ROADWAY</td>\n",
       "      <td>TEST NOT OFFERED</td>\n",
       "      <td>NaN</td>\n",
       "      <td>NaN</td>\n",
       "    </tr>\n",
       "    <tr>\n",
       "      <th>81470</th>\n",
       "      <td>O919893</td>\n",
       "      <td>PEDESTRIAN</td>\n",
       "      <td>b035a4cc316d7f3d5e0b9b237d599aafc74bceda88689c...</td>\n",
       "      <td>JD299931</td>\n",
       "      <td>NaN</td>\n",
       "      <td>07/16/2020 10:00:00 PM</td>\n",
       "      <td>NaN</td>\n",
       "      <td>ST PAUL</td>\n",
       "      <td>MN</td>\n",
       "      <td>NaN</td>\n",
       "      <td>...</td>\n",
       "      <td>NaN</td>\n",
       "      <td>OTHER</td>\n",
       "      <td>NOT OBSCURED</td>\n",
       "      <td>NORMAL</td>\n",
       "      <td>CROSSING - AGAINST SIGNAL</td>\n",
       "      <td>NO CONTRASTING CLOTHING</td>\n",
       "      <td>IN ROADWAY</td>\n",
       "      <td>TEST NOT OFFERED</td>\n",
       "      <td>NaN</td>\n",
       "      <td>NaN</td>\n",
       "    </tr>\n",
       "    <tr>\n",
       "      <th>81953</th>\n",
       "      <td>O924637</td>\n",
       "      <td>PEDESTRIAN</td>\n",
       "      <td>79d545f97ef1482f06a56ca937b8a2470ce47917550b1e...</td>\n",
       "      <td>JD308699</td>\n",
       "      <td>NaN</td>\n",
       "      <td>07/24/2020 06:00:00 PM</td>\n",
       "      <td>NaN</td>\n",
       "      <td>CHICAGO</td>\n",
       "      <td>IL</td>\n",
       "      <td>60651</td>\n",
       "      <td>...</td>\n",
       "      <td>NaN</td>\n",
       "      <td>NONE</td>\n",
       "      <td>NOT OBSCURED</td>\n",
       "      <td>NORMAL</td>\n",
       "      <td>NO ACTION</td>\n",
       "      <td>NO CONTRASTING CLOTHING</td>\n",
       "      <td>IN CROSSWALK</td>\n",
       "      <td>TEST NOT OFFERED</td>\n",
       "      <td>NaN</td>\n",
       "      <td>NaN</td>\n",
       "    </tr>\n",
       "    <tr>\n",
       "      <th>81987</th>\n",
       "      <td>O935256</td>\n",
       "      <td>PEDESTRIAN</td>\n",
       "      <td>a560d44257a11496710237578c94bd7e4a3c57c8113413...</td>\n",
       "      <td>JD326674</td>\n",
       "      <td>NaN</td>\n",
       "      <td>08/09/2020 11:26:00 PM</td>\n",
       "      <td>NaN</td>\n",
       "      <td>CHICAGO</td>\n",
       "      <td>IL</td>\n",
       "      <td>60639</td>\n",
       "      <td>...</td>\n",
       "      <td>NaN</td>\n",
       "      <td>NONE</td>\n",
       "      <td>OTHER</td>\n",
       "      <td>NORMAL</td>\n",
       "      <td>CROSSING - NO CONTROLS (NOT AT INTERSECTION)</td>\n",
       "      <td>NO CONTRASTING CLOTHING</td>\n",
       "      <td>IN ROADWAY</td>\n",
       "      <td>TEST NOT OFFERED</td>\n",
       "      <td>NaN</td>\n",
       "      <td>NaN</td>\n",
       "    </tr>\n",
       "  </tbody>\n",
       "</table>\n",
       "<p>1025 rows × 30 columns</p>\n",
       "</div>"
      ],
      "text/plain": [
       "      PERSON_ID PERSON_TYPE  \\\n",
       "17      O925931  PEDESTRIAN   \n",
       "92      O229762  PEDESTRIAN   \n",
       "166     O230636  PEDESTRIAN   \n",
       "168     O230730  PEDESTRIAN   \n",
       "177     O230903  PEDESTRIAN   \n",
       "...         ...         ...   \n",
       "81454   O919561  PEDESTRIAN   \n",
       "81469   O919892  PEDESTRIAN   \n",
       "81470   O919893  PEDESTRIAN   \n",
       "81953   O924637  PEDESTRIAN   \n",
       "81987   O935256  PEDESTRIAN   \n",
       "\n",
       "                                         CRASH_RECORD_ID     RD_NO  \\\n",
       "17     e90b0b0bc531bc185df85ec9cb0507bbbaa6c3b5a19be3...  JD310873   \n",
       "92     8c4b7dd1512482337a51ed2f980a09b49875857b6c8ce2...  JA455269   \n",
       "166    0e43941bfd2675323df74ea35f8d96c3973a1c031b2ed0...  JA457018   \n",
       "168    b8f441ee9724ab2bd816ecf24b67fe485fde69c0509083...  JA456942   \n",
       "177    4977ea6e6a9c016767f5becbabb9061f6c53c29010a5a1...  JA457642   \n",
       "...                                                  ...       ...   \n",
       "81454  f305e2efab01dc82184a151473ed62a9fde1deb030f09f...  JD299506   \n",
       "81469  b035a4cc316d7f3d5e0b9b237d599aafc74bceda88689c...  JD299931   \n",
       "81470  b035a4cc316d7f3d5e0b9b237d599aafc74bceda88689c...  JD299931   \n",
       "81953  79d545f97ef1482f06a56ca937b8a2470ce47917550b1e...  JD308699   \n",
       "81987  a560d44257a11496710237578c94bd7e4a3c57c8113413...  JD326674   \n",
       "\n",
       "       VEHICLE_ID              CRASH_DATE  SEAT_NO     CITY STATE ZIPCODE  \\\n",
       "17            NaN  07/26/2020 05:34:00 PM      NaN  CHICAGO    IL   60632   \n",
       "92            NaN  10/02/2017 01:38:00 PM      NaN  OAKLAWN    IL   60453   \n",
       "166           NaN  10/03/2017 04:52:00 PM      NaN      NaN   NaN     NaN   \n",
       "168           NaN  10/03/2017 04:10:00 PM      NaN  CHICAGO   NaN   60620   \n",
       "177           NaN  10/04/2017 07:30:00 AM      NaN  CHICAGO    IL   60618   \n",
       "...           ...                     ...      ...      ...   ...     ...   \n",
       "81454         NaN  07/16/2020 03:28:00 PM      NaN  CHICAGO    IL   60629   \n",
       "81469         NaN  07/16/2020 10:00:00 PM      NaN      NaN   NaN     NaN   \n",
       "81470         NaN  07/16/2020 10:00:00 PM      NaN  ST PAUL    MN     NaN   \n",
       "81953         NaN  07/24/2020 06:00:00 PM      NaN  CHICAGO    IL   60651   \n",
       "81987         NaN  08/09/2020 11:26:00 PM      NaN  CHICAGO    IL   60639   \n",
       "\n",
       "       ... EMS_RUN_NO    DRIVER_ACTION DRIVER_VISION PHYSICAL_CONDITION  \\\n",
       "17     ...        NaN             NONE         OTHER             NORMAL   \n",
       "92     ...        NaN             NONE  NOT OBSCURED             NORMAL   \n",
       "166    ...        NaN             NONE       UNKNOWN             NORMAL   \n",
       "168    ...        NaN             NONE  NOT OBSCURED             NORMAL   \n",
       "177    ...        NaN            OTHER         OTHER              OTHER   \n",
       "...    ...        ...              ...           ...                ...   \n",
       "81454  ...        NaN             NONE  NOT OBSCURED             NORMAL   \n",
       "81469  ...        NaN  FAILED TO YIELD  NOT OBSCURED             NORMAL   \n",
       "81470  ...        NaN            OTHER  NOT OBSCURED             NORMAL   \n",
       "81953  ...        NaN             NONE  NOT OBSCURED             NORMAL   \n",
       "81987  ...        NaN             NONE         OTHER             NORMAL   \n",
       "\n",
       "                                    PEDPEDAL_ACTION      PEDPEDAL_VISIBILITY  \\\n",
       "17                               PLAYING IN ROADWAY  NO CONTRASTING CLOTHING   \n",
       "92                              NOT AT INTERSECTION  NO CONTRASTING CLOTHING   \n",
       "166                                    OTHER ACTION  NO CONTRASTING CLOTHING   \n",
       "168                             STANDING IN ROADWAY     CONTRASTING CLOTHING   \n",
       "177                             STANDING IN ROADWAY  NO CONTRASTING CLOTHING   \n",
       "...                                             ...                      ...   \n",
       "81454                                     NO ACTION  NO CONTRASTING CLOTHING   \n",
       "81469                     CROSSING - AGAINST SIGNAL  NO CONTRASTING CLOTHING   \n",
       "81470                     CROSSING - AGAINST SIGNAL  NO CONTRASTING CLOTHING   \n",
       "81953                                     NO ACTION  NO CONTRASTING CLOTHING   \n",
       "81987  CROSSING - NO CONTROLS (NOT AT INTERSECTION)  NO CONTRASTING CLOTHING   \n",
       "\n",
       "      PEDPEDAL_LOCATION        BAC_RESULT BAC_RESULT VALUE CELL_PHONE_USE  \n",
       "17           IN ROADWAY  TEST NOT OFFERED              NaN            NaN  \n",
       "92           IN ROADWAY  TEST NOT OFFERED              NaN            NaN  \n",
       "166        IN CROSSWALK  TEST NOT OFFERED              NaN            NaN  \n",
       "168        IN CROSSWALK  TEST NOT OFFERED              NaN            NaN  \n",
       "177          IN ROADWAY  TEST NOT OFFERED              NaN            NaN  \n",
       "...                 ...               ...              ...            ...  \n",
       "81454    NOT IN ROADWAY  TEST NOT OFFERED              NaN            NaN  \n",
       "81469        IN ROADWAY  TEST NOT OFFERED              NaN            NaN  \n",
       "81470        IN ROADWAY  TEST NOT OFFERED              NaN            NaN  \n",
       "81953      IN CROSSWALK  TEST NOT OFFERED              NaN            NaN  \n",
       "81987        IN ROADWAY  TEST NOT OFFERED              NaN            NaN  \n",
       "\n",
       "[1025 rows x 30 columns]"
      ]
     },
     "execution_count": 11,
     "metadata": {},
     "output_type": "execute_result"
    }
   ],
   "source": [
    "people_sample[people_sample['PERSON_TYPE'] == 'PEDESTRIAN'] #1025 rows × 30 columns"
   ]
  },
  {
   "cell_type": "code",
   "execution_count": 12,
   "metadata": {},
   "outputs": [
    {
     "data": {
      "text/plain": [
       "PEDPEDAL_ACTION\n",
       "AGAINST TRAFFIC                                       18\n",
       "CROSSING - AGAINST SIGNAL                             54\n",
       "CROSSING - CONTROLS PRESENT (NOT AT INTERSECTION)     39\n",
       "CROSSING - NO CONTROLS (AT INTERSECTION)              45\n",
       "CROSSING - NO CONTROLS (NOT AT INTERSECTION)          78\n",
       "CROSSING - WITH SIGNAL                               265\n",
       "ENTER FROM DRIVE/ALLEY                                 5\n",
       "INTOXICATED PED/PEDAL                                  7\n",
       "NO ACTION                                             47\n",
       "NOT AT INTERSECTION                                   60\n",
       "OTHER ACTION                                         141\n",
       "PARKED VEHICLE                                        16\n",
       "PLAYING IN ROADWAY                                     8\n",
       "PLAYING/WORKING ON VEHICLE                             4\n",
       "SCHOOL BUS (WITHIN 50 FT.)                             2\n",
       "STANDING IN ROADWAY                                   35\n",
       "TO/FROM DISABLED VEHICLE                               1\n",
       "TURNING LEFT                                           2\n",
       "TURNING RIGHT                                          2\n",
       "UNKNOWN/NA                                           150\n",
       "WAITING FOR SCHOOL BUS                                 1\n",
       "WITH TRAFFIC                                          39\n",
       "WORKING IN ROADWAY                                     6\n",
       "dtype: int64"
      ]
     },
     "execution_count": 12,
     "metadata": {},
     "output_type": "execute_result"
    }
   ],
   "source": [
    "people_sample[people_sample['PERSON_TYPE'] == 'PEDESTRIAN'].groupby([\"PEDPEDAL_ACTION\"]).size()"
   ]
  },
  {
   "cell_type": "code",
   "execution_count": 23,
   "metadata": {
    "scrolled": true
   },
   "outputs": [
    {
     "data": {
      "text/plain": [
       "PEDPEDAL_LOCATION\n",
       "BIKEWAY              4\n",
       "DRIVEWAY ACCESS     15\n",
       "IN CROSSWALK       447\n",
       "IN ROADWAY         382\n",
       "NOT IN ROADWAY      65\n",
       "SHOULDER             5\n",
       "UNKNOWN/NA         107\n",
       "dtype: int64"
      ]
     },
     "execution_count": 23,
     "metadata": {},
     "output_type": "execute_result"
    }
   ],
   "source": [
    "people_sample[people_sample['PERSON_TYPE'] == 'PEDESTRIAN'].groupby([\"PEDPEDAL_LOCATION\"]).size()"
   ]
  },
  {
   "cell_type": "code",
   "execution_count": 21,
   "metadata": {},
   "outputs": [
    {
     "data": {
      "text/html": [
       "<div>\n",
       "<style scoped>\n",
       "    .dataframe tbody tr th:only-of-type {\n",
       "        vertical-align: middle;\n",
       "    }\n",
       "\n",
       "    .dataframe tbody tr th {\n",
       "        vertical-align: top;\n",
       "    }\n",
       "\n",
       "    .dataframe thead th {\n",
       "        text-align: right;\n",
       "    }\n",
       "</style>\n",
       "<table border=\"1\" class=\"dataframe\">\n",
       "  <thead>\n",
       "    <tr style=\"text-align: right;\">\n",
       "      <th></th>\n",
       "      <th>PERSON_ID</th>\n",
       "      <th>PERSON_TYPE</th>\n",
       "      <th>CRASH_RECORD_ID</th>\n",
       "      <th>RD_NO</th>\n",
       "      <th>VEHICLE_ID</th>\n",
       "      <th>CRASH_DATE</th>\n",
       "      <th>SEAT_NO</th>\n",
       "      <th>CITY</th>\n",
       "      <th>STATE</th>\n",
       "      <th>ZIPCODE</th>\n",
       "      <th>...</th>\n",
       "      <th>EMS_AGENCY</th>\n",
       "      <th>EMS_RUN_NO</th>\n",
       "      <th>DRIVER_ACTION</th>\n",
       "      <th>DRIVER_VISION</th>\n",
       "      <th>PHYSICAL_CONDITION</th>\n",
       "      <th>PEDPEDAL_ACTION</th>\n",
       "      <th>PEDPEDAL_VISIBILITY</th>\n",
       "      <th>BAC_RESULT</th>\n",
       "      <th>BAC_RESULT VALUE</th>\n",
       "      <th>CELL_PHONE_USE</th>\n",
       "    </tr>\n",
       "    <tr>\n",
       "      <th>PEDPEDAL_LOCATION</th>\n",
       "      <th></th>\n",
       "      <th></th>\n",
       "      <th></th>\n",
       "      <th></th>\n",
       "      <th></th>\n",
       "      <th></th>\n",
       "      <th></th>\n",
       "      <th></th>\n",
       "      <th></th>\n",
       "      <th></th>\n",
       "      <th></th>\n",
       "      <th></th>\n",
       "      <th></th>\n",
       "      <th></th>\n",
       "      <th></th>\n",
       "      <th></th>\n",
       "      <th></th>\n",
       "      <th></th>\n",
       "      <th></th>\n",
       "      <th></th>\n",
       "      <th></th>\n",
       "    </tr>\n",
       "  </thead>\n",
       "  <tbody>\n",
       "    <tr>\n",
       "      <th>BIKEWAY</th>\n",
       "      <td>4</td>\n",
       "      <td>4</td>\n",
       "      <td>4</td>\n",
       "      <td>4</td>\n",
       "      <td>0</td>\n",
       "      <td>4</td>\n",
       "      <td>0</td>\n",
       "      <td>4</td>\n",
       "      <td>4</td>\n",
       "      <td>3</td>\n",
       "      <td>...</td>\n",
       "      <td>3</td>\n",
       "      <td>0</td>\n",
       "      <td>4</td>\n",
       "      <td>4</td>\n",
       "      <td>4</td>\n",
       "      <td>4</td>\n",
       "      <td>4</td>\n",
       "      <td>4</td>\n",
       "      <td>0</td>\n",
       "      <td>0</td>\n",
       "    </tr>\n",
       "    <tr>\n",
       "      <th>DRIVEWAY ACCESS</th>\n",
       "      <td>15</td>\n",
       "      <td>15</td>\n",
       "      <td>15</td>\n",
       "      <td>14</td>\n",
       "      <td>0</td>\n",
       "      <td>15</td>\n",
       "      <td>0</td>\n",
       "      <td>14</td>\n",
       "      <td>14</td>\n",
       "      <td>12</td>\n",
       "      <td>...</td>\n",
       "      <td>11</td>\n",
       "      <td>0</td>\n",
       "      <td>12</td>\n",
       "      <td>13</td>\n",
       "      <td>14</td>\n",
       "      <td>15</td>\n",
       "      <td>15</td>\n",
       "      <td>15</td>\n",
       "      <td>0</td>\n",
       "      <td>0</td>\n",
       "    </tr>\n",
       "    <tr>\n",
       "      <th>IN CROSSWALK</th>\n",
       "      <td>447</td>\n",
       "      <td>447</td>\n",
       "      <td>447</td>\n",
       "      <td>414</td>\n",
       "      <td>0</td>\n",
       "      <td>447</td>\n",
       "      <td>0</td>\n",
       "      <td>427</td>\n",
       "      <td>417</td>\n",
       "      <td>319</td>\n",
       "      <td>...</td>\n",
       "      <td>284</td>\n",
       "      <td>0</td>\n",
       "      <td>398</td>\n",
       "      <td>394</td>\n",
       "      <td>421</td>\n",
       "      <td>447</td>\n",
       "      <td>447</td>\n",
       "      <td>431</td>\n",
       "      <td>0</td>\n",
       "      <td>4</td>\n",
       "    </tr>\n",
       "    <tr>\n",
       "      <th>IN ROADWAY</th>\n",
       "      <td>382</td>\n",
       "      <td>382</td>\n",
       "      <td>382</td>\n",
       "      <td>351</td>\n",
       "      <td>0</td>\n",
       "      <td>382</td>\n",
       "      <td>0</td>\n",
       "      <td>356</td>\n",
       "      <td>353</td>\n",
       "      <td>251</td>\n",
       "      <td>...</td>\n",
       "      <td>269</td>\n",
       "      <td>0</td>\n",
       "      <td>338</td>\n",
       "      <td>338</td>\n",
       "      <td>361</td>\n",
       "      <td>382</td>\n",
       "      <td>382</td>\n",
       "      <td>366</td>\n",
       "      <td>0</td>\n",
       "      <td>1</td>\n",
       "    </tr>\n",
       "    <tr>\n",
       "      <th>NOT IN ROADWAY</th>\n",
       "      <td>65</td>\n",
       "      <td>65</td>\n",
       "      <td>65</td>\n",
       "      <td>61</td>\n",
       "      <td>0</td>\n",
       "      <td>65</td>\n",
       "      <td>0</td>\n",
       "      <td>61</td>\n",
       "      <td>61</td>\n",
       "      <td>44</td>\n",
       "      <td>...</td>\n",
       "      <td>47</td>\n",
       "      <td>0</td>\n",
       "      <td>55</td>\n",
       "      <td>54</td>\n",
       "      <td>57</td>\n",
       "      <td>65</td>\n",
       "      <td>65</td>\n",
       "      <td>63</td>\n",
       "      <td>0</td>\n",
       "      <td>1</td>\n",
       "    </tr>\n",
       "    <tr>\n",
       "      <th>SHOULDER</th>\n",
       "      <td>5</td>\n",
       "      <td>5</td>\n",
       "      <td>5</td>\n",
       "      <td>3</td>\n",
       "      <td>0</td>\n",
       "      <td>5</td>\n",
       "      <td>0</td>\n",
       "      <td>5</td>\n",
       "      <td>5</td>\n",
       "      <td>5</td>\n",
       "      <td>...</td>\n",
       "      <td>3</td>\n",
       "      <td>0</td>\n",
       "      <td>5</td>\n",
       "      <td>5</td>\n",
       "      <td>5</td>\n",
       "      <td>5</td>\n",
       "      <td>5</td>\n",
       "      <td>5</td>\n",
       "      <td>0</td>\n",
       "      <td>0</td>\n",
       "    </tr>\n",
       "    <tr>\n",
       "      <th>UNKNOWN/NA</th>\n",
       "      <td>107</td>\n",
       "      <td>107</td>\n",
       "      <td>107</td>\n",
       "      <td>96</td>\n",
       "      <td>0</td>\n",
       "      <td>107</td>\n",
       "      <td>0</td>\n",
       "      <td>98</td>\n",
       "      <td>96</td>\n",
       "      <td>69</td>\n",
       "      <td>...</td>\n",
       "      <td>62</td>\n",
       "      <td>0</td>\n",
       "      <td>94</td>\n",
       "      <td>93</td>\n",
       "      <td>97</td>\n",
       "      <td>107</td>\n",
       "      <td>107</td>\n",
       "      <td>104</td>\n",
       "      <td>0</td>\n",
       "      <td>0</td>\n",
       "    </tr>\n",
       "  </tbody>\n",
       "</table>\n",
       "<p>7 rows × 29 columns</p>\n",
       "</div>"
      ],
      "text/plain": [
       "                   PERSON_ID  PERSON_TYPE  CRASH_RECORD_ID  RD_NO  VEHICLE_ID  \\\n",
       "PEDPEDAL_LOCATION                                                               \n",
       "BIKEWAY                    4            4                4      4           0   \n",
       "DRIVEWAY ACCESS           15           15               15     14           0   \n",
       "IN CROSSWALK             447          447              447    414           0   \n",
       "IN ROADWAY               382          382              382    351           0   \n",
       "NOT IN ROADWAY            65           65               65     61           0   \n",
       "SHOULDER                   5            5                5      3           0   \n",
       "UNKNOWN/NA               107          107              107     96           0   \n",
       "\n",
       "                   CRASH_DATE  SEAT_NO  CITY  STATE  ZIPCODE  ...  EMS_AGENCY  \\\n",
       "PEDPEDAL_LOCATION                                             ...               \n",
       "BIKEWAY                     4        0     4      4        3  ...           3   \n",
       "DRIVEWAY ACCESS            15        0    14     14       12  ...          11   \n",
       "IN CROSSWALK              447        0   427    417      319  ...         284   \n",
       "IN ROADWAY                382        0   356    353      251  ...         269   \n",
       "NOT IN ROADWAY             65        0    61     61       44  ...          47   \n",
       "SHOULDER                    5        0     5      5        5  ...           3   \n",
       "UNKNOWN/NA                107        0    98     96       69  ...          62   \n",
       "\n",
       "                   EMS_RUN_NO  DRIVER_ACTION  DRIVER_VISION  \\\n",
       "PEDPEDAL_LOCATION                                             \n",
       "BIKEWAY                     0              4              4   \n",
       "DRIVEWAY ACCESS             0             12             13   \n",
       "IN CROSSWALK                0            398            394   \n",
       "IN ROADWAY                  0            338            338   \n",
       "NOT IN ROADWAY              0             55             54   \n",
       "SHOULDER                    0              5              5   \n",
       "UNKNOWN/NA                  0             94             93   \n",
       "\n",
       "                   PHYSICAL_CONDITION  PEDPEDAL_ACTION  PEDPEDAL_VISIBILITY  \\\n",
       "PEDPEDAL_LOCATION                                                             \n",
       "BIKEWAY                             4                4                    4   \n",
       "DRIVEWAY ACCESS                    14               15                   15   \n",
       "IN CROSSWALK                      421              447                  447   \n",
       "IN ROADWAY                        361              382                  382   \n",
       "NOT IN ROADWAY                     57               65                   65   \n",
       "SHOULDER                            5                5                    5   \n",
       "UNKNOWN/NA                         97              107                  107   \n",
       "\n",
       "                   BAC_RESULT  BAC_RESULT VALUE  CELL_PHONE_USE  \n",
       "PEDPEDAL_LOCATION                                                \n",
       "BIKEWAY                     4                 0               0  \n",
       "DRIVEWAY ACCESS            15                 0               0  \n",
       "IN CROSSWALK              431                 0               4  \n",
       "IN ROADWAY                366                 0               1  \n",
       "NOT IN ROADWAY             63                 0               1  \n",
       "SHOULDER                    5                 0               0  \n",
       "UNKNOWN/NA                104                 0               0  \n",
       "\n",
       "[7 rows x 29 columns]"
      ]
     },
     "execution_count": 21,
     "metadata": {},
     "output_type": "execute_result"
    }
   ],
   "source": [
    "people_sample[people_sample['PERSON_TYPE'] == 'PEDESTRIAN'].groupby([\"PEDPEDAL_LOCATION\"]).count()"
   ]
  },
  {
   "cell_type": "code",
   "execution_count": 26,
   "metadata": {},
   "outputs": [
    {
     "data": {
      "text/html": [
       "<div>\n",
       "<style scoped>\n",
       "    .dataframe tbody tr th:only-of-type {\n",
       "        vertical-align: middle;\n",
       "    }\n",
       "\n",
       "    .dataframe tbody tr th {\n",
       "        vertical-align: top;\n",
       "    }\n",
       "\n",
       "    .dataframe thead th {\n",
       "        text-align: right;\n",
       "    }\n",
       "</style>\n",
       "<table border=\"1\" class=\"dataframe\">\n",
       "  <thead>\n",
       "    <tr style=\"text-align: right;\">\n",
       "      <th></th>\n",
       "      <th>PERSON_ID</th>\n",
       "      <th>PERSON_TYPE</th>\n",
       "      <th>CRASH_RECORD_ID</th>\n",
       "      <th>RD_NO</th>\n",
       "      <th>VEHICLE_ID</th>\n",
       "      <th>CRASH_DATE</th>\n",
       "      <th>SEAT_NO</th>\n",
       "      <th>CITY</th>\n",
       "      <th>STATE</th>\n",
       "      <th>ZIPCODE</th>\n",
       "      <th>...</th>\n",
       "      <th>EMS_RUN_NO</th>\n",
       "      <th>DRIVER_ACTION</th>\n",
       "      <th>DRIVER_VISION</th>\n",
       "      <th>PHYSICAL_CONDITION</th>\n",
       "      <th>PEDPEDAL_ACTION</th>\n",
       "      <th>PEDPEDAL_VISIBILITY</th>\n",
       "      <th>PEDPEDAL_LOCATION</th>\n",
       "      <th>BAC_RESULT</th>\n",
       "      <th>BAC_RESULT VALUE</th>\n",
       "      <th>CELL_PHONE_USE</th>\n",
       "    </tr>\n",
       "  </thead>\n",
       "  <tbody>\n",
       "    <tr>\n",
       "      <th>30</th>\n",
       "      <td>P211417</td>\n",
       "      <td>PASSENGER</td>\n",
       "      <td>70a18f80d33a3e2bdde9f21c7c0cafaa8d133285c2a395...</td>\n",
       "      <td>JD310165</td>\n",
       "      <td>877509.0</td>\n",
       "      <td>07/26/2020 01:50:00 AM</td>\n",
       "      <td>3.0</td>\n",
       "      <td>NaN</td>\n",
       "      <td>IL</td>\n",
       "      <td>NaN</td>\n",
       "      <td>...</td>\n",
       "      <td>NaN</td>\n",
       "      <td>NaN</td>\n",
       "      <td>NaN</td>\n",
       "      <td>NaN</td>\n",
       "      <td>NaN</td>\n",
       "      <td>NaN</td>\n",
       "      <td>NaN</td>\n",
       "      <td>NaN</td>\n",
       "      <td>NaN</td>\n",
       "      <td>NaN</td>\n",
       "    </tr>\n",
       "    <tr>\n",
       "      <th>1585</th>\n",
       "      <td>P213701</td>\n",
       "      <td>PASSENGER</td>\n",
       "      <td>6232608703805c008ded983adea0a359f171fc2faa1bd6...</td>\n",
       "      <td>JD328073</td>\n",
       "      <td>887358.0</td>\n",
       "      <td>08/10/2020 03:08:00 PM</td>\n",
       "      <td>3.0</td>\n",
       "      <td>CHICAGO</td>\n",
       "      <td>IL</td>\n",
       "      <td>NaN</td>\n",
       "      <td>...</td>\n",
       "      <td>NaN</td>\n",
       "      <td>NaN</td>\n",
       "      <td>NaN</td>\n",
       "      <td>NaN</td>\n",
       "      <td>NaN</td>\n",
       "      <td>NaN</td>\n",
       "      <td>NaN</td>\n",
       "      <td>NaN</td>\n",
       "      <td>NaN</td>\n",
       "      <td>NaN</td>\n",
       "    </tr>\n",
       "    <tr>\n",
       "      <th>5280</th>\n",
       "      <td>P211625</td>\n",
       "      <td>PASSENGER</td>\n",
       "      <td>b2b6938d2d17c886604bd689d8db8b8ddd5eea644c4d53...</td>\n",
       "      <td>JD311981</td>\n",
       "      <td>878448.0</td>\n",
       "      <td>07/27/2020 04:30:00 PM</td>\n",
       "      <td>3.0</td>\n",
       "      <td>NaN</td>\n",
       "      <td>IL</td>\n",
       "      <td>NaN</td>\n",
       "      <td>...</td>\n",
       "      <td>NaN</td>\n",
       "      <td>NaN</td>\n",
       "      <td>NaN</td>\n",
       "      <td>NaN</td>\n",
       "      <td>NaN</td>\n",
       "      <td>NaN</td>\n",
       "      <td>NaN</td>\n",
       "      <td>NaN</td>\n",
       "      <td>NaN</td>\n",
       "      <td>NaN</td>\n",
       "    </tr>\n",
       "    <tr>\n",
       "      <th>5309</th>\n",
       "      <td>P211637</td>\n",
       "      <td>PASSENGER</td>\n",
       "      <td>409ae9f90fff2f6f179be0150d7d3ce521e834572d8042...</td>\n",
       "      <td>JD312101</td>\n",
       "      <td>878506.0</td>\n",
       "      <td>07/27/2020 04:45:00 PM</td>\n",
       "      <td>3.0</td>\n",
       "      <td>NaN</td>\n",
       "      <td>NaN</td>\n",
       "      <td>NaN</td>\n",
       "      <td>...</td>\n",
       "      <td>NaN</td>\n",
       "      <td>NaN</td>\n",
       "      <td>NaN</td>\n",
       "      <td>NaN</td>\n",
       "      <td>NaN</td>\n",
       "      <td>NaN</td>\n",
       "      <td>NaN</td>\n",
       "      <td>NaN</td>\n",
       "      <td>NaN</td>\n",
       "      <td>NaN</td>\n",
       "    </tr>\n",
       "    <tr>\n",
       "      <th>5436</th>\n",
       "      <td>P211666</td>\n",
       "      <td>PASSENGER</td>\n",
       "      <td>9059dd07be42310025c5cbd473b5646b9e593b5679e647...</td>\n",
       "      <td>JD312264</td>\n",
       "      <td>878604.0</td>\n",
       "      <td>07/27/2020 05:10:00 PM</td>\n",
       "      <td>4.0</td>\n",
       "      <td>NaN</td>\n",
       "      <td>IL</td>\n",
       "      <td>NaN</td>\n",
       "      <td>...</td>\n",
       "      <td>NaN</td>\n",
       "      <td>NaN</td>\n",
       "      <td>NaN</td>\n",
       "      <td>NaN</td>\n",
       "      <td>NaN</td>\n",
       "      <td>NaN</td>\n",
       "      <td>NaN</td>\n",
       "      <td>NaN</td>\n",
       "      <td>NaN</td>\n",
       "      <td>NaN</td>\n",
       "    </tr>\n",
       "    <tr>\n",
       "      <th>...</th>\n",
       "      <td>...</td>\n",
       "      <td>...</td>\n",
       "      <td>...</td>\n",
       "      <td>...</td>\n",
       "      <td>...</td>\n",
       "      <td>...</td>\n",
       "      <td>...</td>\n",
       "      <td>...</td>\n",
       "      <td>...</td>\n",
       "      <td>...</td>\n",
       "      <td>...</td>\n",
       "      <td>...</td>\n",
       "      <td>...</td>\n",
       "      <td>...</td>\n",
       "      <td>...</td>\n",
       "      <td>...</td>\n",
       "      <td>...</td>\n",
       "      <td>...</td>\n",
       "      <td>...</td>\n",
       "      <td>...</td>\n",
       "      <td>...</td>\n",
       "    </tr>\n",
       "    <tr>\n",
       "      <th>82044</th>\n",
       "      <td>P211331</td>\n",
       "      <td>PASSENGER</td>\n",
       "      <td>77c6896f7590443e32852c8ab7c1b60d1b05dec415263b...</td>\n",
       "      <td>JD309784</td>\n",
       "      <td>877262.0</td>\n",
       "      <td>07/25/2020 04:50:00 PM</td>\n",
       "      <td>11.0</td>\n",
       "      <td>NaN</td>\n",
       "      <td>NaN</td>\n",
       "      <td>NaN</td>\n",
       "      <td>...</td>\n",
       "      <td>NaN</td>\n",
       "      <td>NaN</td>\n",
       "      <td>NaN</td>\n",
       "      <td>NaN</td>\n",
       "      <td>NaN</td>\n",
       "      <td>NaN</td>\n",
       "      <td>NaN</td>\n",
       "      <td>NaN</td>\n",
       "      <td>NaN</td>\n",
       "      <td>NaN</td>\n",
       "    </tr>\n",
       "    <tr>\n",
       "      <th>82045</th>\n",
       "      <td>P211347</td>\n",
       "      <td>PASSENGER</td>\n",
       "      <td>d522d6647f22c5838842144002127a8b679ca60a029dbf...</td>\n",
       "      <td>JD309798</td>\n",
       "      <td>877337.0</td>\n",
       "      <td>07/25/2020 05:25:00 PM</td>\n",
       "      <td>3.0</td>\n",
       "      <td>NaN</td>\n",
       "      <td>NaN</td>\n",
       "      <td>NaN</td>\n",
       "      <td>...</td>\n",
       "      <td>NaN</td>\n",
       "      <td>NaN</td>\n",
       "      <td>NaN</td>\n",
       "      <td>NaN</td>\n",
       "      <td>NaN</td>\n",
       "      <td>NaN</td>\n",
       "      <td>NaN</td>\n",
       "      <td>NaN</td>\n",
       "      <td>NaN</td>\n",
       "      <td>NaN</td>\n",
       "    </tr>\n",
       "    <tr>\n",
       "      <th>82046</th>\n",
       "      <td>P211349</td>\n",
       "      <td>PASSENGER</td>\n",
       "      <td>d522d6647f22c5838842144002127a8b679ca60a029dbf...</td>\n",
       "      <td>JD309798</td>\n",
       "      <td>877342.0</td>\n",
       "      <td>07/25/2020 05:25:00 PM</td>\n",
       "      <td>3.0</td>\n",
       "      <td>NaN</td>\n",
       "      <td>NaN</td>\n",
       "      <td>NaN</td>\n",
       "      <td>...</td>\n",
       "      <td>NaN</td>\n",
       "      <td>NaN</td>\n",
       "      <td>NaN</td>\n",
       "      <td>NaN</td>\n",
       "      <td>NaN</td>\n",
       "      <td>NaN</td>\n",
       "      <td>NaN</td>\n",
       "      <td>NaN</td>\n",
       "      <td>NaN</td>\n",
       "      <td>NaN</td>\n",
       "    </tr>\n",
       "    <tr>\n",
       "      <th>82047</th>\n",
       "      <td>P211350</td>\n",
       "      <td>PASSENGER</td>\n",
       "      <td>d522d6647f22c5838842144002127a8b679ca60a029dbf...</td>\n",
       "      <td>JD309798</td>\n",
       "      <td>877342.0</td>\n",
       "      <td>07/25/2020 05:25:00 PM</td>\n",
       "      <td>6.0</td>\n",
       "      <td>NaN</td>\n",
       "      <td>NaN</td>\n",
       "      <td>NaN</td>\n",
       "      <td>...</td>\n",
       "      <td>NaN</td>\n",
       "      <td>NaN</td>\n",
       "      <td>NaN</td>\n",
       "      <td>NaN</td>\n",
       "      <td>NaN</td>\n",
       "      <td>NaN</td>\n",
       "      <td>NaN</td>\n",
       "      <td>NaN</td>\n",
       "      <td>NaN</td>\n",
       "      <td>NaN</td>\n",
       "    </tr>\n",
       "    <tr>\n",
       "      <th>82048</th>\n",
       "      <td>P211351</td>\n",
       "      <td>PASSENGER</td>\n",
       "      <td>6bf415609a1c665850a9d40697c6981fb88bbc639d873f...</td>\n",
       "      <td>JD309881</td>\n",
       "      <td>877344.0</td>\n",
       "      <td>07/25/2020 06:04:00 PM</td>\n",
       "      <td>3.0</td>\n",
       "      <td>MAYWOOD</td>\n",
       "      <td>IL</td>\n",
       "      <td>60153</td>\n",
       "      <td>...</td>\n",
       "      <td>NaN</td>\n",
       "      <td>NaN</td>\n",
       "      <td>NaN</td>\n",
       "      <td>NaN</td>\n",
       "      <td>NaN</td>\n",
       "      <td>NaN</td>\n",
       "      <td>NaN</td>\n",
       "      <td>NaN</td>\n",
       "      <td>NaN</td>\n",
       "      <td>NaN</td>\n",
       "    </tr>\n",
       "  </tbody>\n",
       "</table>\n",
       "<p>17214 rows × 30 columns</p>\n",
       "</div>"
      ],
      "text/plain": [
       "      PERSON_ID PERSON_TYPE  \\\n",
       "30      P211417   PASSENGER   \n",
       "1585    P213701   PASSENGER   \n",
       "5280    P211625   PASSENGER   \n",
       "5309    P211637   PASSENGER   \n",
       "5436    P211666   PASSENGER   \n",
       "...         ...         ...   \n",
       "82044   P211331   PASSENGER   \n",
       "82045   P211347   PASSENGER   \n",
       "82046   P211349   PASSENGER   \n",
       "82047   P211350   PASSENGER   \n",
       "82048   P211351   PASSENGER   \n",
       "\n",
       "                                         CRASH_RECORD_ID     RD_NO  \\\n",
       "30     70a18f80d33a3e2bdde9f21c7c0cafaa8d133285c2a395...  JD310165   \n",
       "1585   6232608703805c008ded983adea0a359f171fc2faa1bd6...  JD328073   \n",
       "5280   b2b6938d2d17c886604bd689d8db8b8ddd5eea644c4d53...  JD311981   \n",
       "5309   409ae9f90fff2f6f179be0150d7d3ce521e834572d8042...  JD312101   \n",
       "5436   9059dd07be42310025c5cbd473b5646b9e593b5679e647...  JD312264   \n",
       "...                                                  ...       ...   \n",
       "82044  77c6896f7590443e32852c8ab7c1b60d1b05dec415263b...  JD309784   \n",
       "82045  d522d6647f22c5838842144002127a8b679ca60a029dbf...  JD309798   \n",
       "82046  d522d6647f22c5838842144002127a8b679ca60a029dbf...  JD309798   \n",
       "82047  d522d6647f22c5838842144002127a8b679ca60a029dbf...  JD309798   \n",
       "82048  6bf415609a1c665850a9d40697c6981fb88bbc639d873f...  JD309881   \n",
       "\n",
       "       VEHICLE_ID              CRASH_DATE  SEAT_NO     CITY STATE ZIPCODE  \\\n",
       "30       877509.0  07/26/2020 01:50:00 AM      3.0      NaN    IL     NaN   \n",
       "1585     887358.0  08/10/2020 03:08:00 PM      3.0  CHICAGO    IL     NaN   \n",
       "5280     878448.0  07/27/2020 04:30:00 PM      3.0      NaN    IL     NaN   \n",
       "5309     878506.0  07/27/2020 04:45:00 PM      3.0      NaN   NaN     NaN   \n",
       "5436     878604.0  07/27/2020 05:10:00 PM      4.0      NaN    IL     NaN   \n",
       "...           ...                     ...      ...      ...   ...     ...   \n",
       "82044    877262.0  07/25/2020 04:50:00 PM     11.0      NaN   NaN     NaN   \n",
       "82045    877337.0  07/25/2020 05:25:00 PM      3.0      NaN   NaN     NaN   \n",
       "82046    877342.0  07/25/2020 05:25:00 PM      3.0      NaN   NaN     NaN   \n",
       "82047    877342.0  07/25/2020 05:25:00 PM      6.0      NaN   NaN     NaN   \n",
       "82048    877344.0  07/25/2020 06:04:00 PM      3.0  MAYWOOD    IL   60153   \n",
       "\n",
       "       ... EMS_RUN_NO  DRIVER_ACTION DRIVER_VISION PHYSICAL_CONDITION  \\\n",
       "30     ...        NaN            NaN           NaN                NaN   \n",
       "1585   ...        NaN            NaN           NaN                NaN   \n",
       "5280   ...        NaN            NaN           NaN                NaN   \n",
       "5309   ...        NaN            NaN           NaN                NaN   \n",
       "5436   ...        NaN            NaN           NaN                NaN   \n",
       "...    ...        ...            ...           ...                ...   \n",
       "82044  ...        NaN            NaN           NaN                NaN   \n",
       "82045  ...        NaN            NaN           NaN                NaN   \n",
       "82046  ...        NaN            NaN           NaN                NaN   \n",
       "82047  ...        NaN            NaN           NaN                NaN   \n",
       "82048  ...        NaN            NaN           NaN                NaN   \n",
       "\n",
       "      PEDPEDAL_ACTION PEDPEDAL_VISIBILITY PEDPEDAL_LOCATION BAC_RESULT  \\\n",
       "30                NaN                 NaN               NaN        NaN   \n",
       "1585              NaN                 NaN               NaN        NaN   \n",
       "5280              NaN                 NaN               NaN        NaN   \n",
       "5309              NaN                 NaN               NaN        NaN   \n",
       "5436              NaN                 NaN               NaN        NaN   \n",
       "...               ...                 ...               ...        ...   \n",
       "82044             NaN                 NaN               NaN        NaN   \n",
       "82045             NaN                 NaN               NaN        NaN   \n",
       "82046             NaN                 NaN               NaN        NaN   \n",
       "82047             NaN                 NaN               NaN        NaN   \n",
       "82048             NaN                 NaN               NaN        NaN   \n",
       "\n",
       "      BAC_RESULT VALUE CELL_PHONE_USE  \n",
       "30                 NaN            NaN  \n",
       "1585               NaN            NaN  \n",
       "5280               NaN            NaN  \n",
       "5309               NaN            NaN  \n",
       "5436               NaN            NaN  \n",
       "...                ...            ...  \n",
       "82044              NaN            NaN  \n",
       "82045              NaN            NaN  \n",
       "82046              NaN            NaN  \n",
       "82047              NaN            NaN  \n",
       "82048              NaN            NaN  \n",
       "\n",
       "[17214 rows x 30 columns]"
      ]
     },
     "metadata": {},
     "output_type": "display_data"
    },
    {
     "data": {
      "text/html": [
       "<div>\n",
       "<style scoped>\n",
       "    .dataframe tbody tr th:only-of-type {\n",
       "        vertical-align: middle;\n",
       "    }\n",
       "\n",
       "    .dataframe tbody tr th {\n",
       "        vertical-align: top;\n",
       "    }\n",
       "\n",
       "    .dataframe thead th {\n",
       "        text-align: right;\n",
       "    }\n",
       "</style>\n",
       "<table border=\"1\" class=\"dataframe\">\n",
       "  <thead>\n",
       "    <tr style=\"text-align: right;\">\n",
       "      <th></th>\n",
       "      <th>PERSON_ID</th>\n",
       "      <th>PERSON_TYPE</th>\n",
       "      <th>CRASH_RECORD_ID</th>\n",
       "      <th>RD_NO</th>\n",
       "      <th>VEHICLE_ID</th>\n",
       "      <th>CRASH_DATE</th>\n",
       "      <th>SEAT_NO</th>\n",
       "      <th>CITY</th>\n",
       "      <th>STATE</th>\n",
       "      <th>ZIPCODE</th>\n",
       "      <th>...</th>\n",
       "      <th>EMS_RUN_NO</th>\n",
       "      <th>DRIVER_ACTION</th>\n",
       "      <th>DRIVER_VISION</th>\n",
       "      <th>PHYSICAL_CONDITION</th>\n",
       "      <th>PEDPEDAL_ACTION</th>\n",
       "      <th>PEDPEDAL_VISIBILITY</th>\n",
       "      <th>PEDPEDAL_LOCATION</th>\n",
       "      <th>BAC_RESULT</th>\n",
       "      <th>BAC_RESULT VALUE</th>\n",
       "      <th>CELL_PHONE_USE</th>\n",
       "    </tr>\n",
       "  </thead>\n",
       "  <tbody>\n",
       "    <tr>\n",
       "      <th>0</th>\n",
       "      <td>O925562</td>\n",
       "      <td>DRIVER</td>\n",
       "      <td>70a18f80d33a3e2bdde9f21c7c0cafaa8d133285c2a395...</td>\n",
       "      <td>JD310165</td>\n",
       "      <td>877509.0</td>\n",
       "      <td>07/26/2020 01:50:00 AM</td>\n",
       "      <td>NaN</td>\n",
       "      <td>NaN</td>\n",
       "      <td>NaN</td>\n",
       "      <td>NaN</td>\n",
       "      <td>...</td>\n",
       "      <td>NaN</td>\n",
       "      <td>UNKNOWN</td>\n",
       "      <td>UNKNOWN</td>\n",
       "      <td>UNKNOWN</td>\n",
       "      <td>NaN</td>\n",
       "      <td>NaN</td>\n",
       "      <td>NaN</td>\n",
       "      <td>TEST NOT OFFERED</td>\n",
       "      <td>NaN</td>\n",
       "      <td>NaN</td>\n",
       "    </tr>\n",
       "    <tr>\n",
       "      <th>1</th>\n",
       "      <td>O925563</td>\n",
       "      <td>DRIVER</td>\n",
       "      <td>70a18f80d33a3e2bdde9f21c7c0cafaa8d133285c2a395...</td>\n",
       "      <td>JD310165</td>\n",
       "      <td>877518.0</td>\n",
       "      <td>07/26/2020 01:50:00 AM</td>\n",
       "      <td>NaN</td>\n",
       "      <td>CHICAGO</td>\n",
       "      <td>IL</td>\n",
       "      <td>60653</td>\n",
       "      <td>...</td>\n",
       "      <td>NaN</td>\n",
       "      <td>OTHER</td>\n",
       "      <td>UNKNOWN</td>\n",
       "      <td>NORMAL</td>\n",
       "      <td>NaN</td>\n",
       "      <td>NaN</td>\n",
       "      <td>NaN</td>\n",
       "      <td>TEST NOT OFFERED</td>\n",
       "      <td>NaN</td>\n",
       "      <td>NaN</td>\n",
       "    </tr>\n",
       "    <tr>\n",
       "      <th>2</th>\n",
       "      <td>O925608</td>\n",
       "      <td>DRIVER</td>\n",
       "      <td>35b6535a691e99e723bb7322a02fcf5e478f356bad52e1...</td>\n",
       "      <td>JD310239</td>\n",
       "      <td>877558.0</td>\n",
       "      <td>07/26/2020 03:44:00 AM</td>\n",
       "      <td>NaN</td>\n",
       "      <td>NaN</td>\n",
       "      <td>NaN</td>\n",
       "      <td>NaN</td>\n",
       "      <td>...</td>\n",
       "      <td>NaN</td>\n",
       "      <td>UNKNOWN</td>\n",
       "      <td>UNKNOWN</td>\n",
       "      <td>UNKNOWN</td>\n",
       "      <td>NaN</td>\n",
       "      <td>NaN</td>\n",
       "      <td>NaN</td>\n",
       "      <td>TEST REFUSED</td>\n",
       "      <td>NaN</td>\n",
       "      <td>NaN</td>\n",
       "    </tr>\n",
       "    <tr>\n",
       "      <th>3</th>\n",
       "      <td>O925609</td>\n",
       "      <td>DRIVER</td>\n",
       "      <td>35b6535a691e99e723bb7322a02fcf5e478f356bad52e1...</td>\n",
       "      <td>JD310239</td>\n",
       "      <td>877560.0</td>\n",
       "      <td>07/26/2020 03:44:00 AM</td>\n",
       "      <td>NaN</td>\n",
       "      <td>EVANSTON</td>\n",
       "      <td>IL</td>\n",
       "      <td>60201</td>\n",
       "      <td>...</td>\n",
       "      <td>NaN</td>\n",
       "      <td>UNKNOWN</td>\n",
       "      <td>UNKNOWN</td>\n",
       "      <td>NORMAL</td>\n",
       "      <td>NaN</td>\n",
       "      <td>NaN</td>\n",
       "      <td>NaN</td>\n",
       "      <td>TEST NOT OFFERED</td>\n",
       "      <td>NaN</td>\n",
       "      <td>NaN</td>\n",
       "    </tr>\n",
       "    <tr>\n",
       "      <th>4</th>\n",
       "      <td>O925693</td>\n",
       "      <td>DRIVER</td>\n",
       "      <td>b19286bd551b80e04f20663d46a3fae8238a8f40ddee4c...</td>\n",
       "      <td>JD310543</td>\n",
       "      <td>877642.0</td>\n",
       "      <td>07/26/2020 11:50:00 AM</td>\n",
       "      <td>NaN</td>\n",
       "      <td>CHICAGO</td>\n",
       "      <td>IL</td>\n",
       "      <td>60638</td>\n",
       "      <td>...</td>\n",
       "      <td>NaN</td>\n",
       "      <td>UNKNOWN</td>\n",
       "      <td>UNKNOWN</td>\n",
       "      <td>NORMAL</td>\n",
       "      <td>NaN</td>\n",
       "      <td>NaN</td>\n",
       "      <td>NaN</td>\n",
       "      <td>TEST NOT OFFERED</td>\n",
       "      <td>NaN</td>\n",
       "      <td>NaN</td>\n",
       "    </tr>\n",
       "    <tr>\n",
       "      <th>...</th>\n",
       "      <td>...</td>\n",
       "      <td>...</td>\n",
       "      <td>...</td>\n",
       "      <td>...</td>\n",
       "      <td>...</td>\n",
       "      <td>...</td>\n",
       "      <td>...</td>\n",
       "      <td>...</td>\n",
       "      <td>...</td>\n",
       "      <td>...</td>\n",
       "      <td>...</td>\n",
       "      <td>...</td>\n",
       "      <td>...</td>\n",
       "      <td>...</td>\n",
       "      <td>...</td>\n",
       "      <td>...</td>\n",
       "      <td>...</td>\n",
       "      <td>...</td>\n",
       "      <td>...</td>\n",
       "      <td>...</td>\n",
       "      <td>...</td>\n",
       "    </tr>\n",
       "    <tr>\n",
       "      <th>82033</th>\n",
       "      <td>O925763</td>\n",
       "      <td>DRIVER</td>\n",
       "      <td>51754a24fdb04a18409ffd68b1a65fd35af77cf5d3cd7e...</td>\n",
       "      <td>JD310672</td>\n",
       "      <td>877723.0</td>\n",
       "      <td>07/25/2020 04:05:00 PM</td>\n",
       "      <td>NaN</td>\n",
       "      <td>NaN</td>\n",
       "      <td>NaN</td>\n",
       "      <td>NaN</td>\n",
       "      <td>...</td>\n",
       "      <td>NaN</td>\n",
       "      <td>UNKNOWN</td>\n",
       "      <td>UNKNOWN</td>\n",
       "      <td>UNKNOWN</td>\n",
       "      <td>NaN</td>\n",
       "      <td>NaN</td>\n",
       "      <td>NaN</td>\n",
       "      <td>TEST NOT OFFERED</td>\n",
       "      <td>NaN</td>\n",
       "      <td>NaN</td>\n",
       "    </tr>\n",
       "    <tr>\n",
       "      <th>82034</th>\n",
       "      <td>O925764</td>\n",
       "      <td>DRIVER</td>\n",
       "      <td>51754a24fdb04a18409ffd68b1a65fd35af77cf5d3cd7e...</td>\n",
       "      <td>JD310672</td>\n",
       "      <td>877714.0</td>\n",
       "      <td>07/25/2020 04:05:00 PM</td>\n",
       "      <td>NaN</td>\n",
       "      <td>CHICAGO</td>\n",
       "      <td>IL</td>\n",
       "      <td>60644</td>\n",
       "      <td>...</td>\n",
       "      <td>NaN</td>\n",
       "      <td>UNKNOWN</td>\n",
       "      <td>UNKNOWN</td>\n",
       "      <td>NORMAL</td>\n",
       "      <td>NaN</td>\n",
       "      <td>NaN</td>\n",
       "      <td>NaN</td>\n",
       "      <td>TEST NOT OFFERED</td>\n",
       "      <td>NaN</td>\n",
       "      <td>NaN</td>\n",
       "    </tr>\n",
       "    <tr>\n",
       "      <th>82035</th>\n",
       "      <td>O925861</td>\n",
       "      <td>DRIVER</td>\n",
       "      <td>5d7eca39355a59a295fc915e811bf504f04a0da234e32d...</td>\n",
       "      <td>JD310847</td>\n",
       "      <td>877793.0</td>\n",
       "      <td>07/25/2020 04:30:00 PM</td>\n",
       "      <td>NaN</td>\n",
       "      <td>CHICAGO</td>\n",
       "      <td>IL</td>\n",
       "      <td>60653</td>\n",
       "      <td>...</td>\n",
       "      <td>NaN</td>\n",
       "      <td>UNKNOWN</td>\n",
       "      <td>UNKNOWN</td>\n",
       "      <td>UNKNOWN</td>\n",
       "      <td>NaN</td>\n",
       "      <td>NaN</td>\n",
       "      <td>NaN</td>\n",
       "      <td>TEST NOT OFFERED</td>\n",
       "      <td>NaN</td>\n",
       "      <td>NaN</td>\n",
       "    </tr>\n",
       "    <tr>\n",
       "      <th>82036</th>\n",
       "      <td>O925862</td>\n",
       "      <td>DRIVER</td>\n",
       "      <td>5d7eca39355a59a295fc915e811bf504f04a0da234e32d...</td>\n",
       "      <td>JD310847</td>\n",
       "      <td>877796.0</td>\n",
       "      <td>07/25/2020 04:30:00 PM</td>\n",
       "      <td>NaN</td>\n",
       "      <td>NaN</td>\n",
       "      <td>NaN</td>\n",
       "      <td>NaN</td>\n",
       "      <td>...</td>\n",
       "      <td>NaN</td>\n",
       "      <td>UNKNOWN</td>\n",
       "      <td>UNKNOWN</td>\n",
       "      <td>UNKNOWN</td>\n",
       "      <td>NaN</td>\n",
       "      <td>NaN</td>\n",
       "      <td>NaN</td>\n",
       "      <td>TEST NOT OFFERED</td>\n",
       "      <td>NaN</td>\n",
       "      <td>NaN</td>\n",
       "    </tr>\n",
       "    <tr>\n",
       "      <th>82037</th>\n",
       "      <td>O926196</td>\n",
       "      <td>DRIVER</td>\n",
       "      <td>8fea6d3992e397cf1865991bcc8ca4ecdf30654da7d045...</td>\n",
       "      <td>JD311368</td>\n",
       "      <td>878118.0</td>\n",
       "      <td>07/25/2020 11:00:00 PM</td>\n",
       "      <td>NaN</td>\n",
       "      <td>NaN</td>\n",
       "      <td>NaN</td>\n",
       "      <td>NaN</td>\n",
       "      <td>...</td>\n",
       "      <td>NaN</td>\n",
       "      <td>UNKNOWN</td>\n",
       "      <td>UNKNOWN</td>\n",
       "      <td>UNKNOWN</td>\n",
       "      <td>NaN</td>\n",
       "      <td>NaN</td>\n",
       "      <td>NaN</td>\n",
       "      <td>TEST NOT OFFERED</td>\n",
       "      <td>NaN</td>\n",
       "      <td>NaN</td>\n",
       "    </tr>\n",
       "  </tbody>\n",
       "</table>\n",
       "<p>64835 rows × 30 columns</p>\n",
       "</div>"
      ],
      "text/plain": [
       "      PERSON_ID PERSON_TYPE  \\\n",
       "0       O925562      DRIVER   \n",
       "1       O925563      DRIVER   \n",
       "2       O925608      DRIVER   \n",
       "3       O925609      DRIVER   \n",
       "4       O925693      DRIVER   \n",
       "...         ...         ...   \n",
       "82033   O925763      DRIVER   \n",
       "82034   O925764      DRIVER   \n",
       "82035   O925861      DRIVER   \n",
       "82036   O925862      DRIVER   \n",
       "82037   O926196      DRIVER   \n",
       "\n",
       "                                         CRASH_RECORD_ID     RD_NO  \\\n",
       "0      70a18f80d33a3e2bdde9f21c7c0cafaa8d133285c2a395...  JD310165   \n",
       "1      70a18f80d33a3e2bdde9f21c7c0cafaa8d133285c2a395...  JD310165   \n",
       "2      35b6535a691e99e723bb7322a02fcf5e478f356bad52e1...  JD310239   \n",
       "3      35b6535a691e99e723bb7322a02fcf5e478f356bad52e1...  JD310239   \n",
       "4      b19286bd551b80e04f20663d46a3fae8238a8f40ddee4c...  JD310543   \n",
       "...                                                  ...       ...   \n",
       "82033  51754a24fdb04a18409ffd68b1a65fd35af77cf5d3cd7e...  JD310672   \n",
       "82034  51754a24fdb04a18409ffd68b1a65fd35af77cf5d3cd7e...  JD310672   \n",
       "82035  5d7eca39355a59a295fc915e811bf504f04a0da234e32d...  JD310847   \n",
       "82036  5d7eca39355a59a295fc915e811bf504f04a0da234e32d...  JD310847   \n",
       "82037  8fea6d3992e397cf1865991bcc8ca4ecdf30654da7d045...  JD311368   \n",
       "\n",
       "       VEHICLE_ID              CRASH_DATE  SEAT_NO      CITY STATE ZIPCODE  \\\n",
       "0        877509.0  07/26/2020 01:50:00 AM      NaN       NaN   NaN     NaN   \n",
       "1        877518.0  07/26/2020 01:50:00 AM      NaN   CHICAGO    IL   60653   \n",
       "2        877558.0  07/26/2020 03:44:00 AM      NaN       NaN   NaN     NaN   \n",
       "3        877560.0  07/26/2020 03:44:00 AM      NaN  EVANSTON    IL   60201   \n",
       "4        877642.0  07/26/2020 11:50:00 AM      NaN   CHICAGO    IL   60638   \n",
       "...           ...                     ...      ...       ...   ...     ...   \n",
       "82033    877723.0  07/25/2020 04:05:00 PM      NaN       NaN   NaN     NaN   \n",
       "82034    877714.0  07/25/2020 04:05:00 PM      NaN   CHICAGO    IL   60644   \n",
       "82035    877793.0  07/25/2020 04:30:00 PM      NaN   CHICAGO    IL   60653   \n",
       "82036    877796.0  07/25/2020 04:30:00 PM      NaN       NaN   NaN     NaN   \n",
       "82037    878118.0  07/25/2020 11:00:00 PM      NaN       NaN   NaN     NaN   \n",
       "\n",
       "       ... EMS_RUN_NO  DRIVER_ACTION DRIVER_VISION PHYSICAL_CONDITION  \\\n",
       "0      ...        NaN        UNKNOWN       UNKNOWN            UNKNOWN   \n",
       "1      ...        NaN          OTHER       UNKNOWN             NORMAL   \n",
       "2      ...        NaN        UNKNOWN       UNKNOWN            UNKNOWN   \n",
       "3      ...        NaN        UNKNOWN       UNKNOWN             NORMAL   \n",
       "4      ...        NaN        UNKNOWN       UNKNOWN             NORMAL   \n",
       "...    ...        ...            ...           ...                ...   \n",
       "82033  ...        NaN        UNKNOWN       UNKNOWN            UNKNOWN   \n",
       "82034  ...        NaN        UNKNOWN       UNKNOWN             NORMAL   \n",
       "82035  ...        NaN        UNKNOWN       UNKNOWN            UNKNOWN   \n",
       "82036  ...        NaN        UNKNOWN       UNKNOWN            UNKNOWN   \n",
       "82037  ...        NaN        UNKNOWN       UNKNOWN            UNKNOWN   \n",
       "\n",
       "      PEDPEDAL_ACTION PEDPEDAL_VISIBILITY PEDPEDAL_LOCATION        BAC_RESULT  \\\n",
       "0                 NaN                 NaN               NaN  TEST NOT OFFERED   \n",
       "1                 NaN                 NaN               NaN  TEST NOT OFFERED   \n",
       "2                 NaN                 NaN               NaN      TEST REFUSED   \n",
       "3                 NaN                 NaN               NaN  TEST NOT OFFERED   \n",
       "4                 NaN                 NaN               NaN  TEST NOT OFFERED   \n",
       "...               ...                 ...               ...               ...   \n",
       "82033             NaN                 NaN               NaN  TEST NOT OFFERED   \n",
       "82034             NaN                 NaN               NaN  TEST NOT OFFERED   \n",
       "82035             NaN                 NaN               NaN  TEST NOT OFFERED   \n",
       "82036             NaN                 NaN               NaN  TEST NOT OFFERED   \n",
       "82037             NaN                 NaN               NaN  TEST NOT OFFERED   \n",
       "\n",
       "      BAC_RESULT VALUE CELL_PHONE_USE  \n",
       "0                  NaN            NaN  \n",
       "1                  NaN            NaN  \n",
       "2                  NaN            NaN  \n",
       "3                  NaN            NaN  \n",
       "4                  NaN            NaN  \n",
       "...                ...            ...  \n",
       "82033              NaN            NaN  \n",
       "82034              NaN            NaN  \n",
       "82035              NaN            NaN  \n",
       "82036              NaN            NaN  \n",
       "82037              NaN            NaN  \n",
       "\n",
       "[64835 rows x 30 columns]"
      ]
     },
     "execution_count": 26,
     "metadata": {},
     "output_type": "execute_result"
    }
   ],
   "source": [
    "display(people_sample[people_sample['PERSON_ID'].str.match('P')]) #17,214 rows start with \"P\"\n",
    "people_sample[people_sample['PERSON_ID'].str.match('O')] #64,835 rows start with \"O\""
   ]
  },
  {
   "cell_type": "code",
   "execution_count": 29,
   "metadata": {},
   "outputs": [],
   "source": [
    "from datetime import datetime\n",
    "my_datetime = datetime.strptime('07/26/2020 01:50:00 AM', '%m/%d/%Y %H:%M:%S %p') \n",
    "people_trail = people_sample[[\"CRASH_DATE\"]]"
   ]
  },
  {
   "cell_type": "code",
   "execution_count": 32,
   "metadata": {},
   "outputs": [
    {
     "data": {
      "text/html": [
       "<div>\n",
       "<style scoped>\n",
       "    .dataframe tbody tr th:only-of-type {\n",
       "        vertical-align: middle;\n",
       "    }\n",
       "\n",
       "    .dataframe tbody tr th {\n",
       "        vertical-align: top;\n",
       "    }\n",
       "\n",
       "    .dataframe thead th {\n",
       "        text-align: right;\n",
       "    }\n",
       "</style>\n",
       "<table border=\"1\" class=\"dataframe\">\n",
       "  <thead>\n",
       "    <tr style=\"text-align: right;\">\n",
       "      <th></th>\n",
       "      <th>CRASH_DATE</th>\n",
       "    </tr>\n",
       "  </thead>\n",
       "  <tbody>\n",
       "    <tr>\n",
       "      <th>0</th>\n",
       "      <td>07/26/2020 01:50:00 AM</td>\n",
       "    </tr>\n",
       "    <tr>\n",
       "      <th>1</th>\n",
       "      <td>07/26/2020 01:50:00 AM</td>\n",
       "    </tr>\n",
       "    <tr>\n",
       "      <th>2</th>\n",
       "      <td>07/26/2020 03:44:00 AM</td>\n",
       "    </tr>\n",
       "    <tr>\n",
       "      <th>3</th>\n",
       "      <td>07/26/2020 03:44:00 AM</td>\n",
       "    </tr>\n",
       "    <tr>\n",
       "      <th>4</th>\n",
       "      <td>07/26/2020 11:50:00 AM</td>\n",
       "    </tr>\n",
       "    <tr>\n",
       "      <th>...</th>\n",
       "      <td>...</td>\n",
       "    </tr>\n",
       "    <tr>\n",
       "      <th>82044</th>\n",
       "      <td>07/25/2020 04:50:00 PM</td>\n",
       "    </tr>\n",
       "    <tr>\n",
       "      <th>82045</th>\n",
       "      <td>07/25/2020 05:25:00 PM</td>\n",
       "    </tr>\n",
       "    <tr>\n",
       "      <th>82046</th>\n",
       "      <td>07/25/2020 05:25:00 PM</td>\n",
       "    </tr>\n",
       "    <tr>\n",
       "      <th>82047</th>\n",
       "      <td>07/25/2020 05:25:00 PM</td>\n",
       "    </tr>\n",
       "    <tr>\n",
       "      <th>82048</th>\n",
       "      <td>07/25/2020 06:04:00 PM</td>\n",
       "    </tr>\n",
       "  </tbody>\n",
       "</table>\n",
       "<p>82049 rows × 1 columns</p>\n",
       "</div>"
      ],
      "text/plain": [
       "                   CRASH_DATE\n",
       "0      07/26/2020 01:50:00 AM\n",
       "1      07/26/2020 01:50:00 AM\n",
       "2      07/26/2020 03:44:00 AM\n",
       "3      07/26/2020 03:44:00 AM\n",
       "4      07/26/2020 11:50:00 AM\n",
       "...                       ...\n",
       "82044  07/25/2020 04:50:00 PM\n",
       "82045  07/25/2020 05:25:00 PM\n",
       "82046  07/25/2020 05:25:00 PM\n",
       "82047  07/25/2020 05:25:00 PM\n",
       "82048  07/25/2020 06:04:00 PM\n",
       "\n",
       "[82049 rows x 1 columns]"
      ]
     },
     "execution_count": 32,
     "metadata": {},
     "output_type": "execute_result"
    }
   ],
   "source": [
    "people_trail"
   ]
  },
  {
   "cell_type": "code",
   "execution_count": 5,
   "metadata": {},
   "outputs": [],
   "source": [
    "# test on cramers_correction\n",
    "\n",
    "def cramers_corrected_stat(confusion_matrix):\n",
    "    \"\"\" calculate Cramers V statistic for categorial-categorial association.\n",
    "        uses correction from Bergsma and Wicher, \n",
    "        Journal of the Korean Statistical Society 42 (2013): 323-328\n",
    "    \"\"\"\n",
    "    chi2 = ss.chi2_contingency(confusion_matrix)[0]\n",
    "    n = confusion_matrix.sum()\n",
    "    phi2 = chi2/n\n",
    "    r,k = confusion_matrix.shape\n",
    "    phi2corr = max(0, phi2 - ((k-1)*(r-1))/(n-1))    \n",
    "    rcorr = r - ((r-1)**2)/(n-1)\n",
    "    kcorr = k - ((k-1)**2)/(n-1)\n",
    "    return np.sqrt(phi2corr / min( (kcorr-1), (rcorr-1)))"
   ]
  },
  {
   "cell_type": "code",
   "execution_count": 19,
   "metadata": {},
   "outputs": [
    {
     "data": {
      "text/html": [
       "<div>\n",
       "<style scoped>\n",
       "    .dataframe tbody tr th:only-of-type {\n",
       "        vertical-align: middle;\n",
       "    }\n",
       "\n",
       "    .dataframe tbody tr th {\n",
       "        vertical-align: top;\n",
       "    }\n",
       "\n",
       "    .dataframe thead th {\n",
       "        text-align: right;\n",
       "    }\n",
       "</style>\n",
       "<table border=\"1\" class=\"dataframe\">\n",
       "  <thead>\n",
       "    <tr style=\"text-align: right;\">\n",
       "      <th>INJURY_CLASSIFICATION</th>\n",
       "      <th>FATAL</th>\n",
       "      <th>INCAPACITATING INJURY</th>\n",
       "      <th>NO INDICATION OF INJURY</th>\n",
       "      <th>NONINCAPACITATING INJURY</th>\n",
       "      <th>REPORTED, NOT EVIDENT</th>\n",
       "    </tr>\n",
       "    <tr>\n",
       "      <th>PERSON_TYPE</th>\n",
       "      <th></th>\n",
       "      <th></th>\n",
       "      <th></th>\n",
       "      <th></th>\n",
       "      <th></th>\n",
       "    </tr>\n",
       "  </thead>\n",
       "  <tbody>\n",
       "    <tr>\n",
       "      <th>BICYCLE</th>\n",
       "      <td>3</td>\n",
       "      <td>59</td>\n",
       "      <td>176</td>\n",
       "      <td>296</td>\n",
       "      <td>59</td>\n",
       "    </tr>\n",
       "    <tr>\n",
       "      <th>DRIVER</th>\n",
       "      <td>26</td>\n",
       "      <td>416</td>\n",
       "      <td>59095</td>\n",
       "      <td>2242</td>\n",
       "      <td>1343</td>\n",
       "    </tr>\n",
       "    <tr>\n",
       "      <th>NON-CONTACT VEHICLE</th>\n",
       "      <td>0</td>\n",
       "      <td>0</td>\n",
       "      <td>10</td>\n",
       "      <td>0</td>\n",
       "      <td>0</td>\n",
       "    </tr>\n",
       "    <tr>\n",
       "      <th>NON-MOTOR VEHICLE</th>\n",
       "      <td>0</td>\n",
       "      <td>0</td>\n",
       "      <td>53</td>\n",
       "      <td>2</td>\n",
       "      <td>3</td>\n",
       "    </tr>\n",
       "    <tr>\n",
       "      <th>PASSENGER</th>\n",
       "      <td>4</td>\n",
       "      <td>182</td>\n",
       "      <td>15145</td>\n",
       "      <td>1086</td>\n",
       "      <td>774</td>\n",
       "    </tr>\n",
       "    <tr>\n",
       "      <th>PEDESTRIAN</th>\n",
       "      <td>8</td>\n",
       "      <td>166</td>\n",
       "      <td>133</td>\n",
       "      <td>563</td>\n",
       "      <td>155</td>\n",
       "    </tr>\n",
       "  </tbody>\n",
       "</table>\n",
       "</div>"
      ],
      "text/plain": [
       "INJURY_CLASSIFICATION  FATAL  INCAPACITATING INJURY  NO INDICATION OF INJURY  \\\n",
       "PERSON_TYPE                                                                    \n",
       "BICYCLE                    3                     59                      176   \n",
       "DRIVER                    26                    416                    59095   \n",
       "NON-CONTACT VEHICLE        0                      0                       10   \n",
       "NON-MOTOR VEHICLE          0                      0                       53   \n",
       "PASSENGER                  4                    182                    15145   \n",
       "PEDESTRIAN                 8                    166                      133   \n",
       "\n",
       "INJURY_CLASSIFICATION  NONINCAPACITATING INJURY  REPORTED, NOT EVIDENT  \n",
       "PERSON_TYPE                                                             \n",
       "BICYCLE                                     296                     59  \n",
       "DRIVER                                     2242                   1343  \n",
       "NON-CONTACT VEHICLE                           0                      0  \n",
       "NON-MOTOR VEHICLE                             2                      3  \n",
       "PASSENGER                                  1086                    774  \n",
       "PEDESTRIAN                                  563                    155  "
      ]
     },
     "execution_count": 19,
     "metadata": {},
     "output_type": "execute_result"
    }
   ],
   "source": [
    "# test the correlation between PERSON_TYPE and INJURY_CLASSIFICATION\n",
    "confusion_matrix = pd.crosstab(people_sample['PERSON_TYPE'], people_sample['INJURY_CLASSIFICATION'])\n",
    "confusion_matrix"
   ]
  },
  {
   "cell_type": "code",
   "execution_count": 24,
   "metadata": {},
   "outputs": [],
   "source": [
    "corr_matrix = confusion_matrix.corr()"
   ]
  },
  {
   "cell_type": "code",
   "execution_count": 25,
   "metadata": {},
   "outputs": [
    {
     "data": {
      "image/png": "[encoded data removed]",
      "text/plain": [
       "<Figure size 576x432 with 2 Axes>"
      ]
     },
     "metadata": {
      "needs_background": "light"
     },
     "output_type": "display_data"
    }
   ],
   "source": [
    "# Create correlation heatmap\n",
    "plt.figure(figsize=(8,6))\n",
    "plt.title('Correlation Heatmap of People_Sample')\n",
    "a = sns.heatmap(corr_matrix, square=True, annot=True, fmt='.2f', linecolor='black')\n",
    "a.set_xticklabels(a.get_xticklabels(), rotation=30)\n",
    "a.set_yticklabels(a.get_yticklabels(), rotation=30)           \n",
    "plt.show()    "
   ]
  },
  {
   "cell_type": "code",
   "execution_count": 48,
   "metadata": {},
   "outputs": [
    {
     "data": {
      "text/html": [
       "<div>\n",
       "<style scoped>\n",
       "    .dataframe tbody tr th:only-of-type {\n",
       "        vertical-align: middle;\n",
       "    }\n",
       "\n",
       "    .dataframe tbody tr th {\n",
       "        vertical-align: top;\n",
       "    }\n",
       "\n",
       "    .dataframe thead th {\n",
       "        text-align: right;\n",
       "    }\n",
       "</style>\n",
       "<table border=\"1\" class=\"dataframe\">\n",
       "  <thead>\n",
       "    <tr style=\"text-align: right;\">\n",
       "      <th>INJURY_CLASSIFICATION</th>\n",
       "      <th>FATAL</th>\n",
       "      <th>INCAPACITATING INJURY</th>\n",
       "      <th>NO INDICATION OF INJURY</th>\n",
       "      <th>NONINCAPACITATING INJURY</th>\n",
       "      <th>REPORTED, NOT EVIDENT</th>\n",
       "    </tr>\n",
       "    <tr>\n",
       "      <th>PERSON_TYPE</th>\n",
       "      <th></th>\n",
       "      <th></th>\n",
       "      <th></th>\n",
       "      <th></th>\n",
       "      <th></th>\n",
       "    </tr>\n",
       "  </thead>\n",
       "  <tbody>\n",
       "    <tr>\n",
       "      <th>BICYCLE</th>\n",
       "      <td>3</td>\n",
       "      <td>59</td>\n",
       "      <td>176</td>\n",
       "      <td>296</td>\n",
       "      <td>59</td>\n",
       "    </tr>\n",
       "    <tr>\n",
       "      <th>DRIVER</th>\n",
       "      <td>26</td>\n",
       "      <td>416</td>\n",
       "      <td>59095</td>\n",
       "      <td>2242</td>\n",
       "      <td>1343</td>\n",
       "    </tr>\n",
       "    <tr>\n",
       "      <th>NON-CONTACT VEHICLE</th>\n",
       "      <td>0</td>\n",
       "      <td>0</td>\n",
       "      <td>10</td>\n",
       "      <td>0</td>\n",
       "      <td>0</td>\n",
       "    </tr>\n",
       "    <tr>\n",
       "      <th>NON-MOTOR VEHICLE</th>\n",
       "      <td>0</td>\n",
       "      <td>0</td>\n",
       "      <td>53</td>\n",
       "      <td>2</td>\n",
       "      <td>3</td>\n",
       "    </tr>\n",
       "    <tr>\n",
       "      <th>PASSENGER</th>\n",
       "      <td>4</td>\n",
       "      <td>182</td>\n",
       "      <td>15145</td>\n",
       "      <td>1086</td>\n",
       "      <td>774</td>\n",
       "    </tr>\n",
       "    <tr>\n",
       "      <th>PEDESTRIAN</th>\n",
       "      <td>8</td>\n",
       "      <td>166</td>\n",
       "      <td>133</td>\n",
       "      <td>563</td>\n",
       "      <td>155</td>\n",
       "    </tr>\n",
       "  </tbody>\n",
       "</table>\n",
       "</div>"
      ],
      "text/plain": [
       "INJURY_CLASSIFICATION  FATAL  INCAPACITATING INJURY  NO INDICATION OF INJURY  \\\n",
       "PERSON_TYPE                                                                    \n",
       "BICYCLE                    3                     59                      176   \n",
       "DRIVER                    26                    416                    59095   \n",
       "NON-CONTACT VEHICLE        0                      0                       10   \n",
       "NON-MOTOR VEHICLE          0                      0                       53   \n",
       "PASSENGER                  4                    182                    15145   \n",
       "PEDESTRIAN                 8                    166                      133   \n",
       "\n",
       "INJURY_CLASSIFICATION  NONINCAPACITATING INJURY  REPORTED, NOT EVIDENT  \n",
       "PERSON_TYPE                                                             \n",
       "BICYCLE                                     296                     59  \n",
       "DRIVER                                     2242                   1343  \n",
       "NON-CONTACT VEHICLE                           0                      0  \n",
       "NON-MOTOR VEHICLE                             2                      3  \n",
       "PASSENGER                                  1086                    774  \n",
       "PEDESTRIAN                                  563                    155  "
      ]
     },
     "execution_count": 48,
     "metadata": {},
     "output_type": "execute_result"
    }
   ],
   "source": [
    "confusion_matrix = pd.crosstab(people_sample['PERSON_TYPE'], people_sample['INJURY_CLASSIFICATION'])\n",
    "confusion_matrix"
   ]
  },
  {
   "cell_type": "code",
   "execution_count": 51,
   "metadata": {},
   "outputs": [
    {
     "data": {
      "image/png": "[encoded data removed]",
      "text/plain": [
       "<Figure size 504x432 with 2 Axes>"
      ]
     },
     "metadata": {
      "needs_background": "light"
     },
     "output_type": "display_data"
    }
   ],
   "source": [
    "def cramers_corrected_stat(confusion_matrix):\n",
    "    \"\"\" calculate Cramers V statistic for categorical-categorical association.\n",
    "        uses correction from Bergsma and Wicher, \n",
    "        Journal of the Korean Statistical Society 42 (2013): 323-328\n",
    "    \"\"\"\n",
    "    chi2 = ss.chi2_contingency(confusion_matrix)[0]\n",
    "    n = confusion_matrix.sum().sum()\n",
    "    phi2 = chi2/n\n",
    "    r,k = confusion_matrix.shape\n",
    "    phi2corr = max(0, phi2 - ((k-1)*(r-1))/(n-1))    \n",
    "    rcorr = r - ((r-1)**2)/(n-1)\n",
    "    kcorr = k - ((k-1)**2)/(n-1)\n",
    "    return np.sqrt(phi2corr / min( (kcorr-1), (rcorr-1)))\n",
    "\n",
    "cols = [\"PERSON_TYPE\", \"SAFETY_EQUIPMENT\", \"AIRBAG_DEPLOYED\", \"EJECTION\", \"INJURY_CLASSIFICATION\", \"DRIVER_ACTION\", \"DRIVER_VISION\", \"PHYSICAL_CONDITION\", \"BAC_RESULT\"]\n",
    "corrM = np.zeros((len(cols),len(cols)))\n",
    "# there's probably a nice pandas way to do this\n",
    "for col1, col2 in itertools.combinations(cols, 2):\n",
    "    idx1, idx2 = cols.index(col1), cols.index(col2)\n",
    "    corrM[idx1, idx2] = cramers_corrected_stat(pd.crosstab(people_sample[col1], people_sample[col2]))\n",
    "    corrM[idx2, idx1] = corrM[idx1, idx2]\n",
    "\n",
    "corr = pd.DataFrame(corrM, index=cols, columns=cols)\n",
    "fig, ax = plt.subplots(figsize=(7, 6))\n",
    "ax = sns.heatmap(corr, annot=True, ax=ax); ax.set_title(\"Cramer V Correlation between Variables\");"
   ]
  },
  {
   "cell_type": "code",
   "execution_count": 52,
   "metadata": {},
   "outputs": [],
   "source": [
    "import scipy.stats as ss\n",
    "def cramers_v(x, y):\n",
    "    confusion_matrix = pd.crosstab(x,y)\n",
    "    chi2 = ss.chi2_contingency(confusion_matrix)[0]\n",
    "    n = confusion_matrix.sum().sum()\n",
    "    phi2 = chi2/n\n",
    "    r,k = confusion_matrix.shape\n",
    "    phi2corr = max(0, phi2-((k-1)*(r-1))/(n-1))\n",
    "    rcorr = r-((r-1)**2)/(n-1)\n",
    "    kcorr = k-((k-1)**2)/(n-1)\n",
    "    return np.sqrt(phi2corr/min((kcorr-1),(rcorr-1)))"
   ]
  },
  {
   "cell_type": "code",
   "execution_count": 33,
   "metadata": {},
   "outputs": [
    {
     "data": {
      "text/plain": [
       "0.19605242416337476"
      ]
     },
     "execution_count": 33,
     "metadata": {},
     "output_type": "execute_result"
    }
   ],
   "source": [
    "cramers_v(people_sample['PERSON_TYPE'], people_sample['INJURY_CLASSIFICATION'])"
   ]
  },
  {
   "cell_type": "code",
   "execution_count": 37,
   "metadata": {},
   "outputs": [],
   "source": [
    "import itertools"
   ]
  },
  {
   "cell_type": "code",
   "execution_count": 56,
   "metadata": {},
   "outputs": [
    {
     "data": {
      "text/html": [
       "<div>\n",
       "<style scoped>\n",
       "    .dataframe tbody tr th:only-of-type {\n",
       "        vertical-align: middle;\n",
       "    }\n",
       "\n",
       "    .dataframe tbody tr th {\n",
       "        vertical-align: top;\n",
       "    }\n",
       "\n",
       "    .dataframe thead th {\n",
       "        text-align: right;\n",
       "    }\n",
       "</style>\n",
       "<table border=\"1\" class=\"dataframe\">\n",
       "  <thead>\n",
       "    <tr style=\"text-align: right;\">\n",
       "      <th></th>\n",
       "      <th>VEHICLE_ID</th>\n",
       "      <th>SEAT_NO</th>\n",
       "      <th>AGE</th>\n",
       "      <th>BAC_RESULT VALUE</th>\n",
       "    </tr>\n",
       "  </thead>\n",
       "  <tbody>\n",
       "    <tr>\n",
       "      <th>count</th>\n",
       "      <td>80306.000000</td>\n",
       "      <td>17214.000000</td>\n",
       "      <td>59254.000000</td>\n",
       "      <td>134.000000</td>\n",
       "    </tr>\n",
       "    <tr>\n",
       "      <th>mean</th>\n",
       "      <td>602088.561652</td>\n",
       "      <td>4.193099</td>\n",
       "      <td>37.805633</td>\n",
       "      <td>0.169328</td>\n",
       "    </tr>\n",
       "    <tr>\n",
       "      <th>std</th>\n",
       "      <td>214429.123290</td>\n",
       "      <td>2.235407</td>\n",
       "      <td>17.150075</td>\n",
       "      <td>0.087447</td>\n",
       "    </tr>\n",
       "    <tr>\n",
       "      <th>min</th>\n",
       "      <td>224185.000000</td>\n",
       "      <td>1.000000</td>\n",
       "      <td>0.000000</td>\n",
       "      <td>0.000000</td>\n",
       "    </tr>\n",
       "    <tr>\n",
       "      <th>25%</th>\n",
       "      <td>414668.250000</td>\n",
       "      <td>3.000000</td>\n",
       "      <td>25.000000</td>\n",
       "      <td>0.120000</td>\n",
       "    </tr>\n",
       "    <tr>\n",
       "      <th>50%</th>\n",
       "      <td>606222.500000</td>\n",
       "      <td>3.000000</td>\n",
       "      <td>35.000000</td>\n",
       "      <td>0.170000</td>\n",
       "    </tr>\n",
       "    <tr>\n",
       "      <th>75%</th>\n",
       "      <td>795201.000000</td>\n",
       "      <td>6.000000</td>\n",
       "      <td>50.000000</td>\n",
       "      <td>0.210000</td>\n",
       "    </tr>\n",
       "    <tr>\n",
       "      <th>max</th>\n",
       "      <td>920208.000000</td>\n",
       "      <td>12.000000</td>\n",
       "      <td>110.000000</td>\n",
       "      <td>0.440000</td>\n",
       "    </tr>\n",
       "  </tbody>\n",
       "</table>\n",
       "</div>"
      ],
      "text/plain": [
       "          VEHICLE_ID       SEAT_NO           AGE  BAC_RESULT VALUE\n",
       "count   80306.000000  17214.000000  59254.000000        134.000000\n",
       "mean   602088.561652      4.193099     37.805633          0.169328\n",
       "std    214429.123290      2.235407     17.150075          0.087447\n",
       "min    224185.000000      1.000000      0.000000          0.000000\n",
       "25%    414668.250000      3.000000     25.000000          0.120000\n",
       "50%    606222.500000      3.000000     35.000000          0.170000\n",
       "75%    795201.000000      6.000000     50.000000          0.210000\n",
       "max    920208.000000     12.000000    110.000000          0.440000"
      ]
     },
     "execution_count": 56,
     "metadata": {},
     "output_type": "execute_result"
    }
   ],
   "source": [
    "people_sample.describe()"
   ]
  },
  {
   "cell_type": "code",
   "execution_count": 57,
   "metadata": {},
   "outputs": [
    {
     "data": {
      "text/html": [
       "<div>\n",
       "<style scoped>\n",
       "    .dataframe tbody tr th:only-of-type {\n",
       "        vertical-align: middle;\n",
       "    }\n",
       "\n",
       "    .dataframe tbody tr th {\n",
       "        vertical-align: top;\n",
       "    }\n",
       "\n",
       "    .dataframe thead th {\n",
       "        text-align: right;\n",
       "    }\n",
       "</style>\n",
       "<table border=\"1\" class=\"dataframe\">\n",
       "  <thead>\n",
       "    <tr style=\"text-align: right;\">\n",
       "      <th></th>\n",
       "      <th>POSTED_SPEED_LIMIT</th>\n",
       "      <th>LANE_CNT</th>\n",
       "      <th>STREET_NO</th>\n",
       "      <th>BEAT_OF_OCCURRENCE</th>\n",
       "      <th>NUM_UNITS</th>\n",
       "      <th>INJURIES_TOTAL</th>\n",
       "      <th>INJURIES_FATAL</th>\n",
       "      <th>INJURIES_INCAPACITATING</th>\n",
       "      <th>INJURIES_NON_INCAPACITATING</th>\n",
       "      <th>INJURIES_REPORTED_NOT_EVIDENT</th>\n",
       "      <th>INJURIES_NO_INDICATION</th>\n",
       "      <th>INJURIES_UNKNOWN</th>\n",
       "      <th>CRASH_HOUR</th>\n",
       "      <th>CRASH_DAY_OF_WEEK</th>\n",
       "      <th>CRASH_MONTH</th>\n",
       "      <th>LATITUDE</th>\n",
       "      <th>LONGITUDE</th>\n",
       "    </tr>\n",
       "  </thead>\n",
       "  <tbody>\n",
       "    <tr>\n",
       "      <th>count</th>\n",
       "      <td>33408.000000</td>\n",
       "      <td>10996.000000</td>\n",
       "      <td>33408.000000</td>\n",
       "      <td>33408.000000</td>\n",
       "      <td>33408.000000</td>\n",
       "      <td>33324.000000</td>\n",
       "      <td>33324.00000</td>\n",
       "      <td>33324.000000</td>\n",
       "      <td>33324.000000</td>\n",
       "      <td>33324.000000</td>\n",
       "      <td>33324.000000</td>\n",
       "      <td>33324.0</td>\n",
       "      <td>33408.000000</td>\n",
       "      <td>33408.000000</td>\n",
       "      <td>33408.000000</td>\n",
       "      <td>33215.000000</td>\n",
       "      <td>33215.000000</td>\n",
       "    </tr>\n",
       "    <tr>\n",
       "      <th>mean</th>\n",
       "      <td>28.420318</td>\n",
       "      <td>2.498272</td>\n",
       "      <td>3662.141134</td>\n",
       "      <td>1250.213332</td>\n",
       "      <td>2.037895</td>\n",
       "      <td>0.195205</td>\n",
       "      <td>0.00108</td>\n",
       "      <td>0.021936</td>\n",
       "      <td>0.109501</td>\n",
       "      <td>0.062688</td>\n",
       "      <td>2.030729</td>\n",
       "      <td>0.0</td>\n",
       "      <td>13.152029</td>\n",
       "      <td>4.122815</td>\n",
       "      <td>6.660500</td>\n",
       "      <td>41.856674</td>\n",
       "      <td>-87.674102</td>\n",
       "    </tr>\n",
       "    <tr>\n",
       "      <th>std</th>\n",
       "      <td>6.210942</td>\n",
       "      <td>1.669592</td>\n",
       "      <td>2847.516283</td>\n",
       "      <td>704.127405</td>\n",
       "      <td>0.471285</td>\n",
       "      <td>0.564194</td>\n",
       "      <td>0.03463</td>\n",
       "      <td>0.173489</td>\n",
       "      <td>0.420830</td>\n",
       "      <td>0.318674</td>\n",
       "      <td>1.220179</td>\n",
       "      <td>0.0</td>\n",
       "      <td>5.542940</td>\n",
       "      <td>1.980078</td>\n",
       "      <td>3.438983</td>\n",
       "      <td>0.335981</td>\n",
       "      <td>0.682890</td>\n",
       "    </tr>\n",
       "    <tr>\n",
       "      <th>min</th>\n",
       "      <td>0.000000</td>\n",
       "      <td>0.000000</td>\n",
       "      <td>1.000000</td>\n",
       "      <td>111.000000</td>\n",
       "      <td>1.000000</td>\n",
       "      <td>0.000000</td>\n",
       "      <td>0.00000</td>\n",
       "      <td>0.000000</td>\n",
       "      <td>0.000000</td>\n",
       "      <td>0.000000</td>\n",
       "      <td>0.000000</td>\n",
       "      <td>0.0</td>\n",
       "      <td>0.000000</td>\n",
       "      <td>1.000000</td>\n",
       "      <td>1.000000</td>\n",
       "      <td>0.000000</td>\n",
       "      <td>-87.933994</td>\n",
       "    </tr>\n",
       "    <tr>\n",
       "      <th>25%</th>\n",
       "      <td>30.000000</td>\n",
       "      <td>2.000000</td>\n",
       "      <td>1240.000000</td>\n",
       "      <td>722.000000</td>\n",
       "      <td>2.000000</td>\n",
       "      <td>0.000000</td>\n",
       "      <td>0.00000</td>\n",
       "      <td>0.000000</td>\n",
       "      <td>0.000000</td>\n",
       "      <td>0.000000</td>\n",
       "      <td>1.000000</td>\n",
       "      <td>0.0</td>\n",
       "      <td>9.000000</td>\n",
       "      <td>2.000000</td>\n",
       "      <td>4.000000</td>\n",
       "      <td>41.786257</td>\n",
       "      <td>-87.722139</td>\n",
       "    </tr>\n",
       "    <tr>\n",
       "      <th>50%</th>\n",
       "      <td>30.000000</td>\n",
       "      <td>2.000000</td>\n",
       "      <td>3199.000000</td>\n",
       "      <td>1214.000000</td>\n",
       "      <td>2.000000</td>\n",
       "      <td>0.000000</td>\n",
       "      <td>0.00000</td>\n",
       "      <td>0.000000</td>\n",
       "      <td>0.000000</td>\n",
       "      <td>0.000000</td>\n",
       "      <td>2.000000</td>\n",
       "      <td>0.0</td>\n",
       "      <td>14.000000</td>\n",
       "      <td>4.000000</td>\n",
       "      <td>7.000000</td>\n",
       "      <td>41.876677</td>\n",
       "      <td>-87.674754</td>\n",
       "    </tr>\n",
       "    <tr>\n",
       "      <th>75%</th>\n",
       "      <td>30.000000</td>\n",
       "      <td>4.000000</td>\n",
       "      <td>5518.000000</td>\n",
       "      <td>1822.000000</td>\n",
       "      <td>2.000000</td>\n",
       "      <td>0.000000</td>\n",
       "      <td>0.00000</td>\n",
       "      <td>0.000000</td>\n",
       "      <td>0.000000</td>\n",
       "      <td>0.000000</td>\n",
       "      <td>2.000000</td>\n",
       "      <td>0.0</td>\n",
       "      <td>17.000000</td>\n",
       "      <td>6.000000</td>\n",
       "      <td>10.000000</td>\n",
       "      <td>41.924907</td>\n",
       "      <td>-87.633925</td>\n",
       "    </tr>\n",
       "    <tr>\n",
       "      <th>max</th>\n",
       "      <td>70.000000</td>\n",
       "      <td>99.000000</td>\n",
       "      <td>13758.000000</td>\n",
       "      <td>2535.000000</td>\n",
       "      <td>12.000000</td>\n",
       "      <td>8.000000</td>\n",
       "      <td>2.00000</td>\n",
       "      <td>5.000000</td>\n",
       "      <td>8.000000</td>\n",
       "      <td>7.000000</td>\n",
       "      <td>46.000000</td>\n",
       "      <td>0.0</td>\n",
       "      <td>23.000000</td>\n",
       "      <td>7.000000</td>\n",
       "      <td>12.000000</td>\n",
       "      <td>42.022720</td>\n",
       "      <td>0.000000</td>\n",
       "    </tr>\n",
       "  </tbody>\n",
       "</table>\n",
       "</div>"
      ],
      "text/plain": [
       "       POSTED_SPEED_LIMIT      LANE_CNT     STREET_NO  BEAT_OF_OCCURRENCE  \\\n",
       "count        33408.000000  10996.000000  33408.000000        33408.000000   \n",
       "mean            28.420318      2.498272   3662.141134         1250.213332   \n",
       "std              6.210942      1.669592   2847.516283          704.127405   \n",
       "min              0.000000      0.000000      1.000000          111.000000   \n",
       "25%             30.000000      2.000000   1240.000000          722.000000   \n",
       "50%             30.000000      2.000000   3199.000000         1214.000000   \n",
       "75%             30.000000      4.000000   5518.000000         1822.000000   \n",
       "max             70.000000     99.000000  13758.000000         2535.000000   \n",
       "\n",
       "          NUM_UNITS  INJURIES_TOTAL  INJURIES_FATAL  INJURIES_INCAPACITATING  \\\n",
       "count  33408.000000    33324.000000     33324.00000             33324.000000   \n",
       "mean       2.037895        0.195205         0.00108                 0.021936   \n",
       "std        0.471285        0.564194         0.03463                 0.173489   \n",
       "min        1.000000        0.000000         0.00000                 0.000000   \n",
       "25%        2.000000        0.000000         0.00000                 0.000000   \n",
       "50%        2.000000        0.000000         0.00000                 0.000000   \n",
       "75%        2.000000        0.000000         0.00000                 0.000000   \n",
       "max       12.000000        8.000000         2.00000                 5.000000   \n",
       "\n",
       "       INJURIES_NON_INCAPACITATING  INJURIES_REPORTED_NOT_EVIDENT  \\\n",
       "count                 33324.000000                   33324.000000   \n",
       "mean                      0.109501                       0.062688   \n",
       "std                       0.420830                       0.318674   \n",
       "min                       0.000000                       0.000000   \n",
       "25%                       0.000000                       0.000000   \n",
       "50%                       0.000000                       0.000000   \n",
       "75%                       0.000000                       0.000000   \n",
       "max                       8.000000                       7.000000   \n",
       "\n",
       "       INJURIES_NO_INDICATION  INJURIES_UNKNOWN    CRASH_HOUR  \\\n",
       "count            33324.000000           33324.0  33408.000000   \n",
       "mean                 2.030729               0.0     13.152029   \n",
       "std                  1.220179               0.0      5.542940   \n",
       "min                  0.000000               0.0      0.000000   \n",
       "25%                  1.000000               0.0      9.000000   \n",
       "50%                  2.000000               0.0     14.000000   \n",
       "75%                  2.000000               0.0     17.000000   \n",
       "max                 46.000000               0.0     23.000000   \n",
       "\n",
       "       CRASH_DAY_OF_WEEK   CRASH_MONTH      LATITUDE     LONGITUDE  \n",
       "count       33408.000000  33408.000000  33215.000000  33215.000000  \n",
       "mean            4.122815      6.660500     41.856674    -87.674102  \n",
       "std             1.980078      3.438983      0.335981      0.682890  \n",
       "min             1.000000      1.000000      0.000000    -87.933994  \n",
       "25%             2.000000      4.000000     41.786257    -87.722139  \n",
       "50%             4.000000      7.000000     41.876677    -87.674754  \n",
       "75%             6.000000     10.000000     41.924907    -87.633925  \n",
       "max             7.000000     12.000000     42.022720      0.000000  "
      ]
     },
     "execution_count": 57,
     "metadata": {},
     "output_type": "execute_result"
    }
   ],
   "source": [
    "crashes_sample.describe()"
   ]
  },
  {
   "cell_type": "code",
   "execution_count": 58,
   "metadata": {},
   "outputs": [
    {
     "data": {
      "text/html": [
       "<div>\n",
       "<style scoped>\n",
       "    .dataframe tbody tr th:only-of-type {\n",
       "        vertical-align: middle;\n",
       "    }\n",
       "\n",
       "    .dataframe tbody tr th {\n",
       "        vertical-align: top;\n",
       "    }\n",
       "\n",
       "    .dataframe thead th {\n",
       "        text-align: right;\n",
       "    }\n",
       "</style>\n",
       "<table border=\"1\" class=\"dataframe\">\n",
       "  <thead>\n",
       "    <tr style=\"text-align: right;\">\n",
       "      <th></th>\n",
       "      <th>CRASH_UNIT_ID</th>\n",
       "      <th>UNIT_NO</th>\n",
       "      <th>NUM_PASSENGERS</th>\n",
       "      <th>VEHICLE_ID</th>\n",
       "      <th>VEHICLE_YEAR</th>\n",
       "      <th>OCCUPANT_CNT</th>\n",
       "      <th>CMV_ID</th>\n",
       "      <th>HAZMAT_REPORT_NO</th>\n",
       "      <th>MCS_REPORT_NO</th>\n",
       "      <th>TRAILER1_LENGTH</th>\n",
       "      <th>TRAILER2_LENGTH</th>\n",
       "      <th>TOTAL_VEHICLE_LENGTH</th>\n",
       "      <th>AXLE_CNT</th>\n",
       "    </tr>\n",
       "  </thead>\n",
       "  <tbody>\n",
       "    <tr>\n",
       "      <th>count</th>\n",
       "      <td>75673.000000</td>\n",
       "      <td>75673.000000</td>\n",
       "      <td>11633.000000</td>\n",
       "      <td>73804.000000</td>\n",
       "      <td>61945.000000</td>\n",
       "      <td>73804.000000</td>\n",
       "      <td>886.000000</td>\n",
       "      <td>0.0</td>\n",
       "      <td>0.0</td>\n",
       "      <td>132.000000</td>\n",
       "      <td>3.000000</td>\n",
       "      <td>148.000000</td>\n",
       "      <td>239.000000</td>\n",
       "    </tr>\n",
       "    <tr>\n",
       "      <th>mean</th>\n",
       "      <td>636542.746819</td>\n",
       "      <td>1.573243</td>\n",
       "      <td>1.479756</td>\n",
       "      <td>606345.289334</td>\n",
       "      <td>2012.930955</td>\n",
       "      <td>1.088762</td>\n",
       "      <td>6578.375847</td>\n",
       "      <td>NaN</td>\n",
       "      <td>NaN</td>\n",
       "      <td>48.719697</td>\n",
       "      <td>37.333333</td>\n",
       "      <td>50.858108</td>\n",
       "      <td>112.435146</td>\n",
       "    </tr>\n",
       "    <tr>\n",
       "      <th>std</th>\n",
       "      <td>229743.763303</td>\n",
       "      <td>0.654345</td>\n",
       "      <td>1.119244</td>\n",
       "      <td>215477.478218</td>\n",
       "      <td>129.699968</td>\n",
       "      <td>0.879280</td>\n",
       "      <td>2878.475327</td>\n",
       "      <td>NaN</td>\n",
       "      <td>NaN</td>\n",
       "      <td>15.010589</td>\n",
       "      <td>15.947832</td>\n",
       "      <td>21.055809</td>\n",
       "      <td>1682.148492</td>\n",
       "    </tr>\n",
       "    <tr>\n",
       "      <th>min</th>\n",
       "      <td>228894.000000</td>\n",
       "      <td>0.000000</td>\n",
       "      <td>1.000000</td>\n",
       "      <td>224185.000000</td>\n",
       "      <td>1900.000000</td>\n",
       "      <td>0.000000</td>\n",
       "      <td>1515.000000</td>\n",
       "      <td>NaN</td>\n",
       "      <td>NaN</td>\n",
       "      <td>1.000000</td>\n",
       "      <td>19.000000</td>\n",
       "      <td>1.000000</td>\n",
       "      <td>1.000000</td>\n",
       "    </tr>\n",
       "    <tr>\n",
       "      <th>25%</th>\n",
       "      <td>436244.000000</td>\n",
       "      <td>1.000000</td>\n",
       "      <td>1.000000</td>\n",
       "      <td>418742.000000</td>\n",
       "      <td>2006.000000</td>\n",
       "      <td>1.000000</td>\n",
       "      <td>4145.750000</td>\n",
       "      <td>NaN</td>\n",
       "      <td>NaN</td>\n",
       "      <td>48.000000</td>\n",
       "      <td>32.000000</td>\n",
       "      <td>33.000000</td>\n",
       "      <td>2.000000</td>\n",
       "    </tr>\n",
       "    <tr>\n",
       "      <th>50%</th>\n",
       "      <td>642576.000000</td>\n",
       "      <td>2.000000</td>\n",
       "      <td>1.000000</td>\n",
       "      <td>611440.500000</td>\n",
       "      <td>2012.000000</td>\n",
       "      <td>1.000000</td>\n",
       "      <td>6602.000000</td>\n",
       "      <td>NaN</td>\n",
       "      <td>NaN</td>\n",
       "      <td>53.000000</td>\n",
       "      <td>45.000000</td>\n",
       "      <td>56.000000</td>\n",
       "      <td>3.000000</td>\n",
       "    </tr>\n",
       "    <tr>\n",
       "      <th>75%</th>\n",
       "      <td>845390.000000</td>\n",
       "      <td>2.000000</td>\n",
       "      <td>2.000000</td>\n",
       "      <td>802301.500000</td>\n",
       "      <td>2016.000000</td>\n",
       "      <td>1.000000</td>\n",
       "      <td>9189.750000</td>\n",
       "      <td>NaN</td>\n",
       "      <td>NaN</td>\n",
       "      <td>53.000000</td>\n",
       "      <td>46.500000</td>\n",
       "      <td>65.750000</td>\n",
       "      <td>5.000000</td>\n",
       "    </tr>\n",
       "    <tr>\n",
       "      <th>max</th>\n",
       "      <td>970977.000000</td>\n",
       "      <td>12.000000</td>\n",
       "      <td>43.000000</td>\n",
       "      <td>920209.000000</td>\n",
       "      <td>9999.000000</td>\n",
       "      <td>99.000000</td>\n",
       "      <td>10831.000000</td>\n",
       "      <td>NaN</td>\n",
       "      <td>NaN</td>\n",
       "      <td>101.000000</td>\n",
       "      <td>48.000000</td>\n",
       "      <td>96.000000</td>\n",
       "      <td>26009.000000</td>\n",
       "    </tr>\n",
       "  </tbody>\n",
       "</table>\n",
       "</div>"
      ],
      "text/plain": [
       "       CRASH_UNIT_ID       UNIT_NO  NUM_PASSENGERS     VEHICLE_ID  \\\n",
       "count   75673.000000  75673.000000    11633.000000   73804.000000   \n",
       "mean   636542.746819      1.573243        1.479756  606345.289334   \n",
       "std    229743.763303      0.654345        1.119244  215477.478218   \n",
       "min    228894.000000      0.000000        1.000000  224185.000000   \n",
       "25%    436244.000000      1.000000        1.000000  418742.000000   \n",
       "50%    642576.000000      2.000000        1.000000  611440.500000   \n",
       "75%    845390.000000      2.000000        2.000000  802301.500000   \n",
       "max    970977.000000     12.000000       43.000000  920209.000000   \n",
       "\n",
       "       VEHICLE_YEAR  OCCUPANT_CNT        CMV_ID  HAZMAT_REPORT_NO  \\\n",
       "count  61945.000000  73804.000000    886.000000               0.0   \n",
       "mean    2012.930955      1.088762   6578.375847               NaN   \n",
       "std      129.699968      0.879280   2878.475327               NaN   \n",
       "min     1900.000000      0.000000   1515.000000               NaN   \n",
       "25%     2006.000000      1.000000   4145.750000               NaN   \n",
       "50%     2012.000000      1.000000   6602.000000               NaN   \n",
       "75%     2016.000000      1.000000   9189.750000               NaN   \n",
       "max     9999.000000     99.000000  10831.000000               NaN   \n",
       "\n",
       "       MCS_REPORT_NO  TRAILER1_LENGTH  TRAILER2_LENGTH  TOTAL_VEHICLE_LENGTH  \\\n",
       "count            0.0       132.000000         3.000000            148.000000   \n",
       "mean             NaN        48.719697        37.333333             50.858108   \n",
       "std              NaN        15.010589        15.947832             21.055809   \n",
       "min              NaN         1.000000        19.000000              1.000000   \n",
       "25%              NaN        48.000000        32.000000             33.000000   \n",
       "50%              NaN        53.000000        45.000000             56.000000   \n",
       "75%              NaN        53.000000        46.500000             65.750000   \n",
       "max              NaN       101.000000        48.000000             96.000000   \n",
       "\n",
       "           AXLE_CNT  \n",
       "count    239.000000  \n",
       "mean     112.435146  \n",
       "std     1682.148492  \n",
       "min        1.000000  \n",
       "25%        2.000000  \n",
       "50%        3.000000  \n",
       "75%        5.000000  \n",
       "max    26009.000000  "
      ]
     },
     "execution_count": 58,
     "metadata": {},
     "output_type": "execute_result"
    }
   ],
   "source": [
    "vehicles_sample.describe()"
   ]
  },
  {
   "cell_type": "code",
   "execution_count": 63,
   "metadata": {},
   "outputs": [
    {
     "data": {
      "text/plain": [
       "Index(['PERSON_ID', 'PERSON_TYPE', 'CRASH_RECORD_ID', 'RD_NO', 'CRASH_DATE',\n",
       "       'CITY', 'STATE', 'ZIPCODE', 'SEX', 'DRIVERS_LICENSE_STATE',\n",
       "       'DRIVERS_LICENSE_CLASS', 'SAFETY_EQUIPMENT', 'AIRBAG_DEPLOYED',\n",
       "       'EJECTION', 'INJURY_CLASSIFICATION', 'HOSPITAL', 'EMS_AGENCY',\n",
       "       'EMS_RUN_NO', 'DRIVER_ACTION', 'DRIVER_VISION', 'PHYSICAL_CONDITION',\n",
       "       'PEDPEDAL_ACTION', 'PEDPEDAL_VISIBILITY', 'PEDPEDAL_LOCATION',\n",
       "       'BAC_RESULT', 'CELL_PHONE_USE'],\n",
       "      dtype='object')"
      ]
     },
     "execution_count": 63,
     "metadata": {},
     "output_type": "execute_result"
    }
   ],
   "source": [
    "# get the list of categorical columns\n",
    "people_sample.select_dtypes(exclude=['int', 'float']).columns"
   ]
  },
  {
   "cell_type": "code",
   "execution_count": 61,
   "metadata": {},
   "outputs": [
    {
     "data": {
      "text/plain": [
       "Index(['VEHICLE_ID', 'SEAT_NO', 'AGE', 'BAC_RESULT VALUE'], dtype='object')"
      ]
     },
     "execution_count": 61,
     "metadata": {},
     "output_type": "execute_result"
    }
   ],
   "source": [
    "# get the list of numerical columns\n",
    "people_sample.select_dtypes(include=['int', 'float']).columns"
   ]
  },
  {
   "cell_type": "code",
   "execution_count": null,
   "metadata": {},
   "outputs": [],
   "source": []
  },
  {
   "cell_type": "code",
   "execution_count": null,
   "metadata": {},
   "outputs": [],
   "source": []
  },
  {
   "cell_type": "code",
   "execution_count": null,
   "metadata": {},
   "outputs": [],
   "source": []
  },
  {
   "cell_type": "code",
   "execution_count": null,
   "metadata": {},
   "outputs": [],
   "source": []
  }
 ],
 "metadata": {
  "hide_input": false,
  "kernelspec": {
   "display_name": "Python 3",
   "language": "python",
   "name": "python3"
  },
  "language_info": {
   "codemirror_mode": {
    "name": "ipython",
    "version": 3
   },
   "file_extension": ".py",
   "mimetype": "text/x-python",
   "name": "python",
   "nbconvert_exporter": "python",
   "pygments_lexer": "ipython3",
   "version": "3.8.5"
  },
  "toc": {
   "base_numbering": 1,
   "nav_menu": {},
   "number_sections": true,
   "sideBar": true,
   "skip_h1_title": false,
   "title_cell": "Table of Contents",
   "title_sidebar": "Contents",
   "toc_cell": false,
   "toc_position": {},
   "toc_section_display": true,
   "toc_window_display": false
  },
  "varInspector": {
   "cols": {
    "lenName": 16,
    "lenType": 16,
    "lenVar": 40
   },
   "kernels_config": {
    "python": {
     "delete_cmd_postfix": "",
     "delete_cmd_prefix": "del ",
     "library": "var_list.py",
     "varRefreshCmd": "print(var_dic_list())"
    },
    "r": {
     "delete_cmd_postfix": ") ",
     "delete_cmd_prefix": "rm(",
     "library": "var_list.r",
     "varRefreshCmd": "cat(var_dic_list()) "
    }
   },
   "types_to_exclude": [
    "module",
    "function",
    "builtin_function_or_method",
    "instance",
    "_Feature"
   ],
   "window_display": false
  }
 },
 "nbformat": 4,
 "nbformat_minor": 4
}
