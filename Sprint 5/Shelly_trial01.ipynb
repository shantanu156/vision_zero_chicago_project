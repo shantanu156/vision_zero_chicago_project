{
 "cells": [
  {
   "cell_type": "markdown",
   "metadata": {},
   "source": [
    "## data import"
   ]
  },
  {
   "cell_type": "code",
   "execution_count": 1,
   "metadata": {
    "ExecuteTime": {
     "end_time": "2020-11-21T06:32:12.242305Z",
     "start_time": "2020-11-21T06:31:30.374670Z"
    }
   },
   "outputs": [
    {
     "name": "stdout",
     "output_type": "stream",
     "text": [
      "Requirement already satisfied: researchpy in /Users/shellylin/anaconda3/envs/vision_zero/lib/python3.8/site-packages (0.2.3)\n",
      "Requirement already satisfied: statsmodels in /Users/shellylin/anaconda3/envs/vision_zero/lib/python3.8/site-packages (from researchpy) (0.12.0)\n",
      "Requirement already satisfied: scipy in /Users/shellylin/anaconda3/envs/vision_zero/lib/python3.8/site-packages (from researchpy) (1.4.1)\n",
      "Requirement already satisfied: numpy in /Users/shellylin/anaconda3/envs/vision_zero/lib/python3.8/site-packages (from researchpy) (1.19.1)\n",
      "Requirement already satisfied: pandas in /Users/shellylin/anaconda3/envs/vision_zero/lib/python3.8/site-packages (from researchpy) (1.1.3)\n",
      "Requirement already satisfied: patsy>=0.5 in /Users/shellylin/anaconda3/envs/vision_zero/lib/python3.8/site-packages (from statsmodels->researchpy) (0.5.1)\n",
      "Requirement already satisfied: pytz>=2017.2 in /Users/shellylin/anaconda3/envs/vision_zero/lib/python3.8/site-packages (from pandas->researchpy) (2020.1)\n",
      "Requirement already satisfied: python-dateutil>=2.7.3 in /Users/shellylin/anaconda3/envs/vision_zero/lib/python3.8/site-packages (from pandas->researchpy) (2.8.1)\n",
      "Requirement already satisfied: six in /Users/shellylin/anaconda3/envs/vision_zero/lib/python3.8/site-packages (from patsy>=0.5->statsmodels->researchpy) (1.15.0)\n",
      "Requirement already satisfied: missingno in /Users/shellylin/anaconda3/envs/vision_zero/lib/python3.8/site-packages (0.4.2)\n",
      "Requirement already satisfied: scipy in /Users/shellylin/anaconda3/envs/vision_zero/lib/python3.8/site-packages (from missingno) (1.4.1)\n",
      "Requirement already satisfied: numpy in /Users/shellylin/anaconda3/envs/vision_zero/lib/python3.8/site-packages (from missingno) (1.19.1)\n",
      "Requirement already satisfied: matplotlib in /Users/shellylin/anaconda3/envs/vision_zero/lib/python3.8/site-packages (from missingno) (3.1.3)\n",
      "Requirement already satisfied: seaborn in /Users/shellylin/anaconda3/envs/vision_zero/lib/python3.8/site-packages (from missingno) (0.11.0)\n",
      "Requirement already satisfied: pyparsing!=2.0.4,!=2.1.2,!=2.1.6,>=2.0.1 in /Users/shellylin/anaconda3/envs/vision_zero/lib/python3.8/site-packages (from matplotlib->missingno) (2.4.7)\n",
      "Requirement already satisfied: python-dateutil>=2.1 in /Users/shellylin/anaconda3/envs/vision_zero/lib/python3.8/site-packages (from matplotlib->missingno) (2.8.1)\n",
      "Requirement already satisfied: cycler>=0.10 in /Users/shellylin/anaconda3/envs/vision_zero/lib/python3.8/site-packages (from matplotlib->missingno) (0.10.0)\n",
      "Requirement already satisfied: kiwisolver>=1.0.1 in /Users/shellylin/anaconda3/envs/vision_zero/lib/python3.8/site-packages (from matplotlib->missingno) (1.2.0)\n",
      "Requirement already satisfied: pandas>=0.23 in /Users/shellylin/anaconda3/envs/vision_zero/lib/python3.8/site-packages (from seaborn->missingno) (1.1.3)\n",
      "Requirement already satisfied: six>=1.5 in /Users/shellylin/anaconda3/envs/vision_zero/lib/python3.8/site-packages (from python-dateutil>=2.1->matplotlib->missingno) (1.15.0)\n",
      "Requirement already satisfied: pytz>=2017.2 in /Users/shellylin/anaconda3/envs/vision_zero/lib/python3.8/site-packages (from pandas>=0.23->seaborn->missingno) (2020.1)\n",
      "Requirement already satisfied: folium in /Users/shellylin/anaconda3/envs/vision_zero/lib/python3.8/site-packages (0.11.0)\n",
      "Requirement already satisfied: jinja2>=2.9 in /Users/shellylin/anaconda3/envs/vision_zero/lib/python3.8/site-packages (from folium) (2.11.2)\n",
      "Requirement already satisfied: requests in /Users/shellylin/anaconda3/envs/vision_zero/lib/python3.8/site-packages (from folium) (2.24.0)\n",
      "Requirement already satisfied: numpy in /Users/shellylin/anaconda3/envs/vision_zero/lib/python3.8/site-packages (from folium) (1.19.1)\n",
      "Requirement already satisfied: branca>=0.3.0 in /Users/shellylin/anaconda3/envs/vision_zero/lib/python3.8/site-packages (from folium) (0.4.1)\n",
      "Requirement already satisfied: MarkupSafe>=0.23 in /Users/shellylin/anaconda3/envs/vision_zero/lib/python3.8/site-packages (from jinja2>=2.9->folium) (1.1.1)\n",
      "Requirement already satisfied: chardet<4,>=3.0.2 in /Users/shellylin/anaconda3/envs/vision_zero/lib/python3.8/site-packages (from requests->folium) (3.0.4)\n",
      "Requirement already satisfied: idna<3,>=2.5 in /Users/shellylin/anaconda3/envs/vision_zero/lib/python3.8/site-packages (from requests->folium) (2.10)\n",
      "Requirement already satisfied: urllib3!=1.25.0,!=1.25.1,<1.26,>=1.21.1 in /Users/shellylin/anaconda3/envs/vision_zero/lib/python3.8/site-packages (from requests->folium) (1.25.10)\n",
      "Requirement already satisfied: certifi>=2017.4.17 in /Users/shellylin/anaconda3/envs/vision_zero/lib/python3.8/site-packages (from requests->folium) (2020.6.20)\n",
      "Requirement already satisfied: pydotplus in /Users/shellylin/anaconda3/envs/vision_zero/lib/python3.8/site-packages (2.0.2)\n",
      "Requirement already satisfied: pyparsing>=2.0.1 in /Users/shellylin/anaconda3/envs/vision_zero/lib/python3.8/site-packages (from pydotplus) (2.4.7)\n",
      "Requirement already satisfied: bokeh in /Users/shellylin/anaconda3/envs/vision_zero/lib/python3.8/site-packages (2.2.3)\n",
      "Requirement already satisfied: typing-extensions>=3.7.4 in /Users/shellylin/anaconda3/envs/vision_zero/lib/python3.8/site-packages (from bokeh) (3.7.4.3)\n",
      "Requirement already satisfied: python-dateutil>=2.1 in /Users/shellylin/anaconda3/envs/vision_zero/lib/python3.8/site-packages (from bokeh) (2.8.1)\n",
      "Requirement already satisfied: pillow>=7.1.0 in /Users/shellylin/anaconda3/envs/vision_zero/lib/python3.8/site-packages (from bokeh) (8.0.1)\n",
      "Requirement already satisfied: numpy>=1.11.3 in /Users/shellylin/anaconda3/envs/vision_zero/lib/python3.8/site-packages (from bokeh) (1.19.1)\n",
      "Requirement already satisfied: tornado>=5.1 in /Users/shellylin/anaconda3/envs/vision_zero/lib/python3.8/site-packages (from bokeh) (6.0.4)\n",
      "Requirement already satisfied: packaging>=16.8 in /Users/shellylin/anaconda3/envs/vision_zero/lib/python3.8/site-packages (from bokeh) (20.4)\n",
      "Requirement already satisfied: PyYAML>=3.10 in /Users/shellylin/anaconda3/envs/vision_zero/lib/python3.8/site-packages (from bokeh) (5.3.1)\n",
      "Requirement already satisfied: Jinja2>=2.7 in /Users/shellylin/anaconda3/envs/vision_zero/lib/python3.8/site-packages (from bokeh) (2.11.2)\n",
      "Requirement already satisfied: six>=1.5 in /Users/shellylin/anaconda3/envs/vision_zero/lib/python3.8/site-packages (from python-dateutil>=2.1->bokeh) (1.15.0)\n",
      "Requirement already satisfied: pyparsing>=2.0.2 in /Users/shellylin/anaconda3/envs/vision_zero/lib/python3.8/site-packages (from packaging>=16.8->bokeh) (2.4.7)\n",
      "Requirement already satisfied: MarkupSafe>=0.23 in /Users/shellylin/anaconda3/envs/vision_zero/lib/python3.8/site-packages (from Jinja2>=2.7->bokeh) (1.1.1)\n",
      "Requirement already satisfied: imblearn in /Users/shellylin/anaconda3/envs/vision_zero/lib/python3.8/site-packages (0.0)\n",
      "Requirement already satisfied: imbalanced-learn in /Users/shellylin/anaconda3/envs/vision_zero/lib/python3.8/site-packages (from imblearn) (0.7.0)\n",
      "Requirement already satisfied: scikit-learn>=0.23 in /Users/shellylin/anaconda3/envs/vision_zero/lib/python3.8/site-packages (from imbalanced-learn->imblearn) (0.23.2)\n",
      "Requirement already satisfied: numpy>=1.13.3 in /Users/shellylin/anaconda3/envs/vision_zero/lib/python3.8/site-packages (from imbalanced-learn->imblearn) (1.19.1)\n",
      "Requirement already satisfied: scipy>=0.19.1 in /Users/shellylin/anaconda3/envs/vision_zero/lib/python3.8/site-packages (from imbalanced-learn->imblearn) (1.4.1)\n",
      "Requirement already satisfied: joblib>=0.11 in /Users/shellylin/anaconda3/envs/vision_zero/lib/python3.8/site-packages (from imbalanced-learn->imblearn) (0.17.0)\n",
      "Requirement already satisfied: threadpoolctl>=2.0.0 in /Users/shellylin/anaconda3/envs/vision_zero/lib/python3.8/site-packages (from scikit-learn>=0.23->imbalanced-learn->imblearn) (2.1.0)\n",
      "Collecting catboost\n",
      "  Downloading catboost-0.24.3-cp38-none-macosx_10_6_intel.macosx_10_9_intel.macosx_10_9_x86_64.macosx_10_10_intel.macosx_10_10_x86_64.whl (11.5 MB)\n",
      "\u001b[K     |████████████████████████████████| 11.5 MB 5.7 MB/s eta 0:00:01\n",
      "\u001b[?25hRequirement already satisfied: scipy in /Users/shellylin/anaconda3/envs/vision_zero/lib/python3.8/site-packages (from catboost) (1.4.1)\n",
      "Requirement already satisfied: graphviz in /Users/shellylin/anaconda3/envs/vision_zero/lib/python3.8/site-packages (from catboost) (0.14.2)\n"
     ]
    },
    {
     "name": "stdout",
     "output_type": "stream",
     "text": [
      "Requirement already satisfied: pandas>=0.24.0 in /Users/shellylin/anaconda3/envs/vision_zero/lib/python3.8/site-packages (from catboost) (1.1.3)\n",
      "Requirement already satisfied: numpy>=1.16.0 in /Users/shellylin/anaconda3/envs/vision_zero/lib/python3.8/site-packages (from catboost) (1.19.1)\n",
      "Requirement already satisfied: six in /Users/shellylin/anaconda3/envs/vision_zero/lib/python3.8/site-packages (from catboost) (1.15.0)\n",
      "Requirement already satisfied: matplotlib in /Users/shellylin/anaconda3/envs/vision_zero/lib/python3.8/site-packages (from catboost) (3.1.3)\n",
      "Collecting plotly\n",
      "  Downloading plotly-4.12.0-py2.py3-none-any.whl (13.1 MB)\n",
      "\u001b[K     |████████████████████████████████| 13.1 MB 466 kB/s  eta 0:00:01   |██████████████████▍             | 7.5 MB 2.8 MB/s eta 0:00:02     |██████████████████████████▎     | 10.7 MB 15.8 MB/s eta 0:00:01\n",
      "\u001b[?25hRequirement already satisfied: python-dateutil>=2.7.3 in /Users/shellylin/anaconda3/envs/vision_zero/lib/python3.8/site-packages (from pandas>=0.24.0->catboost) (2.8.1)\n",
      "Requirement already satisfied: pytz>=2017.2 in /Users/shellylin/anaconda3/envs/vision_zero/lib/python3.8/site-packages (from pandas>=0.24.0->catboost) (2020.1)\n",
      "Requirement already satisfied: kiwisolver>=1.0.1 in /Users/shellylin/anaconda3/envs/vision_zero/lib/python3.8/site-packages (from matplotlib->catboost) (1.2.0)\n",
      "Requirement already satisfied: pyparsing!=2.0.4,!=2.1.2,!=2.1.6,>=2.0.1 in /Users/shellylin/anaconda3/envs/vision_zero/lib/python3.8/site-packages (from matplotlib->catboost) (2.4.7)\n",
      "Requirement already satisfied: cycler>=0.10 in /Users/shellylin/anaconda3/envs/vision_zero/lib/python3.8/site-packages (from matplotlib->catboost) (0.10.0)\n",
      "Collecting retrying>=1.3.3\n",
      "  Downloading retrying-1.3.3.tar.gz (10 kB)\n",
      "Building wheels for collected packages: retrying\n",
      "  Building wheel for retrying (setup.py) ... \u001b[?25ldone\n",
      "\u001b[?25h  Created wheel for retrying: filename=retrying-1.3.3-py3-none-any.whl size=11429 sha256=4b8d544325ebef9074b423fce0719dd00ff8cfd8e82bffa052ca9f2f6de2f761\n",
      "  Stored in directory: /Users/shellylin/Library/Caches/pip/wheels/c4/a7/48/0a434133f6d56e878ca511c0e6c38326907c0792f67b476e56\n",
      "Successfully built retrying\n",
      "Installing collected packages: retrying, plotly, catboost\n",
      "Successfully installed catboost-0.24.3 plotly-4.12.0 retrying-1.3.3\n"
     ]
    }
   ],
   "source": [
    "import pkg_resources\n",
    "import pip\n",
    "installedPackages = {pkg.key for pkg in pkg_resources.working_set}\n",
    "required = {'researchpy', 'missingno', 'folium', 'pydotplus','bokeh','imblearn', 'catboost'}\n",
    "missing = required - installedPackages\n",
    "if missing:\n",
    "    !pip install researchpy\n",
    "    !pip install missingno\n",
    "    !pip install folium\n",
    "    !pip install pydotplus\n",
    "    !pip install bokeh\n",
    "    !pip install imblearn\n",
    "    !pip install catboost\n",
    "    #!pip install xgboost\n",
    "    #!pip install graphviz"
   ]
  },
  {
   "cell_type": "code",
   "execution_count": 2,
   "metadata": {
    "ExecuteTime": {
     "end_time": "2020-11-21T06:32:12.277942Z",
     "start_time": "2020-11-21T06:32:12.271234Z"
    }
   },
   "outputs": [],
   "source": [
    "#Disable the warnings\n",
    "import warnings\n",
    "warnings.filterwarnings('ignore')"
   ]
  },
  {
   "cell_type": "code",
   "execution_count": 3,
   "metadata": {
    "ExecuteTime": {
     "end_time": "2020-11-21T06:32:18.408279Z",
     "start_time": "2020-11-21T06:32:15.373854Z"
    }
   },
   "outputs": [],
   "source": [
    "import timeit\n",
    "start_time = timeit.default_timer()  #timestamp to calculate total runtime\n",
    "\n",
    "import pandas as pd\n",
    "import numpy as np\n",
    "\n",
    "import researchpy as rp\n",
    "import missingno as msno\n",
    "import itertools\n",
    "import scipy.stats as ss\n",
    "\n",
    "import seaborn as sns\n",
    "import matplotlib.pyplot as plt\n",
    "import folium\n",
    "from folium import plugins\n",
    "import graphviz\n",
    "\n",
    "from sklearn import tree\n",
    "from sklearn import feature_selection\n",
    "from sklearn import preprocessing\n",
    "\n",
    "from sklearn.ensemble import RandomForestClassifier\n",
    "from sklearn.ensemble import RandomForestRegressor\n",
    "from sklearn.linear_model import LogisticRegression\n",
    "\n",
    "from sklearn.model_selection import train_test_split\n",
    "from sklearn.model_selection import StratifiedKFold\n",
    "from sklearn.model_selection import cross_val_score\n",
    "from sklearn.model_selection import RandomizedSearchCV\n",
    "from sklearn.model_selection import GridSearchCV\n",
    "\n",
    "from collections import Counter\n",
    "\n",
    "from imblearn.under_sampling import RandomUnderSampler\n",
    "from imblearn.pipeline import Pipeline\n",
    "\n",
    "from sklearn.utils import resample\n",
    "from sklearn.metrics import confusion_matrix, classification_report, roc_curve, accuracy_score, \\\n",
    "precision_score, recall_score, roc_auc_score, f1_score, precision_recall_curve, auc \n",
    "\n",
    "%matplotlib inline\n",
    "pd.set_option('display.max_columns', None)  # prevent column output trancation\n",
    "sns.set()  # change plot styling from Matlab's 90s feel to today's Seaborn."
   ]
  },
  {
   "cell_type": "code",
   "execution_count": 4,
   "metadata": {
    "ExecuteTime": {
     "end_time": "2020-11-21T06:32:43.971613Z",
     "start_time": "2020-11-21T06:32:26.051339Z"
    }
   },
   "outputs": [],
   "source": [
    "# File Directories\n",
    "path_crashes = '../crashes.sample2020.csv'\n",
    "path_vehicles = '../vehicles.sample.csv'\n",
    "path_people = '../people.sample.csv'\n",
    "\n",
    "# Import samples\n",
    "crashes = pd.read_csv(path_crashes, parse_dates=[\"CRASH_DATE\", \"CRASH_DATE_EST_I\", \"DATE_POLICE_NOTIFIED\"],\n",
    "                      low_memory=False, dtype=object)\n",
    "vehicles = pd.read_csv(path_vehicles, parse_dates=[\"CRASH_DATE\"], low_memory=False, dtype=object)\n",
    "people = pd.read_csv(path_people, parse_dates=[\"CRASH_DATE\"], low_memory=False, dtype=object)"
   ]
  },
  {
   "cell_type": "code",
   "execution_count": 5,
   "metadata": {
    "ExecuteTime": {
     "end_time": "2020-11-21T06:32:45.342834Z",
     "start_time": "2020-11-21T06:32:44.169338Z"
    }
   },
   "outputs": [],
   "source": [
    "# Joining datasets\n",
    "non_passengers=people[people.PERSON_ID.str.contains('^O')]\n",
    "\n",
    "vehicles_with_people=vehicles.merge(non_passengers,how='left',on=['CRASH_RECORD_ID','RD_NO','CRASH_DATE','VEHICLE_ID'])\n",
    "\n",
    "data=crashes.merge(vehicles_with_people,how='inner',on=['CRASH_RECORD_ID','RD_NO','CRASH_DATE'])\n",
    "\n",
    "# Feature Selection\n",
    "filter_list=[\"AGE\",\"LANE_CNT\",\"AIRBAG_DEPLOYED\",\"PRIM_CONTRIBUTORY_CAUSE\",\"POSTED_SPEED_LIMIT\",\"NUM_UNITS\",\"TRAFFICWAY_TYPE\",  \n",
    "             \"SEC_CONTRIBUTORY_CAUSE\",\"FIRST_CRASH_TYPE\",\"MOST_SEVERE_INJURY\",\"LIGHTING_CONDITION\",\"SEX\",\"CRASH_DATE\",\n",
    "             \"CRASH_HOUR\",\"VEHICLE_YEAR\"]\n",
    "\n",
    "# Data that will be used in predictions\n",
    "modeling_data=data[filter_list]"
   ]
  },
  {
   "cell_type": "code",
   "execution_count": null,
   "metadata": {},
   "outputs": [],
   "source": [
    "def preprocessor(dataframe):\n",
    "    '''Preprocesses df and returns X and y ready for modeling (after imputation of numericals!)'''\n",
    "    df = dataframe.copy()\n",
    "    \n",
    "    # Prepare data for missing value imputation\n",
    "    df.loc[df[\"LIGHTING_CONDITION\"] == \"UNKNOWN\", \"LIGHTING_CONDITION\"] = np.nan\n",
    "    df.loc[df[\"TRAFFICWAY_TYPE\"] == \"UNKNOWN\",\"TRAFFICWAY_TYPE\"] = np.nan\n",
    "    df.loc[df[\"AIRBAG_DEPLOYED\"] == \"DEPLOYMENT UNKNOWN\",\"AIRBAG_DEPLOYED\"] = np.nan\n",
    "    df.fillna({'LIGHTING_CONDITION': 'DAYLIGHT', 'TRAFFICWAY_TYPE': 'NOT DIVIDED',\n",
    "               'SEX': 'UNABLE TO DETERMINE', 'AIRBAG_DEPLOYED': 'UNABLE TO DETERMINE'}, inplace=True)\n",
    "    \n",
    "    # Remove rows missing most severe injury results\n",
    "    drop_rows = ['MOST_SEVERE_INJURY']\n",
    "    df.dropna(how ='any', subset = drop_rows, inplace = True)\n",
    "    \n",
    "    # Handle numerical features\n",
    "    df['VEHICLE_YEAR'] = pd.to_numeric(df['VEHICLE_YEAR'])\n",
    "    df['NUM_UNITS'] = pd.to_numeric(df['NUM_UNITS'])\n",
    "    df[\"POSTED_SPEED_LIMIT\"] = pd.to_numeric(df[\"POSTED_SPEED_LIMIT\"])\n",
    "    df[\"AGE\"] = pd.to_numeric(df[\"AGE\"])\n",
    "    \n",
    "    df['LANE_CNT'] = pd.to_numeric(df['LANE_CNT'])    \n",
    "    df['LANE_CNT'].fillna(2, inplace=True)\n",
    "    df.loc[(df['LANE_CNT'] > 6),'LANE_CNT'] = 6\n",
    "    \n",
    "    # Function definitions\n",
    "    def injury(x): \n",
    "        if any(s in x for s in [\"FATAL\",\"NONINCAPACITATING INJURY\",\"INCAPACITATING INJURY\"]):\n",
    "            return \"INJURED\"\n",
    "        else:\n",
    "            return \"NOT INJURED\"\n",
    "    \n",
    "    def airbag(x):\n",
    "        if (\"DEPLOY\" in x) and (\"UNKNOWN\" not in x):\n",
    "            if \"NOT\" in x:\n",
    "                return \"NOT DEPLOYED\"\n",
    "            else:\n",
    "                return \"DEPLOYED\"\n",
    "        else:\n",
    "            return x\n",
    "\n",
    "    def crash_hour(x):\n",
    "        if  2 <= x < 8:\n",
    "            return \"Early_morning\"\n",
    "        elif 8 <= x < 12:\n",
    "            return \"Morning\"\n",
    "        elif 12 <= x < 18:\n",
    "            return \"Afternoon\"\n",
    "        else:\n",
    "            return \"Night\"\n",
    "  \n",
    "    def traffic_way(x):\n",
    "        if (\"NOT\" in x) or (\"ONE-WAY\" in x):\n",
    "            return \"NOT_DIVIDED\"\n",
    "        else:\n",
    "            return \"DIVIDED\"\n",
    "        \n",
    "    def age_group(x):\n",
    "        if  0.0 <= x <= 18.0:\n",
    "            return \"below 18\"\n",
    "        elif 18.0 < x <= 30.0:\n",
    "            return \"between 19 and 30\"\n",
    "        elif 30.0< x <= 40.0:\n",
    "            return \"between 31 and 40\"\n",
    "        elif 40.0< x <= 50.0:\n",
    "            return \"between 41 and 50\"\n",
    "        elif 50.0< x <= 60.0:\n",
    "            return \"between 51 and 60\"\n",
    "        else:\n",
    "            return \"Over 60\"\n",
    "    \n",
    "    # Feature Engineering\n",
    "    df[\"INJURY\"] = df[\"MOST_SEVERE_INJURY\"].apply(lambda x: injury(x))\n",
    "    df[\"AIRBAG_DEPLOYED\"] = df[\"AIRBAG_DEPLOYED\"].apply(lambda x: airbag(x))\n",
    "    df[\"CRASH_HOUR\"] = df[\"CRASH_HOUR\"].apply(lambda x: crash_hour(int(x)))\n",
    "    df[\"TRAFFICWAY_TYPE\"] = df[\"TRAFFICWAY_TYPE\"].apply(lambda x: traffic_way(x))\n",
    "    \n",
    "    df[\"VEHICLE_AGE\"] = df[\"CRASH_DATE\"].dt.year-df[\"VEHICLE_YEAR\"]\n",
    "    df.loc[df[\"VEHICLE_AGE\"] < 0, \"VEHICLE_AGE\"] = 0\n",
    "    df.drop([\"VEHICLE_YEAR\", \"CRASH_DATE\", \"MOST_SEVERE_INJURY\"], axis=1, inplace=True)\n",
    "    \n",
    "    # Splitting df into X and y\n",
    "    y = df[\"INJURY\"]\n",
    "    X = df.drop([\"INJURY\"], axis=1)\n",
    "    \n",
    "    # Binarize y\n",
    "    from sklearn.preprocessing import label_binarize\n",
    "    y = preprocessing.label_binarize(y, classes=['NOT INJURED', 'INJURED'])\n",
    "    \n",
    "    # One-Hot Encoding\n",
    "    X = pd.get_dummies(X, columns = X.select_dtypes(['object']).columns)\n",
    "    dummies_to_drop = X.columns[X.columns.str.contains(\"UNABLE|UNKNOWN|NOT APPLICABLE|OTHER\")]\n",
    "    X = X.loc[:, ~X.columns.isin(dummies_to_drop)]\n",
    "      \n",
    "    return(X, y)"
   ]
  }
 ],
 "metadata": {
  "hide_input": false,
  "kernelspec": {
   "display_name": "Python 3",
   "language": "python",
   "name": "python3"
  },
  "language_info": {
   "codemirror_mode": {
    "name": "ipython",
    "version": 3
   },
   "file_extension": ".py",
   "mimetype": "text/x-python",
   "name": "python",
   "nbconvert_exporter": "python",
   "pygments_lexer": "ipython3",
   "version": "3.8.3"
  },
  "toc": {
   "base_numbering": 1,
   "nav_menu": {},
   "number_sections": true,
   "sideBar": true,
   "skip_h1_title": false,
   "title_cell": "Table of Contents",
   "title_sidebar": "Contents",
   "toc_cell": false,
   "toc_position": {},
   "toc_section_display": true,
   "toc_window_display": false
  },
  "varInspector": {
   "cols": {
    "lenName": 16,
    "lenType": 16,
    "lenVar": 40
   },
   "kernels_config": {
    "python": {
     "delete_cmd_postfix": "",
     "delete_cmd_prefix": "del ",
     "library": "var_list.py",
     "varRefreshCmd": "print(var_dic_list())"
    },
    "r": {
     "delete_cmd_postfix": ") ",
     "delete_cmd_prefix": "rm(",
     "library": "var_list.r",
     "varRefreshCmd": "cat(var_dic_list()) "
    }
   },
   "types_to_exclude": [
    "module",
    "function",
    "builtin_function_or_method",
    "instance",
    "_Feature"
   ],
   "window_display": false
  }
 },
 "nbformat": 4,
 "nbformat_minor": 4
}
