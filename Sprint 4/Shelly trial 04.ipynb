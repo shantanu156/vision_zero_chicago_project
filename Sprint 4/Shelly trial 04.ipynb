{
 "cells": [
  {
   "cell_type": "markdown",
   "metadata": {},
   "source": [
    "# Ground Zero"
   ]
  },
  {
   "cell_type": "markdown",
   "metadata": {},
   "source": [
    "## Packages and Datasets"
   ]
  },
  {
   "cell_type": "code",
   "execution_count": 1,
   "metadata": {
    "ExecuteTime": {
     "end_time": "2020-11-07T18:14:53.632470Z",
     "start_time": "2020-11-07T18:14:44.784511Z"
    }
   },
   "outputs": [
    {
     "name": "stdout",
     "output_type": "stream",
     "text": [
      "Requirement already satisfied: researchpy in /Users/shellylin/anaconda3/envs/vision_zero/lib/python3.8/site-packages (0.2.3)\n",
      "Requirement already satisfied: numpy in /Users/shellylin/anaconda3/envs/vision_zero/lib/python3.8/site-packages (from researchpy) (1.19.1)\n",
      "Requirement already satisfied: scipy in /Users/shellylin/anaconda3/envs/vision_zero/lib/python3.8/site-packages (from researchpy) (1.4.1)\n",
      "Requirement already satisfied: pandas in /Users/shellylin/anaconda3/envs/vision_zero/lib/python3.8/site-packages (from researchpy) (1.1.3)\n",
      "Requirement already satisfied: statsmodels in /Users/shellylin/anaconda3/envs/vision_zero/lib/python3.8/site-packages (from researchpy) (0.12.0)\n",
      "Requirement already satisfied: pytz>=2017.2 in /Users/shellylin/anaconda3/envs/vision_zero/lib/python3.8/site-packages (from pandas->researchpy) (2020.1)\n",
      "Requirement already satisfied: python-dateutil>=2.7.3 in /Users/shellylin/anaconda3/envs/vision_zero/lib/python3.8/site-packages (from pandas->researchpy) (2.8.1)\n",
      "Requirement already satisfied: patsy>=0.5 in /Users/shellylin/anaconda3/envs/vision_zero/lib/python3.8/site-packages (from statsmodels->researchpy) (0.5.1)\n",
      "Requirement already satisfied: six>=1.5 in /Users/shellylin/anaconda3/envs/vision_zero/lib/python3.8/site-packages (from python-dateutil>=2.7.3->pandas->researchpy) (1.15.0)\n",
      "Requirement already satisfied: missingno in /Users/shellylin/anaconda3/envs/vision_zero/lib/python3.8/site-packages (0.4.2)\n",
      "Requirement already satisfied: scipy in /Users/shellylin/anaconda3/envs/vision_zero/lib/python3.8/site-packages (from missingno) (1.4.1)\n",
      "Requirement already satisfied: seaborn in /Users/shellylin/anaconda3/envs/vision_zero/lib/python3.8/site-packages (from missingno) (0.11.0)\n",
      "Requirement already satisfied: numpy in /Users/shellylin/anaconda3/envs/vision_zero/lib/python3.8/site-packages (from missingno) (1.19.1)\n",
      "Requirement already satisfied: matplotlib in /Users/shellylin/anaconda3/envs/vision_zero/lib/python3.8/site-packages (from missingno) (3.1.3)\n",
      "Requirement already satisfied: pandas>=0.23 in /Users/shellylin/anaconda3/envs/vision_zero/lib/python3.8/site-packages (from seaborn->missingno) (1.1.3)\n",
      "Requirement already satisfied: pyparsing!=2.0.4,!=2.1.2,!=2.1.6,>=2.0.1 in /Users/shellylin/anaconda3/envs/vision_zero/lib/python3.8/site-packages (from matplotlib->missingno) (2.4.7)\n",
      "Requirement already satisfied: kiwisolver>=1.0.1 in /Users/shellylin/anaconda3/envs/vision_zero/lib/python3.8/site-packages (from matplotlib->missingno) (1.2.0)\n",
      "Requirement already satisfied: cycler>=0.10 in /Users/shellylin/anaconda3/envs/vision_zero/lib/python3.8/site-packages (from matplotlib->missingno) (0.10.0)\n",
      "Requirement already satisfied: python-dateutil>=2.1 in /Users/shellylin/anaconda3/envs/vision_zero/lib/python3.8/site-packages (from matplotlib->missingno) (2.8.1)\n",
      "Requirement already satisfied: pytz>=2017.2 in /Users/shellylin/anaconda3/envs/vision_zero/lib/python3.8/site-packages (from pandas>=0.23->seaborn->missingno) (2020.1)\n",
      "Requirement already satisfied: six in /Users/shellylin/anaconda3/envs/vision_zero/lib/python3.8/site-packages (from cycler>=0.10->matplotlib->missingno) (1.15.0)\n",
      "Requirement already satisfied: folium in /Users/shellylin/anaconda3/envs/vision_zero/lib/python3.8/site-packages (0.11.0)\n",
      "Requirement already satisfied: branca>=0.3.0 in /Users/shellylin/anaconda3/envs/vision_zero/lib/python3.8/site-packages (from folium) (0.4.1)\n",
      "Requirement already satisfied: numpy in /Users/shellylin/anaconda3/envs/vision_zero/lib/python3.8/site-packages (from folium) (1.19.1)\n",
      "Requirement already satisfied: requests in /Users/shellylin/anaconda3/envs/vision_zero/lib/python3.8/site-packages (from folium) (2.24.0)\n",
      "Requirement already satisfied: jinja2>=2.9 in /Users/shellylin/anaconda3/envs/vision_zero/lib/python3.8/site-packages (from folium) (2.11.2)\n",
      "Requirement already satisfied: idna<3,>=2.5 in /Users/shellylin/anaconda3/envs/vision_zero/lib/python3.8/site-packages (from requests->folium) (2.10)\n",
      "Requirement already satisfied: urllib3!=1.25.0,!=1.25.1,<1.26,>=1.21.1 in /Users/shellylin/anaconda3/envs/vision_zero/lib/python3.8/site-packages (from requests->folium) (1.25.10)\n",
      "Requirement already satisfied: chardet<4,>=3.0.2 in /Users/shellylin/anaconda3/envs/vision_zero/lib/python3.8/site-packages (from requests->folium) (3.0.4)\n",
      "Requirement already satisfied: certifi>=2017.4.17 in /Users/shellylin/anaconda3/envs/vision_zero/lib/python3.8/site-packages (from requests->folium) (2020.6.20)\n",
      "Requirement already satisfied: MarkupSafe>=0.23 in /Users/shellylin/anaconda3/envs/vision_zero/lib/python3.8/site-packages (from jinja2>=2.9->folium) (1.1.1)\n",
      "Collecting pydotplus\n",
      "  Downloading pydotplus-2.0.2.tar.gz (278 kB)\n",
      "\u001b[K     |████████████████████████████████| 278 kB 818 kB/s eta 0:00:01\n",
      "\u001b[?25hRequirement already satisfied: pyparsing>=2.0.1 in /Users/shellylin/anaconda3/envs/vision_zero/lib/python3.8/site-packages (from pydotplus) (2.4.7)\n",
      "Building wheels for collected packages: pydotplus\n",
      "  Building wheel for pydotplus (setup.py) ... \u001b[?25ldone\n",
      "\u001b[?25h  Created wheel for pydotplus: filename=pydotplus-2.0.2-py3-none-any.whl size=24567 sha256=f112fb5754a5a678124cd510b744ffbaeba504831d69b4841486ede239e20a4f\n",
      "  Stored in directory: /Users/shellylin/Library/Caches/pip/wheels/fe/cd/78/a7e873cc049759194f8271f780640cf96b35e5a48bef0e2f36\n",
      "Successfully built pydotplus\n",
      "Installing collected packages: pydotplus\n",
      "Successfully installed pydotplus-2.0.2\n"
     ]
    }
   ],
   "source": [
    "import pkg_resources\n",
    "import pip\n",
    "installedPackages = {pkg.key for pkg in pkg_resources.working_set}\n",
    "required = {'researchpy', 'missingno', 'folium', 'pydotplus' }\n",
    "missing = required - installedPackages\n",
    "if missing:\n",
    "    !pip install researchpy\n",
    "    !pip install missingno\n",
    "    !pip install folium\n",
    "    !pip install pydotplus"
   ]
  },
  {
   "cell_type": "code",
   "execution_count": 2,
   "metadata": {
    "ExecuteTime": {
     "end_time": "2020-11-07T18:14:53.644083Z",
     "start_time": "2020-11-07T18:14:53.636298Z"
    }
   },
   "outputs": [],
   "source": [
    "#Disable the warnings\n",
    "import warnings\n",
    "warnings.filterwarnings('ignore')"
   ]
  },
  {
   "cell_type": "code",
   "execution_count": 3,
   "metadata": {
    "ExecuteTime": {
     "end_time": "2020-11-07T18:14:56.459314Z",
     "start_time": "2020-11-07T18:14:53.649421Z"
    }
   },
   "outputs": [],
   "source": [
    "import timeit\n",
    "start_time = timeit.default_timer()  #timestamp to calculate total runtime\n",
    "\n",
    "import pandas as pd\n",
    "import numpy as np\n",
    "\n",
    "import researchpy as rp\n",
    "import missingno as msno\n",
    "\n",
    "import seaborn as sns\n",
    "import matplotlib.pyplot as plt\n",
    "\n",
    "import itertools\n",
    "import scipy.stats as ss\n",
    "\n",
    "import folium\n",
    "from folium import plugins\n",
    "\n",
    "from sklearn.model_selection import train_test_split\n",
    "from sklearn import feature_selection\n",
    "from sklearn import preprocessing\n",
    "from sklearn.ensemble import RandomForestClassifier\n",
    "from sklearn.ensemble import RandomForestRegressor\n",
    "from sklearn.model_selection import cross_val_score\n",
    "\n",
    "%matplotlib inline\n",
    "pd.set_option('display.max_columns', None)  # prevent column output trancation\n",
    "sns.set()  # change plot styling from Matlab's 90s feel to today's Seaborn."
   ]
  },
  {
   "cell_type": "code",
   "execution_count": null,
   "metadata": {
    "ExecuteTime": {
     "start_time": "2020-11-07T18:14:44.780Z"
    }
   },
   "outputs": [],
   "source": [
    "# File Directories\n",
    "path_crashes = '../crashes.sample2020.csv'\n",
    "path_vehicles = '../vehicles.sample.csv'\n",
    "path_people = '../people.sample.csv'\n",
    "\n",
    "# Import samples\n",
    "crashes = pd.read_csv(\n",
    "    path_crashes,\n",
    "    parse_dates=[\"CRASH_DATE\", \"CRASH_DATE_EST_I\", \"DATE_POLICE_NOTIFIED\"],\n",
    "    low_memory=False,\n",
    "    dtype=object)\n",
    "\n",
    "vehicles = pd.read_csv(path_vehicles,\n",
    "                       parse_dates=[\"CRASH_DATE\"],\n",
    "                       low_memory=False,\n",
    "                       dtype=object)\n",
    "\n",
    "people = pd.read_csv(path_people,\n",
    "                     parse_dates=[\"CRASH_DATE\"],\n",
    "                     low_memory=False,\n",
    "                     dtype=object)"
   ]
  },
  {
   "cell_type": "markdown",
   "metadata": {},
   "source": [
    "## Overview of Sprint 2\n",
    "- Understanding of Feature Processes\n",
    "- Data Merge & Split\n",
    "- Feature Reduction & Missing Value Treatment\n",
    "- Outliers\n",
    "- Feature Engineering\n",
    "- Baseline Model"
   ]
  },
  {
   "cell_type": "markdown",
   "metadata": {},
   "source": [
    "## Our Understanding"
   ]
  },
  {
   "cell_type": "markdown",
   "metadata": {},
   "source": [
    "### Feature Engineering Process\n",
    "\n",
    "[Source](https://en.wikipedia.org/wiki/Feature_engineering)\n",
    "\n",
    "The feature engineering process is:\n",
    "- Brainstorming or testing features;\n",
    "- Deciding what features to create;\n",
    "- Creating features;\n",
    "- Checking how the features work with your model;\n",
    "- **Improving your features if needed;**\n",
    "- Go back to brainstorming/creating more features until the work is done."
   ]
  },
  {
   "cell_type": "markdown",
   "metadata": {},
   "source": [
    "### Some Terms\n",
    "\n",
    "[Source](https://datascience.stackexchange.com/questions/29006/feature-selection-vs-feature-extraction-which-to-use-when)\n",
    "\n",
    "**Feature Extraction and Feature Engineering:** transformation of raw data into features suitable for modeling; \n",
    "\n",
    "- Texts(ngrams, word2vec, tf-idf etc)\n",
    "- Geospatial data(lat, long)\n",
    "- Date and time(day, month, week, year, rolling based)\n",
    "- Time series, web, etc\n",
    "- Dimensional Reduction Techniques (PCA, SVD, Eigen-Faces etc)\n",
    "- Clustering (DBSCAN etc)\n",
    "- And others.\n",
    "\n",
    "---\n",
    "\n",
    "**Feature / Data Transformation:** transformation of data to improve the accuracy of the algorithm;\n",
    "- Normalization and changing distribution(Scaling)\n",
    "- Interactions\n",
    "- Handling missing Values\n",
    "- Handling outliers\n",
    "- Handling time-date / mixed variables\n",
    "- Encoding categorical features\n",
    "- Variable types \n",
    "- And others.\n",
    "\n",
    "---\n",
    "\n",
    "**Feature Selection:** removing unnecessary features.\n",
    "\n",
    "- Statistical approaches\n",
    "- Selection by modeling\n",
    "- Grid search\n",
    "- Cross Validation\n",
    "- And others\n",
    "\n",
    "---\n",
    "\n",
    "For the purpose of workflow, we will split **Feature Selection** into; \n",
    "- **feature reduction** to remove unnecessary features, \n",
    "- and **feature selection** to select features by their importance scores through ML/statistical techniques."
   ]
  },
  {
   "cell_type": "markdown",
   "metadata": {},
   "source": [
    "# Data Merge & Split"
   ]
  },
  {
   "cell_type": "markdown",
   "metadata": {},
   "source": [
    "## Merging datasets\n",
    "\n",
    "The goal is to successfully merge all datasets by increasing crash records as little as possible."
   ]
  },
  {
   "cell_type": "code",
   "execution_count": null,
   "metadata": {
    "ExecuteTime": {
     "start_time": "2020-11-07T18:14:44.789Z"
    }
   },
   "outputs": [],
   "source": [
    "print(\"Here is the initial shape of the three datasets:\")\n",
    "print(\"Crashes\", crashes.shape)\n",
    "print(\"Vehicles\", vehicles.shape)\n",
    "print(\"People\", people.shape)"
   ]
  },
  {
   "cell_type": "markdown",
   "metadata": {},
   "source": [
    "**Data Merge Strategy**\n",
    "\n",
    "- Filter out passengers from **`people`**, and left-join it to **`vehicles`** on `CRASH_RECORD_ID`, `RD_NO`, `CRASH_DATE`, `VEHICLE_ID`.\n",
    "\n",
    "- Then inner-join this dataset to **`crashes`** on `CRASH_RECORD_ID`, `RD_NO`, `CRASH_DATE`.\n",
    "\n",
    "---\n",
    "\n",
    "**Reasoning**\n",
    "\n",
    "- `people` has **many-to-one relationship** with `vehicles` but a pedestrian in `vehicles` has **one-to-one** with `people`,\n",
    "\n",
    "- Passengers don't have <u>a trajectory separate from the unit</u> they belong to and they don't contribute to accidents with their existence but they are involved if they got harmed through `injuries` features,\n",
    "\n",
    "- This method increases `crashes` records **only per active parties involved**."
   ]
  },
  {
   "cell_type": "code",
   "execution_count": null,
   "metadata": {
    "ExecuteTime": {
     "start_time": "2020-11-07T18:14:44.794Z"
    }
   },
   "outputs": [],
   "source": [
    "# Filter only non-pessenger people (drivers, pedestrian, cyclist, etc.)\n",
    "# non_passengers = people[people.PERSON_ID.str.contains('^O')]"
   ]
  },
  {
   "cell_type": "code",
   "execution_count": null,
   "metadata": {
    "ExecuteTime": {
     "start_time": "2020-11-07T18:14:44.802Z"
    }
   },
   "outputs": [],
   "source": [
    "# Left join non-peseenger people with vehicles\n",
    "vehicles_with_people = vehicles.merge(#non_passengers, \n",
    "                                      people, how='left', \n",
    "                                      on=['CRASH_RECORD_ID', 'RD_NO', 'CRASH_DATE', 'VEHICLE_ID'])\n",
    "vehicles_with_people.head()"
   ]
  },
  {
   "cell_type": "code",
   "execution_count": null,
   "metadata": {
    "ExecuteTime": {
     "start_time": "2020-11-07T18:14:44.808Z"
    }
   },
   "outputs": [],
   "source": [
    "print(\"Shape of vehicles with people\", vehicles_with_people.shape)"
   ]
  },
  {
   "cell_type": "code",
   "execution_count": null,
   "metadata": {
    "ExecuteTime": {
     "start_time": "2020-11-07T18:14:44.812Z"
    }
   },
   "outputs": [],
   "source": [
    "merged_data = crashes.merge(vehicles_with_people, \n",
    "                            how='inner', \n",
    "                            on=['CRASH_RECORD_ID', 'RD_NO', 'CRASH_DATE'])\n",
    "\n",
    "print('Dimensions of the data after merging', merged_data.shape)"
   ]
  },
  {
   "cell_type": "markdown",
   "metadata": {},
   "source": [
    "**Inspection 1**"
   ]
  },
  {
   "cell_type": "code",
   "execution_count": null,
   "metadata": {
    "ExecuteTime": {
     "start_time": "2020-11-07T18:14:44.827Z"
    }
   },
   "outputs": [],
   "source": [
    "merged_data.groupby('CRASH_RECORD_ID').head()"
   ]
  },
  {
   "cell_type": "markdown",
   "metadata": {},
   "source": [
    "**Inspection 2**"
   ]
  },
  {
   "cell_type": "code",
   "execution_count": null,
   "metadata": {
    "ExecuteTime": {
     "start_time": "2020-11-07T18:14:44.834Z"
    }
   },
   "outputs": [],
   "source": [
    "print(\"Wrong joins could have resulted in 6 rows. Here we see 2 rows, meaning the join was successful.\")\n",
    "merged_data[merged_data.RD_NO=='JC301403'] #Wrong joins could result in 6 rows"
   ]
  },
  {
   "cell_type": "markdown",
   "metadata": {},
   "source": [
    "## Splitting the data"
   ]
  },
  {
   "cell_type": "code",
   "execution_count": null,
   "metadata": {
    "ExecuteTime": {
     "start_time": "2020-11-07T18:14:44.839Z"
    }
   },
   "outputs": [],
   "source": [
    "# Alternative: X_train, X_test, y_train, y_test = train_test_split(X, y, test_size=0.33, random_state=42)\n",
    "raw_train, raw_test = train_test_split(merged_data, test_size=0.20, random_state=42, shuffle=True)"
   ]
  },
  {
   "cell_type": "code",
   "execution_count": null,
   "metadata": {
    "ExecuteTime": {
     "start_time": "2020-11-07T18:14:44.844Z"
    },
    "scrolled": true
   },
   "outputs": [],
   "source": [
    "print(\"Train shape\", raw_train.shape)\n",
    "print(\"Test shape\", raw_test.shape)"
   ]
  },
  {
   "cell_type": "markdown",
   "metadata": {},
   "source": [
    "**Write datasets as csv**"
   ]
  },
  {
   "cell_type": "code",
   "execution_count": null,
   "metadata": {
    "ExecuteTime": {
     "start_time": "2020-11-07T18:14:44.848Z"
    }
   },
   "outputs": [],
   "source": [
    "# save the train and test file\n",
    "#train.to_csv('~/repos/vision_zero_chicago_project/sprint 2/raw_train.csv')\n",
    "#test.to_csv('~/repos/vision_zero_chicago_project/sprint 2/raw_test.csv')"
   ]
  },
  {
   "cell_type": "markdown",
   "metadata": {},
   "source": [
    "# Feature Reduction"
   ]
  },
  {
   "cell_type": "markdown",
   "metadata": {},
   "source": [
    "## Detailed look at all features"
   ]
  },
  {
   "cell_type": "code",
   "execution_count": null,
   "metadata": {
    "ExecuteTime": {
     "start_time": "2020-11-07T18:14:44.854Z"
    }
   },
   "outputs": [],
   "source": [
    "raw_train.info()"
   ]
  },
  {
   "cell_type": "markdown",
   "metadata": {},
   "source": [
    "| **Feature** | **Description** | **Decision to drop** |\n",
    "|:-----|:----:|----:|\n",
    "| CRASH_RECORD_ID | This number can be used to link to the same crash in the Vehicles and People datasets. This number also serves as a unique ID in this dataset. | NO |\n",
    "| RD_NO | Chicago Police Department report number. For privacy reasons, this column is blank for recent crashes. | YES |\n",
    "| CRASH_DATE_EST_I | Crash date estimated by desk officer or reporting party (only used in cases where crash is reported at police station days after the crash) | YES |\n",
    "| CRASH_DATE | Date and time of crash as entered by the reporting officer | NO |\n",
    "| POSTED_SPEED_LIMIT | Posted speed limit, as determined by reporting officer | NO |\n",
    "| TRAFFIC_CONTROL_DEVICE | Traffic control device present at crash location, as determined by reporting officer | NO |\n",
    "| DEVICE_CONDITION | Condition of traffic control device, as determined by reporting officer | NO |\n",
    "| WEATHER_CONDITION | Weather condition at time of crash, as determined by reporting officer | NO |\n",
    "| LIGHTING_CONDITION | Light condition at time of crash, as determined by reporting officer | NO |\n",
    "| FIRST_CRASH_TYPE | Type of first collision in crash | NO |\n",
    "| TRAFFICWAY_TYPE | Trafficway type, as determined by reporting officer | NO |\n",
    "| LANE_CNT | Total number of through lanes in either direction, excluding turn lanes, as determined by reporting officer (0 = intersection) | NO |\n",
    "| ALIGNMENT | Street alignment at crash location, as determined by reporting officer | NO |\n",
    "| ROADWAY_SURFACE_COND | Road surface condition, as determined by reporting officer | NO |\n",
    "| ROAD_DEFECT | Road defects, as determined by reporting officer | NO |\n",
    "| REPORT_TYPE | Administrative report type (at scene, at desk, amended) | YES |\n",
    "| CRASH_TYPE | A general severity classification for the crash. Can be either Injury and/or Tow Due to Crash or No Injury / Drive Away | NO |\n",
    "| INTERSECTION_RELATED_I |A field observation by the police officer whether an intersection played a role in the crash. Does not represent whether or not the crash occurred within the intersection. | NO |\n",
    "| NOT_RIGHT_OF_WAY_I | Whether the crash begun or first contact was made outside of the public right-of-way. | NO |\n",
    "| HIT_AND_RUN_I | Crash did/did not involve a driver who caused the crash and fled the scene without exchanging information and/or rendering aid | NO |\n",
    "| DAMAGE | A field observation of estimated damage. | NO |\n",
    "| DATE_POLICE_NOTIFIED | Calendar date on which police were notified of the crash | YES |\n",
    "| PRIM_CONTRIBUTORY_CAUSE | The factor which was most significant in causing the crash, as determined by officer judgment | NO |\n",
    "| SEC_CONTRIBUTORY_CAUSE | The factor which was second most significant in causing the crash, as determined by officer judgment | NO |\n",
    "| STREET_NO | Street address number of crash location, as determined by reporting officer | NO |\n",
    "| STREET_DIRECTION | Street address direction (N,E,S,W) of crash location, as determined by reporting officer | NO |\n",
    "| STREET_NAME | Street address name of crash location, as determined by reporting officer | NO |\n",
    "| BEAT_OF_OCCURRENCE | Chicago Police Department Beat ID | YES |\n",
    "| PHOTOS_TAKEN_I | Whether the Chicago Police Department took photos at the location of the crash | YES |\n",
    "| STATEMENTS_TAKEN_I | Whether statements were taken from unit(s) involved in crash | YES |\n",
    "| DOORING_I | Whether crash involved a motor vehicle occupant opening a door into the travel path of a bicyclist, causing a crash | NO |\n",
    "| WORK_ZONE_I | Whether the crash occurred in an active work zone | NO |\n",
    "| WORK_ZONE_TYPE | The type of work zone, if any | YES |\n",
    "| WORKERS_PRESENT_I | Whether construction workers were present in an active work zone at crash location | YES |\n",
    "| NUM_UNITS | Number of units involved in the crash. A unit can be a motor vehicle, a pedestrian, a bicyclist, or another non-passenger roadway user. Each unit represents a mode of traffic with an independent trajectory. | NO |\n",
    "| MOST_SEVERE_INJURY | Most severe injury sustained by any person involved in the crash | NO |\n",
    "| INJURIES_TOTAL | Total persons sustaining fatal, incapacitating, non-incapacitating, and possible injuries as determined by the reporting officer | NO |\n",
    "| INJURIES_FATAL | Total persons sustaining fatal injuries in the crash | NO |\n",
    "| INJURIES_INCAPACITATING | Total persons sustaining incapacitating/serious injuries in the crash as determined by the reporting officer. Any injury other than fatal injury, which prevents the injured person from walking, driving, or normally continuing the activities they were capable of performing before the injury occurred. Includes severe lacerations, broken limbs, skull or chest injuries, and abdominal injuries. | NO |\n",
    "| INJURIES_NON_INCAPACITATING | Total persons sustaining non-incapacitating injuries in the crash as determined by the reporting officer. Any injury, other than fatal or incapacitating injury, which is evident to observers at the scene of the crash. Includes lump on head, abrasions, bruises, and minor lacerations. | NO |\n",
    "| INJURIES_REPORTED_NOT_EVIDENT | Total persons sustaining possible injuries in the crash as determined by the reporting officer. Includes momentary unconsciousness, claims of injuries not evident, limping, complaint of pain, nausea, and hysteria. | NO |\n",
    "| INJURIES_NO_INDICATION | Total persons sustaining no injuries in the crash as determined by the reporting officer | YES |\n",
    "| INJURIES_UNKNOWN | Total persons for whom injuries sustained, if any, are unknown | YES |\n",
    "| CRASH_HOUR | The hour of the day component of CRASH_DATE. | NO |\n",
    "| CRASH_DAY_OF_WEEK | The day of the week component of CRASH_DATE. Sunday=1 | YES |\n",
    "| CRASH_MONTH | The month component of CRASH_DATE. | YES |\n",
    "| LATITUDE | The latitude of the crash location, as determined by reporting officer, as derived from the reported address of crash | NO |\n",
    "| LONGITUDE | The longitude of the crash location, as determined by reporting officer, as derived from the reported address of crash | NO |\n",
    "| LOCATION | The crash location, as determined by reporting officer, as derived from the reported address of crash, in a column type that allows for mapping and other geographic analysis in the data portal software | YES || PERSON_ID | A unique identifier for each person record. IDs starting with P indicate passengers. IDs starting with O indicate a person who was not a passenger in the vehicle (e.g., driver, pedestrian, cyclist, etc.). | NO |\n",
    "| PERSON_TYPE | Type of roadway user involved in crash | NO |\n",
    "| CRASH_RECORD_ID | This number can be used to link to the same crash in the Crashes and Vehicles datasets. This number also serves as a unique ID in the Crashes dataset. | NO |\n",
    "| RD_NO | Chicago Police Department report number. For privacy reasons, this column is blank for recent crashes. | YES |\n",
    "| VEHICLE_ID | The corresponding CRASH_UNIT_ID from the Vehicles dataset. | YES |\n",
    "| CRASH_DATE | Date and time of crash as entered by the reporting officer | YES |\n",
    "| SEAT_NO | Code for seating position of motor vehicle occupant: 1= driver, 2= center front, 3 = front passenger, 4 = second row left, 5 = second row center, 6 = second row right, 7 = enclosed passengers, 8 = exposed passengers, 9= unknown position, 10 = third row left, 11 = third row center, 12 = third row right | YES |\n",
    "| CITY | City of residence of person involved in crash | NO |\n",
    "| STATE | State of residence of person involved in crash | YES |\n",
    "| ZIPCODE | ZIP Code of residence of person involved in crash | YES |\n",
    "| SEX | Gender of person involved in crash, as determined by reporting officer | NO |\n",
    "| AGE | Age of person involved in crash | NO |\n",
    "| DRIVERS_LICENSE_STATE | State issuing driver's license of person involved in crash | YES |\n",
    "| DRIVERS_LICENSE_CLASS| Class of driver's license of person involved in crash | YES |\n",
    "| SAFETY_EQUIPMENT | Safety equipment used by vehicle occupant in crash, if any | NO |\n",
    "| AIRBAG_DEPLOYED | Whether vehicle occupant airbag deployed as result of crash | NO |\n",
    "| EJECTION | Whether vehicle occupant was ejected or extricated from the vehicle as a result of crash | NO |\n",
    "| INJURY_CLASSIFICATION | Severity of injury person sustained in the crash | YES |\n",
    "| HOSPITAL | Hospital to which person injured in the crash was taken | YES |\n",
    "| EMS_AGENCY | EMS agency who transported person injured in crash to the hospital | YES |\n",
    "| EMS_RUN_NO | EMS agency run number | YES |\n",
    "| DRIVER_ACTION | Driver action that contributed to the crash, as determined by reporting officer | NO |\n",
    "| DRIVER_VISION | What, if any, objects obscured the driver’s vision at time of crash | NO |\n",
    "| PHYSICAL_CONDITION | Driver’s apparent physical condition at time of crash, as observed by the reporting officer | NO |\n",
    "| PEDPEDAL_ACTION | Action of pedestrian or cyclist at the time of crash | NO |\n",
    "| PEDPEDAL_VISIBILITY | Visibility of pedestrian of cyclist safety equipment in use at time of crash | NO |\n",
    "| PEDPEDAL_LOCATION | Location of pedestrian or cyclist at the time of crash | YES |\n",
    "| BAC_RESULT | Status of blood alcohol concentration testing for driver or other person involved in crash | YES |\n",
    "| BAC_RESULT VALUE | Driver’s blood alcohol concentration test result | NO |\n",
    "| CELL_PHONE_USE | Whether person was/was not using cellphone at the time of the crash, as determined by the reporting officer | NO |\n",
    "|CRASH_UNIT_ID | A unique identifier for each vehicle record | YES | \n",
    "|CRASH_RECORD_ID | This number can be used to link to the same crash in the Crashes and People datasets. This number also serves as a unique ID in the Crashes dataset | NO | \n",
    "|RD_NO | Chicago Police Department report number. For privacy reasons, this column is blank for recent crashes | Yes | \n",
    "|CRASH_DATE| Date and time of crash as entered by the reporting officer | No | \n",
    "|UNIT_NO| A unique ID for each unit within a specific crash report | Yes | \n",
    "|UNIT_TYPE| Type of unit | Yes | \n",
    "|NUM_PASSENGERS| Number of passengers in the vehicle. The driver is not included. More information on passengers is in the People dataset | No | \n",
    "|VEHICLE_ID| No definition | Yes | \n",
    "|CMRC_VEH_I| No definition | Yes | \n",
    "|MAKE| The make (brand) of the vehicle, if relevant | YES | \n",
    "|MODEL| The model of the vehicle, if relevant| NO | \n",
    "|LIC_PLATE_STATE| The state issuing the license plate of the vehicle, if relevant | No | \n",
    "|VEHICLE_YEAR| The model year of the vehicle, if relevant | No | \n",
    "|VEHICLE_DEFECT| No definition | No | \n",
    "|VEHICLE_TYPE| The type of vehicle, if relevant | No | \n",
    "|TRAVEL_DIRECTION| The direction in which the unit was traveling prior to the crash, as determined by the reporting officer | No | \n",
    "|MANEUVER| The action the unit was taking prior to the crash, as determined by the reporting officer | NO | \n",
    "|TOWED_I| Indicator of whether the vehicle was towed | Yes | \n",
    "|FIRE_I| No definition | Yes | \n",
    "|OCCUPANT_COUNT| The number of people in the unit, as determined by the reporting officer | No | \n",
    "|EXCEED_SPEED_LIMIT_I| Indicator of whether the unit was speeding, as determined by the reporting officer | No | \n",
    "|TOWED_BY| No definition | Yes | \n",
    "|TOWED_TO| No definition | Yes | \n",
    "|AREA_00_I:AREA_99_I| No definition | Yes | \n",
    "|FIRST_CONTACT_POINT| No definition | No | \n",
    "|CMV_ID:HAZMAT_CLASS| No definition | Yes |\n",
    "\n",
    "\n",
    "**Features to be excluded are**\n",
    "- `RD_NO`\n",
    "- `CRASH_DATE_EST_I`\n",
    "- `REPORT_TYPE`\n",
    "- `CRASH_DATE_EST_I`\n",
    "- `REPORT_TYPE`\n",
    "- `CRASH_TYPE`\n",
    "- `NOT_RIGHT_OF_WAY_I`\n",
    "- `DATE_POLICE_NOTIFIED`\n",
    "- `STREET_DIRECTION`\n",
    "- `ALIGNMENT`\n",
    "- `BEAT_OF_OCCURRENCE`\n",
    "- `PHOTOS_TAKEN_I`\n",
    "- `STATEMENTS_TAKEN_I`\n",
    "- `DOORING_I`\n",
    "- `WORK_ZONE_I`\n",
    "- `WORK_ZONE_TYPE`\n",
    "- `WORKERS_PRESENT_I`\n",
    "- `MOST_SEVERE_INJURY`\n",
    "- `INJURIES_NO_INDICATION`\n",
    "- `INJURIES_UNKNOWN`\n",
    "- `CRASH_DAY_OF_WEEK`\n",
    "- `CRASH_MONTH`\n",
    "- `LATITUDE`\n",
    "- `LONGITUDE`\n",
    "- `RD_NO`\n",
    "- `VEHICLE_ID`\n",
    "- `CRASH_DATE`\n",
    "- `SEAT_NO`\n",
    "- `CITY`\n",
    "- `STATE`\n",
    "- `ZIPCODE`\n",
    "- `DRIVERS_LICENSE_STATE`\n",
    "- `DRIVERS_LICENSE_CLASS`\n",
    "- `INJURY_CLASSIFICATION`\n",
    "- `HOSPITAL`\n",
    "- `EMS_AGENCY`\n",
    "- `EMS_RUN_NO`\n",
    "- `PEDPEDAL_ACTION`\t\n",
    "- `PEDPEDAL_VISIBILITY`\n",
    "- `PEDPEDAL_LOCATION`\n",
    "- `BAC_RESULT`\n",
    "- `BAC_RESULT VALUE`\n",
    "- `CRASH_UNIT_ID`\n",
    "- `RD_NO`\n",
    "- `UNIT_NO`\n",
    "- `UNIT_TYPE`\n",
    "- `VEHICLE_ID`\n",
    "- `CMRC_VEH_I`\n",
    "- `MAKE`\n",
    "- `MODEL`\n",
    "- `TOWED_I`\n",
    "- `FIRE_I`\n",
    "- `TOWED_BY`\n",
    "- `TOWED_TO`\n",
    "- `AREA_00_I`\n",
    "- `AREA_01_I`\n",
    "- `AREA_02_I`\n",
    "- `AREA_03_I`\n",
    "- `AREA_04_I`\n",
    "- `AREA_05_I`\n",
    "- `AREA_06_I`\n",
    "- `AREA_07_I`\n",
    "- `AREA_08_I`\n",
    "- `AREA_09_I`\n",
    "- `AREA_10_I`\n",
    "- `AREA_11_I`\n",
    "- `AREA_12_I`\n",
    "- `AREA_99_I`\n",
    "- `CMV_ID:HAZMAT_CLASS`\n",
    "\n",
    "\n",
    "\n",
    "\n",
    "**Due to the reasons**\n",
    "- Redundant information\n",
    "- Non value information (at least for our baseline model)"
   ]
  },
  {
   "cell_type": "code",
   "execution_count": null,
   "metadata": {
    "ExecuteTime": {
     "start_time": "2020-11-07T18:14:44.858Z"
    },
    "scrolled": false
   },
   "outputs": [],
   "source": [
    "# Drop the features that are not needed\n",
    "feature_drop_train = [\"CRASH_DATE_EST_I\", \"REPORT_TYPE\", \"CRASH_DATE_EST_I\", \"REPORT_TYPE\", \n",
    "                      \"DATE_POLICE_NOTIFIED\",\"BEAT_OF_OCCURRENCE\", \"PHOTOS_TAKEN_I\", \"STATEMENTS_TAKEN_I\", \n",
    "                      \"WORK_ZONE_TYPE\", \"WORKERS_PRESENT_I\",\"INJURIES_NO_INDICATION\", \"INJURIES_UNKNOWN\",\n",
    "                      \"CRASH_DAY_OF_WEEK\", \"CRASH_MONTH\", \"RD_NO\", \"VEHICLE_ID\", \"CRASH_RECORD_ID\",\n",
    "                      \"SEAT_NO\", \"STATE\", \"ZIPCODE\", \"DRIVERS_LICENSE_STATE\", \"PERSON_ID\",\n",
    "                      \"DRIVERS_LICENSE_CLASS\", \"INJURY_CLASSIFICATION\", \"HOSPITAL\", \"EMS_AGENCY\", \n",
    "                      \"EMS_RUN_NO\", \"PEDPEDAL_LOCATION\", \"LOCATION\",\"DAMAGE\",\"CRASH_TYPE\",\"MODEL\",\n",
    "                      \"BAC_RESULT\", \"CRASH_UNIT_ID\", \"RD_NO\", \"UNIT_NO\", \"UNIT_TYPE\", \"VEHICLE_ID\", \n",
    "                      \"CMRC_VEH_I\", \"MAKE\", \"TOWED_I\", \"FIRE_I\", \"TOWED_BY\", \"STREET_NO\",\"STREET_NAME\",\n",
    "                      \"TOWED_TO\", \"AREA_00_I\", \"AREA_01_I\", \"AREA_02_I\", \"AREA_03_I\", \"AREA_04_I\", \n",
    "                      \"AREA_05_I\", \"AREA_06_I\", \"AREA_07_I\", \"AREA_08_I\", \"AREA_09_I\", \"AREA_10_I\", \n",
    "                      \"AREA_11_I\", \"AREA_12_I\", \"AREA_99_I\", \"CMV_ID\", \"USDOT_NO\", \"CCMC_NO\", \n",
    "                      \"ILCC_NO\", \"COMMERCIAL_SRC\", \"GVWR\", \"CARRIER_NAME\", \"CARRIER_STATE\", \"CARRIER_CITY\",\n",
    "                      \"HAZMAT_PLACARDS_I\", \"HAZMAT_NAME\", \"UN_NO\", \"HAZMAT_PRESENT_I\", \"HAZMAT_REPORT_I\",\n",
    "                      \"HAZMAT_REPORT_NO\", \"MCS_REPORT_I\", \"MCS_REPORT_NO\", \"HAZMAT_VIO_CAUSE_CRASH_I\", \n",
    "                      \"MCS_VIO_CAUSE_CRASH_I\", \"IDOT_PERMIT_NO\", \"WIDE_LOAD_I\", \"TRAILER1_WIDTH\", \n",
    "                      \"TRAILER2_WIDTH\", \"TRAILER1_LENGTH\", \"TRAILER2_LENGTH\", \"TOTAL_VEHICLE_LENGTH\",\n",
    "                      \"AXLE_CNT\", \"VEHICLE_CONFIG\", \"CARGO_BODY_TYPE\", \"LOAD_TYPE\", \"HAZMAT_OUT_OF_SERVICE_I\",\n",
    "                      \"INJURIES_FATAL\",\"INJURIES_INCAPACITATING\",\"INJURIES_NON_INCAPACITATING\",\"INJURIES_REPORTED_NOT_EVIDENT\",\n",
    "                      \"MCS_OUT_OF_SERVICE_I\", \"HAZMAT_CLASS\"]\n",
    "\n",
    "train = raw_train.loc[:, ~raw_train.columns.isin(feature_drop_train)]\n",
    "train.info()"
   ]
  },
  {
   "cell_type": "code",
   "execution_count": null,
   "metadata": {
    "ExecuteTime": {
     "start_time": "2020-11-07T18:14:44.862Z"
    }
   },
   "outputs": [],
   "source": [
    "#train[\"PERSON_ID\"].value_counts()"
   ]
  },
  {
   "cell_type": "markdown",
   "metadata": {},
   "source": [
    "TRAFFIC_CONTROL_DEVICE- UNKNOWN, OTHER\n",
    "DEVICE_CONDITION - UNKNOWN, OTHER\n",
    "WEATHER_CONDITION - UNKNOWN, OTHER\n",
    "LIGHTING_CONDITION - UNKNOWN\n",
    "TRAFFICWAY_TYPE - UNKNOWN, OTHER\n",
    "ROADWAY_SURFACE_COND - UNKNOWN, OTHER\n",
    "ROAD_DEFECT - UNKNOWN, OTHER\n",
    "PRIM_CONTRIBUTORY_CAUSE- UNABLE TO DETERMINE\n",
    "SEC_CONTRIBUTORY_CAUSE - UNABLE TO DETERMINE\n",
    "MODEL - UNKNOWN\n",
    "VEHICLE_DEFECT - UNKNOWN, OTHER\n",
    "VEHICLE_TYPE - UNKNOWN/NA\n",
    "TRAVEL_DIRECTION - UNKNOWN\n",
    "MANEUVER - UNKNOWN/NA\n",
    "SEX - X\n",
    "SAFETY_EQUIPMENT - USAGE UNKNOWN\n",
    "AIRBAG_DEPLOYED - DEPLOYMENT UNKNOWN\n",
    "EJECTION - UNKNOWN\n",
    "DRIVER_ACTION - UNKNOWN\n",
    "DRIVER_VISION - UNKNOWN\n",
    "PHYSICAL_CONDITION - UNKNOWN\n",
    "PEDPEDAL_ACTION - UNKNOWN/NA "
   ]
  },
  {
   "cell_type": "code",
   "execution_count": null,
   "metadata": {
    "ExecuteTime": {
     "start_time": "2020-11-07T18:14:44.867Z"
    }
   },
   "outputs": [],
   "source": [
    "train.loc[train[\"TRAFFIC_CONTROL_DEVICE\"]==\"UNKNOWN\",\"TRAFFIC_CONTROL_DEVICE\"]=np.nan\n",
    "train.loc[train[\"DEVICE_CONDITION\"]==\"UNKNOWN\",\"DEVICE_CONDITION\"]=np.nan\n",
    "train.loc[train[\"WEATHER_CONDITION\"]==\"UNKNOWN\",\"WEATHER_CONDITION\"]=np.nan\n",
    "train.loc[train[\"LIGHTING_CONDITION\"]==\"UNKNOWN\",\"LIGHTING_CONDITION\"]=np.nan\n",
    "train.loc[train[\"TRAFFICWAY_TYPE\"]==\"UNKNOWN\",\"TRAFFICWAY_TYPE\"]=np.nan\n",
    "train.loc[train[\"ROADWAY_SURFACE_COND\"]==\"UNKNOWN\",\"ROADWAY_SURFACE_COND\"]=np.nan\n",
    "train.loc[train[\"ROAD_DEFECT\"]==\"UNKNOWN\",\"ROAD_DEFECT\"]=np.nan\n",
    "\n",
    "train.loc[train[\"VEHICLE_DEFECT\"]==\"UNKNOWN\",\"VEHICLE_DEFECT\"]=np.nan\n",
    "train.loc[train[\"VEHICLE_TYPE\"]==\"UNKNOWN/NA\",\"VEHICLE_TYPE\"]=np.nan\n",
    "train.loc[train[\"TRAVEL_DIRECTION\"]==\"UNKNOWN\",\"TRAVEL_DIRECTION\"]=np.nan\n",
    "train.loc[train[\"MANEUVER\"]==\"UNKNOWN/NA\",\"MANEUVER\"]=np.nan\n",
    "\n",
    "train.loc[train[\"SAFETY_EQUIPMENT\"]==\"USAGE UNKNOWN\",\"SAFETY_EQUIPMENT\"]=np.nan\n",
    "train.loc[train[\"AIRBAG_DEPLOYED\"]==\"DEPLOYMENT UNKNOWN\",\"AIRBAG_DEPLOYED\"]=np.nan\n",
    "train.loc[train[\"EJECTION\"]==\"UNKNOWN\",\"EJECTION\"]=np.nan\n",
    "train.loc[train[\"DRIVER_ACTION\"]==\"UNKNOWN\",\"DRIVER_ACTION\"]=np.nan\n",
    "train.loc[train[\"DRIVER_VISION\"]==\"UNKNOWN\",\"DRIVER_VISION\"]=np.nan\n",
    "train.loc[train[\"PHYSICAL_CONDITION\"]==\"UNKNOWN\",\"PHYSICAL_CONDITION\"]=np.nan\n",
    "train.loc[train[\"PEDPEDAL_ACTION\"]==\"UNKNOWN/NA\",\"PEDPEDAL_ACTION\"]=np.nan"
   ]
  },
  {
   "cell_type": "code",
   "execution_count": null,
   "metadata": {
    "ExecuteTime": {
     "start_time": "2020-11-07T18:14:44.871Z"
    }
   },
   "outputs": [],
   "source": [
    "train.isnull().sum()"
   ]
  },
  {
   "cell_type": "code",
   "execution_count": null,
   "metadata": {
    "ExecuteTime": {
     "start_time": "2020-11-07T18:14:44.875Z"
    }
   },
   "outputs": [],
   "source": [
    "msno.matrix(train)"
   ]
  },
  {
   "cell_type": "code",
   "execution_count": null,
   "metadata": {
    "ExecuteTime": {
     "end_time": "2020-11-02T17:58:18.061553Z",
     "start_time": "2020-11-02T17:58:18.054549Z"
    }
   },
   "outputs": [],
   "source": []
  },
  {
   "cell_type": "code",
   "execution_count": null,
   "metadata": {
    "ExecuteTime": {
     "end_time": "2020-11-02T17:58:23.137953Z",
     "start_time": "2020-11-02T17:58:23.130958Z"
    }
   },
   "outputs": [],
   "source": []
  },
  {
   "cell_type": "markdown",
   "metadata": {},
   "source": [
    "## Missing value overview on train data"
   ]
  },
  {
   "cell_type": "code",
   "execution_count": null,
   "metadata": {
    "ExecuteTime": {
     "start_time": "2020-11-07T18:14:44.884Z"
    }
   },
   "outputs": [],
   "source": [
    "print('\\033[1m', 'All 50 columns', '\\033[0m')\n",
    "print('\\033[1m', 'These', sum(train.isnull().mean().round(5) > 0.5),\n",
    "      'columns have > 50% missing values', '\\033[0m')\n",
    "print(train.columns[train.isnull().mean().round(5) > 0.5].tolist())\n",
    "print('')\n",
    "raw_null_above50 = train[train.columns[train.isnull().mean().round(5) > 0.5].tolist()]\n",
    "print(raw_null_above50.isnull().mean().round(5))\n",
    "print('')\n",
    "# Subset the data to include the columns only with nulls in the output\n",
    "train_with_null = train[train.columns[train.isnull().any()].tolist()]\n",
    "print('\\033[1m', 'These', len(train_with_null.columns),\n",
    "      'columns have any missing values', '\\033[0m')\n",
    "train_with_null.isnull().mean().round(5)"
   ]
  },
  {
   "cell_type": "code",
   "execution_count": null,
   "metadata": {
    "ExecuteTime": {
     "start_time": "2020-11-07T18:14:44.889Z"
    }
   },
   "outputs": [],
   "source": [
    "train[\"PEDPEDAL_VISIBILITY\"].value_counts()"
   ]
  },
  {
   "cell_type": "code",
   "execution_count": null,
   "metadata": {
    "ExecuteTime": {
     "start_time": "2020-11-07T18:14:44.892Z"
    }
   },
   "outputs": [],
   "source": [
    "# replacing TRAFFIC_CONTROL_DEVICE with No Controls \n",
    "# replacing DEVICE_CONDITION with No Controls \n",
    "\n",
    "train.fillna({\n",
    "    'TRAFFIC_CONTROL_DEVICE': 'NO CONTROLS',\n",
    "    'DEVICE_CONDITION': 'NO CONTROLS',\n",
    "    'WEATHER_CONDITION': 'CLEAR',\n",
    "    'LIGHTING_CONDITION': 'DAYLIGHT',\n",
    "    'TRAFFICWAY_TYPE': 'NOT DIVIDED',\n",
    "    'ROADWAY_SURFACE_COND': 'NO DEFECTS',\n",
    "    'ROAD_DEFECT': 'CLEAR',\n",
    "    'INTERSECTION_RELATED_I': 'N',\n",
    "    \n",
    "    'NOT_RIGHT_OF_WAY_I': 'N',\n",
    "    'HIT_AND_RUN_I': 'N',\n",
    "    'DOORING_I': 'N',\n",
    "    'WORK_ZONE_I': 'N',\n",
    "    'NUM_PASSENGERS': 0,\n",
    "    'LIC_PLATE_STATE': 'IL',\n",
    "    'VEHICLE_DEFECT': 'UNABLE TO DETERMINE',\n",
    "    'VEHICLE_TYPE': 'OTHER',\n",
    "    \n",
    "    'VEHICLE_USE': 'OTHER',\n",
    "    'TRAVEL_DIRECTION': 'N',\n",
    "    'MANEUVER': 'OTHER',\n",
    "    'OCCUPANT_CNT': 0,\n",
    "    'EXCEED_SPEED_LIMIT_I': 'N',\n",
    "    'FIRST_CONTACT_POINT': 'OTHER',\n",
    "    'PERSON_TYPE': 'UNABLE TO DETERMINE',\n",
    "    'CITY': 'OTHER',\n",
    "    \n",
    "    'SEX': 'UNABLE TO DETERMINE',\n",
    "    'AIRBAG_DEPLOYED': 'UNABLE TO DETERMINE',\n",
    "    'EJECTION': 'UNABLE TO DETERMINE',\n",
    "    'DRIVER_ACTION': 'OTHER',\n",
    "    'DRIVER_VISION': 'OTHER',\n",
    "    'PHYSICAL_CONDITION': 'UNABLE TO DETERMINE',\n",
    "    'PEDPEDAL_ACTION': 'UNABLE TO DETERMINE',\n",
    "    'PEDPEDAL_VISIBILITY': 'UNABLE TO DETERMINE',\n",
    "    \n",
    "    'CELL_PHONE_USE': 'UNABLE TO DETERMINE',\n",
    "    'SAFETY_EQUIPMENT': 'UNABLE TO DETERMINE',\n",
    "    'BAC_RESULT VALUE': 0\n",
    "}, inplace=True)"
   ]
  },
  {
   "cell_type": "code",
   "execution_count": null,
   "metadata": {
    "ExecuteTime": {
     "end_time": "2020-11-03T06:07:45.832534Z",
     "start_time": "2020-11-03T06:07:45.821570Z"
    }
   },
   "outputs": [],
   "source": []
  },
  {
   "cell_type": "code",
   "execution_count": null,
   "metadata": {
    "ExecuteTime": {
     "start_time": "2020-11-07T18:14:44.900Z"
    }
   },
   "outputs": [],
   "source": [
    "train.isnull().sum()"
   ]
  },
  {
   "cell_type": "code",
   "execution_count": null,
   "metadata": {
    "ExecuteTime": {
     "end_time": "2020-11-03T10:37:08.211602Z",
     "start_time": "2020-11-03T10:37:08.189560Z"
    }
   },
   "outputs": [],
   "source": []
  },
  {
   "cell_type": "markdown",
   "metadata": {},
   "source": [
    "| **Feature** | **Description** | **Decision on NA** |\n",
    "|:----|:----|:-----|\n",
    "| LANE_CNT | Total number of through lanes in either direction, excluding turn lanes, as determined by reporting officer (0 = intersection) | Replace with mode = 2 |\n",
    "| INTERSECTION_RELATED_I | A field observation by the police officer whether an intersection played a role in the crash. Does not represent whether or not the crash occurred within the intersection.Y&N | Replace with \"N\" |\n",
    "| HIT_AND_RUN_I |  Crash did/did not involve a driver who caused the crash and fled the scene without exchanging information and/or rendering aid Y&N | Replace with \"N\" |\n",
    "| INJURIES_TOTAL | Total persons sustaining fatal, incapacitating, non-incapacitating, and possible injuries as determined by the reporting officer | Replace with \"0\" |\n",
    "| INJURIES_FATAL | Total persons sustaining fatal injuries in the crash | Replace with \"0\" |\n",
    "| INJURIES_INCAPACITATING | Total persons sustaining incapacitating/serious injuries in the crash as determined by the reporting officer. Any injury other than fatal injury, which prevents the injured person from walking, driving, or normally continuing the activities they were capable of performing before the injury occurred. Includes severe lacerations, broken limbs, skull or chest injuries, and abdominal injuries. | Replace with \"0\" |\n",
    "| INJURIES_NON_INCAPACITATING | Total persons sustaining no injuries in the crash as determined by the reporting officer | Replace with \"0\" |\n",
    "| INJURIES_REPORTED_NOT_EVIDENT | Total persons sustaining possible injuries in the crash as determined by the reporting officer. Includes momentary unconsciousness, claims of injuries not evident, limping, complaint of pain, nausea, and hysteria. | Replace with \"0\" |\n",
    "| LOCATION | The crash location, as determined by reporting officer, as derived from the reported address of crash, in a column type that allows for mapping and other geographic analysis in the data portal software | DROP the row |\n",
    "| NUM_PASSENGERS | Number of passengers in the vehicle. The driver is not included. More information on passengers is in the People dataset. | DROP the column |\n",
    "| LIC_PLATE_STATE | The state issuing the license plate of the vehicle, if relevant | Replace with \"IL\" |\n",
    "| VEHICLE_YEAR | The model year of the vehicle, if relevant | DROP the row |\n",
    "| VEHICLE_DEFECT | no definition | Replace with \"UNKNOWN\" |\n",
    "| VEHICLE_TYPE | The type of vehicle, if relevant | Replace with \"UNKNOWN/NA\" |\n",
    "| VEHICLE_USE | The normal use of the vehicle, if relevant | Replace with \"UNKNOWN/NA\" |\n",
    "| TRAVEL_DIRECTION | The direction in which the unit was traveling prior to the crash, as determined by the reporting officer | Replace with \"UNKNOWN\" |\n",
    "| MANEUVER | The action the unit was taking prior to the crash, as determined by the reporting officer | Replace with \"UNKNOWN/NA\" |\n",
    "| OCCUPANT_CNT |The number of people in the unit, as determined by the reporting officer | DROP the row |\n",
    "| EXCEED_SPEED_LIMIT_I | Indicator of whether the unit was speeding, as determined by the reporting officer | DROP Column |\n",
    "| FIRST_CONTACT_POINT | No definition | Replace with \"UNKNOWN\" |\n",
    "| PERSON_ID | A unique identifier for each person record. IDs starting with P indicate passengers. IDs starting with O indicate a person who was not a passenger in the vehicle (e.g., driver, pedestrian, cyclist, etc.). | DROP the row |\n",
    "| PERSON_TYPE | Type of roadway user involved in crash | DROP the row |\n",
    "| SEX | Gender of person involved in crash, as determined by reporting officer | Replace with \"X\" |\n",
    "| AGE | Age of person involved in crash | Replace with mean |\n",
    "| SAFETY_EQUIPMENT | Safety equipment used by vehicle occupant in crash, if any | Replace with \"USAGE UNKNOWN\" |\n",
    "| AIRBAG_DEPLOYED | Whether vehicle occupant airbag deployed as result of crash | REplace with \"DEPLOYMENT UNKNOWN\" |\n",
    "| EJECTION | Whether vehicle occupant was ejected or extricated from the vehicle as a result of crash | Replace with \"UNKNOWN\" |\n",
    "| DRIVER_ACTION | Driver action that contributed to the crash, as determined by reporting officer | Replace with \"UNKNOWN\" |\n",
    "| DRIVER_VISION | What, if any, objects obscured the driver’s vision at time of crash| Replace with \"UNKNOWN\" |\n",
    "| PHYSICAL_CONDITION | Driver’s apparent physical condition at time of crash, as observed by the reporting officer | Replace with \"UNKNOWN\" |\n",
    "| CELL_PHONE_USE | Whether person was/was not using cellphone at the time of the crash, as determined by the reporting officer Y&N | DROP Column |"
   ]
  },
  {
   "cell_type": "markdown",
   "metadata": {},
   "source": [
    "*Replace columns with 0*\n",
    "- 1. “INJURIES_TOTAL”: 97 missing data, replace with 0\n",
    "- 2. “INJURIES_FATAL”: 97 missing data, replace with 0\n",
    "- 3. “INJURIES_INCAPACITATING”: 97 missing data, replace with 0\n",
    "- 4. “INJURIES_NON_INCAPACITATING”: 97 missing data, replace with 0\n",
    "- 5. “INJURIES_REPORTED_NOT_EVIDENT”: 97 missing data, replace with 0\n",
    "\n",
    "*Replace with meaningful input*\n",
    "- 1. “LIC_PLATE_STATE”: 4,817 missing data, replace with \"IL\"\n",
    "- 2. \"SEX\": 6406 missing data, replace with \"X\"\n",
    "- 3. \"SAFETY_EQUIPMENT\" : 6,553 missing data, replace with \"USAGE UNKNOWN\"\n",
    "- 4. \"AIRBAG_DEPLOYED\" : 7,470 missing data, replace with \"DEPLOYMENT UNKNOWN\"\n",
    "\n",
    "*Replace with frequency (mode):*\n",
    "- 1. “LANE_CNT”: 30,763 missing data. Replace them with mode “2”\n",
    "\n",
    "*Replace with \"N\" to keep it binary:*\n",
    "- 1. “INTERSECTION_RELATED_I”: 34,718 missing data\n",
    "- 2. “HIT_AND_RUN_I”: 32,242 missing data\n",
    "\n",
    "\n",
    "*Replace with \"UNKNOWN\":*\n",
    "- 1. \"VEHICLE_DEFECT\": 1,225 missing data\n",
    "- 2. \"TRAVEL_DIRECTION\" : 1,225 missing data\n",
    "- 3. \"FIRST_CONTACT_POINT\" : 1,570 missing data\n",
    "- 4. \"EJECTION\" : 7,138 missing data\n",
    "- 5. \"DRIVER_ACTION\" : 6,511 missing data\n",
    "- 6. \"DRIVER_VISION\" : 6,518 missing data\n",
    "- 7. \"PHYSICAL_CONDITION\" : 6,466 missing data\n",
    "\n",
    "*Replace with \"UNKNOWN/NA\":*\n",
    "- 1. “VEHICLE_TYPE”: 1,225 missing data\n",
    "- 2. \"VEHICLE_USE\": 1,225 missing data\n",
    "- 3. \"MANEUVER\" : 1,225 missing data\n",
    "\n",
    "*Replace with Mean:*\n",
    "- 1. \"AGE\" : 16,073 missing data\n",
    "\n",
    "*Replace with mode/median:*\n",
    "- 1. \"VEHICLE_YEAR\" : 8,329 missing data \n",
    "- 2. \"OCCUPANT_CNT\" : 1,225 missing data\n",
    "\n",
    "*Drop the missing row:*\n",
    "- 1. \"LOCATION\" : 249 missing data\n",
    "- 2. \"PERSON_TYPE\" : 6.371 missing data\n",
    "- 3. \"MOST_SEVERE_INJURY\" : 115 missing data (target feature)\n",
    "\n",
    "*Drop the column:*\n",
    "- 1. \"NUM_PASSENGERS\" : 38,788 missing data\n",
    "- 2. \"CELL_PHONE_USE\" : 45,848 missing data\n",
    "- 3. \"EXCEED_SPEED_LIMIT_I\" : 45,757 missing data\n",
    "- 4. \"PERSON_ID\" : 6,371 missing data (not useful)"
   ]
  },
  {
   "cell_type": "markdown",
   "metadata": {},
   "source": [
    "### Adjust in dataset"
   ]
  },
  {
   "cell_type": "markdown",
   "metadata": {},
   "source": [
    "#### Replace by 0"
   ]
  },
  {
   "cell_type": "markdown",
   "metadata": {},
   "source": [
    "#### Replace with meaningful input"
   ]
  },
  {
   "cell_type": "markdown",
   "metadata": {},
   "source": [
    "#### Replace with frequency (mode):\n",
    "“LANE_CNT”: 30,763 missing data. Replace them with mode “2”"
   ]
  },
  {
   "cell_type": "code",
   "execution_count": null,
   "metadata": {
    "ExecuteTime": {
     "start_time": "2020-11-07T18:14:44.909Z"
    }
   },
   "outputs": [],
   "source": [
    "train['LANE_CNT'].fillna(\"2\",inplace=True)"
   ]
  },
  {
   "cell_type": "code",
   "execution_count": null,
   "metadata": {
    "ExecuteTime": {
     "start_time": "2020-11-07T18:14:44.913Z"
    }
   },
   "outputs": [],
   "source": [
    "print(\"Total NAs in LANE_CNT\")\n",
    "train['LANE_CNT'].isnull().sum()"
   ]
  },
  {
   "cell_type": "markdown",
   "metadata": {},
   "source": [
    "#### Replace by \"N\" to keep it binary"
   ]
  },
  {
   "cell_type": "markdown",
   "metadata": {},
   "source": [
    "#### Replace with \"OTHER\" or \"UNKNOWN\" or  \"UNKNOWN/NA\":"
   ]
  },
  {
   "cell_type": "code",
   "execution_count": null,
   "metadata": {
    "ExecuteTime": {
     "start_time": "2020-11-07T18:14:44.917Z"
    }
   },
   "outputs": [],
   "source": [
    "print(\"Total NAs in MANEUVER\")\n",
    "train['MANEUVER'].isnull().sum()"
   ]
  },
  {
   "cell_type": "markdown",
   "metadata": {},
   "source": [
    "#### Replace with median"
   ]
  },
  {
   "cell_type": "code",
   "execution_count": null,
   "metadata": {
    "ExecuteTime": {
     "start_time": "2020-11-07T18:14:44.921Z"
    },
    "scrolled": true
   },
   "outputs": [],
   "source": [
    "train[\"AGE\"] = pd.to_numeric(train[\"AGE\"])\n",
    "train['AGE'].fillna((train['AGE'].median()), inplace=True)\n",
    "print(\"TOTAL NAs in AGE\")\n",
    "train['AGE'].isnull().sum()"
   ]
  },
  {
   "cell_type": "code",
   "execution_count": null,
   "metadata": {
    "ExecuteTime": {
     "start_time": "2020-11-07T18:14:44.925Z"
    }
   },
   "outputs": [],
   "source": [
    "train.isnull().sum()"
   ]
  },
  {
   "cell_type": "markdown",
   "metadata": {
    "ExecuteTime": {
     "end_time": "2020-10-28T15:39:07.211002Z",
     "start_time": "2020-10-28T15:39:07.195978Z"
    }
   },
   "source": [
    "#### Replace with mode/median"
   ]
  },
  {
   "cell_type": "code",
   "execution_count": null,
   "metadata": {
    "ExecuteTime": {
     "start_time": "2020-11-07T18:14:44.930Z"
    }
   },
   "outputs": [],
   "source": [
    "train['VEHICLE_YEAR'].fillna(train['VEHICLE_YEAR'].mode()[0], inplace=True)\n",
    "\n",
    "train[\"OCCUPANT_CNT\"] = pd.to_numeric(train[\"OCCUPANT_CNT\"])\n",
    "train['OCCUPANT_CNT'].fillna((train['OCCUPANT_CNT'].median()), inplace=True)\n",
    "\n",
    "print(\"TOTAL NAs in VEHICLE_YEAR\")\n",
    "train['VEHICLE_YEAR'].isnull().sum()"
   ]
  },
  {
   "cell_type": "markdown",
   "metadata": {},
   "source": [
    "#### Drop the missing row\n"
   ]
  },
  {
   "cell_type": "code",
   "execution_count": null,
   "metadata": {
    "ExecuteTime": {
     "start_time": "2020-11-07T18:14:44.935Z"
    }
   },
   "outputs": [],
   "source": [
    "drop_rows = ['INJURIES_TOTAL', 'LATITUDE','MOST_SEVERE_INJURY']\n",
    "train.dropna(how='any', subset=drop_rows, inplace = True)\n",
    "train.isnull().sum()"
   ]
  },
  {
   "cell_type": "code",
   "execution_count": null,
   "metadata": {
    "ExecuteTime": {
     "start_time": "2020-11-07T18:14:44.939Z"
    }
   },
   "outputs": [],
   "source": [
    "train.shape"
   ]
  },
  {
   "cell_type": "code",
   "execution_count": null,
   "metadata": {
    "ExecuteTime": {
     "end_time": "2020-10-29T10:58:07.094676Z",
     "start_time": "2020-10-29T10:58:06.854944Z"
    }
   },
   "outputs": [],
   "source": []
  },
  {
   "cell_type": "markdown",
   "metadata": {},
   "source": [
    "<a id='2.1.3.1'></a>\n",
    "#### Features that can be imputed/encoded"
   ]
  },
  {
   "cell_type": "markdown",
   "metadata": {},
   "source": [
    "# Handling Outliers "
   ]
  },
  {
   "cell_type": "markdown",
   "metadata": {},
   "source": [
    "##  Categorical Features"
   ]
  },
  {
   "cell_type": "markdown",
   "metadata": {},
   "source": [
    "Example 1: A, B, C, X.\n",
    "\n",
    "Example 2: Apple, Orange, Pear or Blueberry, Raspberry, Strawberry, Grape.\n",
    "\n",
    "\"*The fact is **no outlier** exists in the examples above, for an outlier to exist there must be **a measure of distance**. This is intrinsic to numeric data types because there is a Euclidean distance between numbers.*\"\n",
    "\n",
    "**Categorical Outliers don’t exist without a context.**\n",
    "\n",
    "> \"*Techniques like **string indexing** or **one-hot encoding** on a categorical value to convert it from a string value to a numeric value and then use k-means clustering to find outliers.*\"\n",
    "\n",
    "> \"*the numeric vector assigned to the String value during the one hot encoding practice still lacks **the domain context**. It does satisfy the input constraint of the k-means model and the model will produce an output. However the output will not select the appropriate outlier, as the input **was not truly valid**.*\"\n",
    "\n",
    "> \"*There is an alternative. **K-modes** is designed to handle categorical values without the need for String Indexing or One Hot Encoding.*\""
   ]
  },
  {
   "cell_type": "markdown",
   "metadata": {},
   "source": [
    "##  Numerical Features"
   ]
  },
  {
   "cell_type": "markdown",
   "metadata": {},
   "source": [
    "**`LANE_CNT`**\n",
    "\n",
    "**Outlier Identification**\n",
    "\n",
    "- 3 rows of 9\n",
    "- 13 rows of 10\n",
    "- 1 row of 11\n",
    "- 4 rows of 12\n",
    "- 2 rows of 99\n",
    "\n",
    "According to Chicago's roadway, 6 should be a maximum number for lanes\n",
    "\n",
    "**Decision** to replace outlier with 6 lanes"
   ]
  },
  {
   "cell_type": "code",
   "execution_count": null,
   "metadata": {
    "ExecuteTime": {
     "start_time": "2020-11-07T18:14:44.948Z"
    }
   },
   "outputs": [],
   "source": [
    "train['LANE_CNT']=pd.to_numeric(train['LANE_CNT'])\n",
    "train['VEHICLE_YEAR']=pd.to_numeric(train['VEHICLE_YEAR'])"
   ]
  },
  {
   "cell_type": "code",
   "execution_count": null,
   "metadata": {
    "ExecuteTime": {
     "start_time": "2020-11-07T18:14:44.952Z"
    }
   },
   "outputs": [],
   "source": [
    "train['NUM_UNITS']=pd.to_numeric(train['NUM_UNITS'])"
   ]
  },
  {
   "cell_type": "code",
   "execution_count": null,
   "metadata": {
    "ExecuteTime": {
     "start_time": "2020-11-07T18:14:44.956Z"
    }
   },
   "outputs": [],
   "source": [
    "# Change all rows with value greater than 6 to 6\n",
    "train.loc[(train['LANE_CNT'] > 6),'LANE_CNT'] = 6\n",
    "train['LANE_CNT'].value_counts()"
   ]
  },
  {
   "cell_type": "markdown",
   "metadata": {},
   "source": [
    "**No Further Outliers according to the observation**\n",
    "\n",
    "- `NUM_UNITS`; varies from 1 to 12\n",
    "- `INJURIES_TOTAL`; varies from 0 to 8\n",
    "- `INJURIES_FATAL`; varies from 0 to 2\n",
    "- `INJURIES_INCAPACITATING`; varies from 0 to 5\n",
    "- `NUM_PASSENGERS`; varies from 1 to 38\n",
    "- `OCCUPANT_CNT`; varies from 0 to 39\n",
    "- `AGE`; varies from ... to 101\n",
    "\n",
    "\n"
   ]
  },
  {
   "cell_type": "markdown",
   "metadata": {},
   "source": [
    "# Feature Engineering"
   ]
  },
  {
   "cell_type": "markdown",
   "metadata": {},
   "source": [
    "##  Target Feature Engineering"
   ]
  },
  {
   "cell_type": "markdown",
   "metadata": {},
   "source": [
    "Pick **`INJURIES_TOTAL`** as a numerical target and/or encode **`INJURY`** as a categorical target.\n",
    "\n",
    "- `INJURY`: Total persons sustaining **fatal, incapacitating, non-incapacitating** as determined by the reporting officer.\n",
    "\n",
    "13% Injuries, 87% Non-injuries"
   ]
  },
  {
   "cell_type": "markdown",
   "metadata": {},
   "source": [
    "Removing NAs from INJURIES_TOTAL below"
   ]
  },
  {
   "cell_type": "code",
   "execution_count": null,
   "metadata": {
    "ExecuteTime": {
     "start_time": "2020-11-07T18:14:44.961Z"
    }
   },
   "outputs": [],
   "source": [
    "train[\"MOST_SEVERE_INJURY\"].unique()"
   ]
  },
  {
   "cell_type": "code",
   "execution_count": null,
   "metadata": {
    "ExecuteTime": {
     "start_time": "2020-11-07T18:14:44.966Z"
    }
   },
   "outputs": [],
   "source": [
    "def injury(x): \n",
    "    if any(s in x for s in [\"FATAL\",\"NONINCAPACITATING INJURY\",\"INCAPACITATING INJURY\"]):\n",
    "        return \"INJURED\"\n",
    "    else:\n",
    "        return \"NOT INJURED\"\n",
    "    \n",
    "# replacing NA values with OTHER\n",
    "train[\"INJURY\"] = train[\"MOST_SEVERE_INJURY\"].apply(lambda x: injury(x))\n",
    "train.drop(\"MOST_SEVERE_INJURY\", axis=1, inplace=True)"
   ]
  },
  {
   "cell_type": "code",
   "execution_count": null,
   "metadata": {
    "ExecuteTime": {
     "start_time": "2020-11-07T18:14:44.970Z"
    }
   },
   "outputs": [],
   "source": [
    "train[\"INJURY\"].value_counts()"
   ]
  },
  {
   "cell_type": "markdown",
   "metadata": {},
   "source": [
    "##  Other Feature Engineering / Adaptation"
   ]
  },
  {
   "cell_type": "markdown",
   "metadata": {},
   "source": [
    "### CONTACT_POINT"
   ]
  },
  {
   "cell_type": "markdown",
   "metadata": {},
   "source": [
    "Reduced # of layers in `FIRST_CONTACT_POINT` to:\n",
    "- FRONT\n",
    "- SIDE\n",
    "- READ\n",
    "- OTHER"
   ]
  },
  {
   "cell_type": "code",
   "execution_count": null,
   "metadata": {
    "ExecuteTime": {
     "start_time": "2020-11-07T18:14:44.974Z"
    }
   },
   "outputs": [],
   "source": [
    "def contact_point(x):\n",
    "    if \"FRONT\" in x:\n",
    "        return \"FRONT\"\n",
    "    elif \"SIDE\" in x:\n",
    "        return \"SIDE\"\n",
    "    elif \"REAR\" in x:\n",
    "        return \"REAR\"\n",
    "    else:\n",
    "        return \"OTHER\"\n",
    "    \n",
    "# replacing NA values with OTHER\n",
    "train[\"FIRST_CONTACT_POINT\"] = train[\"FIRST_CONTACT_POINT\"].apply(lambda x: contact_point(x))"
   ]
  },
  {
   "cell_type": "code",
   "execution_count": null,
   "metadata": {
    "ExecuteTime": {
     "start_time": "2020-11-07T18:14:44.979Z"
    }
   },
   "outputs": [],
   "source": [
    "train[\"MANEUVER\"].unique()"
   ]
  },
  {
   "cell_type": "markdown",
   "metadata": {},
   "source": [
    "### MANEUVER, VEHICLE_YEAR, POSTED_SPEED_LIMIT"
   ]
  },
  {
   "cell_type": "markdown",
   "metadata": {},
   "source": [
    "Reduced # of layers in `MANEUVER` to:\n",
    "- UNKNOWN/NA\n",
    "- TURN\n",
    "- LANE\n",
    "- OTHER\n",
    "\n",
    "Reduced # layers in `VEHICLE_YEAR` to:\n",
    "- NEW\n",
    "- OLD (<2010)\n",
    "- UNKNOWN\n",
    "\n",
    "Reduced # layers in `POSTED_SPEED_LIMIT` to:\n",
    "- LOW_SPEED (< 30mph)\n",
    "- HIGH_SPEED"
   ]
  },
  {
   "cell_type": "code",
   "execution_count": null,
   "metadata": {
    "ExecuteTime": {
     "start_time": "2020-11-07T18:14:44.983Z"
    }
   },
   "outputs": [],
   "source": [
    "# merging same type of Maneuver in one\n",
    "train[\"MANEUVER\"] = train[\"MANEUVER\"].apply(lambda x: \"TURN\" if \"TURN\" in x else(\"LANE\" if any(s in x for s in [\"LANE\",\"OVER\",\"ENTER\"]) else x))\n",
    "train[\"MANEUVER\"] = train[\"MANEUVER\"].apply(lambda x: \"OTHER\" if all(s not in x for s in [\"AHEAD\",\"TURN\",\"UNKNOWN\",\"LANE\",\"BACKING\"]) else x)\n",
    "\n",
    "# converting VEHICLE_YEAR into new category of OLD or NEW\n",
    "#train[\"VEHICLE_YEAR\"]= train[\"VEHICLE_YEAR\"].apply(lambda x: \"UNKNOWN\" if pd.isnull(x) else (\"OLD (<2010)\" if int(x)<2010 else \"NEW\"))\n",
    "\n",
    "# converting POSTED_SPEED_LIMIT into new category of LOW SPEED or HIGH SPEED\n",
    "#train[\"POSTED_SPEED_LIMIT\"]=train[\"POSTED_SPEED_LIMIT\"].apply(lambda x: \"LOW_SPEED\" if int(x)<=30 else \"HIGH_SPEED\")"
   ]
  },
  {
   "cell_type": "markdown",
   "metadata": {},
   "source": [
    "### SAFETY_EQUIPMENT, AIRBAG_DEPLOYED"
   ]
  },
  {
   "cell_type": "markdown",
   "metadata": {},
   "source": [
    "Reduced # of layers in `SAFETY_EQUIPMENT` to:\n",
    "- USED SAFETY EQUIPMENT\n",
    "- DID NOT USE SAFETY EQUIPMENT\n",
    "\n",
    "Reduced # of layers in `AIRBAG_DEPLOYED` to:\n",
    "- DEPLOYED\n",
    "- NOT DEPLOYED"
   ]
  },
  {
   "cell_type": "code",
   "execution_count": null,
   "metadata": {
    "ExecuteTime": {
     "start_time": "2020-11-07T18:14:44.987Z"
    }
   },
   "outputs": [],
   "source": [
    "# grouping the SAFETY_EQUIPMENT used as SAFE and UNSAFE\n",
    "def equip_used(x):\n",
    "    if (\"USED\" in x) or (\"HELMET\" in x) or (\"NONE PRESENT\" in x):\n",
    "        if any(s in x for s in [\"NOT\",\"IMPROPER\",\"NONE PRESENT\"]):\n",
    "            return \"DID NOT USE SAFETY EQUIP\"\n",
    "        else:\n",
    "            return \"USED SAFETY EQUIP\"\n",
    "    else:\n",
    "        return x\n",
    "\n",
    "train[\"SAFETY_EQUIPMENT\"]= train[\"SAFETY_EQUIPMENT\"].apply(lambda x: equip_used(x))\n",
    "\n",
    "\n",
    "# grouping the AIRBAG_DEPLOYED used as DEPLOYED and NOT DEPLOYED\n",
    "def airbag(x):\n",
    "    if (\"DEPLOY\" in x) and (\"UNKNOWN\" not in x):\n",
    "        if \"NOT\" in x:\n",
    "            return \"NOT DEPLOYED\"\n",
    "        else:\n",
    "            return \"DEPLOYED\"\n",
    "    else:\n",
    "        return x\n",
    " \n",
    "train[\"AIRBAG_DEPLOYED\"]= train[\"AIRBAG_DEPLOYED\"].apply(lambda x: airbag(x))"
   ]
  },
  {
   "cell_type": "markdown",
   "metadata": {
    "ExecuteTime": {
     "end_time": "2020-10-28T16:45:08.831100Z",
     "start_time": "2020-10-28T16:45:08.651109Z"
    }
   },
   "source": [
    "### CRASH_HOUR"
   ]
  },
  {
   "cell_type": "markdown",
   "metadata": {},
   "source": [
    "Transform the crash hour to 4 categories:\n",
    "- Early morning\n",
    "- Morning\n",
    "- Afternoon\n",
    "- Night"
   ]
  },
  {
   "cell_type": "code",
   "execution_count": null,
   "metadata": {
    "ExecuteTime": {
     "start_time": "2020-11-07T18:14:44.992Z"
    }
   },
   "outputs": [],
   "source": [
    "def crash_hour(x):\n",
    "    if  2 <= x < 8:\n",
    "        return \"Early_morning\"\n",
    "    elif 8 <= x < 12:\n",
    "        return \"Morning\"\n",
    "    elif 12 <= x < 18:\n",
    "        return \"Afternoon\"\n",
    "    else:\n",
    "        return \"Night\"\n",
    "    \n",
    "# replacing NA values with OTHER\n",
    "train[\"CRASH_HOUR\"] = train[\"CRASH_HOUR\"].apply(lambda x: crash_hour(int(x)))"
   ]
  },
  {
   "cell_type": "code",
   "execution_count": null,
   "metadata": {
    "ExecuteTime": {
     "end_time": "2020-11-03T10:54:28.658084Z",
     "start_time": "2020-11-03T10:54:28.638931Z"
    }
   },
   "outputs": [],
   "source": []
  },
  {
   "cell_type": "markdown",
   "metadata": {},
   "source": [
    "### TRAFFIC_CONTROL_DEVICE"
   ]
  },
  {
   "cell_type": "markdown",
   "metadata": {},
   "source": [
    "Transform the signs\n",
    "- 'TRAFFIC SIGNAL', 'STOP SIGN/FLASHER', 'LANE USE MARKING', 'YIELD', 'DELINEATORS', \n",
    "'OTHER REG. SIGN', 'OTHER WARNING SIGN', 'POLICE/FLAGMAN', 'RAILROAD CROSSING GATE', \n",
    "'OTHER RAILROAD CROSSING', 'FLASHING CONTROL SIGNAL', 'PEDESTRIAN CROSSING SIGN',\n",
    "'NO PASSING', 'SCHOOL ZONE', 'BICYCLE CROSSING SIGN' as `SIGN`\n",
    "    \n",
    "- 'NO CONTROLS','UNKNOWN', 'OTHER' as `NO_SIGN`"
   ]
  },
  {
   "cell_type": "code",
   "execution_count": null,
   "metadata": {
    "ExecuteTime": {
     "start_time": "2020-11-07T18:14:44.999Z"
    }
   },
   "outputs": [],
   "source": [
    "def traffic_control(x):\n",
    "    if (\"NO CONTROLS\" in x) or (\"UNKNOWN\" in x) or (\"OTHER\" in x):\n",
    "        return \"NO_SIGN\"\n",
    "    else:\n",
    "        return \"SIGN\"\n",
    "\n",
    "train[\"TRAFFIC_CONTROL_DEVICE\"]= train[\"TRAFFIC_CONTROL_DEVICE\"].apply(lambda x: traffic_control(x))"
   ]
  },
  {
   "cell_type": "markdown",
   "metadata": {},
   "source": [
    "### LOCATION"
   ]
  },
  {
   "cell_type": "code",
   "execution_count": null,
   "metadata": {
    "ExecuteTime": {
     "start_time": "2020-11-07T18:14:45.004Z"
    }
   },
   "outputs": [],
   "source": [
    "def location(x1,x2):\n",
    "    if (41.875297 <= float(x1) <= 41.9000064) and (-87.6321459 <= float(x2) <= -87.6096752):\n",
    "        return \"Downtown\"\n",
    "    else:\n",
    "        return \"Not Downtown\"\n",
    "\n",
    "#df['col_3'] = df.apply(lambda x: f(x.col_1, x.col_2), axis=1)\n",
    "train[\"Location\"] = train.apply(lambda x: location(x[\"LATITUDE\"],x[\"LONGITUDE\"]), axis=1)"
   ]
  },
  {
   "cell_type": "code",
   "execution_count": null,
   "metadata": {
    "ExecuteTime": {
     "start_time": "2020-11-07T18:14:45.008Z"
    }
   },
   "outputs": [],
   "source": [
    "train[\"Location\"].unique()"
   ]
  },
  {
   "cell_type": "markdown",
   "metadata": {},
   "source": [
    "### CAR AGE"
   ]
  },
  {
   "cell_type": "code",
   "execution_count": null,
   "metadata": {
    "ExecuteTime": {
     "start_time": "2020-11-07T18:14:45.012Z"
    }
   },
   "outputs": [],
   "source": [
    "train[\"VEHICLE_AGE\"]=train[\"CRASH_DATE\"].dt.year-train[\"VEHICLE_YEAR\"]"
   ]
  },
  {
   "cell_type": "code",
   "execution_count": null,
   "metadata": {
    "ExecuteTime": {
     "start_time": "2020-11-07T18:14:45.016Z"
    }
   },
   "outputs": [],
   "source": [
    "train.loc[train[\"VEHICLE_AGE\"]<0,\"VEHICLE_AGE\"]=0"
   ]
  },
  {
   "cell_type": "code",
   "execution_count": null,
   "metadata": {
    "ExecuteTime": {
     "start_time": "2020-11-07T18:14:45.019Z"
    }
   },
   "outputs": [],
   "source": [
    "train.drop(\"VEHICLE_YEAR\",axis=1,inplace=True)\n",
    "train.info()"
   ]
  },
  {
   "cell_type": "code",
   "execution_count": null,
   "metadata": {
    "ExecuteTime": {
     "start_time": "2020-11-07T18:14:45.024Z"
    }
   },
   "outputs": [],
   "source": [
    "train[\"INJURIES_TOTAL\"]"
   ]
  },
  {
   "cell_type": "markdown",
   "metadata": {},
   "source": [
    "# Modeling"
   ]
  },
  {
   "cell_type": "markdown",
   "metadata": {},
   "source": [
    "## Random Forest -Classifier (All Post-Crash Categories)"
   ]
  },
  {
   "cell_type": "code",
   "execution_count": null,
   "metadata": {
    "ExecuteTime": {
     "start_time": "2020-11-07T18:14:45.029Z"
    }
   },
   "outputs": [],
   "source": [
    "# removing below columns\n",
    "drop_list=[\"LATITUDE\",\"LONGITUDE\",\"INJURIES_TOTAL\",\"CRASH_DATE\"]\n",
    "\n",
    "train_new_class = train.drop(drop_list, axis=1)"
   ]
  },
  {
   "cell_type": "code",
   "execution_count": null,
   "metadata": {
    "ExecuteTime": {
     "start_time": "2020-11-07T18:14:45.033Z"
    }
   },
   "outputs": [],
   "source": [
    "# splitting the dataset into x_train and y_train\n",
    "X_train = train_new_class.drop([\"INJURY\"],axis=1)\n",
    "y_train = train_new_class[\"INJURY\"]"
   ]
  },
  {
   "cell_type": "code",
   "execution_count": null,
   "metadata": {
    "ExecuteTime": {
     "start_time": "2020-11-07T18:14:45.036Z"
    }
   },
   "outputs": [],
   "source": [
    "#X_train.info()"
   ]
  },
  {
   "cell_type": "code",
   "execution_count": null,
   "metadata": {
    "ExecuteTime": {
     "start_time": "2020-11-07T18:14:45.040Z"
    }
   },
   "outputs": [],
   "source": [
    "# performing one hot encoding on all the object features\n",
    "X_train = pd.get_dummies(X_train, columns=X_train.select_dtypes(['object']).columns, drop_first=True)"
   ]
  },
  {
   "cell_type": "code",
   "execution_count": null,
   "metadata": {
    "ExecuteTime": {
     "start_time": "2020-11-07T18:14:45.084Z"
    }
   },
   "outputs": [],
   "source": [
    "X_train.head()"
   ]
  },
  {
   "cell_type": "code",
   "execution_count": null,
   "metadata": {
    "ExecuteTime": {
     "start_time": "2020-11-07T18:14:45.087Z"
    }
   },
   "outputs": [],
   "source": [
    "#Encode the y_train labels\n",
    "lb = preprocessing.LabelBinarizer()\n",
    "y_train=lb.fit_transform(y_train)"
   ]
  },
  {
   "cell_type": "code",
   "execution_count": null,
   "metadata": {
    "ExecuteTime": {
     "start_time": "2020-11-07T18:14:45.091Z"
    }
   },
   "outputs": [],
   "source": [
    "#Create a Random Forest Classifier\n",
    "clf=RandomForestClassifier(n_estimators=100)\n",
    "\n",
    "#Train the model using the training sets y_pred=clf.predict(X_test)\n",
    "scores = cross_val_score(clf, X_train, y_train, cv=5)\n",
    "print('Accuracy', np.mean(scores), scores)"
   ]
  },
  {
   "cell_type": "code",
   "execution_count": null,
   "metadata": {
    "ExecuteTime": {
     "start_time": "2020-11-07T18:14:45.094Z"
    }
   },
   "outputs": [],
   "source": [
    "recall = cross_val_score(clf, X_train, y_train, cv=5, scoring='recall')\n",
    "print('Recall', np.mean(recall), recall)\n",
    "precision = cross_val_score(clf, X_train, y_train, cv=5, scoring='precision')\n",
    "print('Precision', np.mean(precision), precision)\n",
    "f1 = cross_val_score(clf, X_train, y_train, cv=5, scoring='f1')\n",
    "print('F1', np.mean(f1), f1)"
   ]
  },
  {
   "cell_type": "code",
   "execution_count": null,
   "metadata": {
    "ExecuteTime": {
     "start_time": "2020-11-07T18:14:45.098Z"
    }
   },
   "outputs": [],
   "source": [
    "#Create a Random Forest Classifier\n",
    "clf=RandomForestClassifier(n_estimators=100)\n",
    "clf.fit(X_train,y_train)\n",
    "print(clf.feature_importances_) #use inbuilt class feature_importances of tree based classifiers\n",
    "#plot graph of feature importances for better visualization\n",
    "feat_importances = pd.Series(clf.feature_importances_, index=X_train.columns)\n",
    "feat_importances.nlargest(10).plot(kind='barh')\n",
    "plt.show()"
   ]
  },
  {
   "cell_type": "code",
   "execution_count": null,
   "metadata": {
    "ExecuteTime": {
     "start_time": "2020-11-07T18:14:45.101Z"
    },
    "scrolled": false
   },
   "outputs": [],
   "source": [
    "feat_importances.nlargest(50)"
   ]
  },
  {
   "cell_type": "markdown",
   "metadata": {},
   "source": [
    "## Random Forest - Regressor (All Post-Crash Categories)"
   ]
  },
  {
   "cell_type": "code",
   "execution_count": null,
   "metadata": {
    "ExecuteTime": {
     "start_time": "2020-11-07T18:14:45.105Z"
    }
   },
   "outputs": [],
   "source": [
    "# removing below columns\n",
    "drop_list=[\"LATITUDE\",\"LONGITUDE\",\"INJURY\",\"CRASH_DATE\"]\n",
    "\n",
    "train_new_reg = train.drop(drop_list, axis=1)"
   ]
  },
  {
   "cell_type": "code",
   "execution_count": null,
   "metadata": {
    "ExecuteTime": {
     "start_time": "2020-11-07T18:14:45.108Z"
    }
   },
   "outputs": [],
   "source": [
    "# splitting the dataset into x_train and y_train\n",
    "X_train = train_new_reg.drop([\"INJURIES_TOTAL\"],axis=1)\n",
    "y_train = train_new_reg[\"INJURIES_TOTAL\"]"
   ]
  },
  {
   "cell_type": "code",
   "execution_count": null,
   "metadata": {
    "ExecuteTime": {
     "start_time": "2020-11-07T18:14:45.112Z"
    }
   },
   "outputs": [],
   "source": [
    "#X_train.info()"
   ]
  },
  {
   "cell_type": "code",
   "execution_count": null,
   "metadata": {
    "ExecuteTime": {
     "start_time": "2020-11-07T18:14:45.115Z"
    }
   },
   "outputs": [],
   "source": [
    "# performing one hot encoding on all the object features\n",
    "X_train = pd.get_dummies(X_train, columns=X_train.select_dtypes(['object']).columns, drop_first=True)"
   ]
  },
  {
   "cell_type": "code",
   "execution_count": null,
   "metadata": {
    "ExecuteTime": {
     "start_time": "2020-11-07T18:14:45.153Z"
    }
   },
   "outputs": [],
   "source": [
    "X_train.head()"
   ]
  },
  {
   "cell_type": "code",
   "execution_count": null,
   "metadata": {
    "ExecuteTime": {
     "end_time": "2020-11-06T09:30:09.216729Z",
     "start_time": "2020-11-06T09:30:09.051770Z"
    }
   },
   "outputs": [],
   "source": []
  },
  {
   "cell_type": "code",
   "execution_count": null,
   "metadata": {
    "ExecuteTime": {
     "start_time": "2020-11-07T18:14:45.158Z"
    }
   },
   "outputs": [],
   "source": [
    "#Create a Random Forest Classifier\n",
    "#clf=RandomForestRegressor()\n",
    "\n",
    "#Train the model using the training sets y_pred=clf.predict(X_test)\n",
    "#scores = cross_val_score(clf, X_train, y_train, cv=5)\n",
    "#print('mean_squared_error', np.mean(scores), scores)"
   ]
  },
  {
   "cell_type": "code",
   "execution_count": null,
   "metadata": {
    "ExecuteTime": {
     "end_time": "2020-11-06T08:59:58.612020Z",
     "start_time": "2020-11-06T08:59:43.660Z"
    }
   },
   "outputs": [],
   "source": []
  },
  {
   "cell_type": "code",
   "execution_count": null,
   "metadata": {
    "ExecuteTime": {
     "start_time": "2020-11-07T18:14:45.162Z"
    }
   },
   "outputs": [],
   "source": [
    "#Create a Random Forest Classifier\n",
    "clf=RandomForestRegressor()\n",
    "clf.fit(X_train,y_train)\n",
    "print(clf.feature_importances_) #use inbuilt class feature_importances of tree based classifiers\n",
    "#plot graph of feature importances for better visualization\n",
    "feat_importances = pd.Series(clf.feature_importances_, index=X_train.columns)\n",
    "feat_importances.nlargest(10).plot(kind='barh')\n",
    "plt.show()"
   ]
  },
  {
   "cell_type": "code",
   "execution_count": null,
   "metadata": {
    "ExecuteTime": {
     "start_time": "2020-11-07T18:14:45.165Z"
    },
    "scrolled": false
   },
   "outputs": [],
   "source": [
    "feat_importances.nlargest(50)"
   ]
  },
  {
   "cell_type": "markdown",
   "metadata": {},
   "source": [
    "## Decision Tree"
   ]
  },
  {
   "cell_type": "markdown",
   "metadata": {},
   "source": [
    "Filtering out the most important variables identified by Random Forest"
   ]
  },
  {
   "cell_type": "code",
   "execution_count": null,
   "metadata": {
    "ExecuteTime": {
     "start_time": "2020-11-07T18:14:45.169Z"
    }
   },
   "outputs": [],
   "source": [
    "train[\"POSTED_SPEED_LIMIT\"]=pd.to_numeric(train[\"POSTED_SPEED_LIMIT\"])"
   ]
  },
  {
   "cell_type": "code",
   "execution_count": null,
   "metadata": {
    "ExecuteTime": {
     "start_time": "2020-11-07T18:14:45.172Z"
    }
   },
   "outputs": [],
   "source": [
    "filter_list=[\"FIRST_CRASH_TYPE\",\"AGE\",\"AIRBAG_DEPLOYED\",\"INTERSECTION_RELATED_I\",\"LANE_CNT\",\"SEX\",\n",
    "             \"TRAFFICWAY_TYPE\",\"POSTED_SPEED_LIMIT\",\"CRASH_HOUR\",\"VEHICLE_YEAR\",\"FIRST_CRASH_TYPE\",\"INJURY\"]\n",
    "\n",
    "train_new = train[filter_list]"
   ]
  },
  {
   "cell_type": "code",
   "execution_count": null,
   "metadata": {
    "ExecuteTime": {
     "start_time": "2020-11-07T18:14:45.175Z"
    }
   },
   "outputs": [],
   "source": [
    "#train_new[\"FIRST_CRASH_TYPE\"].unique"
   ]
  },
  {
   "cell_type": "code",
   "execution_count": null,
   "metadata": {
    "ExecuteTime": {
     "start_time": "2020-11-07T18:14:45.178Z"
    }
   },
   "outputs": [],
   "source": [
    "# splitting the dataset into x_train and y_train\n",
    "X_train = train_new.drop([\"INJURY\"],axis=1)\n",
    "y_train = train_new[\"INJURY\"]"
   ]
  },
  {
   "cell_type": "code",
   "execution_count": null,
   "metadata": {
    "ExecuteTime": {
     "start_time": "2020-11-07T18:14:45.180Z"
    }
   },
   "outputs": [],
   "source": [
    "# performing one hot encoding on all the object features\n",
    "X_train = pd.get_dummies(X_train, columns=X_train.select_dtypes(['object']).columns, drop_first=True)"
   ]
  },
  {
   "cell_type": "code",
   "execution_count": null,
   "metadata": {
    "ExecuteTime": {
     "start_time": "2020-11-07T18:14:45.183Z"
    }
   },
   "outputs": [],
   "source": [
    "X_train"
   ]
  },
  {
   "cell_type": "code",
   "execution_count": null,
   "metadata": {
    "ExecuteTime": {
     "start_time": "2020-11-07T18:14:45.187Z"
    }
   },
   "outputs": [],
   "source": [
    "#Encode the y_train labels\n",
    "lb = preprocessing.LabelBinarizer()\n",
    "y_train=lb.fit_transform(y_train)"
   ]
  },
  {
   "cell_type": "code",
   "execution_count": null,
   "metadata": {
    "ExecuteTime": {
     "start_time": "2020-11-07T18:14:45.189Z"
    }
   },
   "outputs": [],
   "source": [
    "# Importing decision tree classifier from sklearn library\n",
    "from sklearn.tree import DecisionTreeClassifier\n",
    "\n",
    "# Fitting the decision tree with default hyperparameters, apart from\n",
    "# max_depth which is 5 so that we can plot and read the tree.\n",
    "dt_default = DecisionTreeClassifier(max_depth=10)"
   ]
  },
  {
   "cell_type": "code",
   "execution_count": null,
   "metadata": {
    "ExecuteTime": {
     "start_time": "2020-11-07T18:14:45.192Z"
    }
   },
   "outputs": [],
   "source": [
    "recall = cross_val_score(dt_default, X_train, y_train, cv=5, scoring='recall')\n",
    "print('Recall', np.mean(recall), recall)\n",
    "precision = cross_val_score(dt_default, X_train, y_train, cv=5, scoring='precision')\n",
    "print('Precision', np.mean(precision), precision)\n",
    "f1 = cross_val_score(dt_default, X_train, y_train, cv=5, scoring='f1')\n",
    "print('F1', np.mean(f1), f1)"
   ]
  },
  {
   "cell_type": "markdown",
   "metadata": {},
   "source": [
    "### Graphviz\n",
    "\n",
    "Python requires library pydot and an external software graphviz to visualize the decision tree. If you are on wondows, you'll need to specify the path for the pydot library to access dot file from graphviz.\n",
    "\n",
    "Please read the downloadable instructions to install graphviz. For Mac users, one way is to:\n",
    "\n",
    "Install the python graphviz module: pip install graphviz\n",
    "Then install the Graphviz software on Mac, you do this using homebrew:\n",
    "Install homebrew: https://docs.brew.sh/Installation\n",
    "brew install graphviz"
   ]
  },
  {
   "cell_type": "code",
   "execution_count": null,
   "metadata": {
    "ExecuteTime": {
     "start_time": "2020-11-07T18:14:45.196Z"
    }
   },
   "outputs": [],
   "source": [
    "# Importing required packages for visualization\n",
    "from IPython.display import Image \n",
    "from io import StringIO\n",
    "#from sklearn.externals.six import StringIO  \n",
    "from sklearn.tree import export_graphviz\n",
    "#import pydotplus\n",
    "\n",
    "# Putting features\n",
    "features = list(train_new.columns[1:])\n",
    "features"
   ]
  },
  {
   "cell_type": "code",
   "execution_count": null,
   "metadata": {
    "ExecuteTime": {
     "start_time": "2020-11-07T18:14:45.198Z"
    }
   },
   "outputs": [],
   "source": [
    "dt_default.fit(X_train,y_train)\n",
    "export_graphviz(dt_default,\n",
    "                     out_file=\"tree.dot\",\n",
    "                     filled=True,rounded=True)"
   ]
  },
  {
   "cell_type": "code",
   "execution_count": null,
   "metadata": {
    "ExecuteTime": {
     "end_time": "2020-11-04T08:03:12.966753Z",
     "start_time": "2020-11-04T08:03:12.956757Z"
    }
   },
   "outputs": [],
   "source": []
  },
  {
   "cell_type": "code",
   "execution_count": null,
   "metadata": {},
   "outputs": [],
   "source": []
  }
 ],
 "metadata": {
  "hide_input": false,
  "kernelspec": {
   "display_name": "Python 3",
   "language": "python",
   "name": "python3"
  },
  "language_info": {
   "codemirror_mode": {
    "name": "ipython",
    "version": 3
   },
   "file_extension": ".py",
   "mimetype": "text/x-python",
   "name": "python",
   "nbconvert_exporter": "python",
   "pygments_lexer": "ipython3",
   "version": "3.8.5"
  },
  "toc": {
   "base_numbering": 1,
   "nav_menu": {},
   "number_sections": true,
   "sideBar": true,
   "skip_h1_title": false,
   "title_cell": "Table of Contents",
   "title_sidebar": "Contents",
   "toc_cell": false,
   "toc_position": {
    "height": "445px",
    "left": "311px",
    "top": "110px",
    "width": "212px"
   },
   "toc_section_display": true,
   "toc_window_display": true
  },
  "varInspector": {
   "cols": {
    "lenName": 16,
    "lenType": 16,
    "lenVar": 40
   },
   "kernels_config": {
    "python": {
     "delete_cmd_postfix": "",
     "delete_cmd_prefix": "del ",
     "library": "var_list.py",
     "varRefreshCmd": "print(var_dic_list())"
    },
    "r": {
     "delete_cmd_postfix": ") ",
     "delete_cmd_prefix": "rm(",
     "library": "var_list.r",
     "varRefreshCmd": "cat(var_dic_list()) "
    }
   },
   "types_to_exclude": [
    "module",
    "function",
    "builtin_function_or_method",
    "instance",
    "_Feature"
   ],
   "window_display": false
  }
 },
 "nbformat": 4,
 "nbformat_minor": 4
}
