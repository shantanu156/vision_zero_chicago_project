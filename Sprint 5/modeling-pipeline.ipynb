{
 "cells": [
  {
   "cell_type": "markdown",
   "metadata": {},
   "source": [
    "# Dictionary"
   ]
  },
  {
   "cell_type": "markdown",
   "metadata": {},
   "source": [
    "**Dataframes**\n",
    "\n",
    "\n",
    "- **`crashes`, `vehicles`, `people`**: Original datasets.\n",
    "\n",
    "\n",
    "- **`data`**: The entire raw data after joining `crashes`, `vehicles`, `people`.\n",
    "\n",
    "\n",
    "- **`modeling_data`**: The subset of `data`, with pre-selected features of `filter list`, before split. \n",
    "\n",
    "\n",
    "- **`raw_train`, `raw_test`**: Raw train and test sets by 80/20 split of `modeling_data`:\n",
    "\n",
    "\n",
    "- **`X_train`, `y_train`, `X_test`, `y_test`**: X and y splits of `raw_train`, `raw_test` respectively, preprocessed by `modeling_data_preprocessor()`.\n",
    "\n",
    "\n",
    "- **`train`**: `X_train` portion of `data`, with **entire EDA feature set**, preprocessed by `eda_data_preprocessor()`.\n",
    "\n",
    "\n",
    "---\n",
    "\n",
    "**Functions**\n",
    "\n",
    "\n",
    "- **`modeling_data_preprocessor`**: Preprocesses a dataframe and returns X and y ready for modeling (imputation is not included).\n",
    "\n",
    "    - `X_train, y_train = modeling_data_preprocessor(raw_train)`\n",
    "    - `X_test, y_test = modeling_data_preprocessor(raw_test)`\n",
    "     \n",
    "     \n",
    "- **`eda_data_preprocessor`**: Preprocesses full data `data` and returns train set for EDA (if you keep or add additional features each time, then further tweaking is still required).\n",
    "\n",
    "    - `train = eda_data_preprocessor(data)`\n",
    "   \n",
    "   \n",
    "---\n",
    "\n",
    "\n",
    "**Warnings**\n",
    "\n",
    "- **Imputation of numerical features** is still required. They are handled **separately** in below cells.\n"
   ]
  },
  {
   "cell_type": "markdown",
   "metadata": {
    "heading_collapsed": true
   },
   "source": [
    "# Packages"
   ]
  },
  {
   "cell_type": "code",
   "execution_count": 1,
   "metadata": {
    "ExecuteTime": {
     "end_time": "2020-11-19T13:49:15.760678Z",
     "start_time": "2020-11-19T13:49:15.253084Z"
    },
    "hidden": true
   },
   "outputs": [],
   "source": [
    "# Make sure editing this cell according to your needs\n",
    "import pkg_resources\n",
    "import pip\n",
    "installedPackages = {pkg.key for pkg in pkg_resources.working_set}\n",
    "required = {'researchpy', 'missingno', 'folium', 'pydotplus','bokeh','imblearn', 'catboost'}\n",
    "missing = required - installedPackages\n",
    "if missing:\n",
    "    !pip install researchpy\n",
    "    !pip install missingno\n",
    "    !pip install folium\n",
    "    !pip install pydotplus\n",
    "    !pip install bokeh\n",
    "    !pip install imblearn\n",
    "    !pip install catboost\n",
    "    #!pip install xgboost\n",
    "    #!pip install graphviz\n",
    "\n",
    "#Disable warnings\n",
    "import warnings\n",
    "warnings.filterwarnings('ignore')"
   ]
  },
  {
   "cell_type": "code",
   "execution_count": 2,
   "metadata": {
    "ExecuteTime": {
     "end_time": "2020-11-19T13:49:18.760841Z",
     "start_time": "2020-11-19T13:49:15.764258Z"
    },
    "hidden": true
   },
   "outputs": [],
   "source": [
    "import timeit\n",
    "start_time = timeit.default_timer()  #timestamp to calculate total runtime\n",
    "\n",
    "import pandas as pd\n",
    "import numpy as np\n",
    "\n",
    "import researchpy as rp\n",
    "import missingno as msno\n",
    "import itertools\n",
    "import scipy.stats as ss\n",
    "\n",
    "import seaborn as sns\n",
    "import matplotlib.pyplot as plt\n",
    "import folium\n",
    "from folium import plugins\n",
    "import graphviz\n",
    "\n",
    "from sklearn import tree\n",
    "from sklearn import feature_selection\n",
    "from sklearn import preprocessing\n",
    "\n",
    "from sklearn.ensemble import RandomForestClassifier\n",
    "from sklearn.ensemble import RandomForestRegressor\n",
    "from sklearn.linear_model import LogisticRegression\n",
    "\n",
    "from sklearn.model_selection import train_test_split\n",
    "from sklearn.model_selection import StratifiedKFold\n",
    "from sklearn.model_selection import cross_val_score\n",
    "\n",
    "from collections import Counter\n",
    "\n",
    "from imblearn.under_sampling import RandomUnderSampler\n",
    "from imblearn.pipeline import Pipeline\n",
    "\n",
    "from sklearn.utils import resample\n",
    "from sklearn.metrics import confusion_matrix, classification_report, roc_curve, accuracy_score, \\\n",
    "precision_score, recall_score, roc_auc_score, f1_score, precision_recall_curve, auc \n",
    "\n",
    "%matplotlib inline\n",
    "pd.set_option('display.max_columns', None)  # prevent column output trancation\n",
    "sns.set()  # change plot styling from Matlab's 90s feel to today's Seaborn."
   ]
  },
  {
   "cell_type": "markdown",
   "metadata": {},
   "source": [
    "# Data Sourcing"
   ]
  },
  {
   "cell_type": "code",
   "execution_count": 3,
   "metadata": {
    "ExecuteTime": {
     "end_time": "2020-11-19T13:49:33.950560Z",
     "start_time": "2020-11-19T13:49:18.763179Z"
    }
   },
   "outputs": [],
   "source": [
    "# File Directories\n",
    "path_crashes = '../crashes.sample2020.csv'\n",
    "path_vehicles = '../vehicles.sample.csv'\n",
    "path_people = '../people.sample.csv'\n",
    "\n",
    "# Import samples\n",
    "crashes = pd.read_csv(path_crashes, parse_dates=[\"CRASH_DATE\", \"CRASH_DATE_EST_I\", \"DATE_POLICE_NOTIFIED\"],\n",
    "                      low_memory=False, dtype=object)\n",
    "vehicles = pd.read_csv(path_vehicles, parse_dates=[\"CRASH_DATE\"], low_memory=False, dtype=object)\n",
    "people = pd.read_csv(path_people, parse_dates=[\"CRASH_DATE\"], low_memory=False, dtype=object)"
   ]
  },
  {
   "cell_type": "code",
   "execution_count": 4,
   "metadata": {
    "ExecuteTime": {
     "end_time": "2020-11-19T13:49:34.928788Z",
     "start_time": "2020-11-19T13:49:33.952810Z"
    }
   },
   "outputs": [],
   "source": [
    "# Joining original datasets\n",
    "non_passengers=people[people.PERSON_ID.str.contains('^O')]\n",
    "\n",
    "vehicles_with_people=vehicles.merge(non_passengers,how='left',on=['CRASH_RECORD_ID','RD_NO','CRASH_DATE','VEHICLE_ID'])\n",
    "\n",
    "data=crashes.merge(vehicles_with_people,how='inner',on=['CRASH_RECORD_ID','RD_NO','CRASH_DATE'])\n",
    "\n",
    "# Feature Selection\n",
    "filter_list=[\"AGE\",\"LANE_CNT\",\"AIRBAG_DEPLOYED\",\"PRIM_CONTRIBUTORY_CAUSE\",\"POSTED_SPEED_LIMIT\",\"NUM_UNITS\",\"TRAFFICWAY_TYPE\",  \n",
    "             \"SEC_CONTRIBUTORY_CAUSE\",\"FIRST_CRASH_TYPE\",\"MOST_SEVERE_INJURY\",\"LIGHTING_CONDITION\",\"SEX\",\"CRASH_DATE\",\n",
    "             \"CRASH_HOUR\",\"VEHICLE_YEAR\"]\n",
    "\n",
    "# Data that will be used in modeling\n",
    "modeling_data=data[filter_list]"
   ]
  },
  {
   "cell_type": "code",
   "execution_count": 5,
   "metadata": {
    "ExecuteTime": {
     "end_time": "2020-11-19T13:49:34.953012Z",
     "start_time": "2020-11-19T13:49:34.930831Z"
    }
   },
   "outputs": [],
   "source": [
    "# Split modeling data into raw train and test sets\n",
    "raw_train, raw_test = train_test_split(modeling_data, test_size=0.20, random_state=42, shuffle=True)"
   ]
  },
  {
   "cell_type": "markdown",
   "metadata": {},
   "source": [
    "# Data Preprocessing"
   ]
  },
  {
   "cell_type": "markdown",
   "metadata": {},
   "source": [
    "## Function Definitions"
   ]
  },
  {
   "cell_type": "markdown",
   "metadata": {
    "heading_collapsed": true
   },
   "source": [
    "### `modeling_data_preprocessor()`"
   ]
  },
  {
   "cell_type": "code",
   "execution_count": 6,
   "metadata": {
    "ExecuteTime": {
     "end_time": "2020-11-19T13:49:34.971073Z",
     "start_time": "2020-11-19T13:49:34.954944Z"
    },
    "hidden": true
   },
   "outputs": [],
   "source": [
    "def modeling_data_preprocessor(dataframe):\n",
    "    '''Preprocesses df and returns X and y ready for modeling (after imputation of numericals!)'''\n",
    "    df = dataframe.copy()\n",
    "    \n",
    "    # Prepare data for missing value imputation\n",
    "    df.loc[df[\"LIGHTING_CONDITION\"] == \"UNKNOWN\", \"LIGHTING_CONDITION\"] = np.nan\n",
    "    df.loc[df[\"TRAFFICWAY_TYPE\"] == \"UNKNOWN\",\"TRAFFICWAY_TYPE\"] = np.nan\n",
    "    df.loc[df[\"AIRBAG_DEPLOYED\"] == \"DEPLOYMENT UNKNOWN\",\"AIRBAG_DEPLOYED\"] = np.nan\n",
    "    df.fillna({'LIGHTING_CONDITION': 'DAYLIGHT', 'TRAFFICWAY_TYPE': 'NOT DIVIDED',\n",
    "               'SEX': 'UNABLE TO DETERMINE', 'AIRBAG_DEPLOYED': 'UNABLE TO DETERMINE'}, inplace=True)\n",
    "    \n",
    "    # Remove rows missing most severe injury results\n",
    "    drop_rows = ['MOST_SEVERE_INJURY']\n",
    "    df.dropna(how ='any', subset = drop_rows, inplace = True)\n",
    "    \n",
    "    # Handle numerical features\n",
    "    df['VEHICLE_YEAR'] = pd.to_numeric(df['VEHICLE_YEAR'])\n",
    "    df['NUM_UNITS'] = pd.to_numeric(df['NUM_UNITS'])\n",
    "    df[\"POSTED_SPEED_LIMIT\"] = pd.to_numeric(df[\"POSTED_SPEED_LIMIT\"])\n",
    "    df[\"AGE\"] = pd.to_numeric(df[\"AGE\"])\n",
    "    \n",
    "    df['LANE_CNT'] = pd.to_numeric(df['LANE_CNT'])    \n",
    "    df['LANE_CNT'].fillna(2, inplace=True)\n",
    "    df.loc[(df['LANE_CNT'] > 6),'LANE_CNT'] = 6\n",
    "    \n",
    "    # Function definitions\n",
    "    def injury(x): \n",
    "        if any(s in x for s in [\"FATAL\",\"NONINCAPACITATING INJURY\",\"INCAPACITATING INJURY\"]):\n",
    "            return \"INJURED\"\n",
    "        else:\n",
    "            return \"NOT INJURED\"\n",
    "    \n",
    "    def airbag(x):\n",
    "        if (\"DEPLOY\" in x) and (\"UNKNOWN\" not in x):\n",
    "            if \"NOT\" in x:\n",
    "                return \"NOT DEPLOYED\"\n",
    "            else:\n",
    "                return \"DEPLOYED\"\n",
    "        else:\n",
    "            return x\n",
    "\n",
    "    def crash_hour(x):\n",
    "        if  2 <= x < 8:\n",
    "            return \"Early_morning\"\n",
    "        elif 8 <= x < 12:\n",
    "            return \"Morning\"\n",
    "        elif 12 <= x < 18:\n",
    "            return \"Afternoon\"\n",
    "        else:\n",
    "            return \"Night\"\n",
    "  \n",
    "    def traffic_way(x):\n",
    "        if (\"NOT\" in x) or (\"ONE-WAY\" in x):\n",
    "            return \"NOT_DIVIDED\"\n",
    "        else:\n",
    "            return \"DIVIDED\"\n",
    "    \n",
    "    # Feature Engineering\n",
    "    df[\"INJURY\"] = df[\"MOST_SEVERE_INJURY\"].apply(lambda x: injury(x))\n",
    "    df[\"AIRBAG_DEPLOYED\"] = df[\"AIRBAG_DEPLOYED\"].apply(lambda x: airbag(x))\n",
    "    df[\"CRASH_HOUR\"] = df[\"CRASH_HOUR\"].apply(lambda x: crash_hour(int(x)))\n",
    "    df[\"TRAFFICWAY_TYPE\"] = df[\"TRAFFICWAY_TYPE\"].apply(lambda x: traffic_way(x))\n",
    "    \n",
    "    df[\"VEHICLE_AGE\"] = df[\"CRASH_DATE\"].dt.year-df[\"VEHICLE_YEAR\"]\n",
    "    df.loc[df[\"VEHICLE_AGE\"] < 0, \"VEHICLE_AGE\"] = 0\n",
    "    df.drop([\"VEHICLE_YEAR\", \"CRASH_DATE\", \"MOST_SEVERE_INJURY\"], axis=1, inplace=True)\n",
    "    \n",
    "    # Splitting df into X and y\n",
    "    y = df[\"INJURY\"]\n",
    "    X = df.drop([\"INJURY\"], axis=1)\n",
    "    \n",
    "    # Binarize y\n",
    "    from sklearn.preprocessing import label_binarize\n",
    "    y = preprocessing.label_binarize(y, classes=['NOT INJURED', 'INJURED'])\n",
    "    \n",
    "    # One-Hot Encoding\n",
    "    X = pd.get_dummies(X, columns = X.select_dtypes(['object']).columns)\n",
    "    dummies_to_drop = X.columns[X.columns.str.contains(\"UNABLE|UNKNOWN|NOT APPLICABLE|OTHER\")]\n",
    "    X = X.loc[:, ~X.columns.isin(dummies_to_drop)]\n",
    "      \n",
    "    return(X, y)"
   ]
  },
  {
   "cell_type": "markdown",
   "metadata": {
    "heading_collapsed": true
   },
   "source": [
    "### `eda_data_preprocessor()`"
   ]
  },
  {
   "cell_type": "code",
   "execution_count": 7,
   "metadata": {
    "ExecuteTime": {
     "end_time": "2020-11-19T13:49:35.007732Z",
     "start_time": "2020-11-19T13:49:34.976604Z"
    },
    "hidden": true
   },
   "outputs": [],
   "source": [
    "def eda_data_preprocessor(dataframe=data):\n",
    "    '''Preprocesses and returns the entire train set for EDA'''\n",
    "    \n",
    "    df = dataframe.copy()\n",
    "    \n",
    "    # Split data into train test with exact indexing\n",
    "    train, test = train_test_split(df, test_size=0.20, random_state=42, shuffle=True)\n",
    "    \n",
    "    # Feature reduction\n",
    "    drop=[\"CRASH_DATE_EST_I\", \"REPORT_TYPE\", \"CRASH_DATE_EST_I\", \"REPORT_TYPE\", \"DATE_POLICE_NOTIFIED\",\n",
    "          \"BEAT_OF_OCCURRENCE\", \"PHOTOS_TAKEN_I\", \"STATEMENTS_TAKEN_I\", \"WORK_ZONE_TYPE\", \"WORKERS_PRESENT_I\", \n",
    "          \"INJURIES_NO_INDICATION\", \"INJURIES_UNKNOWN\", \"CRASH_DAY_OF_WEEK\", \"CRASH_MONTH\", \"RD_NO\", \"VEHICLE_ID\", \n",
    "          \"CRASH_RECORD_ID\", \"SEAT_NO\", \"STATE\", \"ZIPCODE\", \"DRIVERS_LICENSE_STATE\", \"PERSON_ID\", \"DRIVERS_LICENSE_CLASS\", \n",
    "          \"INJURY_CLASSIFICATION\", \"HOSPITAL\", \"EMS_AGENCY\", \"EMS_RUN_NO\", \"PEDPEDAL_LOCATION\", \"LOCATION\",\n",
    "          \"DAMAGE\", \"CRASH_TYPE\", \"MODEL\", \"BAC_RESULT\", \"CRASH_UNIT_ID\", \"RD_NO\", \"UNIT_NO\", \"UNIT_TYPE\", \n",
    "          \"VEHICLE_ID\", \"CMRC_VEH_I\", \"MAKE\", \"TOWED_I\", \"FIRE_I\", \"TOWED_BY\", \"STREET_NO\",\"STREET_NAME\",\n",
    "          \"TOWED_TO\", \"AREA_00_I\", \"AREA_01_I\", \"AREA_02_I\", \"AREA_03_I\", \"AREA_04_I\", \"AREA_05_I\", \"AREA_06_I\", \n",
    "          \"AREA_07_I\", \"AREA_08_I\", \"AREA_09_I\", \"AREA_10_I\", \"AREA_11_I\", \"AREA_12_I\", \"AREA_99_I\", \"CMV_ID\", \n",
    "          \"USDOT_NO\", \"CCMC_NO\", \"ILCC_NO\", \"COMMERCIAL_SRC\", \"GVWR\", \"CARRIER_NAME\", \"CARRIER_STATE\", \n",
    "          \"CARRIER_CITY\", \"HAZMAT_PLACARDS_I\", \"HAZMAT_NAME\", \"UN_NO\", \"HAZMAT_PRESENT_I\", \"HAZMAT_REPORT_I\",\n",
    "          \"HAZMAT_REPORT_NO\", \"MCS_REPORT_I\", \"MCS_REPORT_NO\", \"HAZMAT_VIO_CAUSE_CRASH_I\", \"MCS_VIO_CAUSE_CRASH_I\", \n",
    "          \"IDOT_PERMIT_NO\", \"WIDE_LOAD_I\", \"TRAILER1_WIDTH\", \"TRAILER2_WIDTH\", \"TRAILER1_LENGTH\", \"TRAILER2_LENGTH\", \n",
    "          \"TOTAL_VEHICLE_LENGTH\", \"AXLE_CNT\", \"VEHICLE_CONFIG\", \"CARGO_BODY_TYPE\", \"LOAD_TYPE\", \"HAZMAT_OUT_OF_SERVICE_I\",\n",
    "          \"INJURIES_REPORTED_NOT_EVIDENT\", \"INJURIES_NON_INCAPACITATING\", #\"INJURIES_FATAL\",\"INJURIES_INCAPACITATING\",\n",
    "          \"MCS_OUT_OF_SERVICE_I\", \"HAZMAT_CLASS\"]\n",
    "    \n",
    "    train = train.loc[:, ~train.columns.isin(drop)]\n",
    "    \n",
    "    \n",
    "    # Prepare data for missing value imputation\n",
    "    train.loc[train[\"TRAFFIC_CONTROL_DEVICE\"]==\"UNKNOWN\",\"TRAFFIC_CONTROL_DEVICE\"]=np.nan\n",
    "    train.loc[train[\"DEVICE_CONDITION\"]==\"UNKNOWN\",\"DEVICE_CONDITION\"]=np.nan\n",
    "    train.loc[train[\"WEATHER_CONDITION\"]==\"UNKNOWN\",\"WEATHER_CONDITION\"]=np.nan\n",
    "    train.loc[train[\"LIGHTING_CONDITION\"]==\"UNKNOWN\",\"LIGHTING_CONDITION\"]=np.nan\n",
    "    train.loc[train[\"TRAFFICWAY_TYPE\"]==\"UNKNOWN\",\"TRAFFICWAY_TYPE\"]=np.nan\n",
    "    train.loc[train[\"ROADWAY_SURFACE_COND\"]==\"UNKNOWN\",\"ROADWAY_SURFACE_COND\"]=np.nan\n",
    "    train.loc[train[\"ROAD_DEFECT\"]==\"UNKNOWN\",\"ROAD_DEFECT\"]=np.nan\n",
    "\n",
    "    train.loc[train[\"VEHICLE_DEFECT\"]==\"UNKNOWN\",\"VEHICLE_DEFECT\"]=np.nan\n",
    "    train.loc[train[\"VEHICLE_TYPE\"]==\"UNKNOWN/NA\",\"VEHICLE_TYPE\"]=np.nan\n",
    "    train.loc[train[\"TRAVEL_DIRECTION\"]==\"UNKNOWN\",\"TRAVEL_DIRECTION\"]=np.nan\n",
    "    train.loc[train[\"MANEUVER\"]==\"UNKNOWN/NA\",\"MANEUVER\"]=np.nan\n",
    "\n",
    "    train.loc[train[\"SAFETY_EQUIPMENT\"]==\"USAGE UNKNOWN\",\"SAFETY_EQUIPMENT\"]=np.nan\n",
    "    train.loc[train[\"AIRBAG_DEPLOYED\"]==\"DEPLOYMENT UNKNOWN\",\"AIRBAG_DEPLOYED\"]=np.nan\n",
    "    train.loc[train[\"EJECTION\"]==\"UNKNOWN\",\"EJECTION\"]=np.nan\n",
    "    train.loc[train[\"DRIVER_ACTION\"]==\"UNKNOWN\",\"DRIVER_ACTION\"]=np.nan\n",
    "    train.loc[train[\"DRIVER_VISION\"]==\"UNKNOWN\",\"DRIVER_VISION\"]=np.nan\n",
    "    train.loc[train[\"PHYSICAL_CONDITION\"]==\"UNKNOWN\",\"PHYSICAL_CONDITION\"]=np.nan\n",
    "    train.loc[train[\"PEDPEDAL_ACTION\"]==\"UNKNOWN/NA\",\"PEDPEDAL_ACTION\"]=np.nan\n",
    "    \n",
    "    \n",
    "    # Mıssing Value Imputation\n",
    "    train.fillna({\n",
    "        'TRAFFIC_CONTROL_DEVICE': 'NO CONTROLS',\n",
    "        'DEVICE_CONDITION': 'NO CONTROLS',\n",
    "        'WEATHER_CONDITION': 'CLEAR',\n",
    "        'LIGHTING_CONDITION': 'DAYLIGHT', # ??\n",
    "        'TRAFFICWAY_TYPE': 'NOT DIVIDED', # ??\n",
    "        'ROADWAY_SURFACE_COND': 'NO DEFECTS',\n",
    "        'ROAD_DEFECT': 'CLEAR',\n",
    "        'INTERSECTION_RELATED_I': 'N',\n",
    "    \n",
    "        'NOT_RIGHT_OF_WAY_I': 'N',\n",
    "        'HIT_AND_RUN_I': 'N',\n",
    "        'DOORING_I': 'N',\n",
    "        'WORK_ZONE_I': 'N',\n",
    "        'NUM_PASSENGERS': 0,\n",
    "        'LIC_PLATE_STATE': 'IL',\n",
    "        'VEHICLE_DEFECT': 'UNABLE TO DETERMINE',\n",
    "        'VEHICLE_TYPE': 'OTHER',\n",
    "\n",
    "        'VEHICLE_USE': 'OTHER',\n",
    "        'TRAVEL_DIRECTION': 'N',\n",
    "        'MANEUVER': 'OTHER',\n",
    "        'OCCUPANT_CNT': 0,\n",
    "        'EXCEED_SPEED_LIMIT_I': 'N',\n",
    "        'FIRST_CONTACT_POINT': 'OTHER',\n",
    "        'PERSON_TYPE': 'UNABLE TO DETERMINE',\n",
    "        'CITY': 'OTHER',\n",
    "\n",
    "        'SEX': 'UNABLE TO DETERMINE',\n",
    "        'AIRBAG_DEPLOYED': 'UNABLE TO DETERMINE',\n",
    "        'EJECTION': 'UNABLE TO DETERMINE',\n",
    "        'DRIVER_ACTION': 'OTHER',\n",
    "        'DRIVER_VISION': 'OTHER',\n",
    "        'PHYSICAL_CONDITION': 'UNABLE TO DETERMINE',\n",
    "        'PEDPEDAL_ACTION': 'UNABLE TO DETERMINE',\n",
    "        'PEDPEDAL_VISIBILITY': 'UNABLE TO DETERMINE',\n",
    "\n",
    "        'CELL_PHONE_USE': 'UNABLE TO DETERMINE',\n",
    "        'SAFETY_EQUIPMENT': 'UNABLE TO DETERMINE',\n",
    "        'BAC_RESULT VALUE': 0\n",
    "    }, inplace=True)\n",
    "    \n",
    "    \n",
    "    # Drop rows with missing values in these features\n",
    "    drop_rows = ['INJURIES_TOTAL', 'LATITUDE', 'MOST_SEVERE_INJURY']\n",
    "    train.dropna(how = 'any', subset = drop_rows, inplace = True)\n",
    "    \n",
    "\n",
    "    # Handle numerical features\n",
    "    train['LANE_CNT'] = pd.to_numeric(train['LANE_CNT'])\n",
    "    train['VEHICLE_YEAR'] = pd.to_numeric(train['VEHICLE_YEAR'])\n",
    "    train['NUM_UNITS'] = pd.to_numeric(train['NUM_UNITS'])\n",
    "    train[\"POSTED_SPEED_LIMIT\"] = pd.to_numeric(train[\"POSTED_SPEED_LIMIT\"])\n",
    "    train[\"AGE\"] = pd.to_numeric(train[\"AGE\"])\n",
    "    train[\"INJURIES_FATAL\"] = pd.to_numeric(train[\"INJURIES_FATAL\"])\n",
    "    train[\"INJURIES_INCAPACITATING\"] = pd.to_numeric(train[\"INJURIES_INCAPACITATING\"])\n",
    "    train[\"INJURIES_TOTAL\"] = pd.to_numeric(train[\"INJURIES_TOTAL\"])\n",
    "    \n",
    "    train['TOTAL_FATAL'] = train['INJURIES_FATAL'] + train['INJURIES_INCAPACITATING']\n",
    "    train['TOTAL_FATAL'] = pd.to_numeric(train['TOTAL_FATAL'])\n",
    "\n",
    "    train['LANE_CNT'] = pd.to_numeric(train['LANE_CNT'])    \n",
    "    train['LANE_CNT'].fillna(2, inplace=True)\n",
    "    train.loc[(train['LANE_CNT'] > 6),'LANE_CNT'] = 6\n",
    "    \n",
    "    \n",
    "    # Function definitions\n",
    "    def injury(x): \n",
    "        if any(s in x for s in [\"FATAL\",\"NONINCAPACITATING INJURY\",\"INCAPACITATING INJURY\"]):\n",
    "            return \"INJURED\"\n",
    "        else:\n",
    "            return \"NOT INJURED\"\n",
    "        \n",
    "    def fatalities(x): \n",
    "        if any(s in x for s in [\"FATAL\"]):\n",
    "            return \"FATAL\"\n",
    "        else:\n",
    "            return \"NOT FATAL\"\n",
    "    \n",
    "    def airbag(x):\n",
    "        if (\"DEPLOY\" in x) and (\"UNKNOWN\" not in x):\n",
    "            if \"NOT\" in x:\n",
    "                return \"NOT DEPLOYED\"\n",
    "            else:\n",
    "                return \"DEPLOYED\"\n",
    "        else:\n",
    "            return x\n",
    "  \n",
    "    def traffic_way(x):\n",
    "        if (\"NOT\" in x) or (\"ONE-WAY\" in x):\n",
    "            return \"NOT_DIVIDED\"\n",
    "        else:\n",
    "            return \"DIVIDED\"\n",
    "        \n",
    "    def contact_point(x):\n",
    "        if \"FRONT\" in x:\n",
    "            return \"FRONT\"\n",
    "        elif \"SIDE\" in x:\n",
    "            return \"SIDE\"\n",
    "        elif \"REAR\" in x:\n",
    "            return \"REAR\"\n",
    "        else:\n",
    "            return \"OTHER\"\n",
    "    \n",
    "    def equip_used(x):\n",
    "        if (\"USED\" in x) or (\"HELMET\" in x) or (\"NONE PRESENT\" in x):\n",
    "            if any(s in x for s in [\"NOT\",\"IMPROPER\",\"NONE PRESENT\"]):\n",
    "                return \"DID NOT USE SAFETY EQUIP\"\n",
    "            else:\n",
    "                return \"USED SAFETY EQUIP\"\n",
    "        else:\n",
    "            return x\n",
    "\n",
    "    def airbag(x):\n",
    "        if (\"DEPLOY\" in x) and (\"UNKNOWN\" not in x):\n",
    "            if \"NOT\" in x:\n",
    "                return \"NOT DEPLOYED\"\n",
    "            else:\n",
    "                return \"DEPLOYED\"\n",
    "        else:\n",
    "            return x\n",
    "    \n",
    "    def crash_hour(x):\n",
    "        if  2 <= x < 8:\n",
    "            return \"Early_morning\"\n",
    "        elif 8 <= x < 12:\n",
    "            return \"Morning\"\n",
    "        elif 12 <= x < 18:\n",
    "            return \"Afternoon\"\n",
    "        else:\n",
    "            return \"Night\"\n",
    "\n",
    "    def traffic_control(x):\n",
    "        if (\"NO CONTROLS\" in x) or (\"UNKNOWN\" in x) or (\"OTHER\" in x):\n",
    "            return \"NO_SIGN\"\n",
    "        else:\n",
    "            return \"SIGN\"\n",
    "    \n",
    "    def location(x1,x2):\n",
    "        if (41.84 <= float(x1) <= 41.9100064) and (-87.7421459 <= float(x2) <= -87.50):\n",
    "            return \"Downtown\"\n",
    "        else:\n",
    "            return \"Not Downtown\"\n",
    "\n",
    "        \n",
    "    # Feature engineering\n",
    "    train[\"INJURY\"] = train[\"MOST_SEVERE_INJURY\"].apply(lambda x: injury(x))\n",
    "    train[\"FATALITIES\"] = train[\"MOST_SEVERE_INJURY\"].apply(lambda x: fatalities(x))\n",
    "    train[\"AIRBAG_DEPLOYED\"] = train[\"AIRBAG_DEPLOYED\"].apply(lambda x: airbag(x))\n",
    "    train[\"CRASH_HOUR\"] = train[\"CRASH_HOUR\"].apply(lambda x: crash_hour(int(x)))\n",
    "    train[\"TRAFFICWAY_TYPE\"] = train[\"TRAFFICWAY_TYPE\"].apply(lambda x: traffic_way(x))\n",
    "    train[\"FIRST_CONTACT_POINT\"] = train[\"FIRST_CONTACT_POINT\"].apply(lambda x: contact_point(x))\n",
    "    train[\"MANEUVER\"] = train[\"MANEUVER\"].apply(lambda x: \"TURN\" if \"TURN\" in x else(\"LANE\" if any(s in x for s in [\"LANE\",\"OVER\",\"ENTER\"]) else x))\n",
    "    train[\"MANEUVER\"] = train[\"MANEUVER\"].apply(lambda x: \"OTHER\" if all(s not in x for s in [\"AHEAD\",\"TURN\",\"UNKNOWN\",\"LANE\",\"BACKING\"]) else x)\n",
    "    train[\"SAFETY_EQUIPMENT\"] = train[\"SAFETY_EQUIPMENT\"].apply(lambda x: equip_used(x))\n",
    "    train[\"AIRBAG_DEPLOYED\"] = train[\"AIRBAG_DEPLOYED\"].apply(lambda x: airbag(x))\n",
    "    train[\"TRAFFIC_CONTROL_DEVICE\"]= train[\"TRAFFIC_CONTROL_DEVICE\"].apply(lambda x: traffic_control(x))\n",
    "    train[\"Location\"] = train.apply(lambda x: location(x[\"LATITUDE\"], x[\"LONGITUDE\"]), axis = 1)\n",
    "    \n",
    "    train[\"VEHICLE_AGE\"] = train[\"CRASH_DATE\"].dt.year-train[\"VEHICLE_YEAR\"]\n",
    "    train.loc[train[\"VEHICLE_AGE\"] < 0, \"VEHICLE_AGE\"] = 0\n",
    "    train.drop([\"VEHICLE_YEAR\", \"MOST_SEVERE_INJURY\"], axis=1, inplace=True)  # \"CRASH_DATE\" for Tony\n",
    "     \n",
    "    # Return only train set for EDA purposes     \n",
    "    return(train)"
   ]
  },
  {
   "cell_type": "markdown",
   "metadata": {},
   "source": [
    "## Preprocessing Train Set"
   ]
  },
  {
   "cell_type": "code",
   "execution_count": 8,
   "metadata": {
    "ExecuteTime": {
     "end_time": "2020-11-19T13:49:35.422829Z",
     "start_time": "2020-11-19T13:49:35.011417Z"
    },
    "scrolled": false
   },
   "outputs": [],
   "source": [
    "# Preprocess raw train set\n",
    "X_train, y_train = modeling_data_preprocessor(raw_train)"
   ]
  },
  {
   "cell_type": "code",
   "execution_count": 9,
   "metadata": {
    "ExecuteTime": {
     "end_time": "2020-11-19T13:58:41.182301Z",
     "start_time": "2020-11-19T13:49:35.424870Z"
    }
   },
   "outputs": [
    {
     "data": {
      "text/plain": [
       "0"
      ]
     },
     "execution_count": 9,
     "metadata": {},
     "output_type": "execute_result"
    }
   ],
   "source": [
    "# Fit imputer and impute missing values on train set \n",
    "from sklearn.impute import KNNImputer\n",
    "imputer = KNNImputer(n_neighbors = 5)\n",
    "df = pd.DataFrame(imputer.fit_transform(X_train), columns = X_train.columns)\n",
    "X_train = df.copy()\n",
    "X_train = np.round(X_train)\n",
    "\n",
    "X_train.isna().any().sum()"
   ]
  },
  {
   "cell_type": "markdown",
   "metadata": {},
   "source": [
    "## Preprocessing Test Set"
   ]
  },
  {
   "cell_type": "code",
   "execution_count": 10,
   "metadata": {
    "ExecuteTime": {
     "end_time": "2020-11-19T13:58:41.409940Z",
     "start_time": "2020-11-19T13:58:41.186653Z"
    },
    "scrolled": true
   },
   "outputs": [],
   "source": [
    "# Preprocess raw test set\n",
    "X_test, y_test = modeling_data_preprocessor(raw_test)"
   ]
  },
  {
   "cell_type": "code",
   "execution_count": 11,
   "metadata": {
    "ExecuteTime": {
     "end_time": "2020-11-19T14:01:04.376281Z",
     "start_time": "2020-11-19T13:58:41.411938Z"
    }
   },
   "outputs": [
    {
     "data": {
      "text/plain": [
       "0"
      ]
     },
     "execution_count": 11,
     "metadata": {},
     "output_type": "execute_result"
    }
   ],
   "source": [
    "# Add two trivial features of train set that doesn't exist in test set in order to use pre-fit imputer\n",
    "X_test[\"PRIM_CONTRIBUTORY_CAUSE_OBSTRUCTED CROSSWALKS\"] = 0\n",
    "X_test[\"SEC_CONTRIBUTORY_CAUSE_PASSING STOPPED SCHOOL BUS\"] = 0\n",
    "X_test = X_test[X_train.columns]\n",
    "\n",
    "# Impute missing values on test set by pre-fit imputer object \n",
    "df = pd.DataFrame(imputer.transform(X_test), columns = X_test.columns)\n",
    "X_test = df.copy()\n",
    "X_test = np.round(X_test)\n",
    "\n",
    "X_test.isna().any().sum()"
   ]
  },
  {
   "cell_type": "markdown",
   "metadata": {},
   "source": [
    "## Preprocessing EDA Train Set"
   ]
  },
  {
   "cell_type": "code",
   "execution_count": 12,
   "metadata": {
    "ExecuteTime": {
     "end_time": "2020-11-19T14:01:06.872478Z",
     "start_time": "2020-11-19T14:01:04.379306Z"
    }
   },
   "outputs": [],
   "source": [
    "# X_train portion of `data`, with entire EDA feature set\n",
    "train = eda_data_preprocessor(data)"
   ]
  },
  {
   "cell_type": "markdown",
   "metadata": {},
   "source": [
    "# Modeling on Bootstrapped Samples\n",
    "\n",
    "Suggested before drawing conclusions on model's decisions."
   ]
  },
  {
   "cell_type": "code",
   "execution_count": 13,
   "metadata": {
    "ExecuteTime": {
     "end_time": "2020-11-19T14:01:06.953641Z",
     "start_time": "2020-11-19T14:01:06.874417Z"
    }
   },
   "outputs": [],
   "source": [
    "# Random Undersampling on X and y train sets\n",
    "under = RandomUnderSampler(sampling_strategy=1)\n",
    "X_under, y_under = under.fit_resample(X_train, y_train)"
   ]
  },
  {
   "cell_type": "code",
   "execution_count": 14,
   "metadata": {
    "ExecuteTime": {
     "end_time": "2020-11-19T14:01:07.483526Z",
     "start_time": "2020-11-19T14:01:06.955789Z"
    }
   },
   "outputs": [],
   "source": [
    "# Store n_bootstraps number of bootstrapped train & test samples and store X and y for each separately in lists\n",
    "\n",
    "# This operation is fast regardless of n_bootstraps.  \n",
    "# But the prediction in the next cell takes ~3.5 mins for 30 and ~10 mins for 100 iterations.\n",
    "# At least 100 is suggested for achieving a gaussian distribution. \n",
    "n_bootstraps = 30\n",
    "\n",
    "bootstrap_X_train = []\n",
    "bootstrap_y_train = []\n",
    "for _ in range(n_bootstraps):\n",
    "    sample_X, sample_y = resample(X_under, y_under)\n",
    "    bootstrap_X_train.append(sample_X)\n",
    "    bootstrap_y_train.append(sample_y)\n",
    "    \n",
    "bootstrap_X_test = []\n",
    "bootstrap_y_test = []\n",
    "for _ in range(n_bootstraps):\n",
    "    sample_X, sample_y = resample(X_test, y_test)\n",
    "    bootstrap_X_test.append(sample_X)\n",
    "    bootstrap_y_test.append(sample_y)"
   ]
  },
  {
   "cell_type": "code",
   "execution_count": 15,
   "metadata": {
    "ExecuteTime": {
     "end_time": "2020-11-19T14:04:43.524385Z",
     "start_time": "2020-11-19T14:01:07.488045Z"
    }
   },
   "outputs": [],
   "source": [
    "# Random Forest model with tuned hyperparameters\n",
    "random_final = RandomForestClassifier(n_estimators=1000, min_samples_split=15, min_samples_leaf=5, \n",
    "                                      max_features='log2', max_depth=13, criterion='entropy', random_state=0)\n",
    "\n",
    "# Predict n_bootstraps number of bootstrapped samples and store recall results\n",
    "recall_scores = []\n",
    "\n",
    "for index, (train, test) in enumerate(zip(bootstrap_X_train, bootstrap_X_test)):\n",
    "    model = random_final.fit(train, bootstrap_y_train[index])\n",
    "    y_pred = model.predict(test)\n",
    "    recall_scores.append(recall_score(bootstrap_y_test[index], y_pred))"
   ]
  },
  {
   "cell_type": "code",
   "execution_count": 16,
   "metadata": {
    "ExecuteTime": {
     "end_time": "2020-11-19T14:04:43.865941Z",
     "start_time": "2020-11-19T14:04:43.526808Z"
    },
    "scrolled": true
   },
   "outputs": [
    {
     "data": {
      "image/png": "[encoded data removed]",
      "text/plain": [
       "<Figure size 432x288 with 1 Axes>"
      ]
     },
     "metadata": {},
     "output_type": "display_data"
    },
    {
     "name": "stdout",
     "output_type": "stream",
     "text": [
      "95.0 confidence interval for recall 66.9% and 72.4% across 30 bootstrapped predictions.\n"
     ]
    }
   ],
   "source": [
    "# Plot scores\n",
    "plt.hist(recall_scores) \n",
    "plt.show()\n",
    "\n",
    "# Show confidence intervals\n",
    "alpha = 0.95\n",
    "p = ((1.0 - alpha) / 2.0) * 100\n",
    "lower = max(0.0, np.percentile(recall_scores, p))\n",
    "p = (alpha + ((1.0 - alpha) / 2.0)) * 100\n",
    "upper = min(1.0, np.percentile(recall_scores, p))\n",
    "\n",
    "print('%.1f confidence interval for recall %.1f%% and %.1f%% across %.d bootstrapped predictions.' % (alpha*100, lower*100, upper*100, n_bootstraps))"
   ]
  },
  {
   "cell_type": "code",
   "execution_count": 17,
   "metadata": {
    "ExecuteTime": {
     "end_time": "2020-11-19T14:04:43.871857Z",
     "start_time": "2020-11-19T14:04:43.868334Z"
    }
   },
   "outputs": [],
   "source": [
    "# elapsed = timeit.default_timer() - start_time\n",
    "# print('Total runtime is', round(elapsed, 2)/60, 'minutes.')"
   ]
  }
 ],
 "metadata": {
  "hide_input": false,
  "kernelspec": {
   "display_name": "Python 3",
   "language": "python",
   "name": "python3"
  },
  "language_info": {
   "codemirror_mode": {
    "name": "ipython",
    "version": 3
   },
   "file_extension": ".py",
   "mimetype": "text/x-python",
   "name": "python",
   "nbconvert_exporter": "python",
   "pygments_lexer": "ipython3",
   "version": "3.7.7"
  },
  "toc": {
   "base_numbering": "0",
   "nav_menu": {},
   "number_sections": true,
   "sideBar": true,
   "skip_h1_title": false,
   "title_cell": "Table of Contents",
   "title_sidebar": "Contents",
   "toc_cell": false,
   "toc_position": {
    "height": "calc(100% - 180px)",
    "left": "10px",
    "top": "150px",
    "width": "288px"
   },
   "toc_section_display": true,
   "toc_window_display": true
  },
  "varInspector": {
   "cols": {
    "lenName": 16,
    "lenType": 16,
    "lenVar": 40
   },
   "kernels_config": {
    "python": {
     "delete_cmd_postfix": "",
     "delete_cmd_prefix": "del ",
     "library": "var_list.py",
     "varRefreshCmd": "print(var_dic_list())"
    },
    "r": {
     "delete_cmd_postfix": ") ",
     "delete_cmd_prefix": "rm(",
     "library": "var_list.r",
     "varRefreshCmd": "cat(var_dic_list()) "
    }
   },
   "types_to_exclude": [
    "module",
    "function",
    "builtin_function_or_method",
    "instance",
    "_Feature"
   ],
   "window_display": false
  }
 },
 "nbformat": 4,
 "nbformat_minor": 4
}
