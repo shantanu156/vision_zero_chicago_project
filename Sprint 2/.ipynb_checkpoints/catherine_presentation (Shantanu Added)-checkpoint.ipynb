{
 "cells": [
  {
   "cell_type": "markdown",
   "metadata": {},
   "source": [
    "# Ground Zero"
   ]
  },
  {
   "cell_type": "markdown",
   "metadata": {},
   "source": [
    "## Packages and Datasets"
   ]
  },
  {
   "cell_type": "code",
   "execution_count": 2,
   "metadata": {
    "ExecuteTime": {
     "end_time": "2020-10-28T12:05:02.303421Z",
     "start_time": "2020-10-28T12:05:01.700423Z"
    }
   },
   "outputs": [],
   "source": [
    "import pkg_resources\n",
    "import pip\n",
    "installedPackages = {pkg.key for pkg in pkg_resources.working_set}\n",
    "required = {'researchpy', 'missingno', 'folium' }\n",
    "missing = required - installedPackages\n",
    "if missing:\n",
    "    !pip install researchpy\n",
    "    !pip install missingno\n",
    "    !pip install folium"
   ]
  },
  {
   "cell_type": "code",
   "execution_count": 3,
   "metadata": {
    "ExecuteTime": {
     "end_time": "2020-10-28T12:05:02.319421Z",
     "start_time": "2020-10-28T12:05:02.307423Z"
    }
   },
   "outputs": [],
   "source": [
    "#Disable the warnings\n",
    "import warnings\n",
    "warnings.filterwarnings('ignore')"
   ]
  },
  {
   "cell_type": "code",
   "execution_count": 4,
   "metadata": {
    "ExecuteTime": {
     "end_time": "2020-10-28T12:05:06.451424Z",
     "start_time": "2020-10-28T12:05:02.324422Z"
    }
   },
   "outputs": [],
   "source": [
    "import timeit\n",
    "start_time = timeit.default_timer()  #timestamp to calculate total runtime\n",
    "\n",
    "import pandas as pd\n",
    "import numpy as np\n",
    "\n",
    "import researchpy as rp\n",
    "import missingno as msno\n",
    "\n",
    "import seaborn as sns\n",
    "import matplotlib.pyplot as plt\n",
    "\n",
    "import itertools\n",
    "import scipy.stats as ss\n",
    "\n",
    "import folium\n",
    "from folium import plugins\n",
    "\n",
    "from sklearn.model_selection import train_test_split\n",
    "from sklearn import feature_selection\n",
    "from sklearn.ensemble import RandomForestClassifier\n",
    "\n",
    "%matplotlib inline\n",
    "pd.set_option('display.max_columns', None)  # prevent column output trancation\n",
    "sns.set()  # change plot styling from Matlab's 90s feel to today's Seaborn."
   ]
  },
  {
   "cell_type": "code",
   "execution_count": null,
   "metadata": {
    "ExecuteTime": {
     "start_time": "2020-10-28T12:05:01.713Z"
    }
   },
   "outputs": [],
   "source": [
    "# File Directories\n",
    "path_crashes = '../crashes.sample2020.csv'\n",
    "path_vehicles = '../vehicles.sample.csv'\n",
    "path_people = '../people.sample.csv'\n",
    "\n",
    "# Columns that will be read as categorical\n",
    "# The fromkeys() method returns a dictionary with the specified keys and the specified value\n",
    "#categoricals_crashes = dict.fromkeys(\n",
    "#    [5, 6, 7, 8, 9, 10, 12, 13, 14, 15, 16, 17, 18, 19, 20, 22, 23, 35],\n",
    "#    'category')\n",
    "#categoricals_vehicles = dict.fromkeys([5, 9, 10, 11, 13, 14, 15, 16, 17, 38],\n",
    "#                                      'category')\n",
    "#categoricals_people = dict.fromkeys(\n",
    "#    [7, 8, 10, 12, 13, 14, 15, 17, 21, 22, 23, 27], 'category')\n",
    "\n",
    "# Import samples\n",
    "crashes = pd.read_csv(\n",
    "    path_crashes,\n",
    "    parse_dates=[\"CRASH_DATE\", \"CRASH_DATE_EST_I\", \"DATE_POLICE_NOTIFIED\"],\n",
    "    low_memory=False,\n",
    "    dtype=object)\n",
    "\n",
    "vehicles = pd.read_csv(path_vehicles,\n",
    "                       parse_dates=[\"CRASH_DATE\"],\n",
    "                       low_memory=False,\n",
    "                       dtype=object)\n",
    "\n",
    "people = pd.read_csv(path_people,\n",
    "                     parse_dates=[\"CRASH_DATE\"],\n",
    "                     low_memory=False,\n",
    "                     dtype=object)"
   ]
  },
  {
   "cell_type": "markdown",
   "metadata": {},
   "source": [
    "## Our Understanding"
   ]
  },
  {
   "cell_type": "markdown",
   "metadata": {},
   "source": [
    "### Feature Engineering Process\n",
    "\n",
    "[Source](https://en.wikipedia.org/wiki/Feature_engineering)\n",
    "\n",
    "The feature engineering process is:\n",
    "- Brainstorming or testing features;\n",
    "- Deciding what features to create;\n",
    "- Creating features;\n",
    "- Checking how the features work with your model;\n",
    "- **Improving your features if needed;**\n",
    "- Go back to brainstorming/creating more features until the work is done."
   ]
  },
  {
   "cell_type": "markdown",
   "metadata": {},
   "source": [
    "### Some Terms\n",
    "\n",
    "[Source](https://datascience.stackexchange.com/questions/29006/feature-selection-vs-feature-extraction-which-to-use-when)\n",
    "\n",
    "**Feature Extraction and Feature Engineering:** transformation of raw data into features suitable for modeling; \n",
    "\n",
    "- Texts(ngrams, word2vec, tf-idf etc)\n",
    "- Geospatial data(lat, long)\n",
    "- Date and time(day, month, week, year, rolling based)\n",
    "- Time series, web, etc\n",
    "- Dimensional Reduction Techniques (PCA, SVD, Eigen-Faces etc)\n",
    "- Clustering (DBSCAN etc)\n",
    "- And others.\n",
    "\n",
    "---\n",
    "\n",
    "**Feature / Data Transformation:** transformation of data to improve the accuracy of the algorithm;\n",
    "- Normalization and changing distribution(Scaling)\n",
    "- Interactions\n",
    "- Handling missing Values\n",
    "- Handling outliers\n",
    "- Handling time-date / mixed variables\n",
    "- Encoding categorical features\n",
    "- Variable types \n",
    "- And others.\n",
    "\n",
    "---\n",
    "\n",
    "**Feature Selection:** removing unnecessary features.\n",
    "\n",
    "- Statistical approaches\n",
    "- Selection by modeling\n",
    "- Grid search\n",
    "- Cross Validation\n",
    "- And others\n",
    "\n",
    "---\n",
    "\n",
    "For the purpose of workflow, we will split **Feature Selection** into; \n",
    "- **feature reduction** to remove unnecessary features, \n",
    "- and **feature selection** to select features by their importance scores through ML/statistical techniques."
   ]
  },
  {
   "cell_type": "markdown",
   "metadata": {},
   "source": [
    "# Data Merge & Split"
   ]
  },
  {
   "cell_type": "markdown",
   "metadata": {},
   "source": [
    "## Merging datasets\n",
    "\n",
    "The goal is to successfully merge all datasets by increasing crash records as little as possible."
   ]
  },
  {
   "cell_type": "code",
   "execution_count": null,
   "metadata": {
    "ExecuteTime": {
     "start_time": "2020-10-28T12:05:01.727Z"
    }
   },
   "outputs": [],
   "source": [
    "print(\"Here is the initial shape of the three datasets:\")\n",
    "print(\"Crashes\", crashes.shape)\n",
    "print(\"Vehicles\", vehicles.shape)\n",
    "print(\"People\", people.shape)"
   ]
  },
  {
   "cell_type": "markdown",
   "metadata": {},
   "source": [
    "**Data Merge Strategy**\n",
    "\n",
    "- Filter out passengers from **`people`**, and left-join it to **`vehicles`** on `CRASH_RECORD_ID`, `RD_NO`, `CRASH_DATE`, `VEHICLE_ID`.\n",
    "\n",
    "- Then inner-join this dataset to **`crashes`** on `CRASH_RECORD_ID`, `RD_NO`, `CRASH_DATE`.\n",
    "\n",
    "---\n",
    "\n",
    "**Reasoning**\n",
    "\n",
    "- `people` has **many-to-one relationship** with `vehicles` but a pedestrian in `vehicles` has **one-to-one** with `people`,\n",
    "\n",
    "- Passengers don't have <u>a trajectory separate from the unit</u> they belong to and they don't contribute to accidents with their existence but they are involved if they got harmed through `injuries` features,\n",
    "\n",
    "- This method increases `crashes` records **only per active parties involved**."
   ]
  },
  {
   "cell_type": "code",
   "execution_count": null,
   "metadata": {
    "ExecuteTime": {
     "start_time": "2020-10-28T12:05:01.736Z"
    }
   },
   "outputs": [],
   "source": [
    "# Filter only non-pessenger people (drivers, pedestrian, cyclist, etc.)\n",
    "non_passengers = people[people.PERSON_ID.str.contains('^O')]"
   ]
  },
  {
   "cell_type": "code",
   "execution_count": null,
   "metadata": {
    "ExecuteTime": {
     "start_time": "2020-10-28T12:05:01.749Z"
    }
   },
   "outputs": [],
   "source": [
    "# Left join non-peseenger people with vehicles\n",
    "vehicles_with_people = vehicles.merge(non_passengers, \n",
    "                                      how = 'left', \n",
    "                                      on = ['CRASH_RECORD_ID', 'RD_NO', 'CRASH_DATE', 'VEHICLE_ID'])\n",
    "vehicles_with_people.head()"
   ]
  },
  {
   "cell_type": "code",
   "execution_count": null,
   "metadata": {
    "ExecuteTime": {
     "start_time": "2020-10-28T12:05:01.755Z"
    }
   },
   "outputs": [],
   "source": [
    "print(\"Shape of vehicles with people\", vehicles_with_people.shape)"
   ]
  },
  {
   "cell_type": "code",
   "execution_count": null,
   "metadata": {
    "ExecuteTime": {
     "start_time": "2020-10-28T12:05:01.762Z"
    }
   },
   "outputs": [],
   "source": [
    "merged_data = crashes.merge(vehicles_with_people, \n",
    "                            how='inner', \n",
    "                            on=['CRASH_RECORD_ID', 'RD_NO', 'CRASH_DATE'])\n",
    "\n",
    "print('Dimensions of the data after merging', merged_data.shape)"
   ]
  },
  {
   "cell_type": "markdown",
   "metadata": {},
   "source": [
    "**Inspection 1**"
   ]
  },
  {
   "cell_type": "code",
   "execution_count": null,
   "metadata": {
    "ExecuteTime": {
     "start_time": "2020-10-28T12:05:01.781Z"
    }
   },
   "outputs": [],
   "source": [
    "merged_data.groupby('CRASH_RECORD_ID').head()"
   ]
  },
  {
   "cell_type": "markdown",
   "metadata": {},
   "source": [
    "**Inspection 2**"
   ]
  },
  {
   "cell_type": "code",
   "execution_count": null,
   "metadata": {
    "ExecuteTime": {
     "start_time": "2020-10-28T12:05:01.792Z"
    }
   },
   "outputs": [],
   "source": [
    "print(\"Wrong joins could have resulted in 6 rows. Here we see 2 rows, meaning the join was successful.\")\n",
    "merged_data[merged_data.RD_NO.eq('JC301403')] #Wrong joins could result in 6 rows"
   ]
  },
  {
   "cell_type": "markdown",
   "metadata": {},
   "source": [
    "## Splitting the data"
   ]
  },
  {
   "cell_type": "code",
   "execution_count": null,
   "metadata": {
    "ExecuteTime": {
     "start_time": "2020-10-28T12:05:01.798Z"
    }
   },
   "outputs": [],
   "source": [
    "# Alternative: X_train, X_test, y_train, y_test = train_test_split(X, y, test_size=0.33, random_state=42)\n",
    "raw_train, raw_test = train_test_split(merged_data, test_size=0.33, random_state=42, shuffle=True)"
   ]
  },
  {
   "cell_type": "code",
   "execution_count": null,
   "metadata": {
    "ExecuteTime": {
     "start_time": "2020-10-28T12:05:01.804Z"
    }
   },
   "outputs": [],
   "source": [
    "print(\"Train shape\", raw_train.shape)\n",
    "print(\"Test shape\", raw_test.shape)"
   ]
  },
  {
   "cell_type": "code",
   "execution_count": null,
   "metadata": {
    "ExecuteTime": {
     "start_time": "2020-10-28T12:05:01.809Z"
    }
   },
   "outputs": [],
   "source": [
    "raw_train[\"CRASH_TYPE\"].head()"
   ]
  },
  {
   "cell_type": "markdown",
   "metadata": {},
   "source": [
    "**Write datasets as csv**"
   ]
  },
  {
   "cell_type": "code",
   "execution_count": null,
   "metadata": {
    "ExecuteTime": {
     "start_time": "2020-10-28T12:05:01.814Z"
    }
   },
   "outputs": [],
   "source": [
    "# save the train and test file\n",
    "#train.to_csv('~/repos/vision_zero_chicago_project/sprint 2/raw_train.csv')\n",
    "#test.to_csv('~/repos/vision_zero_chicago_project/sprint 2/raw_test.csv')"
   ]
  },
  {
   "cell_type": "markdown",
   "metadata": {},
   "source": [
    "# Feature Reduction"
   ]
  },
  {
   "cell_type": "markdown",
   "metadata": {},
   "source": [
    "## Detailed look at all features"
   ]
  },
  {
   "cell_type": "code",
   "execution_count": null,
   "metadata": {
    "ExecuteTime": {
     "start_time": "2020-10-28T12:05:01.822Z"
    }
   },
   "outputs": [],
   "source": [
    "raw_train.info()"
   ]
  },
  {
   "cell_type": "markdown",
   "metadata": {},
   "source": [
    "| **Feature** | **Description** | **Decision to drop** |\n",
    "|:-----|:----:|----:|\n",
    "| CRASH_RECORD_ID | This number can be used to link to the same crash in the Vehicles and People datasets. This number also serves as a unique ID in this dataset. | NO |\n",
    "| RD_NO | Chicago Police Department report number. For privacy reasons, this column is blank for recent crashes. | YES |\n",
    "| CRASH_DATE_EST_I | Crash date estimated by desk officer or reporting party (only used in cases where crash is reported at police station days after the crash) | YES |\n",
    "| CRASH_DATE | Date and time of crash as entered by the reporting officer | NO |\n",
    "| POSTED_SPEED_LIMIT | Posted speed limit, as determined by reporting officer | NO |\n",
    "| TRAFFIC_CONTROL_DEVICE | Traffic control device present at crash location, as determined by reporting officer | NO |\n",
    "| DEVICE_CONDITION | Condition of traffic control device, as determined by reporting officer | NO |\n",
    "| WEATHER_CONDITION | Weather condition at time of crash, as determined by reporting officer | NO |\n",
    "| LIGHTING_CONDITION | Light condition at time of crash, as determined by reporting officer | NO |\n",
    "| FIRST_CRASH_TYPE | Type of first collision in crash | NO |\n",
    "| TRAFFICWAY_TYPE | Trafficway type, as determined by reporting officer | NO |\n",
    "| LANE_CNT | Total number of through lanes in either direction, excluding turn lanes, as determined by reporting officer (0 = intersection) | NO |\n",
    "| ALIGNMENT | Street alignment at crash location, as determined by reporting officer | YES |\n",
    "| ROADWAY_SURFACE_COND | Road surface condition, as determined by reporting officer | NO |\n",
    "| ROAD_DEFECT | Road defects, as determined by reporting officer | NO |\n",
    "| REPORT_TYPE | Administrative report type (at scene, at desk, amended) | YES |\n",
    "| CRASH_TYPE | A general severity classification for the crash. Can be either Injury and/or Tow Due to Crash or No Injury / Drive Away | YES |\n",
    "| INTERSECTION_RELATED_I |A field observation by the police officer whether an intersection played a role in the crash. Does not represent whether or not the crash occurred within the intersection. | NO |\n",
    "| NOT_RIGHT_OF_WAY_I | Whether the crash begun or first contact was made outside of the public right-of-way. | YES |\n",
    "| HIT_AND_RUN_I | Crash did/did not involve a driver who caused the crash and fled the scene without exchanging information and/or rendering aid | NO |\n",
    "| DAMAGE | A field observation of estimated damage. | NO |\n",
    "| DATE_POLICE_NOTIFIED | Calendar date on which police were notified of the crash | YES |\n",
    "| PRIM_CONTRIBUTORY_CAUSE | The factor which was most significant in causing the crash, as determined by officer judgment | NO |\n",
    "| SEC_CONTRIBUTORY_CAUSE | The factor which was second most significant in causing the crash, as determined by officer judgment | NO |\n",
    "| STREET_NO | Street address number of crash location, as determined by reporting officer | NO |\n",
    "| STREET_DIRECTION | Street address direction (N,E,S,W) of crash location, as determined by reporting officer | YES |\n",
    "| STREET_NAME | Street address name of crash location, as determined by reporting officer | NO |\n",
    "| BEAT_OF_OCCURRENCE | Chicago Police Department Beat ID | YES |\n",
    "| PHOTOS_TAKEN_I | Whether the Chicago Police Department took photos at the location of the crash | YES |\n",
    "| STATEMENTS_TAKEN_I | Whether statements were taken from unit(s) involved in crash | YES |\n",
    "| DOORING_I | Whether crash involved a motor vehicle occupant opening a door into the travel path of a bicyclist, causing a crash | YES |\n",
    "| WORK_ZONE_I | Whether the crash occurred in an active work zone | YES |\n",
    "| WORK_ZONE_TYPE | The type of work zone, if any | YES |\n",
    "| WORKERS_PRESENT_I | Whether construction workers were present in an active work zone at crash location | YES |\n",
    "| NUM_UNITS | Number of units involved in the crash. A unit can be a motor vehicle, a pedestrian, a bicyclist, or another non-passenger roadway user. Each unit represents a mode of traffic with an independent trajectory. | NO |\n",
    "| MOST_SEVERE_INJURY | Most severe injury sustained by any person involved in the crash | YES |\n",
    "| INJURIES_TOTAL | Total persons sustaining fatal, incapacitating, non-incapacitating, and possible injuries as determined by the reporting officer | NO |\n",
    "| INJURIES_FATAL | Total persons sustaining fatal injuries in the crash | NO |\n",
    "| INJURIES_INCAPACITATING | Total persons sustaining incapacitating/serious injuries in the crash as determined by the reporting officer. Any injury other than fatal injury, which prevents the injured person from walking, driving, or normally continuing the activities they were capable of performing before the injury occurred. Includes severe lacerations, broken limbs, skull or chest injuries, and abdominal injuries. | NO |\n",
    "| INJURIES_NON_INCAPACITATING | Total persons sustaining non-incapacitating injuries in the crash as determined by the reporting officer. Any injury, other than fatal or incapacitating injury, which is evident to observers at the scene of the crash. Includes lump on head, abrasions, bruises, and minor lacerations. | NO |\n",
    "| INJURIES_REPORTED_NOT_EVIDENT | Total persons sustaining possible injuries in the crash as determined by the reporting officer. Includes momentary unconsciousness, claims of injuries not evident, limping, complaint of pain, nausea, and hysteria. | NO |\n",
    "| INJURIES_NO_INDICATION | Total persons sustaining no injuries in the crash as determined by the reporting officer | YES |\n",
    "| INJURIES_UNKNOWN | Total persons for whom injuries sustained, if any, are unknown | YES |\n",
    "| CRASH_HOUR | The hour of the day component of CRASH_DATE. | YES |\n",
    "| CRASH_DAY_OF_WEEK | The day of the week component of CRASH_DATE. Sunday=1 | YES |\n",
    "| CRASH_MONTH | The month component of CRASH_DATE. | YES |\n",
    "| LATITUDE | The latitude of the crash location, as determined by reporting officer, as derived from the reported address of crash | YES |\n",
    "| LONGITUDE | The longitude of the crash location, as determined by reporting officer, as derived from the reported address of crash | YES |\n",
    "| LOCATION | The crash location, as determined by reporting officer, as derived from the reported address of crash, in a column type that allows for mapping and other geographic analysis in the data portal software | NO || PERSON_ID | A unique identifier for each person record. IDs starting with P indicate passengers. IDs starting with O indicate a person who was not a passenger in the vehicle (e.g., driver, pedestrian, cyclist, etc.). | NO |\n",
    "| PERSON_TYPE | Type of roadway user involved in crash | NO |\n",
    "| CRASH_RECORD_ID | This number can be used to link to the same crash in the Crashes and Vehicles datasets. This number also serves as a unique ID in the Crashes dataset. | NO |\n",
    "| RD_NO | Chicago Police Department report number. For privacy reasons, this column is blank for recent crashes. | YES |\n",
    "| VEHICLE_ID | The corresponding CRASH_UNIT_ID from the Vehicles dataset. | YES |\n",
    "| CRASH_DATE | Date and time of crash as entered by the reporting officer | YES |\n",
    "| SEAT_NO | Code for seating position of motor vehicle occupant: 1= driver, 2= center front, 3 = front passenger, 4 = second row left, 5 = second row center, 6 = second row right, 7 = enclosed passengers, 8 = exposed passengers, 9= unknown position, 10 = third row left, 11 = third row center, 12 = third row right | YES |\n",
    "| CITY | City of residence of person involved in crash | YES |\n",
    "| STATE | State of residence of person involved in crash | YES |\n",
    "| ZIPCODE | ZIP Code of residence of person involved in crash | YES |\n",
    "| SEX | Gender of person involved in crash, as determined by reporting officer | NO |\n",
    "| AGE | Age of person involved in crash | NO |\n",
    "| DRIVERS_LICENSE_STATE | State issuing driver's license of person involved in crash | YES |\n",
    "| DRIVERS_LICENSE_CLASS| Class of driver's license of person involved in crash | YES |\n",
    "| SAFETY_EQUIPMENT | Safety equipment used by vehicle occupant in crash, if any | NO |\n",
    "| AIRBAG_DEPLOYED | Whether vehicle occupant airbag deployed as result of crash | NO |\n",
    "| EJECTION | Whether vehicle occupant was ejected or extricated from the vehicle as a result of crash | NO |\n",
    "| INJURY_CLASSIFICATION | Severity of injury person sustained in the crash | YES |\n",
    "| HOSPITAL | Hospital to which person injured in the crash was taken | YES |\n",
    "| EMS_AGENCY | EMS agency who transported person injured in crash to the hospital | YES |\n",
    "| EMS_RUN_NO | EMS agency run number | YES |\n",
    "| DRIVER_ACTION | Driver action that contributed to the crash, as determined by reporting officer | NO |\n",
    "| DRIVER_VISION | What, if any, objects obscured the driver’s vision at time of crash | NO |\n",
    "| PHYSICAL_CONDITION | Driver’s apparent physical condition at time of crash, as observed by the reporting officer | NO |\n",
    "| PEDPEDAL_ACTION | Action of pedestrian or cyclist at the time of crash | YES |\n",
    "| PEDPEDAL_VISIBILITY | Visibility of pedestrian of cyclist safety equipment in use at time of crash | YES |\n",
    "| PEDPEDAL_LOCATION | Location of pedestrian or cyclist at the time of crash | YES |\n",
    "| BAC_RESULT | Status of blood alcohol concentration testing for driver or other person involved in crash | YES |\n",
    "| BAC_RESULT VALUE | Driver’s blood alcohol concentration test result | NO |\n",
    "| CELL_PHONE_USE | Whether person was/was not using cellphone at the time of the crash, as determined by the reporting officer | NO |\n",
    "|CRASH_UNIT_ID | A unique identifier for each vehicle record | YES | \n",
    "|CRASH_RECORD_ID | This number can be used to link to the same crash in the Crashes and People datasets. This number also serves as a unique ID in the Crashes dataset | NO | \n",
    "|RD_NO | Chicago Police Department report number. For privacy reasons, this column is blank for recent crashes | Yes | \n",
    "|CRASH_DATE| Date and time of crash as entered by the reporting officer | No | \n",
    "|UNIT_NO| A unique ID for each unit within a specific crash report | Yes | \n",
    "|UNIT_TYPE| Type of unit | Yes | \n",
    "|NUM_PASSENGERS| Number of passengers in the vehicle. The driver is not included. More information on passengers is in the People dataset | No | \n",
    "|VEHICLE_ID| No definition | Yes | \n",
    "|CMRC_VEH_I| No definition | Yes | \n",
    "|MAKE| The make (brand) of the vehicle, if relevant | Yes | \n",
    "|MODEL| The model of the vehicle, if relevant| Yes | \n",
    "|LIC_PLATE_STATE| The state issuing the license plate of the vehicle, if relevant | No | \n",
    "|VEHICLE_YEAR| The model year of the vehicle, if relevant | No | \n",
    "|VEHICLE_DEFECT| No definition | No | \n",
    "|VEHICLE_TYPE| The type of vehicle, if relevant | No | \n",
    "|TRAVEL_DIRECTION| The direction in which the unit was traveling prior to the crash, as determined by the reporting officer | No | \n",
    "|MANEUVER| The action the unit was taking prior to the crash, as determined by the reporting officer | Yes | \n",
    "|TOWED_I| Indicator of whether the vehicle was towed | Yes | \n",
    "|FIRE_I| No definition | Yes | \n",
    "|OCCUPANT_COUNT| The number of people in the unit, as determined by the reporting officer | No | \n",
    "|EXCEED_SPEED_LIMIT_I| Indicator of whether the unit was speeding, as determined by the reporting officer | No | \n",
    "|TOWED_BY| No definition | Yes | \n",
    "|TOWED_TO| No definition | Yes | \n",
    "|AREA_00_I:AREA_99_I| No definition | Yes | \n",
    "|FIRST_CONTACT_POINT| No definition | No | \n",
    "|CMV_ID:HAZMAT_CLASS| No definition | Yes |\n",
    "\n",
    "\n",
    "**Features to be excluded are**\n",
    "- `RD_NO`\n",
    "- `CRASH_DATE_EST_I`\n",
    "- `REPORT_TYPE`\n",
    "- `CRASH_DATE_EST_I`\n",
    "- `REPORT_TYPE`\n",
    "- `CRASH_TYPE`\n",
    "- `NOT_RIGHT_OF_WAY_I`\n",
    "- `DATE_POLICE_NOTIFIED`\n",
    "- `STREET_DIRECTION`\n",
    "- `ALIGNMENT`\n",
    "- `BEAT_OF_OCCURRENCE`\n",
    "- `PHOTOS_TAKEN_I`\n",
    "- `STATEMENTS_TAKEN_I`\n",
    "- `DOORING_I`\n",
    "- `WORK_ZONE_I`\n",
    "- `WORK_ZONE_TYPE`\n",
    "- `WORKERS_PRESENT_I`\n",
    "- `MOST_SEVERE_INJURY`\n",
    "- `INJURIES_NO_INDICATION`\n",
    "- `INJURIES_UNKNOWN`\n",
    "- `CRASH_HOUR`\n",
    "- `CRASH_DAY_OF_WEEK`\n",
    "- `CRASH_MONTH`\n",
    "- `LATITUDE`\n",
    "- `LONGITUDE`\n",
    "- `RD_NO`\n",
    "- `VEHICLE_ID`\n",
    "- `CRASH_DATE`\n",
    "- `SEAT_NO`\n",
    "- `CITY`\n",
    "- `STATE`\n",
    "- `ZIPCODE`\n",
    "- `DRIVERS_LICENSE_STATE`\n",
    "- `DRIVERS_LICENSE_CLASS`\n",
    "- `INJURY_CLASSIFICATION`\n",
    "- `HOSPITAL`\n",
    "- `EMS_AGENCY`\n",
    "- `EMS_RUN_NO`\n",
    "- `PEDPEDAL_ACTION`\t\n",
    "- `PEDPEDAL_VISIBILITY`\n",
    "- `PEDPEDAL_LOCATION`\n",
    "- `BAC_RESULT`\n",
    "- `CRASH_UNIT_ID`\n",
    "- `RD_NO`\n",
    "- `UNIT_NO`\n",
    "- `UNIT_TYPE`\n",
    "- `VEHICLE_ID`\n",
    "- `CMRC_VEH_I`\n",
    "- `MAKE`\n",
    "- `MODEL`\n",
    "- `MANEUVER`\n",
    "- `TOWED_I`\n",
    "- `FIRE_I`\n",
    "- `TOWED_BY`\n",
    "- `TOWED_TO`\n",
    "- `AREA_00_I`\n",
    "- `AREA_01_I`\n",
    "- `AREA_02_I`\n",
    "- `AREA_03_I`\n",
    "- `AREA_04_I`\n",
    "- `AREA_05_I`\n",
    "- `AREA_06_I`\n",
    "- `AREA_07_I`\n",
    "- `AREA_08_I`\n",
    "- `AREA_09_I`\n",
    "- `AREA_10_I`\n",
    "- `AREA_11_I`\n",
    "- `AREA_12_I`\n",
    "- `AREA_99_I`\n",
    "- `CMV_ID:HAZMAT_CLASS`\n",
    "\n",
    "\n",
    "\n",
    "\n",
    "**Due to the reasons**\n",
    "- Redundant information\n",
    "- Non value information (at least for our baseline model)"
   ]
  },
  {
   "cell_type": "code",
   "execution_count": null,
   "metadata": {
    "ExecuteTime": {
     "start_time": "2020-10-28T12:05:01.828Z"
    }
   },
   "outputs": [],
   "source": [
    "# Drop the features that are not needed\n",
    "feature_drop_train = [\"CRASH_DATE_EST_I\", \"REPORT_TYPE\", \"CRASH_DATE_EST_I\", \"REPORT_TYPE\", \n",
    "                      \"NOT_RIGHT_OF_WAY_I\", \"DATE_POLICE_NOTIFIED\", \"STREET_DIRECTION\", \n",
    "                      \"ALIGNMENT\", \"BEAT_OF_OCCURRENCE\", \"PHOTOS_TAKEN_I\", \"STATEMENTS_TAKEN_I\", \n",
    "                      \"DOORING_I\", \"WORK_ZONE_I\", \"WORK_ZONE_TYPE\", \"WORKERS_PRESENT_I\", \n",
    "                      \"MOST_SEVERE_INJURY\", \"INJURIES_NO_INDICATION\", \"INJURIES_UNKNOWN\", \n",
    "                      \"CRASH_DAY_OF_WEEK\", \"CRASH_MONTH\", \"LATITUDE\", \"LONGITUDE\", \"RD_NO\", \"VEHICLE_ID\", \n",
    "                      \"CRASH_DATE\", \"SEAT_NO\", \"CITY\", \"STATE\", \"ZIPCODE\", \"DRIVERS_LICENSE_STATE\", \n",
    "                      \"DRIVERS_LICENSE_CLASS\", \"INJURY_CLASSIFICATION\", \"HOSPITAL\", \"EMS_AGENCY\", \n",
    "                      \"EMS_RUN_NO\", \"PEDPEDAL_ACTION\", \"PEDPEDAL_VISIBILITY\", \"PEDPEDAL_LOCATION\", \n",
    "                      \"BAC_RESULT\", \"CRASH_UNIT_ID\", \"RD_NO\", \"UNIT_NO\", \"UNIT_TYPE\", \"VEHICLE_ID\", \n",
    "                      \"CMRC_VEH_I\", \"MAKE\", \"MODEL\", \"TOWED_I\", \"FIRE_I\", \"TOWED_BY\", \n",
    "                      \"TOWED_TO\", \"AREA_00_I\", \"AREA_01_I\", \"AREA_02_I\", \"AREA_03_I\", \"AREA_04_I\", \n",
    "                      \"AREA_05_I\", \"AREA_06_I\", \"AREA_07_I\", \"AREA_08_I\", \"AREA_09_I\", \"AREA_10_I\", \n",
    "                      \"AREA_11_I\", \"AREA_12_I\", \"AREA_99_I\", \"CMV_ID\", \"USDOT_NO\", \"CCMC_NO\", \n",
    "                      \"ILCC_NO\", \"COMMERCIAL_SRC\", \"GVWR\", \"CARRIER_NAME\", \"CARRIER_STATE\", \"CARRIER_CITY\",\n",
    "                      \"HAZMAT_PLACARDS_I\", \"HAZMAT_NAME\", \"UN_NO\", \"HAZMAT_PRESENT_I\", \"HAZMAT_REPORT_I\",\n",
    "                      \"HAZMAT_REPORT_NO\", \"MCS_REPORT_I\", \"MCS_REPORT_NO\", \"HAZMAT_VIO_CAUSE_CRASH_I\", \n",
    "                      \"MCS_VIO_CAUSE_CRASH_I\", \"IDOT_PERMIT_NO\", \"WIDE_LOAD_I\", \"TRAILER1_WIDTH\", \n",
    "                      \"TRAILER2_WIDTH\", \"TRAILER1_LENGTH\", \"TRAILER2_LENGTH\", \"TOTAL_VEHICLE_LENGTH\",\n",
    "                      \"AXLE_CNT\", \"VEHICLE_CONFIG\", \"CARGO_BODY_TYPE\", \"LOAD_TYPE\", \"HAZMAT_OUT_OF_SERVICE_I\",\n",
    "                      \"MCS_OUT_OF_SERVICE_I\", \"HAZMAT_CLASS\"]\n",
    "\n",
    "train = raw_train.loc[:, ~raw_train.columns.isin(feature_drop_train)]\n",
    "train.info()"
   ]
  },
  {
   "cell_type": "markdown",
   "metadata": {},
   "source": [
    "## Remove Features with Missing Values"
   ]
  },
  {
   "cell_type": "code",
   "execution_count": null,
   "metadata": {
    "ExecuteTime": {
     "start_time": "2020-10-28T12:05:01.833Z"
    }
   },
   "outputs": [],
   "source": [
    "# Subset the data to include the columns only with nulls in the output\n",
    "raw_null_above50 = train[train.columns[train.isnull().mean().round(2) > 0.5].tolist()]\n",
    "print('\\033[1m', 'These', len(raw_null_above50.columns),\n",
    "      'columns have missing values more than 50%!', '\\033[0m')\n",
    "raw_null_above50.isnull().mean().round(3)"
   ]
  },
  {
   "cell_type": "markdown",
   "metadata": {},
   "source": [
    "<a id='2.1.3.1'></a>\n",
    "#### Features that can be imputed/encoded"
   ]
  },
  {
   "cell_type": "markdown",
   "metadata": {},
   "source": [
    "**Features that can be imputed with No**\n",
    "\n",
    "1. `INTERSECTION_RELATED_I`: A field observation by the police officer whether an intersection played a role in the crash. Does not represent whether or not the crash occurred within the intersection.\n",
    "\n",
    "2. `HIT_AND_RUN_I`: Crash did/did not involve a driver who caused the crash and fled the scene without exchanging information and/or rendering aid.\n",
    "\n",
    "3. `CELL_PHONE_USE`: Whether person was/was not using cellphone at the time of the crash, as determined by the reporting officer.\n",
    "\n",
    "4. `EXCEED_SPEED_LIMIT_I`: Indicator of whether the unit was speeding, as determined by the reporting officer.\n",
    "\n",
    "5. `BAC_RESULT VALUE`: Driver’s blood alcohol concentration test result (fatal crashes may include pedestrian or cyclist results). This feature can be engineered as **`alcohol_consumption` = yes/no**."
   ]
  },
  {
   "cell_type": "code",
   "execution_count": null,
   "metadata": {
    "ExecuteTime": {
     "start_time": "2020-10-28T12:05:01.840Z"
    }
   },
   "outputs": [],
   "source": [
    "print(train.INTERSECTION_RELATED_I.value_counts())\n",
    "print()\n",
    "print(train.HIT_AND_RUN_I.value_counts())\n",
    "print()\n",
    "print(train.CELL_PHONE_USE.value_counts())\n",
    "print()\n",
    "print(train.EXCEED_SPEED_LIMIT_I.value_counts())\n",
    "print()\n",
    "print(train['BAC_RESULT VALUE'].value_counts())"
   ]
  },
  {
   "cell_type": "markdown",
   "metadata": {},
   "source": [
    "<a id='3.3.1'></a>\n",
    "\n",
    "###  Imputation of binary features"
   ]
  },
  {
   "cell_type": "code",
   "execution_count": null,
   "metadata": {
    "ExecuteTime": {
     "start_time": "2020-10-28T12:05:01.846Z"
    }
   },
   "outputs": [],
   "source": [
    "binary_columns = ['INTERSECTION_RELATED_I', 'HIT_AND_RUN_I','CELL_PHONE_USE', 'EXCEED_SPEED_LIMIT_I']\n",
    "\n",
    "for col in binary_columns:\n",
    "    train[col].fillna('N', inplace = True)"
   ]
  },
  {
   "cell_type": "code",
   "execution_count": null,
   "metadata": {
    "ExecuteTime": {
     "end_time": "2020-10-27T22:52:09.385278Z",
     "start_time": "2020-10-27T22:52:09.372700Z"
    }
   },
   "outputs": [],
   "source": []
  },
  {
   "cell_type": "code",
   "execution_count": null,
   "metadata": {},
   "outputs": [],
   "source": []
  },
  {
   "cell_type": "code",
   "execution_count": null,
   "metadata": {},
   "outputs": [],
   "source": []
  },
  {
   "cell_type": "markdown",
   "metadata": {},
   "source": [
    "# Handling Outliers "
   ]
  },
  {
   "cell_type": "markdown",
   "metadata": {},
   "source": [
    "##  Categorical Features"
   ]
  },
  {
   "cell_type": "markdown",
   "metadata": {},
   "source": [
    "Example 1: A, B, C, X.\n",
    "\n",
    "Example 2: Apple, Orange, Pear or Blueberry, Raspberry, Strawberry, Grape.\n",
    "\n",
    "\"*The fact is **no outlier** exists in the examples above, for an outlier to exist there must be **a measure of distance**. This is intrinsic to numeric data types because there is a Euclidean distance between numbers.*\"\n",
    "\n",
    "**Categorical Outliers don’t exist without a context.**\n",
    "\n",
    "> \"*Techniques like **string indexing** or **one-hot encoding** on a categorical value to convert it from a string value to a numeric value and then use k-means clustering to find outliers.*\"\n",
    "\n",
    "> \"*the numeric vector assigned to the String value during the one hot encoding practice still lacks **the domain context**. It does satisfy the input constraint of the k-means model and the model will produce an output. However the output will not select the appropriate outlier, as the input **was not truly valid**.*\"\n",
    "\n",
    "> \"*There is an alternative. **K-modes** is designed to handle categorical values without the need for String Indexing or One Hot Encoding.*\""
   ]
  },
  {
   "cell_type": "markdown",
   "metadata": {},
   "source": [
    "##  Numerical Features"
   ]
  },
  {
   "cell_type": "markdown",
   "metadata": {},
   "source": [
    "Numerical features to consider\n",
    "\n",
    "- `LANE_CNT`\n",
    "- `NUM_UNITS`\n",
    "- `INJURIES_TOTAL`\n",
    "- `INJURIES_FATAL`\n",
    "- `INJURIES_INCAPACITATING` and other injuries.\n",
    "- `CRASH_HOUR`\n",
    "- `CRASH_DAY_OF_WEEK`\n",
    "- `CRASH_MONTH`\n",
    "- `UNIT_NO`\n",
    "- `NUM_PASSENGERS`\n",
    "- `VEHICLE_YEAR`\n",
    "- `OCCUPANT_CNT`\n",
    "- `AGE`"
   ]
  },
  {
   "cell_type": "code",
   "execution_count": null,
   "metadata": {
    "ExecuteTime": {
     "start_time": "2020-10-28T12:05:01.876Z"
    },
    "scrolled": false
   },
   "outputs": [],
   "source": [
    "numericals = ['LANE_CNT', 'NUM_UNITS', 'INJURIES_TOTAL', \n",
    "             'INJURIES_FATAL', 'INJURIES_INCAPACITATING', 'NUM_PASSENGERS', 'OCCUPANT_CNT', 'AGE']\n",
    "\n",
    "for col in numericals:\n",
    "    print(train[col].value_counts())\n",
    "    train[col] = pd.to_numeric(train[col])\n",
    "    print()"
   ]
  },
  {
   "cell_type": "markdown",
   "metadata": {},
   "source": [
    "**`LANE_CNT`**\n",
    "\n",
    "**Outlier Identification**\n",
    "\n",
    "- 3 rows of 9\n",
    "- 13 rows of 10\n",
    "- 1 row of 11\n",
    "- 4 rows of 12\n",
    "- 2 rows of 99\n",
    "\n",
    "According to Chicago's roadway, 6 should be a maximum number for lanes\n",
    "\n",
    "**Decision** to replace outlier with 6 lanes"
   ]
  },
  {
   "cell_type": "code",
   "execution_count": null,
   "metadata": {
    "ExecuteTime": {
     "end_time": "2020-10-28T08:42:13.843019Z",
     "start_time": "2020-10-28T08:42:13.821021Z"
    }
   },
   "outputs": [],
   "source": []
  },
  {
   "cell_type": "code",
   "execution_count": null,
   "metadata": {
    "ExecuteTime": {
     "start_time": "2020-10-28T12:05:01.885Z"
    }
   },
   "outputs": [],
   "source": [
    "train.loc[(train['LANE_CNT'] > 6),'LANE_CNT'] = 6\n",
    "train['LANE_CNT'].value_counts()"
   ]
  },
  {
   "cell_type": "markdown",
   "metadata": {},
   "source": [
    "**No Further Outliers according to the observation**\n",
    "\n",
    "- `NUM_UNITS`; varies from 1 to 12\n",
    "- `INJURIES_TOTAL`; varies from 0 to 8\n",
    "- `INJURIES_FATAL`; varies from 0 to 2\n",
    "- `INJURIES_INCAPACITATING`; varies from 0 to 5\n",
    "- `NUM_PASSENGERS`; varies from 1 to 38\n",
    "- `OCCUPANT_CNT`; varies from 0 to 39\n",
    "- `AGE`; varies from ... to 101\n",
    "\n"
   ]
  },
  {
   "cell_type": "markdown",
   "metadata": {},
   "source": [
    "# Encoding Categorical Features"
   ]
  },
  {
   "cell_type": "code",
   "execution_count": null,
   "metadata": {
    "ExecuteTime": {
     "end_time": "2020-10-28T09:50:29.040527Z",
     "start_time": "2020-10-28T09:50:29.027523Z"
    }
   },
   "outputs": [],
   "source": []
  },
  {
   "cell_type": "markdown",
   "metadata": {},
   "source": [
    "# Feature Engineering"
   ]
  },
  {
   "cell_type": "markdown",
   "metadata": {},
   "source": [
    "##  Target Feature Engineering"
   ]
  },
  {
   "cell_type": "markdown",
   "metadata": {},
   "source": [
    "Pick **`INJURIES_TOTAL`** as a numerical target and/or encode **`CRASH_TYPE`** as a categorical target.\n",
    "\n",
    "- `INJURIES_TOTAL`: Total persons sustaining **fatal, incapacitating, non-incapacitating, and possible injuries** as determined by the reporting officer.\n",
    "\n"
   ]
  },
  {
   "cell_type": "code",
   "execution_count": null,
   "metadata": {
    "ExecuteTime": {
     "start_time": "2020-10-28T12:05:01.897Z"
    }
   },
   "outputs": [],
   "source": [
    "#train[\"INJURIES_TOTAL\"]"
   ]
  },
  {
   "cell_type": "code",
   "execution_count": null,
   "metadata": {},
   "outputs": [],
   "source": []
  },
  {
   "cell_type": "markdown",
   "metadata": {
    "ExecuteTime": {
     "end_time": "2020-10-28T09:26:55.415364Z",
     "start_time": "2020-10-28T09:26:55.400364Z"
    }
   },
   "source": [
    "Removing NAs from INJURIES_TOTAL below"
   ]
  },
  {
   "cell_type": "code",
   "execution_count": null,
   "metadata": {
    "ExecuteTime": {
     "start_time": "2020-10-28T12:05:01.905Z"
    }
   },
   "outputs": [],
   "source": [
    "train.loc[(train[\"CRASH_TYPE\"]==\"NO INJURY / DRIVE AWAY\") & (train[\"INJURIES_TOTAL\"].isnull()),\"INJURIES_TOTAL\"]=0"
   ]
  },
  {
   "cell_type": "code",
   "execution_count": null,
   "metadata": {
    "ExecuteTime": {
     "start_time": "2020-10-28T12:05:01.910Z"
    }
   },
   "outputs": [],
   "source": [
    "train.loc[(train[\"CRASH_TYPE\"]==\"INJURY AND / OR TOW DUE TO CRASH\") & (train[\"INJURIES_TOTAL\"].isnull()),\"INJURIES_TOTAL\"]=1"
   ]
  },
  {
   "cell_type": "markdown",
   "metadata": {},
   "source": [
    "##  Other Feature Engineering"
   ]
  },
  {
   "cell_type": "markdown",
   "metadata": {},
   "source": [
    "### CONTACT_POINT"
   ]
  },
  {
   "cell_type": "code",
   "execution_count": null,
   "metadata": {
    "ExecuteTime": {
     "start_time": "2020-10-28T12:05:01.917Z"
    }
   },
   "outputs": [],
   "source": [
    "train[\"FIRST_CONTACT_POINT\"].unique()"
   ]
  },
  {
   "cell_type": "code",
   "execution_count": null,
   "metadata": {
    "ExecuteTime": {
     "start_time": "2020-10-28T12:05:01.925Z"
    }
   },
   "outputs": [],
   "source": [
    "def contact_point(x):\n",
    "    if \"FRONT\" in x:\n",
    "        return \"FRONT\"\n",
    "    elif \"SIDE\" in x:\n",
    "        return \"SIDE\"\n",
    "    elif \"REAR\" in x:\n",
    "        return \"REAR\"\n",
    "    else:\n",
    "        return \"OTHER\"\n",
    "    \n",
    "# replacing NA values with OTHER\n",
    "train[\"FIRST_CONTACT_POINT\"].fillna(\"OTHER\",inplace=True)\n",
    "train[\"FIRST_CONTACT_POINT\"] = train[\"FIRST_CONTACT_POINT\"].apply(lambda x: contact_point(x))"
   ]
  },
  {
   "cell_type": "markdown",
   "metadata": {},
   "source": [
    "### MANEUVER, VEHICLE_YEAR, POSTED_SPEED_LIMIT"
   ]
  },
  {
   "cell_type": "code",
   "execution_count": null,
   "metadata": {
    "ExecuteTime": {
     "start_time": "2020-10-28T12:05:01.932Z"
    }
   },
   "outputs": [],
   "source": [
    "# merging same type of Maneuver in one\n",
    "train[\"MANEUVER\"].fillna(\"UNKNOWN/NA\",inplace=True)\n",
    "train[\"MANEUVER\"] = train[\"MANEUVER\"].apply(lambda x: \"TURN\" if \"TURN\" in x else(\"LANE\" if any(s in x for s in [\"LANE\",\"OVER\",\"ENTER\"]) else x))\n",
    "train[\"MANEUVER\"] = train[\"MANEUVER\"].apply(lambda x: \"OTHER\" if all(s not in x for s in [\"AHEAD\",\"TURN\",\"UNKNOWN\",\"LANE\",\"BACKING\"]) else x)\n",
    "\n",
    "# converting VEHICLE_YEAR into new category of OLD or NEW\n",
    "train[\"VEHICLE_YEAR\"]= train[\"VEHICLE_YEAR\"].apply(lambda x: \"UNKNOWN\" if pd.isnull(x) else (\"OLD (<2010)\" if int(x)<2010 else \"NEW\"))\n",
    "\n",
    "# converting POSTED_SPEED_LIMIT into new category of LOW SPEED or HIGH SPEED\n",
    "train[\"POSTED_SPEED_LIMIT\"]=train[\"POSTED_SPEED_LIMIT\"].apply(lambda x: \"LOW_SPEED\" if int(x)<=30 else \"HIGH_SPEED\")"
   ]
  },
  {
   "cell_type": "markdown",
   "metadata": {},
   "source": [
    "### SAFETY_EQUIPMENT, AIRBAG_DEPLOYED"
   ]
  },
  {
   "cell_type": "code",
   "execution_count": null,
   "metadata": {
    "ExecuteTime": {
     "start_time": "2020-10-28T12:05:01.939Z"
    }
   },
   "outputs": [],
   "source": [
    "# grouping the SAFETY_EQUIPMENT used as SAFE and UNSAFE\n",
    "def equip_used(x):\n",
    "    if (\"USED\" in x) or (\"HELMET\" in x) or (\"NONE PRESENT\" in x):\n",
    "        if any(s in x for s in [\"NOT\",\"IMPROPER\",\"NONE PRESENT\"]):\n",
    "            return \"DID NOT USE SAFETY EQUIP\"\n",
    "        else:\n",
    "            return \"USED SAFETY EQUIP\"\n",
    "    else:\n",
    "        return x\n",
    "\n",
    "# replacing NA with USAGE UNKNOWN before grouping them\n",
    "train[\"SAFETY_EQUIPMENT\"].fillna(\"USAGE UNKNOWN\", inplace=True)\n",
    "train[\"SAFETY_EQUIPMENT\"]= train[\"SAFETY_EQUIPMENT\"].apply(lambda x: equip_used(x))\n",
    "\n",
    "\n",
    "# grouping the AIRBAG_DEPLOYED used as DEPLOYED and NOT DEPLOYED\n",
    "def airbag(x):\n",
    "    if (\"DEPLOY\" in x) and (\"UNKNOWN\" not in x):\n",
    "        if \"NOT\" in x:\n",
    "            return \"NOT DEPLOYED\"\n",
    "        else:\n",
    "            return \"DEPLOYED\"\n",
    "    else:\n",
    "        return x\n",
    " \n",
    "# replacing NA with DEPLOYMENT UNKNOWN before grouping them\n",
    "train[\"AIRBAG_DEPLOYED\"].fillna(\"DEPLOYMENT UNKNOWN\", inplace=True)\n",
    "train[\"AIRBAG_DEPLOYED\"]= train[\"AIRBAG_DEPLOYED\"].apply(lambda x: airbag(x))"
   ]
  },
  {
   "cell_type": "markdown",
   "metadata": {},
   "source": [
    "### BAC_RESULT VALUE"
   ]
  },
  {
   "cell_type": "code",
   "execution_count": null,
   "metadata": {
    "ExecuteTime": {
     "start_time": "2020-10-28T12:05:01.946Z"
    },
    "scrolled": true
   },
   "outputs": [],
   "source": [
    "# Change all rows with value to Yes\n",
    "train['BAC_RESULT VALUE'] = pd.to_numeric(train['BAC_RESULT VALUE'])\n",
    "train[(train['BAC_RESULT VALUE'] > 0)] = \"Yes\""
   ]
  },
  {
   "cell_type": "code",
   "execution_count": null,
   "metadata": {
    "ExecuteTime": {
     "start_time": "2020-10-28T12:05:01.953Z"
    }
   },
   "outputs": [],
   "source": [
    "# Change all rows with 0 to No\n",
    "train['BAC_RESULT VALUE'] = train['BAC_RESULT VALUE'].replace(0.0, \"No\")\n",
    "train['BAC_RESULT VALUE'].value_counts()"
   ]
  },
  {
   "cell_type": "code",
   "execution_count": null,
   "metadata": {},
   "outputs": [],
   "source": []
  }
 ],
 "metadata": {
  "hide_input": false,
  "kernelspec": {
   "display_name": "Python 3",
   "language": "python",
   "name": "python3"
  },
  "language_info": {
   "codemirror_mode": {
    "name": "ipython",
    "version": 3
   },
   "file_extension": ".py",
   "mimetype": "text/x-python",
   "name": "python",
   "nbconvert_exporter": "python",
   "pygments_lexer": "ipython3",
   "version": "3.8.5"
  },
  "toc": {
   "base_numbering": 1,
   "nav_menu": {},
   "number_sections": true,
   "sideBar": true,
   "skip_h1_title": false,
   "title_cell": "Table of Contents",
   "title_sidebar": "Contents",
   "toc_cell": false,
   "toc_position": {
    "height": "445px",
    "left": "311px",
    "top": "110px",
    "width": "211.973px"
   },
   "toc_section_display": true,
   "toc_window_display": true
  },
  "varInspector": {
   "cols": {
    "lenName": 16,
    "lenType": 16,
    "lenVar": 40
   },
   "kernels_config": {
    "python": {
     "delete_cmd_postfix": "",
     "delete_cmd_prefix": "del ",
     "library": "var_list.py",
     "varRefreshCmd": "print(var_dic_list())"
    },
    "r": {
     "delete_cmd_postfix": ") ",
     "delete_cmd_prefix": "rm(",
     "library": "var_list.r",
     "varRefreshCmd": "cat(var_dic_list()) "
    }
   },
   "types_to_exclude": [
    "module",
    "function",
    "builtin_function_or_method",
    "instance",
    "_Feature"
   ],
   "window_display": false
  }
 },
 "nbformat": 4,
 "nbformat_minor": 4
}
